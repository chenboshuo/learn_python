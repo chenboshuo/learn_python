{
 "cells": [
  {
   "cell_type": "markdown",
   "metadata": {},
   "source": [
    "# 3 列表\n",
    "列表索引从0开始而不是从1开始"
   ]
  },
  {
   "cell_type": "code",
   "execution_count": 36,
   "metadata": {},
   "outputs": [
    {
     "name": "stdout",
     "output_type": "stream",
     "text": [
      "a\n",
      "ef\n"
     ]
    }
   ],
   "source": [
    "list1 = ['a', 'b', 'cd', 'ef']\n",
    "print(list1[0])\n",
    "print(list1[-1])"
   ]
  },
  {
   "cell_type": "markdown",
   "metadata": {},
   "source": [
    "## 3.1 元素处理"
   ]
  },
  {
   "cell_type": "markdown",
   "metadata": {},
   "source": [
    "### 3.1.1 在列表中修改元素"
   ]
  },
  {
   "cell_type": "code",
   "execution_count": 37,
   "metadata": {},
   "outputs": [
    {
     "name": "stdout",
     "output_type": "stream",
     "text": [
      "['1', 'b', 'c']\n"
     ]
    }
   ],
   "source": [
    "list1 = ['a', 'b', 'c']\n",
    "list1[0] = '1'\n",
    "print(list1)"
   ]
  },
  {
   "cell_type": "markdown",
   "metadata": {},
   "source": [
    "### 3.1.2 在列表中添加元素"
   ]
  },
  {
   "cell_type": "markdown",
   "metadata": {},
   "source": [
    "#### 3.1.2.1 在末尾添加元素"
   ]
  },
  {
   "cell_type": "code",
   "execution_count": 38,
   "metadata": {},
   "outputs": [
    {
     "name": "stdout",
     "output_type": "stream",
     "text": [
      "['a', 'b', 'c', 'd']\n"
     ]
    }
   ],
   "source": [
    "list1 = ['a', 'b', 'c']\n",
    "list1.append('d')\n",
    "print(list1)"
   ]
  },
  {
   "cell_type": "markdown",
   "metadata": {},
   "source": [
    "#### 3.1.2.2 在列表中插入元素\n",
    "insert()可以在任意位置添加元素,因此需要指定索引值"
   ]
  },
  {
   "cell_type": "code",
   "execution_count": 39,
   "metadata": {},
   "outputs": [
    {
     "name": "stdout",
     "output_type": "stream",
     "text": [
      "['1', 'a', 'b', 'c']\n"
     ]
    }
   ],
   "source": [
    "list1 = ['a', 'b', 'c']\n",
    "list1.insert(0,'1')\n",
    "print(list1)"
   ]
  },
  {
   "cell_type": "code",
   "execution_count": 40,
   "metadata": {},
   "outputs": [
    {
     "name": "stdout",
     "output_type": "stream",
     "text": [
      "['a', 'b', '1', 'c']\n"
     ]
    }
   ],
   "source": [
    "list1 = ['a', 'b', 'c']\n",
    "list1.insert(2,'1')\n",
    "print(list1)"
   ]
  },
  {
   "cell_type": "markdown",
   "metadata": {},
   "source": [
    "### 3.1.3 从列表中删除元素"
   ]
  },
  {
   "cell_type": "markdown",
   "metadata": {},
   "source": [
    "#### 3.1.3.1.使用del语句\n",
    "del可删除任意位置的元素,条件是知道其索引"
   ]
  },
  {
   "cell_type": "code",
   "execution_count": 41,
   "metadata": {},
   "outputs": [
    {
     "name": "stdout",
     "output_type": "stream",
     "text": [
      "['a', 'c']\n"
     ]
    }
   ],
   "source": [
    "list1 = ['a', 'b', 'c']\n",
    "del list1[1]\n",
    "print(list1)"
   ]
  },
  {
   "cell_type": "markdown",
   "metadata": {},
   "source": [
    "#### 3.1.3.2 使用pop()删除元素"
   ]
  },
  {
   "cell_type": "code",
   "execution_count": 42,
   "metadata": {},
   "outputs": [
    {
     "name": "stdout",
     "output_type": "stream",
     "text": [
      "['a', 'b', 'c']\n",
      "['a', 'b']\n",
      "c\n",
      "['b']\n",
      "a\n"
     ]
    }
   ],
   "source": [
    "list1 = ['a', 'b', 'c']\n",
    "print(list1)\n",
    "\n",
    "poped = list1.pop()# 不填默认是最后一个\n",
    "print(list1)\n",
    "print(poped)\n",
    "\n",
    "poped = list1.pop(0)# 不填默认是最后一个\n",
    "print(list1)\n",
    "print(poped)"
   ]
  },
  {
   "cell_type": "markdown",
   "metadata": {},
   "source": [
    "#### 3.1.3.3 根据值删除函数\n",
    "如果不知道位置只知道值,可以用remove(),删除元素时仍然可用它的值"
   ]
  },
  {
   "cell_type": "code",
   "execution_count": 2,
   "metadata": {
    "scrolled": true
   },
   "outputs": [
    {
     "name": "stdout",
     "output_type": "stream",
     "text": [
      "['a', 'b', 'b', 'c']\n",
      "['a', 'b', 'c']\n"
     ]
    }
   ],
   "source": [
    "list_ = ['a', 'b', 'b','c']\n",
    "print(list_)\n",
    "\n",
    "list_.remove('b')\n",
    "print(list_)"
   ]
  },
  {
   "cell_type": "markdown",
   "metadata": {},
   "source": [
    "### 3.1.4 成员运算符\n",
    "通过成员运算符‘in’和‘not in’，我们可以确认一个值是否是另一个值的成员。"
   ]
  },
  {
   "cell_type": "code",
   "execution_count": 21,
   "metadata": {},
   "outputs": [
    {
     "data": {
      "text/plain": [
       "True"
      ]
     },
     "execution_count": 21,
     "metadata": {},
     "output_type": "execute_result"
    }
   ],
   "source": [
    "1 in [1,2,3]"
   ]
  },
  {
   "cell_type": "code",
   "execution_count": 22,
   "metadata": {},
   "outputs": [
    {
     "data": {
      "text/plain": [
       "True"
      ]
     },
     "execution_count": 22,
     "metadata": {},
     "output_type": "execute_result"
    }
   ],
   "source": [
    "'1' not in [1,2,3]"
   ]
  },
  {
   "cell_type": "markdown",
   "metadata": {},
   "source": [
    "## 3.2 组织列表"
   ]
  },
  {
   "cell_type": "markdown",
   "metadata": {},
   "source": [
    "### 3.2.1 使用sort()对列表进行永久排序"
   ]
  },
  {
   "cell_type": "code",
   "execution_count": 44,
   "metadata": {},
   "outputs": [
    {
     "name": "stdout",
     "output_type": "stream",
     "text": [
      "['2', '23', 'a', 'a1', 'ab', 'ad', 'd']\n"
     ]
    }
   ],
   "source": [
    "list_ = ['a', 'd', 'ab' ,'a1', 'ad', '2', '23']\n",
    "list_.sort()\n",
    "print(list_)"
   ]
  },
  {
   "cell_type": "code",
   "execution_count": 45,
   "metadata": {},
   "outputs": [
    {
     "name": "stdout",
     "output_type": "stream",
     "text": [
      "['d', 'ad', 'ab', 'a1', 'a', '23', '2']\n"
     ]
    }
   ],
   "source": [
    "list_ = ['a', 'd', 'ab' ,'a1', 'ad', '2', '23']\n",
    "list_.sort(reverse=True) # 进行相反排序\n",
    "print(list_)"
   ]
  },
  {
   "cell_type": "markdown",
   "metadata": {},
   "source": [
    "### 3.2.2 使用sorted()进行临时排序"
   ]
  },
  {
   "cell_type": "code",
   "execution_count": 46,
   "metadata": {},
   "outputs": [
    {
     "name": "stdout",
     "output_type": "stream",
     "text": [
      "['a', 'd', 'ab', 'a1', 'ad', '2', '23']\n",
      "['2', '23', 'a', 'a1', 'ab', 'ad', 'd']\n",
      "['d', 'ad', 'ab', 'a1', 'a', '23', '2']\n",
      "['a', 'd', 'ab', 'a1', 'ad', '2', '23']\n"
     ]
    }
   ],
   "source": [
    "list_ = ['a', 'd', 'ab' ,'a1', 'ad', '2', '23']\n",
    "print(list_)\n",
    "print(sorted(list_))\n",
    "print(sorted(list_, reverse=True))\n",
    "print(list_)"
   ]
  },
  {
   "cell_type": "markdown",
   "metadata": {},
   "source": [
    "### 3.2.3 倒着打印列表"
   ]
  },
  {
   "cell_type": "code",
   "execution_count": 47,
   "metadata": {
    "scrolled": false
   },
   "outputs": [
    {
     "name": "stdout",
     "output_type": "stream",
     "text": [
      "['a', 'd', 'ab', 'a1', 'ad', '2', '23']\n",
      "['a', 'd', 'ab', 'a1', 'ad', '2', '23']\n"
     ]
    }
   ],
   "source": [
    "list_ = ['a', 'd', 'ab' ,'a1', 'ad', '2', '23']\n",
    "print(list_)\n",
    "\n",
    "list.reverse()\n",
    "print(list_)"
   ]
  },
  {
   "cell_type": "code",
   "execution_count": 1,
   "metadata": {},
   "outputs": [
    {
     "name": "stdout",
     "output_type": "stream",
     "text": [
      "['c', 'b', 'a']\n"
     ]
    }
   ],
   "source": [
    "list1=['a', 'b', 'c']\n",
    "print(list1[::-1]) # 将步长设为负数"
   ]
  },
  {
   "cell_type": "markdown",
   "metadata": {},
   "source": [
    "### 3.2.4 确定列表长度\n",
    "计算列表长度是从1开始的"
   ]
  },
  {
   "cell_type": "code",
   "execution_count": 48,
   "metadata": {
    "scrolled": true
   },
   "outputs": [
    {
     "name": "stdout",
     "output_type": "stream",
     "text": [
      "7\n"
     ]
    }
   ],
   "source": [
    "list_ = ['a', 'd', 'ab' ,'a1', 'ad', '2', '23']\n",
    "print(len(list_))"
   ]
  },
  {
   "cell_type": "markdown",
   "metadata": {},
   "source": [
    "### 3.2.5  打乱列表\n",
    "从random模块中导入shuffle()函数"
   ]
  },
  {
   "cell_type": "code",
   "execution_count": 13,
   "metadata": {},
   "outputs": [
    {
     "data": {
      "text/plain": [
       "[3, 1, 5, 2, 4]"
      ]
     },
     "execution_count": 13,
     "metadata": {},
     "output_type": "execute_result"
    }
   ],
   "source": [
    "# from radom import shuffle\n",
    "from random import shuffle\n",
    "mylist = [1,2,3,4,5]\n",
    "shuffle(mylist)\n",
    "mylist"
   ]
  },
  {
   "cell_type": "markdown",
   "metadata": {},
   "source": [
    "### 3.3 索引错误"
   ]
  },
  {
   "cell_type": "code",
   "execution_count": 49,
   "metadata": {},
   "outputs": [
    {
     "ename": "IndexError",
     "evalue": "list index out of range",
     "output_type": "error",
     "traceback": [
      "\u001b[1;31m---------------------------------------------------------------------------\u001b[0m",
      "\u001b[1;31mIndexError\u001b[0m                                Traceback (most recent call last)",
      "\u001b[1;32m<ipython-input-49-7561fdd6ac68>\u001b[0m in \u001b[0;36m<module>\u001b[1;34m()\u001b[0m\n\u001b[0;32m      1\u001b[0m \u001b[0mlist_\u001b[0m \u001b[1;33m=\u001b[0m \u001b[1;33m[\u001b[0m\u001b[1;34m'a'\u001b[0m\u001b[1;33m,\u001b[0m \u001b[1;34m'd'\u001b[0m\u001b[1;33m,\u001b[0m \u001b[1;34m'ab'\u001b[0m \u001b[1;33m,\u001b[0m\u001b[1;34m'a1'\u001b[0m\u001b[1;33m,\u001b[0m \u001b[1;34m'ad'\u001b[0m\u001b[1;33m,\u001b[0m \u001b[1;34m'2'\u001b[0m\u001b[1;33m,\u001b[0m \u001b[1;34m'23'\u001b[0m\u001b[1;33m]\u001b[0m\u001b[1;33m\u001b[0m\u001b[0m\n\u001b[1;32m----> 2\u001b[1;33m \u001b[0mprint\u001b[0m\u001b[1;33m(\u001b[0m\u001b[0mlist_\u001b[0m\u001b[1;33m[\u001b[0m\u001b[1;36m7\u001b[0m\u001b[1;33m]\u001b[0m\u001b[1;33m)\u001b[0m\u001b[1;33m\u001b[0m\u001b[0m\n\u001b[0m",
      "\u001b[1;31mIndexError\u001b[0m: list index out of range"
     ]
    }
   ],
   "source": [
    "list_ = ['a', 'd', 'ab' ,'a1', 'ad', '2', '23']\n",
    "print(list_[7])"
   ]
  },
  {
   "cell_type": "markdown",
   "metadata": {},
   "source": [
    "## 3.4 遍历整个列表"
   ]
  },
  {
   "cell_type": "code",
   "execution_count": 2,
   "metadata": {
    "scrolled": true
   },
   "outputs": [
    {
     "name": "stdout",
     "output_type": "stream",
     "text": [
      "a\n",
      "b\n",
      "c\n",
      "d\n",
      "no break\n"
     ]
    }
   ],
   "source": [
    "list_ = ['a', 'b', 'c', 'd']\n",
    "for i in list_:\n",
    "    print(i)\n",
    "else:\n",
    "    print('no break') # 若for或while没有break,执行else"
   ]
  },
  {
   "cell_type": "code",
   "execution_count": 3,
   "metadata": {
    "scrolled": true
   },
   "outputs": [
    {
     "name": "stdout",
     "output_type": "stream",
     "text": [
      "0 a\n",
      "1 True\n",
      "2 3.14\n"
     ]
    }
   ],
   "source": [
    "# for + enmuerate\n",
    "list1=['a',True,3.14]\n",
    "for i, element in enumerate(list1):\n",
    "    print(i,list1[i])"
   ]
  },
  {
   "cell_type": "code",
   "execution_count": 6,
   "metadata": {
    "scrolled": true
   },
   "outputs": [
    {
     "name": "stdout",
     "output_type": "stream",
     "text": [
      "1 a\n",
      "2 True\n",
      "3 3.14\n"
     ]
    }
   ],
   "source": [
    "# for + enmuerate\n",
    "list1=['a',True,3.14]\n",
    "for i, element in enumerate(list1):\n",
    "    print(i+1,list1[i])"
   ]
  },
  {
   "cell_type": "markdown",
   "metadata": {},
   "source": [
    "### 3.4.1 忘记缩进"
   ]
  },
  {
   "cell_type": "code",
   "execution_count": 51,
   "metadata": {},
   "outputs": [
    {
     "ename": "IndentationError",
     "evalue": "expected an indented block (<ipython-input-51-36b5a2787787>, line 3)",
     "output_type": "error",
     "traceback": [
      "\u001b[1;36m  File \u001b[1;32m\"<ipython-input-51-36b5a2787787>\"\u001b[1;36m, line \u001b[1;32m3\u001b[0m\n\u001b[1;33m    print(i)\u001b[0m\n\u001b[1;37m        ^\u001b[0m\n\u001b[1;31mIndentationError\u001b[0m\u001b[1;31m:\u001b[0m expected an indented block\n"
     ]
    }
   ],
   "source": [
    "list_ = ['a', 'b', 'c', 'd']\n",
    "for i in list_:\n",
    "print(i)"
   ]
  },
  {
   "cell_type": "markdown",
   "metadata": {},
   "source": [
    "### 3.4.2 不必要的缩进"
   ]
  },
  {
   "cell_type": "code",
   "execution_count": 52,
   "metadata": {},
   "outputs": [
    {
     "ename": "IndentationError",
     "evalue": "unexpected indent (<ipython-input-52-6b39e7ddebfc>, line 2)",
     "output_type": "error",
     "traceback": [
      "\u001b[1;36m  File \u001b[1;32m\"<ipython-input-52-6b39e7ddebfc>\"\u001b[1;36m, line \u001b[1;32m2\u001b[0m\n\u001b[1;33m    print(message)\u001b[0m\n\u001b[1;37m    ^\u001b[0m\n\u001b[1;31mIndentationError\u001b[0m\u001b[1;31m:\u001b[0m unexpected indent\n"
     ]
    }
   ],
   "source": [
    "message = 'hello world'\n",
    "    print(message)"
   ]
  },
  {
   "cell_type": "markdown",
   "metadata": {},
   "source": [
    "### 3.4.3 忘记冒号"
   ]
  },
  {
   "cell_type": "code",
   "execution_count": 53,
   "metadata": {},
   "outputs": [
    {
     "ename": "SyntaxError",
     "evalue": "invalid syntax (<ipython-input-53-e3e92d8da34e>, line 2)",
     "output_type": "error",
     "traceback": [
      "\u001b[1;36m  File \u001b[1;32m\"<ipython-input-53-e3e92d8da34e>\"\u001b[1;36m, line \u001b[1;32m2\u001b[0m\n\u001b[1;33m    for i in list_\u001b[0m\n\u001b[1;37m                  ^\u001b[0m\n\u001b[1;31mSyntaxError\u001b[0m\u001b[1;31m:\u001b[0m invalid syntax\n"
     ]
    }
   ],
   "source": [
    "list_ = ['a', 'b', 'c', 'd']\n",
    "for i in list_\n",
    "    print(i)"
   ]
  },
  {
   "cell_type": "markdown",
   "metadata": {},
   "source": [
    "## 3.5 创建数值列表\n",
    "列表很适合存储数字集合,python提供很多工具处理数字列表;"
   ]
  },
  {
   "cell_type": "markdown",
   "metadata": {},
   "source": [
    "### 3.5.1 使用range\n",
    "- range()从第一个值开始数,在到达第二个值之后停止,因此输出不包含第二个值;\n",
    "- 第一个参数不填视为0\n",
    "- 使用range时还可以指定步长"
   ]
  },
  {
   "cell_type": "code",
   "execution_count": 54,
   "metadata": {},
   "outputs": [
    {
     "name": "stdout",
     "output_type": "stream",
     "text": [
      "1\n",
      "2\n",
      "3\n",
      "4\n"
     ]
    }
   ],
   "source": [
    "for value in range(1,5):\n",
    "    print(value)"
   ]
  },
  {
   "cell_type": "code",
   "execution_count": 1,
   "metadata": {},
   "outputs": [
    {
     "name": "stdout",
     "output_type": "stream",
     "text": [
      "0\n",
      "1\n",
      "2\n",
      "3\n",
      "4\n"
     ]
    }
   ],
   "source": [
    "for value in range(5):\n",
    "    print(value)"
   ]
  },
  {
   "cell_type": "code",
   "execution_count": 55,
   "metadata": {},
   "outputs": [
    {
     "name": "stdout",
     "output_type": "stream",
     "text": [
      "2\n",
      "4\n",
      "6\n",
      "8\n",
      "10\n"
     ]
    }
   ],
   "source": [
    "for even_number in range(2, 11, 2):\n",
    "    print(even_number)"
   ]
  },
  {
   "cell_type": "markdown",
   "metadata": {},
   "source": [
    "### 3.5.2 使用range创建数字列表\n",
    "可以使用list()直接将range()转化为列表"
   ]
  },
  {
   "cell_type": "code",
   "execution_count": 2,
   "metadata": {},
   "outputs": [
    {
     "name": "stdout",
     "output_type": "stream",
     "text": [
      "[1, 2, 3, 4, 5]\n"
     ]
    }
   ],
   "source": [
    "numbers = list(range(1,6))\n",
    "print(numbers)\n"
   ]
  },
  {
   "cell_type": "code",
   "execution_count": 3,
   "metadata": {},
   "outputs": [
    {
     "name": "stdout",
     "output_type": "stream",
     "text": [
      "[1, 4, 9, 16, 25, 36, 49, 64, 81, 100]\n"
     ]
    }
   ],
   "source": [
    "# 将前十个整数的平方放到列表中\n",
    "squares = []\n",
    "for value in range(1, 11):\n",
    "    square = value ** 2\n",
    "    squares.append(square)\n",
    "print(squares)"
   ]
  },
  {
   "cell_type": "code",
   "execution_count": 5,
   "metadata": {},
   "outputs": [
    {
     "name": "stdout",
     "output_type": "stream",
     "text": [
      "[1, 4, 9, 16, 25, 36, 49, 64, 81, 100]\n"
     ]
    }
   ],
   "source": [
    "# 不使用变量square\n",
    "squares = []\n",
    "for value in range(1, 11):\n",
    "    squares.append(value **2)\n",
    "print(squares)"
   ]
  },
  {
   "cell_type": "markdown",
   "metadata": {},
   "source": [
    "### 3.5.3 对列表执行的简单运算\n",
    "使用内置函数可以轻松求和"
   ]
  },
  {
   "cell_type": "code",
   "execution_count": 6,
   "metadata": {},
   "outputs": [
    {
     "name": "stdout",
     "output_type": "stream",
     "text": [
      "0\n",
      "9\n",
      "45\n"
     ]
    }
   ],
   "source": [
    "digits = [1, 2, 3, 4, 5, 6, 7, 8, 9, 0]\n",
    "print(min(digits))\n",
    "print(max(digits))\n",
    "print(sum(digits))"
   ]
  },
  {
   "cell_type": "markdown",
   "metadata": {},
   "source": [
    "### 3.5.4 列表解析\n",
    "列表解析将for循环和新建元素的代码合并为一行;"
   ]
  },
  {
   "cell_type": "code",
   "execution_count": 8,
   "metadata": {},
   "outputs": [
    {
     "name": "stdout",
     "output_type": "stream",
     "text": [
      "[1, 4, 9, 16, 25, 36, 49, 64, 81, 100]\n"
     ]
    }
   ],
   "source": [
    "squares = [value ** 2 for value in range(1, 11)]\n",
    "'''\n",
    "首先指定一个列表名;\n",
    "定义一个表达式,用来生成储存列表的值\n",
    "编写一个for循环\n",
    "'''\n",
    "print(squares)"
   ]
  },
  {
   "cell_type": "markdown",
   "metadata": {},
   "source": [
    "### 3.6 使用列表的一部分\n",
    "列表的部分元素称为切片"
   ]
  },
  {
   "cell_type": "markdown",
   "metadata": {},
   "source": [
    "### 3.6.1 切片"
   ]
  },
  {
   "cell_type": "code",
   "execution_count": 1,
   "metadata": {},
   "outputs": [
    {
     "name": "stdout",
     "output_type": "stream",
     "text": [
      "['1', '2']\n"
     ]
    }
   ],
   "source": [
    "a = ['1', '2', '3', '4']\n",
    "print(a[0:2])"
   ]
  },
  {
   "cell_type": "code",
   "execution_count": 3,
   "metadata": {},
   "outputs": [
    {
     "name": "stdout",
     "output_type": "stream",
     "text": [
      "['1', '2', '3']\n",
      "['2', '3', '4']\n"
     ]
    }
   ],
   "source": [
    "# 如果没有指定起始索引,则列表从头开始\n",
    "a = ['1', '2', '3', '4']\n",
    "print(a[:3])\n",
    "print(a[1:])"
   ]
  },
  {
   "cell_type": "code",
   "execution_count": 4,
   "metadata": {},
   "outputs": [
    {
     "name": "stdout",
     "output_type": "stream",
     "text": [
      "['2', '3', '4']\n"
     ]
    }
   ],
   "source": [
    "# 输出后三个元素\n",
    "a = ['1', '2', '3', '4']\n",
    "print(a[-3:])"
   ]
  },
  {
   "cell_type": "markdown",
   "metadata": {},
   "source": [
    "### 3.6.2 复制切片"
   ]
  },
  {
   "cell_type": "code",
   "execution_count": 5,
   "metadata": {},
   "outputs": [
    {
     "name": "stdout",
     "output_type": "stream",
     "text": [
      "['1', '2', '3', '4', '5a']\n",
      "['1', '2', '3', '4', '5b']\n"
     ]
    }
   ],
   "source": [
    "a = ['1', '2', '3', '4']\n",
    "b = a[:]\n",
    "a.append('5a')\n",
    "b.append('5b')\n",
    "print(a)\n",
    "print(b)"
   ]
  },
  {
   "cell_type": "code",
   "execution_count": 6,
   "metadata": {},
   "outputs": [
    {
     "name": "stdout",
     "output_type": "stream",
     "text": [
      "['1', '2', '3', '4', '5a', '5b']\n",
      "['1', '2', '3', '4', '5a', '5b']\n"
     ]
    }
   ],
   "source": [
    "# 这样行不通\n",
    "a = ['1', '2', '3', '4']\n",
    "b = a\n",
    "a.append('5a')\n",
    "b.append('5b')\n",
    "print(a)\n",
    "print(b)"
   ]
  },
  {
   "cell_type": "markdown",
   "metadata": {},
   "source": [
    "## 3.7 元组\n",
    "列表适合处理可能变化的数据集,有时需要创建一系列不可修改的元素,不可变的列表称为元组"
   ]
  },
  {
   "cell_type": "markdown",
   "metadata": {},
   "source": [
    "### 3.7.1 定义元组"
   ]
  },
  {
   "cell_type": "code",
   "execution_count": 7,
   "metadata": {},
   "outputs": [
    {
     "name": "stdout",
     "output_type": "stream",
     "text": [
      "200\n",
      "50\n"
     ]
    }
   ],
   "source": [
    "a = (200, 50)\n",
    "print(a[0])\n",
    "print(a[1])"
   ]
  },
  {
   "cell_type": "code",
   "execution_count": 3,
   "metadata": {},
   "outputs": [
    {
     "data": {
      "text/plain": [
       "[3, 2]"
      ]
     },
     "execution_count": 3,
     "metadata": {},
     "output_type": "execute_result"
    }
   ],
   "source": [
    "mylist = [1,2]\n",
    "mylist[0] = 3\n",
    "mylist"
   ]
  },
  {
   "cell_type": "code",
   "execution_count": 8,
   "metadata": {
    "scrolled": true
   },
   "outputs": [
    {
     "ename": "TypeError",
     "evalue": "'tuple' object does not support item assignment",
     "output_type": "error",
     "traceback": [
      "\u001b[1;31m---------------------------------------------------------------------------\u001b[0m",
      "\u001b[1;31mTypeError\u001b[0m                                 Traceback (most recent call last)",
      "\u001b[1;32m<ipython-input-8-f36fac2bccaf>\u001b[0m in \u001b[0;36m<module>\u001b[1;34m()\u001b[0m\n\u001b[0;32m      1\u001b[0m \u001b[1;31m# 尝试修改\u001b[0m\u001b[1;33m\u001b[0m\u001b[1;33m\u001b[0m\u001b[0m\n\u001b[0;32m      2\u001b[0m \u001b[0ma\u001b[0m \u001b[1;33m=\u001b[0m \u001b[1;33m(\u001b[0m\u001b[1;36m200\u001b[0m\u001b[1;33m,\u001b[0m \u001b[1;36m50\u001b[0m\u001b[1;33m)\u001b[0m\u001b[1;33m\u001b[0m\u001b[0m\n\u001b[1;32m----> 3\u001b[1;33m \u001b[0ma\u001b[0m\u001b[1;33m[\u001b[0m\u001b[1;36m0\u001b[0m\u001b[1;33m]\u001b[0m \u001b[1;33m=\u001b[0m \u001b[1;36m250\u001b[0m\u001b[1;33m\u001b[0m\u001b[0m\n\u001b[0m",
      "\u001b[1;31mTypeError\u001b[0m: 'tuple' object does not support item assignment"
     ]
    }
   ],
   "source": [
    "# 尝试修改\n",
    "a = (200, 50)\n",
    "a[0] = 250"
   ]
  },
  {
   "cell_type": "markdown",
   "metadata": {},
   "source": [
    "### 3.7.2 遍历元组的所有值"
   ]
  },
  {
   "cell_type": "code",
   "execution_count": 11,
   "metadata": {},
   "outputs": [
    {
     "name": "stdout",
     "output_type": "stream",
     "text": [
      "200\n",
      "50\n"
     ]
    }
   ],
   "source": [
    "dimensions = (200, 50)\n",
    "for dimension in dimensions:\n",
    "    print(dimension)"
   ]
  },
  {
   "cell_type": "markdown",
   "metadata": {},
   "source": [
    "### 3.7.3 修改元组变量"
   ]
  },
  {
   "cell_type": "code",
   "execution_count": 12,
   "metadata": {},
   "outputs": [
    {
     "name": "stdout",
     "output_type": "stream",
     "text": [
      "(200, 50)\n",
      "(220, 50)\n"
     ]
    }
   ],
   "source": [
    "dimensions = (200, 50)\n",
    "print(dimensions)\n",
    "\n",
    "dimensions = (220, 50)\n",
    "print(dimensions)"
   ]
  },
  {
   "cell_type": "markdown",
   "metadata": {},
   "source": [
    "### 3.7.4 元组的封装和解封装"
   ]
  },
  {
   "cell_type": "code",
   "execution_count": 26,
   "metadata": {},
   "outputs": [
    {
     "data": {
      "text/plain": [
       "(3, 4, 5)"
      ]
     },
     "execution_count": 26,
     "metadata": {},
     "output_type": "execute_result"
    }
   ],
   "source": [
    "# 封装\n",
    "mytuple=3,4,5\n",
    "mytuple"
   ]
  },
  {
   "cell_type": "code",
   "execution_count": 27,
   "metadata": {},
   "outputs": [
    {
     "data": {
      "text/plain": [
       "12"
      ]
     },
     "execution_count": 27,
     "metadata": {},
     "output_type": "execute_result"
    }
   ],
   "source": [
    "# 解封装\n",
    "x,y,z = mytuple\n",
    "x+y+z"
   ]
  },
  {
   "cell_type": "markdown",
   "metadata": {},
   "source": [
    "# 4 if 语句"
   ]
  },
  {
   "cell_type": "code",
   "execution_count": 13,
   "metadata": {
    "scrolled": true
   },
   "outputs": [
    {
     "name": "stdout",
     "output_type": "stream",
     "text": [
      "Audi\n",
      "BMW\n",
      "Subaru\n",
      "Toyota\n"
     ]
    }
   ],
   "source": [
    " y = ['audi','bmw','subaru','toyota']\n",
    "for a in y:\n",
    "    if a == 'bmw':\n",
    "       print(a.upper())\n",
    "    else:\n",
    "       print(a.title())"
   ]
  },
  {
   "cell_type": "markdown",
   "metadata": {},
   "source": [
    "不像C++，我们在Python中没有?:，但我们有这个：\n",
    "\n",
    "[on true] if [expression] else [on false]"
   ]
  },
  {
   "cell_type": "code",
   "execution_count": 6,
   "metadata": {},
   "outputs": [
    {
     "name": "stdout",
     "output_type": "stream",
     "text": [
      "2\n"
     ]
    }
   ],
   "source": [
    "a,b = 2, 3\n",
    "min = a if a<b else b\n",
    "print(min)"
   ]
  },
  {
   "cell_type": "markdown",
   "metadata": {},
   "source": [
    "## 4.2 条件测试"
   ]
  },
  {
   "cell_type": "code",
   "execution_count": 14,
   "metadata": {},
   "outputs": [
    {
     "name": "stdout",
     "output_type": "stream",
     "text": [
      "True\n"
     ]
    }
   ],
   "source": [
    "car = 'bmw'\n",
    "print(car == 'bmw')"
   ]
  },
  {
   "cell_type": "code",
   "execution_count": 15,
   "metadata": {},
   "outputs": [
    {
     "name": "stdout",
     "output_type": "stream",
     "text": [
      "False\n"
     ]
    }
   ],
   "source": [
    "# pyrhon 检查相等时区分大小写\n",
    "car = 'bmw'\n",
    "print(car == 'BMW')"
   ]
  },
  {
   "cell_type": "code",
   "execution_count": 16,
   "metadata": {},
   "outputs": [
    {
     "name": "stdout",
     "output_type": "stream",
     "text": [
      "True\n",
      "True\n",
      "False\n",
      "False\n",
      "True\n"
     ]
    }
   ],
   "source": [
    "# 条件语句中包含各种数学比较\n",
    "age = 19\n",
    "print(age < 21)\n",
    "print(age <= 21)\n",
    "print(age > 21)\n",
    "print(age >= 21)\n",
    "print(age != 21) # 不等于"
   ]
  },
  {
   "cell_type": "markdown",
   "metadata": {},
   "source": [
    "### 4.2.1 检查多个条件"
   ]
  },
  {
   "cell_type": "code",
   "execution_count": 2,
   "metadata": {},
   "outputs": [
    {
     "data": {
      "text/plain": [
       "False"
      ]
     },
     "execution_count": 2,
     "metadata": {},
     "output_type": "execute_result"
    }
   ],
   "source": [
    "18 > 17 and 19 > 21"
   ]
  },
  {
   "cell_type": "code",
   "execution_count": 3,
   "metadata": {},
   "outputs": [
    {
     "data": {
      "text/plain": [
       "True"
      ]
     },
     "execution_count": 3,
     "metadata": {},
     "output_type": "execute_result"
    }
   ],
   "source": [
    "18 > 17 or 19 > 21"
   ]
  },
  {
   "cell_type": "markdown",
   "metadata": {},
   "source": [
    "### 4.2.2 检查特定值是否在列表中"
   ]
  },
  {
   "cell_type": "code",
   "execution_count": 4,
   "metadata": {},
   "outputs": [
    {
     "data": {
      "text/plain": [
       "True"
      ]
     },
     "execution_count": 4,
     "metadata": {},
     "output_type": "execute_result"
    }
   ],
   "source": [
    "n = ['a', 'b', 'c', 'd']\n",
    "'a' in n"
   ]
  },
  {
   "cell_type": "code",
   "execution_count": 6,
   "metadata": {},
   "outputs": [
    {
     "data": {
      "text/plain": [
       "False"
      ]
     },
     "execution_count": 6,
     "metadata": {},
     "output_type": "execute_result"
    }
   ],
   "source": [
    "n = ['a', 'b', 'c', 'd']\n",
    "'e' in n"
   ]
  },
  {
   "cell_type": "code",
   "execution_count": 8,
   "metadata": {},
   "outputs": [
    {
     "name": "stdout",
     "output_type": "stream",
     "text": [
      "e not in ['a', 'b', 'c', 'd']\n"
     ]
    }
   ],
   "source": [
    "n = ['a', 'b', 'c', 'd']\n",
    "i = 'e'\n",
    "if i not in n:\n",
    "    print(i,'not in',n)"
   ]
  },
  {
   "cell_type": "markdown",
   "metadata": {},
   "source": [
    "### 4.3 if 语句"
   ]
  },
  {
   "cell_type": "markdown",
   "metadata": {},
   "source": [
    "### 4.3.1 简单if语句"
   ]
  },
  {
   "cell_type": "code",
   "execution_count": 12,
   "metadata": {},
   "outputs": [
    {
     "name": "stdout",
     "output_type": "stream",
     "text": [
      "you are old enough to vote\n"
     ]
    }
   ],
   "source": [
    "age = 19\n",
    "if age >= 18:\n",
    "    print('you are old enough to vote')"
   ]
  },
  {
   "cell_type": "markdown",
   "metadata": {},
   "source": [
    "### 4.3.2 if-else 语句"
   ]
  },
  {
   "cell_type": "code",
   "execution_count": 13,
   "metadata": {},
   "outputs": [
    {
     "name": "stdout",
     "output_type": "stream",
     "text": [
      "23333\n"
     ]
    }
   ],
   "source": [
    "age = 17\n",
    "if age >= 18:\n",
    "\tprint('you are old enough to vote')\n",
    "else:\n",
    "\tprint('23333')"
   ]
  },
  {
   "cell_type": "markdown",
   "metadata": {},
   "source": [
    "### 4.3.3 if-elif-else 结构"
   ]
  },
  {
   "cell_type": "code",
   "execution_count": 14,
   "metadata": {},
   "outputs": [
    {
     "name": "stdout",
     "output_type": "stream",
     "text": [
      "you admission cost is $10\n"
     ]
    }
   ],
   "source": [
    "age = 22\n",
    "a = 'you admission cost is '\n",
    "if age<4:\n",
    "    print(a + '$0')\n",
    "elif age<8:\n",
    "    print(a + '$5')\n",
    "else :\n",
    "    print(a + '$10')"
   ]
  },
  {
   "cell_type": "markdown",
   "metadata": {},
   "source": [
    "### 4.3.4 确定列表是否为空"
   ]
  },
  {
   "cell_type": "code",
   "execution_count": 16,
   "metadata": {},
   "outputs": [
    {
     "name": "stdout",
     "output_type": "stream",
     "text": [
      "404\n"
     ]
    }
   ],
   "source": [
    "zs = []\n",
    "if zs:\n",
    "\tfor z in zs:\n",
    "\t\tprint('adding ' + z +'.')\n",
    "\tprint('we finish it')\n",
    "else:\n",
    "\tprint('404')"
   ]
  },
  {
   "cell_type": "markdown",
   "metadata": {},
   "source": [
    "# 5 字典"
   ]
  },
  {
   "cell_type": "markdown",
   "metadata": {},
   "source": [
    "## 5.1 创建字典"
   ]
  },
  {
   "cell_type": "code",
   "execution_count": 17,
   "metadata": {},
   "outputs": [
    {
     "name": "stdout",
     "output_type": "stream",
     "text": [
      "a\n",
      "b\n"
     ]
    }
   ],
   "source": [
    "y = {'x':'a', 2:'b'}\n",
    "print(y['x'])\n",
    "print(y[2])"
   ]
  },
  {
   "cell_type": "markdown",
   "metadata": {},
   "source": [
    "字典是不可变的，我们也能用一个推导式来创建它。"
   ]
  },
  {
   "cell_type": "code",
   "execution_count": 7,
   "metadata": {},
   "outputs": [
    {
     "data": {
      "text/plain": [
       "{25: 5, 16: 4, 9: 3, 4: 2, 1: 1}"
      ]
     },
     "execution_count": 7,
     "metadata": {},
     "output_type": "execute_result"
    }
   ],
   "source": [
    "roots={x**2:x for x in range(5,0,-1)}\n",
    "roots"
   ]
  },
  {
   "cell_type": "markdown",
   "metadata": {},
   "source": [
    "## 5.2 使用字典"
   ]
  },
  {
   "cell_type": "markdown",
   "metadata": {},
   "source": [
    "### 5.2.1 添加键-值对"
   ]
  },
  {
   "cell_type": "code",
   "execution_count": 18,
   "metadata": {},
   "outputs": [
    {
     "name": "stdout",
     "output_type": "stream",
     "text": [
      "{'color': 'green', 'point': 5}\n",
      "{'color': 'green', 'point': 5, 'x': 0, 'z': 25}\n"
     ]
    }
   ],
   "source": [
    "aim = {'color' :'green','point':5}\n",
    "print(aim)\n",
    "aim['x'] = 0\n",
    "aim['z'] = 25\n",
    "print(aim)"
   ]
  },
  {
   "cell_type": "markdown",
   "metadata": {},
   "source": [
    "### 5.2.2 修改字典中键的值"
   ]
  },
  {
   "cell_type": "code",
   "execution_count": 19,
   "metadata": {},
   "outputs": [
    {
     "name": "stdout",
     "output_type": "stream",
     "text": [
      "{'color': 'green', 'point': 5}\n",
      "{'color': 'yellow', 'point': 5}\n"
     ]
    }
   ],
   "source": [
    "aim = {'color' :'green','point':5}\n",
    "print(aim)\n",
    "aim['color'] =  'yellow'\n",
    "print(aim)"
   ]
  },
  {
   "cell_type": "markdown",
   "metadata": {},
   "source": [
    "### 5.2.3 删除键-值对"
   ]
  },
  {
   "cell_type": "code",
   "execution_count": 20,
   "metadata": {},
   "outputs": [
    {
     "name": "stdout",
     "output_type": "stream",
     "text": [
      "{'color': 'green', 'x': 0, 'z': 25}\n"
     ]
    }
   ],
   "source": [
    "aim = {'color': 'green', 'point': 5, 'x': 0, 'z': 25}\n",
    "del aim['point']\n",
    "print(aim)"
   ]
  },
  {
   "cell_type": "markdown",
   "metadata": {},
   "source": [
    "删除的键-值对永远消失了"
   ]
  },
  {
   "cell_type": "markdown",
   "metadata": {},
   "source": [
    "### 5.2.4 由类似对象组成的字典"
   ]
  },
  {
   "cell_type": "code",
   "execution_count": 21,
   "metadata": {},
   "outputs": [
    {
     "name": "stdout",
     "output_type": "stream",
     "text": [
      "{'jen': 'python', 'sarah': 'c', 'lihua': 'ruby', 'A': 'python'}\n"
     ]
    }
   ],
   "source": [
    "favorite_lanuages = {\n",
    "    'jen':'python',\n",
    "\t'sarah':'c',\n",
    "\t'lihua':'ruby',\n",
    "\t'A':'python',\n",
    "\t}\n",
    "print(favorite_lanuages)"
   ]
  },
  {
   "cell_type": "markdown",
   "metadata": {},
   "source": [
    "确定用多行来字典,输入花括号后按回车,在下一行缩进四个空格,指定第一个键-值对"
   ]
  },
  {
   "cell_type": "markdown",
   "metadata": {},
   "source": [
    "### 5.2.5 get()"
   ]
  },
  {
   "cell_type": "markdown",
   "metadata": {},
   "source": [
    "Python 字典(Dictionary) get() 函数返回指定键的值，如果值不在字典中返回默认值。"
   ]
  },
  {
   "cell_type": "markdown",
   "metadata": {},
   "source": [
    "- 参数    \n",
    "- key -- 字典中要查找的键。\n",
    "- default -- 如果指定键的值不存在时，返回该默认值值。"
   ]
  },
  {
   "cell_type": "code",
   "execution_count": 1,
   "metadata": {},
   "outputs": [
    {
     "name": "stdout",
     "output_type": "stream",
     "text": [
      "Value : 27\n",
      "Value : Never\n"
     ]
    }
   ],
   "source": [
    "dict = {'Name': 'Zara', 'Age': 27}\n",
    "\n",
    "print (\"Value : %s\" %  dict.get('Age','never'))\n",
    "print (\"Value : %s\" %  dict.get('Sex', \"Never\"))"
   ]
  },
  {
   "cell_type": "markdown",
   "metadata": {},
   "source": [
    "## 5.3 遍历字典"
   ]
  },
  {
   "cell_type": "code",
   "execution_count": 22,
   "metadata": {},
   "outputs": [
    {
     "name": "stdout",
     "output_type": "stream",
     "text": [
      "\n",
      "key:use_name\n",
      "value:abc\n",
      "\n",
      "key:first\n",
      "value:cbs\n",
      "\n",
      "key:last\n",
      "value:fermi\n",
      "\n",
      "key:first\n",
      "\n",
      "key:last\n",
      "\n",
      "key:use_name\n",
      "\n",
      "value:abc\n",
      "\n",
      "value:cbs\n",
      "\n",
      "value:fermi\n"
     ]
    }
   ],
   "source": [
    "a = {\n",
    "    'use_name' : 'abc',\n",
    "    'first' : 'cbs',\n",
    "    'last' : 'fermi',\n",
    "    }\n",
    "for key,value in a.items():\n",
    "\tprint('\\nkey:' + key)\n",
    "\tprint('value:' + value)\n",
    "\n",
    "for key in sorted(a.keys()):\n",
    "\tprint('\\nkey:' + key)\n",
    "for value in sorted(a.values()):\n",
    "\tprint('\\nvalue:' + value)"
   ]
  },
  {
   "cell_type": "markdown",
   "metadata": {},
   "source": [
    "## 5.4 嵌套"
   ]
  },
  {
   "cell_type": "markdown",
   "metadata": {},
   "source": [
    "### 5.4.1 字典列表"
   ]
  },
  {
   "cell_type": "code",
   "execution_count": 23,
   "metadata": {},
   "outputs": [
    {
     "name": "stdout",
     "output_type": "stream",
     "text": [
      "{'color': 'green', 'point': 5, 'speed': 'slow'}\n",
      "{'color': 'green', 'point': 5, 'speed': 'slow'}\n",
      "{'color': 'green', 'point': 5, 'speed': 'slow'}\n",
      "{'color': 'green', 'point': 5, 'speed': 'slow'}\n",
      "{'color': 'green', 'point': 5, 'speed': 'slow'}\n",
      "...\n",
      "total number of aliens is 30\n"
     ]
    }
   ],
   "source": [
    "aliens = []\n",
    "for alien_number in range(30):\n",
    "\tnew = {'color':'green','point':5,'speed':'slow'}\n",
    "\taliens.append(new)\n",
    "\n",
    "# 显示前五个外星人\n",
    "for alien in aliens[:5]:\n",
    "\tprint(alien)\n",
    "print('...')\n",
    "print('total number of aliens is '+str(len(aliens)))"
   ]
  },
  {
   "cell_type": "markdown",
   "metadata": {},
   "source": [
    "### 5.4.2 在字典中储存列表"
   ]
  },
  {
   "cell_type": "code",
   "execution_count": 24,
   "metadata": {},
   "outputs": [
    {
     "name": "stdout",
     "output_type": "stream",
     "text": [
      "you ordered a thick-crust pizza with the foolwing troopings:\n",
      "\t mushrooms\n",
      "\t extra cheese\n"
     ]
    }
   ],
   "source": [
    "pizza = {\n",
    "    'crust':'thick',\n",
    "    'toppings':['mushrooms','extra cheese']\n",
    "    }\n",
    "print('you ordered a '+pizza['crust']+'-crust pizza with the foolwing troopings:')\n",
    "\n",
    "for topping in pizza['toppings']:\n",
    "\tprint('\\t '+ topping)"
   ]
  },
  {
   "cell_type": "markdown",
   "metadata": {},
   "source": [
    "### 5.4.3 在字典中储存字典"
   ]
  },
  {
   "cell_type": "code",
   "execution_count": 25,
   "metadata": {},
   "outputs": [
    {
     "name": "stdout",
     "output_type": "stream",
     "text": [
      "\n",
      "User name:aeinstein\n",
      "\tFull name: Albert Eistein\n",
      "\tLocation: Princeton\n",
      "\n",
      "User name:mcuire\n",
      "\tFull name: Maire Curie\n",
      "\tLocation: Pairs\n"
     ]
    }
   ],
   "source": [
    "users = {\n",
    "    'aeinstein':{\n",
    "       'first':'albert',\n",
    "       'last':'eistein',\n",
    "       'location':'princeton',\n",
    "       },\n",
    "    'mcuire':{\n",
    "        'first':'maire',\n",
    "       'last':'curie',\n",
    "       'location':'pairs',\n",
    "       },\n",
    "    }\n",
    "for username,user_info in users.items():\n",
    "\tprint('\\nUser name:'+ username)\n",
    "\tfull_name = user_info['first']+' ' + user_info['last']\n",
    "\tlocation = user_info['location']\n",
    "\t\n",
    "\tprint('\\tFull name: ' + full_name.title())\n",
    "\tprint('\\tLocation: '+ location.title())"
   ]
  },
  {
   "cell_type": "markdown",
   "metadata": {},
   "source": [
    "# 6 用户输入与while循环"
   ]
  },
  {
   "cell_type": "markdown",
   "metadata": {},
   "source": [
    "## 6.1 input()工作原理\n",
    "input()接受参数,向用户提示或说明"
   ]
  },
  {
   "cell_type": "code",
   "execution_count": 29,
   "metadata": {},
   "outputs": [
    {
     "name": "stdout",
     "output_type": "stream",
     "text": [
      "Help on method raw_input in module ipykernel.kernelbase:\n",
      "\n",
      "raw_input(prompt='') method of ipykernel.ipkernel.IPythonKernel instance\n",
      "    Forward raw_input to frontends\n",
      "    \n",
      "    Raises\n",
      "    ------\n",
      "    StdinNotImplentedError if active frontend doesn't support stdin.\n",
      "\n"
     ]
    }
   ],
   "source": [
    "help(input)"
   ]
  },
  {
   "cell_type": "code",
   "execution_count": 27,
   "metadata": {},
   "outputs": [
    {
     "name": "stdout",
     "output_type": "stream",
     "text": [
      "input:123456\n",
      "123456\n"
     ]
    }
   ],
   "source": [
    "massage = input('input:')\n",
    "print(massage)\n"
   ]
  },
  {
   "cell_type": "markdown",
   "metadata": {},
   "source": [
    "注意:输入内容解读为字符串"
   ]
  },
  {
   "cell_type": "code",
   "execution_count": 30,
   "metadata": {},
   "outputs": [
    {
     "name": "stdout",
     "output_type": "stream",
     "text": [
      "input:12\n"
     ]
    },
    {
     "data": {
      "text/plain": [
       "str"
      ]
     },
     "execution_count": 30,
     "metadata": {},
     "output_type": "execute_result"
    }
   ],
   "source": [
    "a = input('input:')\n",
    "type(a)"
   ]
  },
  {
   "cell_type": "code",
   "execution_count": 33,
   "metadata": {},
   "outputs": [
    {
     "name": "stdout",
     "output_type": "stream",
     "text": [
      "Enter a number,and I'll tell you if it's even oro odd:6\n"
     ]
    },
    {
     "ename": "TypeError",
     "evalue": "not all arguments converted during string formatting",
     "output_type": "error",
     "traceback": [
      "\u001b[1;31m---------------------------------------------------------------------------\u001b[0m",
      "\u001b[1;31mTypeError\u001b[0m                                 Traceback (most recent call last)",
      "\u001b[1;32m<ipython-input-33-c0d20bf689b8>\u001b[0m in \u001b[0;36m<module>\u001b[1;34m()\u001b[0m\n\u001b[0;32m      1\u001b[0m \u001b[0mnumber\u001b[0m \u001b[1;33m=\u001b[0m \u001b[0minput\u001b[0m\u001b[1;33m(\u001b[0m\u001b[1;34m\"Enter a number,and I'll tell you if it's even oro odd:\"\u001b[0m\u001b[1;33m)\u001b[0m\u001b[1;33m\u001b[0m\u001b[0m\n\u001b[1;32m----> 2\u001b[1;33m \u001b[1;32mif\u001b[0m \u001b[0mnumber\u001b[0m\u001b[1;33m%\u001b[0m\u001b[1;36m2\u001b[0m \u001b[1;33m==\u001b[0m\u001b[1;36m0\u001b[0m\u001b[1;33m:\u001b[0m\u001b[1;33m\u001b[0m\u001b[0m\n\u001b[0m\u001b[0;32m      3\u001b[0m    \u001b[0my\u001b[0m \u001b[1;33m=\u001b[0m \u001b[1;34m'even'\u001b[0m\u001b[1;33m\u001b[0m\u001b[0m\n\u001b[0;32m      4\u001b[0m \u001b[1;32melse\u001b[0m\u001b[1;33m:\u001b[0m\u001b[1;33m\u001b[0m\u001b[0m\n\u001b[0;32m      5\u001b[0m         \u001b[0my\u001b[0m \u001b[1;33m=\u001b[0m \u001b[1;34m'odds'\u001b[0m\u001b[1;33m\u001b[0m\u001b[0m\n",
      "\u001b[1;31mTypeError\u001b[0m: not all arguments converted during string formatting"
     ]
    }
   ],
   "source": [
    "number = input(\"Enter a number,and I'll tell you if it's even oro odd:\")\n",
    "if number%2 ==0:\n",
    "   y = 'even'\n",
    "else:\n",
    "\ty = 'odds'\n",
    "print('The number '+str(number) +' is '+y ) "
   ]
  },
  {
   "cell_type": "code",
   "execution_count": 34,
   "metadata": {},
   "outputs": [
    {
     "name": "stdout",
     "output_type": "stream",
     "text": [
      "Enter a number,and I'll tell you if it's even oro odd:7\n",
      "The number 7 is odds\n"
     ]
    }
   ],
   "source": [
    "number = input(\"Enter a number,and I'll tell you if it's even oro odd:\")\n",
    "number = int(number)\n",
    "if number%2 ==0:\n",
    "   y = 'even'\n",
    "else:\n",
    "\ty = 'odds'\n",
    "print('The number '+str(number) +' is '+y ) "
   ]
  },
  {
   "cell_type": "markdown",
   "metadata": {},
   "source": [
    "## 6.2 while 循环简介\n",
    "for针对于集合中每个元素;while不断进行,直到指定事件不满足为止"
   ]
  },
  {
   "cell_type": "markdown",
   "metadata": {},
   "source": [
    "### 6.2.1 使用while循环"
   ]
  },
  {
   "cell_type": "code",
   "execution_count": 2,
   "metadata": {},
   "outputs": [
    {
     "name": "stdout",
     "output_type": "stream",
     "text": [
      "1\n",
      "2\n",
      "3\n",
      "4\n",
      "5\n"
     ]
    }
   ],
   "source": [
    "y = 1\n",
    "while y <=5:\n",
    "\tprint(y)\n",
    "\ty += 1"
   ]
  },
  {
   "cell_type": "markdown",
   "metadata": {},
   "source": [
    "### 6.2.2 让用户选择何时退出"
   ]
  },
  {
   "cell_type": "code",
   "execution_count": 3,
   "metadata": {},
   "outputs": [
    {
     "name": "stdout",
     "output_type": "stream",
     "text": [
      "\n",
      " tell me something,and I will repeat it back to you:\n",
      " Enter \"s\" to end the problam.3\n",
      "3\n",
      "\n",
      " tell me something,and I will repeat it back to you:\n",
      " Enter \"s\" to end the problam.4\n",
      "4\n",
      "\n",
      " tell me something,and I will repeat it back to you:\n",
      " Enter \"s\" to end the problam.s\n",
      "bye\n"
     ]
    }
   ],
   "source": [
    "prompt = '\\n tell me something,and I will repeat it back to you:'\n",
    "prompt +='\\n Enter \"s\" to end the problam.'\n",
    "message = \"\"\n",
    "while message != \"s\":\n",
    "  message = input(prompt)\n",
    "  if message !=\"s\":\n",
    "\t  print(message)\n",
    "  else:\n",
    "\t  print('bye')"
   ]
  },
  {
   "cell_type": "markdown",
   "metadata": {},
   "source": [
    "### 6.2.3 使用标志\n",
    "在要求很多条件满足才能运行的程序中,可以定义一个变量,用于判断程序是否活动,这个变量称为标志,充当了程序的信号灯"
   ]
  },
  {
   "cell_type": "code",
   "execution_count": 1,
   "metadata": {},
   "outputs": [
    {
     "name": "stdout",
     "output_type": "stream",
     "text": [
      "\n",
      " tell me something,and I will repeat it back to you:\n",
      " Enter \"s\" to end the problam.3\n",
      "3\n",
      "\n",
      " tell me something,and I will repeat it back to you:\n",
      " Enter \"s\" to end the problam.s\n"
     ]
    }
   ],
   "source": [
    "prompt = '\\n tell me something,and I will repeat it back to you:'\n",
    "prompt +='\\n Enter \"s\" to end the problam.'\n",
    "active = True\n",
    "while active:\n",
    "\tmessage = input(prompt)\n",
    "\t\n",
    "\tif message == 's':\n",
    "\t\tactive = False\n",
    "\telse:\n",
    "\t\tprint(message)"
   ]
  },
  {
   "cell_type": "markdown",
   "metadata": {},
   "source": [
    "### 6.2.4 使用break退出循环"
   ]
  },
  {
   "cell_type": "code",
   "execution_count": 3,
   "metadata": {},
   "outputs": [
    {
     "name": "stdout",
     "output_type": "stream",
     "text": [
      "\n",
      " please enter the name of a city you have visited:\n",
      " Enter \"s\" to end the problam.1\n",
      "I'd love to go to 1!\n",
      "\n",
      " please enter the name of a city you have visited:\n",
      " Enter \"s\" to end the problam.2\n",
      "I'd love to go to 2!\n",
      "\n",
      " please enter the name of a city you have visited:\n",
      " Enter \"s\" to end the problam.s\n"
     ]
    }
   ],
   "source": [
    "prompt = '\\n please enter the name of a city you have visited:'\n",
    "prompt +='\\n Enter \"s\" to end the problam.'\n",
    "while True:\n",
    "\tcity =input(prompt)\n",
    "\t\n",
    "\tif city =='s':\n",
    "\t\tbreak #break \n",
    "\telse:\n",
    "\t\tprint(\"I'd love to go to \" + city.title()+ '!')\n",
    "else:\n",
    "    print('no break') #若while或for没有break,执行该语句"
   ]
  },
  {
   "cell_type": "markdown",
   "metadata": {},
   "source": [
    "在任何循环中都可以使用break"
   ]
  },
  {
   "cell_type": "markdown",
   "metadata": {},
   "source": [
    "### 6.2.5 在循环中使用continue\n",
    "返回循环开头,可使用coutinue,它忽略其他代码,返回到循环开头"
   ]
  },
  {
   "cell_type": "code",
   "execution_count": 6,
   "metadata": {},
   "outputs": [
    {
     "name": "stdout",
     "output_type": "stream",
     "text": [
      "1\n",
      "3\n",
      "5\n",
      "7\n",
      "9\n",
      "no break\n"
     ]
    }
   ],
   "source": [
    "current_number = 0\n",
    "while current_number <10:\n",
    "    current_number += 1\n",
    "    if current_number % 2 == 0:\n",
    "        continue\n",
    "        print('看不见我')\n",
    "    print(current_number)\n",
    "else:\n",
    "    print('no break')"
   ]
  },
  {
   "cell_type": "markdown",
   "metadata": {},
   "source": [
    "### 6.3 使用while循环处理列表和字典"
   ]
  },
  {
   "cell_type": "markdown",
   "metadata": {},
   "source": [
    "### 6.3.1 在列表中移动元素"
   ]
  },
  {
   "cell_type": "code",
   "execution_count": 1,
   "metadata": {},
   "outputs": [
    {
     "name": "stdout",
     "output_type": "stream",
     "text": [
      "Verifying user:Dd\n",
      "Verifying user:C\n",
      "Verifying user:B\n",
      "Verifying user:A\n",
      "\n",
      "The following users have been consirmed:\n",
      "Dd\n",
      "C\n",
      "B\n",
      "A\n"
     ]
    }
   ],
   "source": [
    "unconfirmed_users = ['a','b','c','Dd']\n",
    "confirmed_users=[]\n",
    "while unconfirmed_users:\n",
    "\tcurrent_user = unconfirmed_users.pop()\n",
    "\t\n",
    "\tprint('Verifying user:' + current_user.title())\n",
    "\tconfirmed_users.append(current_user)\n",
    "print('\\nThe following users have been consirmed:')\n",
    "for confirmed_user in confirmed_users:\n",
    "\tprint(confirmed_user.title())\n"
   ]
  },
  {
   "cell_type": "markdown",
   "metadata": {},
   "source": [
    "while循环不断进行,直到列表变成空的"
   ]
  },
  {
   "cell_type": "markdown",
   "metadata": {},
   "source": [
    "### 6.3.2 删除包含特定值的所有列表元素"
   ]
  },
  {
   "cell_type": "code",
   "execution_count": 2,
   "metadata": {},
   "outputs": [
    {
     "name": "stdout",
     "output_type": "stream",
     "text": [
      "['b', 'd', 'b', 'd']\n"
     ]
    }
   ],
   "source": [
    "pets = ['a','b','d','a','b','d']\n",
    "while 'a' in pets:\n",
    "\tpets.remove('a')\n",
    "\t\n",
    "print(pets)"
   ]
  },
  {
   "cell_type": "markdown",
   "metadata": {},
   "source": [
    "### 6.3.3 使用用户输入来填充字典"
   ]
  },
  {
   "cell_type": "code",
   "execution_count": 4,
   "metadata": {},
   "outputs": [
    {
     "name": "stdout",
     "output_type": "stream",
     "text": [
      "\n",
      " What is your name?a\n",
      "which mountain would like you to climb someday?t\n",
      "Would you like to let any other person response?(t or f)b\n",
      "\n",
      " What is your name?s\n",
      "which mountain would like you to climb someday?f\n",
      "Would you like to let any other person response?(t or f)f\n",
      "a would you like to climb t.\n",
      "s would you like to climb f.\n"
     ]
    }
   ],
   "source": [
    "responses = {}\n",
    "\n",
    "# 设置标志，提示检查是否继续\n",
    "polling_active = True\n",
    "\n",
    "while polling_active:\n",
    "\t# 提示被调查者的名字和回答\n",
    "\tname = input('\\n What is your name?')\n",
    "\tresponse =input('which mountain would like you to climb someday?')\n",
    "\tresponses[name] = response\n",
    "\trepeat = input('Would you like to let any other person response?(t or f)')\n",
    "\tif repeat == 'f':\n",
    "\t\tpolling_active = False\n",
    "for name,response in responses.items():\n",
    "    print(name +' would you like to climb ' + response +'.')"
   ]
  },
  {
   "cell_type": "markdown",
   "metadata": {},
   "source": [
    "# 7 函数"
   ]
  },
  {
   "cell_type": "markdown",
   "metadata": {},
   "source": [
    "## 7.1 定义函数"
   ]
  },
  {
   "cell_type": "code",
   "execution_count": 1,
   "metadata": {},
   "outputs": [
    {
     "name": "stdout",
     "output_type": "stream",
     "text": [
      "hello\n"
     ]
    }
   ],
   "source": [
    "def greet_user():\n",
    "\t\"\"\"显示简单问候\"\"\"\n",
    "\tprint('hello')\n",
    "\n",
    "greet_user()\n"
   ]
  },
  {
   "cell_type": "markdown",
   "metadata": {},
   "source": [
    "### 7.1.1 向函数传递信息"
   ]
  },
  {
   "cell_type": "code",
   "execution_count": 2,
   "metadata": {},
   "outputs": [
    {
     "name": "stdout",
     "output_type": "stream",
     "text": [
      "hello A\n"
     ]
    }
   ],
   "source": [
    "def greet_user(username):\n",
    "\t\"\"\"显示简单问候\"\"\"\n",
    "\tprint('hello',username)\n",
    "\n",
    "greet_user('A')"
   ]
  },
  {
   "cell_type": "markdown",
   "metadata": {},
   "source": [
    "### 7.1.2 形参和实参     "
   ]
  },
  {
   "cell_type": "markdown",
   "metadata": {},
   "source": [
    "前面的username是一个形参--函数完成其工作所需的一项信息;            \n",
    "   "
   ]
  },
  {
   "cell_type": "markdown",
   "metadata": {},
   "source": [
    "前面的'A'是实参,是调用函数时传递给函数的信息; "
   ]
  },
  {
   "cell_type": "markdown",
   "metadata": {},
   "source": [
    "实参是调用函数时传递给函数的信息.上一个例子,把实参'A'传给了函数,这个值被储存在形参username中"
   ]
  },
  {
   "cell_type": "markdown",
   "metadata": {},
   "source": [
    "## 7.2 传递实参\n"
   ]
  },
  {
   "cell_type": "markdown",
   "metadata": {},
   "source": [
    "### 7.2.1 位置实参\n",
    "调用函数时,python将每一个实参关联到函数定义中的形参,最简单的方式是基于实参顺序,这种关联方式称为位置实参"
   ]
  },
  {
   "cell_type": "code",
   "execution_count": 1,
   "metadata": {},
   "outputs": [
    {
     "name": "stdout",
     "output_type": "stream",
     "text": [
      "\n",
      "I have a hamster\n",
      "My hamster 's name is Harry\n",
      "\n",
      "I have a dog\n",
      "My dog 's name is Willie\n"
     ]
    }
   ],
   "source": [
    "def describe_pet(animal_type,pet_name):\n",
    "    '''显示宠物信息'''\n",
    "    print('\\nI have a',animal_type)\n",
    "    print('My',animal_type,\"'s name is\", pet_name.title())\n",
    "    \n",
    "describe_pet('hamster','harry')#hamster 仓鼠\n",
    "describe_pet('dog','willie')"
   ]
  },
  {
   "cell_type": "markdown",
   "metadata": {},
   "source": [
    "### 7.2.2 关键字实参\n",
    "关键字实参是传递给函数的名称-值对,在实参中将名称和值关联起来"
   ]
  },
  {
   "cell_type": "code",
   "execution_count": 3,
   "metadata": {},
   "outputs": [
    {
     "name": "stdout",
     "output_type": "stream",
     "text": [
      "\n",
      "I have a hamster\n",
      "My hamster 's name is Harry\n",
      "\n",
      "I have a dog\n",
      "My dog 's name is Willie\n"
     ]
    }
   ],
   "source": [
    "def describe_pet(animal_type,pet_name):\n",
    "    '''显示宠物信息'''\n",
    "    print('\\nI have a',animal_type)\n",
    "    print('My',animal_type,\"'s name is\", pet_name.title())\n",
    "\n",
    "describe_pet(animal_type='hamster',pet_name='harry')#hamster 仓鼠\n",
    "describe_pet(pet_name='willie',animal_type='dog')"
   ]
  },
  {
   "cell_type": "markdown",
   "metadata": {},
   "source": [
    "### 7.2.3 默认值\n",
    "编写函数时,可为每个形参指定默认值.使用默认值可以简化函数调用, 还可以指出函数典型用法"
   ]
  },
  {
   "cell_type": "code",
   "execution_count": 4,
   "metadata": {},
   "outputs": [
    {
     "name": "stdout",
     "output_type": "stream",
     "text": [
      "\n",
      "I have a dog\n",
      "My dog'sname is Willie\n"
     ]
    }
   ],
   "source": [
    "def describe_pet(pet_name,animal_type='dog'):\n",
    "\t''' the information of pet'''\n",
    "\tprint('\\nI have a '+animal_type)\n",
    "\tprint('My '+animal_type+\"'sname is \"+pet_name.title())\n",
    "describe_pet('willie')"
   ]
  },
  {
   "cell_type": "markdown",
   "metadata": {},
   "source": [
    "在这个函数中,修改了形参的排列顺序. 由于给了animal_type默认值,无需通过实参指定动物类型; 然而,python依然将这个实参视为位置实参,如果函数调用中只包含宠物名字,这个实参会关联到是第一个形参,这就是把pet_name放在列表开头的原因"
   ]
  },
  {
   "cell_type": "markdown",
   "metadata": {
    "slideshow": {
     "slide_type": "-"
    }
   },
   "source": [
    "### 7.2.4 避免实参错误"
   ]
  },
  {
   "cell_type": "code",
   "execution_count": 5,
   "metadata": {},
   "outputs": [
    {
     "ename": "TypeError",
     "evalue": "describe_pet() missing 2 required positional arguments: 'animal_type' and 'pet_name'",
     "output_type": "error",
     "traceback": [
      "\u001b[1;31m---------------------------------------------------------------------------\u001b[0m",
      "\u001b[1;31mTypeError\u001b[0m                                 Traceback (most recent call last)",
      "\u001b[1;32m<ipython-input-5-f5bcd5969e96>\u001b[0m in \u001b[0;36m<module>\u001b[1;34m()\u001b[0m\n\u001b[0;32m      4\u001b[0m     \u001b[0mprint\u001b[0m\u001b[1;33m(\u001b[0m\u001b[1;34m'My'\u001b[0m\u001b[1;33m,\u001b[0m\u001b[0manimal_type\u001b[0m\u001b[1;33m,\u001b[0m\u001b[1;34m\"'s name is\"\u001b[0m\u001b[1;33m,\u001b[0m \u001b[0mpet_name\u001b[0m\u001b[1;33m.\u001b[0m\u001b[0mtitle\u001b[0m\u001b[1;33m(\u001b[0m\u001b[1;33m)\u001b[0m\u001b[1;33m)\u001b[0m\u001b[1;33m\u001b[0m\u001b[0m\n\u001b[0;32m      5\u001b[0m \u001b[1;33m\u001b[0m\u001b[0m\n\u001b[1;32m----> 6\u001b[1;33m \u001b[0mdescribe_pet\u001b[0m\u001b[1;33m(\u001b[0m\u001b[1;33m)\u001b[0m\u001b[1;33m\u001b[0m\u001b[0m\n\u001b[0m",
      "\u001b[1;31mTypeError\u001b[0m: describe_pet() missing 2 required positional arguments: 'animal_type' and 'pet_name'"
     ]
    }
   ],
   "source": [
    "def describe_pet(animal_type,pet_name):\n",
    "    '''显示宠物信息'''\n",
    "    print('\\nI have a',animal_type)\n",
    "    print('My',animal_type,\"'s name is\", pet_name.title())\n",
    "\n",
    "describe_pet()"
   ]
  },
  {
   "cell_type": "markdown",
   "metadata": {},
   "source": [
    "## 7.3 返回值\n",
    "函数并非总是直接显示输出,相反,他可以处理一些数据,并返回一个或一组值.可使用return语句将值返回到函数的代码行.返回值能让程序大部分繁重工作移动到函数中完成"
   ]
  },
  {
   "cell_type": "markdown",
   "metadata": {},
   "source": [
    "### 7.3.1 返回简单值"
   ]
  },
  {
   "cell_type": "code",
   "execution_count": 3,
   "metadata": {},
   "outputs": [
    {
     "name": "stdout",
     "output_type": "stream",
     "text": [
      "Jimi Hedrix\n"
     ]
    }
   ],
   "source": [
    "def get_formatted_name(first_name, last_name):\n",
    "    '''返回整洁姓名'''\n",
    "    full_name = first_name + ' ' +last_name\n",
    "    #resturn full_name.tittle()\n",
    "    #resturn full_name.title()\n",
    "    return full_name.title()\n",
    "\n",
    "\n",
    "    \n",
    "musician = get_formatted_name('jimi', 'hedrix')\n",
    "print(musician)"
   ]
  },
  {
   "cell_type": "markdown",
   "metadata": {},
   "source": [
    "### 7.3.2 让实参变成可选的"
   ]
  },
  {
   "cell_type": "code",
   "execution_count": 4,
   "metadata": {},
   "outputs": [
    {
     "name": "stdout",
     "output_type": "stream",
     "text": [
      "Stephen Willian Hawking\n",
      "Albert Einstein\n"
     ]
    }
   ],
   "source": [
    "def get_formatted_name(first_name,last_name,middle_name=''):\n",
    "\t'''·µ»ØÕû½àÐÕÃû'''\n",
    "\tif middle_name:\n",
    "\t\tfull_name = first_name + ' ' + middle_name+' ' + last_name\n",
    "\telse:\n",
    "\t\tfull_name = first_name + ' ' + last_name\n",
    "\treturn full_name.title()\n",
    "\n",
    "print(get_formatted_name('stephen','hawking','willian'))\n",
    "print(get_formatted_name('albert','einstein'))"
   ]
  },
  {
   "cell_type": "markdown",
   "metadata": {},
   "source": [
    "### 7.3.3 返回字典\n",
    "函数可返回任何类型的值,包括列表和字典等复杂的数据结构."
   ]
  },
  {
   "cell_type": "code",
   "execution_count": 6,
   "metadata": {},
   "outputs": [
    {
     "name": "stdout",
     "output_type": "stream",
     "text": [
      "{'first': 'albert', 'last': 'albert', 'age': 27}\n"
     ]
    }
   ],
   "source": [
    "def build_person(first_name,last_name,age=''):\n",
    "\t'''返回字典，其中包含一个人的信息'''\n",
    "\tperson = {'first': first_name, 'last': first_name}\n",
    "\tif age:\n",
    "\t\tperson['age'] = age\n",
    "\treturn person\n",
    "person = build_person('albert','einstein',27)\n",
    "print(person)\n"
   ]
  },
  {
   "cell_type": "markdown",
   "metadata": {},
   "source": [
    "## 7.4 传递列表\n",
    "将参数传递到函数后,函数能直接访问内容"
   ]
  },
  {
   "cell_type": "code",
   "execution_count": 3,
   "metadata": {},
   "outputs": [
    {
     "name": "stdout",
     "output_type": "stream",
     "text": [
      "Hellow, A!\n",
      "Hellow, B!\n",
      "Hellow, C!\n"
     ]
    }
   ],
   "source": [
    "def greet_users(names):\n",
    "    '''向列表中每位用户发出问候'''\n",
    "    for name in names:\n",
    "        message = 'Hellow, ' + name.title() + '!'\n",
    "        print(message)\n",
    "usernames = ['a','b','c']\n",
    "greet_users(usernames)"
   ]
  },
  {
   "cell_type": "markdown",
   "metadata": {},
   "source": [
    "### 7.4.1 在函数中修改列表"
   ]
  },
  {
   "cell_type": "code",
   "execution_count": 4,
   "metadata": {},
   "outputs": [
    {
     "name": "stdout",
     "output_type": "stream",
     "text": [
      "priinting model: dodecahedron\n",
      "priinting model: robot pedant\n",
      "priinting model: iphone case\n",
      "\n",
      "The following models have been printed:\n",
      "dodecahedron\n",
      "robot pedant\n",
      "iphone case\n"
     ]
    }
   ],
   "source": [
    "#用函数重新组织\n",
    "def print_models(unprinted_designs,completed_models):\n",
    "\t'''\n",
    "\t模拟打印每个设计，直到没有打印的设计为止\n",
    "\t打印每个设计后，都将其移到列表completed_models中\n",
    "\t'''\n",
    "\twhile unprinted_designs:\n",
    "\t\tcurrent_design = unprinted_designs.pop()\n",
    "\t\t\n",
    "\t\t#模拟根据设计制作打印模型的过程\n",
    "\t\tprint('priinting model:',current_design)\n",
    "\t\tcompleted_models.append(current_design)\n",
    "def show_completed_models(completed_models):\n",
    "\t'''显示打印好的所有模型'''\n",
    "\tprint('\\nThe following models have been printed:')\n",
    "\tfor completed_model in completed_models:\n",
    "\t\tprint(completed_model)\n",
    "\n",
    "unprinted_designs = ['iphone case','robot pedant','dodecahedron']\n",
    "completed_models = []\n",
    "\n",
    "print_models(unprinted_designs,completed_models)\n",
    "show_completed_models(completed_models)\n"
   ]
  },
  {
   "cell_type": "markdown",
   "metadata": {},
   "source": [
    "### 7.4.2 禁止函数修改列表\n",
    "有时也要保留原来列表,可用function_name(last_name[:])实现"
   ]
  },
  {
   "cell_type": "markdown",
   "metadata": {},
   "source": [
    "### 7.5 传递任意数量的实参"
   ]
  },
  {
   "cell_type": "code",
   "execution_count": 3,
   "metadata": {},
   "outputs": [
    {
     "name": "stdout",
     "output_type": "stream",
     "text": [
      "('pepperoni',)\n",
      "('mushroom', 'green papers', 'extra cheese')\n"
     ]
    }
   ],
   "source": [
    "def make_pizza(*toppings): # 创建topping的空元组,并将所有值都装到元组中\n",
    "    '''打印顾客所有配料'''\n",
    "    print(toppings)\n",
    "make_pizza('pepperoni') #  pepperoni 意大利香肠\n",
    "make_pizza('mushroom', 'green papers', 'extra cheese')"
   ]
  },
  {
   "cell_type": "markdown",
   "metadata": {},
   "source": [
    "### 7.5.1 结合使用位置实参和任意数量的实参"
   ]
  },
  {
   "cell_type": "code",
   "execution_count": 5,
   "metadata": {},
   "outputs": [
    {
     "name": "stdout",
     "output_type": "stream",
     "text": [
      "Making a 16-inch pizza with the following toppings:\n",
      "- pepperoni\n",
      "Making a 12-inch pizza with the following toppings:\n",
      "- mushroom\n",
      "- green papers\n",
      "- extra cheese\n"
     ]
    }
   ],
   "source": [
    "def make_pizza(size,*toppings): # 创建topping的空元组,并将所有值都装到元组中\n",
    "    '''打印顾客所有配料'''\n",
    "    print('Making a',str(size)+'-inch pizza with the following toppings:')\n",
    "    for topping in toppings:\n",
    "        print('-',topping)\n",
    "make_pizza(16,'pepperoni') #  pepperoni 意大利香肠\n",
    "make_pizza(12,'mushroom', 'green papers', 'extra cheese')"
   ]
  },
  {
   "cell_type": "markdown",
   "metadata": {},
   "source": [
    "### 7.5.2 使用任意数量的关键字实参"
   ]
  },
  {
   "cell_type": "code",
   "execution_count": 6,
   "metadata": {},
   "outputs": [
    {
     "name": "stdout",
     "output_type": "stream",
     "text": [
      "{'first_name': 'albert', 'last_name': 'einstein', 'location': 'princeton', 'field': 'physics'}\n"
     ]
    }
   ],
   "source": [
    "#接受任意数量的关键字实参\n",
    "def build_profile(first,last,**user_info):\n",
    "    '''创建一个字典,包含我们知道的用户的一切'''\n",
    "    profile = {}\n",
    "    profile['first_name'] = first\n",
    "    profile['last_name'] = last\n",
    "    for key,value in user_info.items():\n",
    "        profile[key] = value\n",
    "    return profile\n",
    "user_profile = build_profile('albert','einstein',\n",
    "location = 'princeton'\n",
    ",field ='physics')\n",
    "print(user_profile)"
   ]
  },
  {
   "cell_type": "markdown",
   "metadata": {},
   "source": [
    "## 7.6 lambda函数"
   ]
  },
  {
   "cell_type": "code",
   "execution_count": 7,
   "metadata": {},
   "outputs": [
    {
     "data": {
      "text/plain": [
       "4"
      ]
     },
     "execution_count": 7,
     "metadata": {},
     "output_type": "execute_result"
    }
   ],
   "source": [
    "f = lambda x :x*2\n",
    "f(2)"
   ]
  },
  {
   "cell_type": "code",
   "execution_count": 8,
   "metadata": {},
   "outputs": [
    {
     "data": {
      "text/plain": [
       "9"
      ]
     },
     "execution_count": 8,
     "metadata": {},
     "output_type": "execute_result"
    }
   ],
   "source": [
    "my_function = [(lambda x : x**2), (lambda x : x**3)]\n",
    "my_function[0](3)"
   ]
  },
  {
   "cell_type": "code",
   "execution_count": 11,
   "metadata": {},
   "outputs": [
    {
     "name": "stdout",
     "output_type": "stream",
     "text": [
      "Wall time: 0 ns\n"
     ]
    },
    {
     "data": {
      "text/plain": [
       "1999999975778108646913577777752"
      ]
     },
     "execution_count": 11,
     "metadata": {},
     "output_type": "execute_result"
    }
   ],
   "source": [
    "%time\n",
    "(lambda x :x*2)(999999987889054323456788888876)"
   ]
  },
  {
   "cell_type": "code",
   "execution_count": 12,
   "metadata": {},
   "outputs": [
    {
     "name": "stdout",
     "output_type": "stream",
     "text": [
      "(1, 2, 3, 4)\n"
     ]
    }
   ],
   "source": [
    "f = lambda *x:print(x)\n",
    "f(1,2,3,4)"
   ]
  },
  {
   "cell_type": "code",
   "execution_count": 13,
   "metadata": {},
   "outputs": [
    {
     "name": "stdout",
     "output_type": "stream",
     "text": [
      "[4, 6, 8]\n"
     ]
    }
   ],
   "source": [
    "lisst1 = [1,4,5,6,7,8]\n",
    "a = list(filter(lambda x :(x%2 == 0),lisst1))\n",
    "print(a)"
   ]
  },
  {
   "cell_type": "code",
   "execution_count": 14,
   "metadata": {},
   "outputs": [
    {
     "data": {
      "text/plain": [
       "3"
      ]
     },
     "execution_count": 14,
     "metadata": {},
     "output_type": "execute_result"
    }
   ],
   "source": [
    "max_ = lambda a,b:a if (a>b) else b\n",
    "max_(2,3)"
   ]
  },
  {
   "cell_type": "markdown",
   "metadata": {},
   "source": [
    "## 7.7 map 函数\n",
    "map() 会根据提供的函数对指定序列做映射。\n",
    "\n",
    "第一个参数 function 以参数序列中的每一个元素调用 function 函数，返回包含每次 function 函数返回值的新列表。"
   ]
  },
  {
   "cell_type": "code",
   "execution_count": 15,
   "metadata": {},
   "outputs": [
    {
     "name": "stdout",
     "output_type": "stream",
     "text": [
      "[1, 4, 9, 16, 25]\n",
      "[1, 4, 9, 16, 25]\n",
      "[3, 7, 11]\n"
     ]
    }
   ],
   "source": [
    "# 计算平方数\n",
    "def square(x):\n",
    "    return x ** 2\n",
    "print(list(map(square,[1,2,3,4,5])))\n",
    "print(list(map(lambda x:x**2,[1, 2, 3, 4, 5])))\n",
    "\n",
    "# 提供两个列表,对相同位置数据相加\n",
    "print(list(map(lambda x, y:x+y,[1,3,5],[2,4,6])))"
   ]
  },
  {
   "cell_type": "code",
   "execution_count": 16,
   "metadata": {},
   "outputs": [
    {
     "name": "stdout",
     "output_type": "stream",
     "text": [
      "1 2 3 4 5\n",
      "[1, 2, 3, 4, 5]\n"
     ]
    }
   ],
   "source": [
    "# 一行实现输出多个数字\n",
    "print(list(map(int, input().split())))"
   ]
  },
  {
   "cell_type": "markdown",
   "metadata": {},
   "source": [
    "## 7.8 reduce 函数\n",
    "- reduce接受两个参数,即reduce(func, seq)\n",
    "- 第一个参数func是一个二元函数(接受两个值作为输入)\n",
    "- seq 是一个序列\n",
    "- reduce()将第一次从seq序列中取前两个元素,给函数func调用,得到一个中间结果,再将该结果和seq的下一个元素给func,如此反复,直到seq所有元素被遍历完"
   ]
  },
  {
   "cell_type": "code",
   "execution_count": 2,
   "metadata": {},
   "outputs": [
    {
     "data": {
      "text/plain": [
       "362880"
      ]
     },
     "execution_count": 2,
     "metadata": {},
     "output_type": "execute_result"
    }
   ],
   "source": [
    "# 导入reduce\n",
    "from functools import reduce\n",
    "\n",
    "# 计算阶乘\n",
    "reduce(lambda x, y: x * y, range(1, 10))\n"
   ]
  },
  {
   "cell_type": "markdown",
   "metadata": {},
   "source": [
    "## 7.9 Filter()函数\n",
    "- filter() 函数用于过滤序列，过滤掉不符合条件的元素，返回一个迭代器对象，如果要转换为列表，可以使用 list() 来转换。该接收两个参数，第一个为函数，第二个为序列，序列的每个元素作为参数传递给函数进行判，然后返回 True 或 False，最后将返回 True 的元素放到新列表中。\n",
    "- filter(function, iterable)"
   ]
  },
  {
   "cell_type": "code",
   "execution_count": 4,
   "metadata": {},
   "outputs": [
    {
     "data": {
      "text/plain": [
       "[1, 3, 5]"
      ]
     },
     "execution_count": 4,
     "metadata": {},
     "output_type": "execute_result"
    }
   ],
   "source": [
    "# 挑出列表中所有奇数\n",
    "list(filter(lambda x:x&1,[0,1,2,3,4,5,6]))"
   ]
  },
  {
   "cell_type": "code",
   "execution_count": 5,
   "metadata": {},
   "outputs": [
    {
     "data": {
      "text/plain": [
       "['test', 'str', 'END']"
      ]
     },
     "execution_count": 5,
     "metadata": {},
     "output_type": "execute_result"
    }
   ],
   "source": [
    "# 删除 None 或者空字符串\n",
    "def is_not_empty(s):\n",
    "    return s and len(s.strip()) > 0\n",
    "list(filter(is_not_empty, ['test', None, '', 'str', '  ', 'END']))"
   ]
  },
  {
   "cell_type": "markdown",
   "metadata": {},
   "source": [
    "## 7.10 将函数保存到模块中"
   ]
  },
  {
   "cell_type": "markdown",
   "metadata": {},
   "source": [
    "导入整个模块\n",
    "\n",
    "import pizza\n",
    "\n",
    "pizza.function\n",
    "\n",
    "导入特定函数\n",
    "\n",
    "from module_name import function_name\n",
    "\n",
    "from module_name import function0,function_name1\n",
    "\n",
    "使用as指定别名\n",
    "\n",
    "import matplotlib.pyplot as plt\n",
    "\n",
    "导入所有函数\n",
    "\n",
    "from pizza import *\n",
    "\n",
    "无需使用.表示法"
   ]
  },
  {
   "cell_type": "code",
   "execution_count": null,
   "metadata": {},
   "outputs": [],
   "source": []
  }
 ],
 "metadata": {
  "kernelspec": {
   "display_name": "Python 3",
   "language": "python",
   "name": "python3"
  },
  "language_info": {
   "codemirror_mode": {
    "name": "ipython",
    "version": 3
   },
   "file_extension": ".py",
   "mimetype": "text/x-python",
   "name": "python",
   "nbconvert_exporter": "python",
   "pygments_lexer": "ipython3",
   "version": "3.6.5"
  }
 },
 "nbformat": 4,
 "nbformat_minor": 2
}
