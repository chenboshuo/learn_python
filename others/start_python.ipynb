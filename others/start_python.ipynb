{
 "cells": [
  {
   "cell_type": "markdown",
   "metadata": {},
   "source": [
    "# 6 用户输入与while循环"
   ]
  },
  {
   "cell_type": "markdown",
   "metadata": {},
   "source": [
    "## 6.1 input()工作原理\n",
    "input()接受参数,向用户提示或说明"
   ]
  },
  {
   "cell_type": "code",
   "execution_count": 29,
   "metadata": {},
   "outputs": [
    {
     "name": "stdout",
     "output_type": "stream",
     "text": [
      "Help on method raw_input in module ipykernel.kernelbase:\n",
      "\n",
      "raw_input(prompt='') method of ipykernel.ipkernel.IPythonKernel instance\n",
      "    Forward raw_input to frontends\n",
      "    \n",
      "    Raises\n",
      "    ------\n",
      "    StdinNotImplentedError if active frontend doesn't support stdin.\n",
      "\n"
     ]
    }
   ],
   "source": [
    "help(input)"
   ]
  },
  {
   "cell_type": "code",
   "execution_count": 27,
   "metadata": {},
   "outputs": [
    {
     "name": "stdout",
     "output_type": "stream",
     "text": [
      "input:123456\n",
      "123456\n"
     ]
    }
   ],
   "source": [
    "massage = input('input:')\n",
    "print(massage)\n"
   ]
  },
  {
   "cell_type": "markdown",
   "metadata": {},
   "source": [
    "注意:输入内容解读为字符串"
   ]
  },
  {
   "cell_type": "code",
   "execution_count": 30,
   "metadata": {},
   "outputs": [
    {
     "name": "stdout",
     "output_type": "stream",
     "text": [
      "input:12\n"
     ]
    },
    {
     "data": {
      "text/plain": [
       "str"
      ]
     },
     "execution_count": 30,
     "metadata": {},
     "output_type": "execute_result"
    }
   ],
   "source": [
    "a = input('input:')\n",
    "type(a)"
   ]
  },
  {
   "cell_type": "code",
   "execution_count": 33,
   "metadata": {},
   "outputs": [
    {
     "name": "stdout",
     "output_type": "stream",
     "text": [
      "Enter a number,and I'll tell you if it's even oro odd:6\n"
     ]
    },
    {
     "ename": "TypeError",
     "evalue": "not all arguments converted during string formatting",
     "output_type": "error",
     "traceback": [
      "\u001b[1;31m---------------------------------------------------------------------------\u001b[0m",
      "\u001b[1;31mTypeError\u001b[0m                                 Traceback (most recent call last)",
      "\u001b[1;32m<ipython-input-33-c0d20bf689b8>\u001b[0m in \u001b[0;36m<module>\u001b[1;34m()\u001b[0m\n\u001b[0;32m      1\u001b[0m \u001b[0mnumber\u001b[0m \u001b[1;33m=\u001b[0m \u001b[0minput\u001b[0m\u001b[1;33m(\u001b[0m\u001b[1;34m\"Enter a number,and I'll tell you if it's even oro odd:\"\u001b[0m\u001b[1;33m)\u001b[0m\u001b[1;33m\u001b[0m\u001b[0m\n\u001b[1;32m----> 2\u001b[1;33m \u001b[1;32mif\u001b[0m \u001b[0mnumber\u001b[0m\u001b[1;33m%\u001b[0m\u001b[1;36m2\u001b[0m \u001b[1;33m==\u001b[0m\u001b[1;36m0\u001b[0m\u001b[1;33m:\u001b[0m\u001b[1;33m\u001b[0m\u001b[0m\n\u001b[0m\u001b[0;32m      3\u001b[0m    \u001b[0my\u001b[0m \u001b[1;33m=\u001b[0m \u001b[1;34m'even'\u001b[0m\u001b[1;33m\u001b[0m\u001b[0m\n\u001b[0;32m      4\u001b[0m \u001b[1;32melse\u001b[0m\u001b[1;33m:\u001b[0m\u001b[1;33m\u001b[0m\u001b[0m\n\u001b[0;32m      5\u001b[0m         \u001b[0my\u001b[0m \u001b[1;33m=\u001b[0m \u001b[1;34m'odds'\u001b[0m\u001b[1;33m\u001b[0m\u001b[0m\n",
      "\u001b[1;31mTypeError\u001b[0m: not all arguments converted during string formatting"
     ]
    }
   ],
   "source": [
    "number = input(\"Enter a number,and I'll tell you if it's even oro odd:\")\n",
    "if number%2 ==0:\n",
    "   y = 'even'\n",
    "else:\n",
    "\ty = 'odds'\n",
    "print('The number '+str(number) +' is '+y ) "
   ]
  },
  {
   "cell_type": "code",
   "execution_count": 34,
   "metadata": {},
   "outputs": [
    {
     "name": "stdout",
     "output_type": "stream",
     "text": [
      "Enter a number,and I'll tell you if it's even oro odd:7\n",
      "The number 7 is odds\n"
     ]
    }
   ],
   "source": [
    "number = input(\"Enter a number,and I'll tell you if it's even oro odd:\")\n",
    "number = int(number)\n",
    "if number%2 ==0:\n",
    "   y = 'even'\n",
    "else:\n",
    "\ty = 'odds'\n",
    "print('The number '+str(number) +' is '+y ) "
   ]
  },
  {
   "cell_type": "markdown",
   "metadata": {},
   "source": [
    "## 6.2 while 循环简介\n",
    "for针对于集合中每个元素;while不断进行,直到指定事件不满足为止"
   ]
  },
  {
   "cell_type": "markdown",
   "metadata": {},
   "source": [
    "### 6.2.1 使用while循环"
   ]
  },
  {
   "cell_type": "code",
   "execution_count": 2,
   "metadata": {},
   "outputs": [
    {
     "name": "stdout",
     "output_type": "stream",
     "text": [
      "1\n",
      "2\n",
      "3\n",
      "4\n",
      "5\n"
     ]
    }
   ],
   "source": [
    "y = 1\n",
    "while y <=5:\n",
    "\tprint(y)\n",
    "\ty += 1"
   ]
  },
  {
   "cell_type": "markdown",
   "metadata": {},
   "source": [
    "### 6.2.2 让用户选择何时退出"
   ]
  },
  {
   "cell_type": "code",
   "execution_count": 3,
   "metadata": {},
   "outputs": [
    {
     "name": "stdout",
     "output_type": "stream",
     "text": [
      "\n",
      " tell me something,and I will repeat it back to you:\n",
      " Enter \"s\" to end the problam.3\n",
      "3\n",
      "\n",
      " tell me something,and I will repeat it back to you:\n",
      " Enter \"s\" to end the problam.4\n",
      "4\n",
      "\n",
      " tell me something,and I will repeat it back to you:\n",
      " Enter \"s\" to end the problam.s\n",
      "bye\n"
     ]
    }
   ],
   "source": [
    "prompt = '\\n tell me something,and I will repeat it back to you:'\n",
    "prompt +='\\n Enter \"s\" to end the problam.'\n",
    "message = \"\"\n",
    "while message != \"s\":\n",
    "  message = input(prompt)\n",
    "  if message !=\"s\":\n",
    "\t  print(message)\n",
    "  else:\n",
    "\t  print('bye')"
   ]
  },
  {
   "cell_type": "markdown",
   "metadata": {},
   "source": [
    "### 6.2.3 使用标志\n",
    "在要求很多条件满足才能运行的程序中,可以定义一个变量,用于判断程序是否活动,这个变量称为标志,充当了程序的信号灯"
   ]
  },
  {
   "cell_type": "code",
   "execution_count": 1,
   "metadata": {},
   "outputs": [
    {
     "name": "stdout",
     "output_type": "stream",
     "text": [
      "\n",
      " tell me something,and I will repeat it back to you:\n",
      " Enter \"s\" to end the problam.3\n",
      "3\n",
      "\n",
      " tell me something,and I will repeat it back to you:\n",
      " Enter \"s\" to end the problam.s\n"
     ]
    }
   ],
   "source": [
    "prompt = '\\n tell me something,and I will repeat it back to you:'\n",
    "prompt +='\\n Enter \"s\" to end the problam.'\n",
    "active = True\n",
    "while active:\n",
    "\tmessage = input(prompt)\n",
    "\t\n",
    "\tif message == 's':\n",
    "\t\tactive = False\n",
    "\telse:\n",
    "\t\tprint(message)"
   ]
  },
  {
   "cell_type": "markdown",
   "metadata": {},
   "source": [
    "### 6.2.4 使用break退出循环"
   ]
  },
  {
   "cell_type": "code",
   "execution_count": 3,
   "metadata": {},
   "outputs": [
    {
     "name": "stdout",
     "output_type": "stream",
     "text": [
      "\n",
      " please enter the name of a city you have visited:\n",
      " Enter \"s\" to end the problam.1\n",
      "I'd love to go to 1!\n",
      "\n",
      " please enter the name of a city you have visited:\n",
      " Enter \"s\" to end the problam.2\n",
      "I'd love to go to 2!\n",
      "\n",
      " please enter the name of a city you have visited:\n",
      " Enter \"s\" to end the problam.s\n"
     ]
    }
   ],
   "source": [
    "prompt = '\\n please enter the name of a city you have visited:'\n",
    "prompt +='\\n Enter \"s\" to end the problam.'\n",
    "while True:\n",
    "\tcity =input(prompt)\n",
    "\t\n",
    "\tif city =='s':\n",
    "\t\tbreak #break \n",
    "\telse:\n",
    "\t\tprint(\"I'd love to go to \" + city.title()+ '!')\n",
    "else:\n",
    "    print('no break') #若while或for没有break,执行该语句"
   ]
  },
  {
   "cell_type": "markdown",
   "metadata": {},
   "source": [
    "在任何循环中都可以使用break"
   ]
  },
  {
   "cell_type": "markdown",
   "metadata": {},
   "source": [
    "### 6.2.5 在循环中使用continue\n",
    "返回循环开头,可使用coutinue,它忽略其他代码,返回到循环开头"
   ]
  },
  {
   "cell_type": "code",
   "execution_count": 6,
   "metadata": {},
   "outputs": [
    {
     "name": "stdout",
     "output_type": "stream",
     "text": [
      "1\n",
      "3\n",
      "5\n",
      "7\n",
      "9\n",
      "no break\n"
     ]
    }
   ],
   "source": [
    "current_number = 0\n",
    "while current_number <10:\n",
    "    current_number += 1\n",
    "    if current_number % 2 == 0:\n",
    "        continue\n",
    "        print('看不见我')\n",
    "    print(current_number)\n",
    "else:\n",
    "    print('no break')"
   ]
  },
  {
   "cell_type": "markdown",
   "metadata": {},
   "source": [
    "### 6.3 使用while循环处理列表和字典"
   ]
  },
  {
   "cell_type": "markdown",
   "metadata": {},
   "source": [
    "### 6.3.1 在列表中移动元素"
   ]
  },
  {
   "cell_type": "code",
   "execution_count": 1,
   "metadata": {},
   "outputs": [
    {
     "name": "stdout",
     "output_type": "stream",
     "text": [
      "Verifying user:Dd\n",
      "Verifying user:C\n",
      "Verifying user:B\n",
      "Verifying user:A\n",
      "\n",
      "The following users have been consirmed:\n",
      "Dd\n",
      "C\n",
      "B\n",
      "A\n"
     ]
    }
   ],
   "source": [
    "unconfirmed_users = ['a','b','c','Dd']\n",
    "confirmed_users=[]\n",
    "while unconfirmed_users:\n",
    "\tcurrent_user = unconfirmed_users.pop()\n",
    "\t\n",
    "\tprint('Verifying user:' + current_user.title())\n",
    "\tconfirmed_users.append(current_user)\n",
    "print('\\nThe following users have been consirmed:')\n",
    "for confirmed_user in confirmed_users:\n",
    "\tprint(confirmed_user.title())\n"
   ]
  },
  {
   "cell_type": "markdown",
   "metadata": {},
   "source": [
    "while循环不断进行,直到列表变成空的"
   ]
  },
  {
   "cell_type": "markdown",
   "metadata": {},
   "source": [
    "### 6.3.2 删除包含特定值的所有列表元素"
   ]
  },
  {
   "cell_type": "code",
   "execution_count": 2,
   "metadata": {},
   "outputs": [
    {
     "name": "stdout",
     "output_type": "stream",
     "text": [
      "['b', 'd', 'b', 'd']\n"
     ]
    }
   ],
   "source": [
    "pets = ['a','b','d','a','b','d']\n",
    "while 'a' in pets:\n",
    "\tpets.remove('a')\n",
    "\t\n",
    "print(pets)"
   ]
  },
  {
   "cell_type": "markdown",
   "metadata": {},
   "source": [
    "### 6.3.3 使用用户输入来填充字典"
   ]
  },
  {
   "cell_type": "code",
   "execution_count": 4,
   "metadata": {},
   "outputs": [
    {
     "name": "stdout",
     "output_type": "stream",
     "text": [
      "\n",
      " What is your name?a\n",
      "which mountain would like you to climb someday?t\n",
      "Would you like to let any other person response?(t or f)b\n",
      "\n",
      " What is your name?s\n",
      "which mountain would like you to climb someday?f\n",
      "Would you like to let any other person response?(t or f)f\n",
      "a would you like to climb t.\n",
      "s would you like to climb f.\n"
     ]
    }
   ],
   "source": [
    "responses = {}\n",
    "\n",
    "# 设置标志，提示检查是否继续\n",
    "polling_active = True\n",
    "\n",
    "while polling_active:\n",
    "\t# 提示被调查者的名字和回答\n",
    "\tname = input('\\n What is your name?')\n",
    "\tresponse =input('which mountain would like you to climb someday?')\n",
    "\tresponses[name] = response\n",
    "\trepeat = input('Would you like to let any other person response?(t or f)')\n",
    "\tif repeat == 'f':\n",
    "\t\tpolling_active = False\n",
    "for name,response in responses.items():\n",
    "    print(name +' would you like to climb ' + response +'.')"
   ]
  },
  {
   "cell_type": "markdown",
   "metadata": {},
   "source": []
  }
 ],
 "metadata": {
  "kernelspec": {
   "display_name": "Python 3",
   "language": "python",
   "name": "python3"
  },
  "language_info": {
   "codemirror_mode": {
    "name": "ipython",
    "version": 3
   },
   "file_extension": ".py",
   "mimetype": "text/x-python",
   "name": "python",
   "nbconvert_exporter": "python",
   "pygments_lexer": "ipython3",
   "version": "3.6.5"
  },
  "toc": {
   "base_numbering": 1,
   "nav_menu": {},
   "number_sections": true,
   "sideBar": true,
   "skip_h1_title": false,
   "title_cell": "Table of Contents",
   "title_sidebar": "Contents",
   "toc_cell": false,
   "toc_position": {},
   "toc_section_display": true,
   "toc_window_display": true
  },
  "varInspector": {
   "cols": {
    "lenName": 16,
    "lenType": 16,
    "lenVar": 40
   },
   "kernels_config": {
    "python": {
     "delete_cmd_postfix": "",
     "delete_cmd_prefix": "del ",
     "library": "var_list.py",
     "varRefreshCmd": "print(var_dic_list())"
    },
    "r": {
     "delete_cmd_postfix": ") ",
     "delete_cmd_prefix": "rm(",
     "library": "var_list.r",
     "varRefreshCmd": "cat(var_dic_list()) "
    }
   },
   "types_to_exclude": [
    "module",
    "function",
    "builtin_function_or_method",
    "instance",
    "_Feature"
   ],
   "window_display": false
  }
 },
 "nbformat": 4,
 "nbformat_minor": 2
}
