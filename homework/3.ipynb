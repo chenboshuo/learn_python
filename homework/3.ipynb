{
 "cells": [
  {
   "cell_type": "markdown",
   "metadata": {},
   "source": [
    "编码（字符数组）\n",
    "时间限制: 1 Sec  内存限制: 128 MB\n",
    "提交: 3  解决: 3\n",
    "[提交] [状态] [讨论版] [命题人:外部导入]\n",
    "题目描述\n",
    "\n",
    "给你一个由大写字母组成的组成的字符串，你可以用如下规则对其进行编码：\n",
    "1、 包含K个相同字母的连续字符串可以用KX表示，其中X是相同的字母。\n",
    "\n",
    "2、 如果K为1，不输出K\n",
    "\n",
    "输入\n",
    "\n",
    " 输入有多组，直到文件结束。每组一个字符串，长度为10000以内\n",
    "\n",
    "输出\n",
    "\n",
    "输出编码后的字符串。\n",
    "\n",
    "样例输入\n",
    "\n",
    "ABC\n",
    "\n",
    "ABBCCC\n",
    "\n",
    "样例输出\n",
    "\n",
    "ABC\n",
    "\n",
    "A2B3C\n"
   ]
  },
  {
   "cell_type": "code",
   "execution_count": 3,
   "metadata": {
    "scrolled": true
   },
   "outputs": [
    {
     "name": "stdout",
     "output_type": "stream",
     "text": [
      "abbccc\n",
      "['a', 'b2', 'b', 'c2', 'c', 'c']\n"
     ]
    }
   ],
   "source": [
    "a = input()\n",
    "b = []\n",
    "for i in range(len(a)):\n",
    "    j = 1\n",
    "#     while a[i] = a[i+j]:\n",
    "    while i+j <len(a)-1 and a[i] == a[i+j] :\n",
    "        j += 1\n",
    "    if j == 1:\n",
    "        b.append(a[i])\n",
    "    else:\n",
    "        b.append(a[i]+str(j))\n",
    "print(b)"
   ]
  },
  {
   "cell_type": "code",
   "execution_count": 17,
   "metadata": {
    "scrolled": false
   },
   "outputs": [
    {
     "name": "stdout",
     "output_type": "stream",
     "text": [
      "abbccc\n",
      "ab2c3\n"
     ]
    }
   ],
   "source": [
    "a = input()\n",
    "b = []\n",
    "i = 0\n",
    "while i < len(a):\n",
    "    j = 1\n",
    "    while i+j <len(a) and a[i] == a[i+j] :\n",
    "        j += 1\n",
    "    \n",
    "    if j == 1:\n",
    "        b.append(a[i])\n",
    "    else:\n",
    "        b.append(a[i]+str(j))\n",
    "    i+=j\n",
    "print(''.join(b))"
   ]
  },
  {
   "cell_type": "code",
   "execution_count": 18,
   "metadata": {},
   "outputs": [
    {
     "name": "stdout",
     "output_type": "stream",
     "text": [
      "abbccc\n",
      "a2b3c\n"
     ]
    }
   ],
   "source": [
    "a = input()\n",
    "b = []\n",
    "i = 0\n",
    "while i < len(a):\n",
    "    j = 1\n",
    "    while i+j <len(a) and a[i] == a[i+j] :\n",
    "        j += 1\n",
    "    \n",
    "    if j == 1:\n",
    "        b.append(a[i])\n",
    "    else:\n",
    "        b.append(str(j)+a[i])\n",
    "    i+=j\n",
    "print(''.join(b))"
   ]
  },
  {
   "cell_type": "markdown",
   "metadata": {},
   "source": [
    "while True:\n",
    "    try:\n",
    "        a = input()\n",
    "    except EOFError:\n",
    "        break\n",
    "    else:\n",
    "        b = []\n",
    "        i = 0\n",
    "        while i < len(a):\n",
    "            j = 1\n",
    "            while i+j <len(a) and a[i] == a[i+j] :\n",
    "                j += 1\n",
    "\n",
    "            if j == 1:\n",
    "                b.append(a[i])\n",
    "            else:\n",
    "                b.append(str(j)+a[i])\n",
    "            i+=j\n",
    "        print(''.join(b))"
   ]
  },
  {
   "cell_type": "code",
   "execution_count": 6,
   "metadata": {
    "ExecuteTime": {
     "end_time": "2019-03-03T07:04:13.311985Z",
     "start_time": "2019-03-03T07:04:03.551833Z"
    }
   },
   "outputs": [
    {
     "name": "stdout",
     "output_type": "stream",
     "text": [
      "3\n",
      "7 3\n",
      "abcabc\n",
      "4 4\n",
      "abcd\n",
      "6 2\n",
      "ababab\n"
     ]
    }
   ],
   "source": [
    "s = 'abcdefghijklmnopqrstuvwxyz'\n",
    "count = int(input())\n",
    "for _ in range(0,count):\n",
    "    a,b = map(int,input().split())\n",
    "    len = a//b\n",
    "    rest = a%b\n",
    "    print(s[0:b]*len)"
   ]
  }
 ],
 "metadata": {
  "kernelspec": {
   "display_name": "Python 3",
   "language": "python",
   "name": "python3"
  },
  "language_info": {
   "codemirror_mode": {
    "name": "ipython",
    "version": 3
   },
   "file_extension": ".py",
   "mimetype": "text/x-python",
   "name": "python",
   "nbconvert_exporter": "python",
   "pygments_lexer": "ipython3",
   "version": "3.7.1"
  },
  "toc": {
   "base_numbering": 1,
   "nav_menu": {},
   "number_sections": true,
   "sideBar": true,
   "skip_h1_title": false,
   "title_cell": "Table of Contents",
   "title_sidebar": "Contents",
   "toc_cell": false,
   "toc_position": {},
   "toc_section_display": true,
   "toc_window_display": false
  },
  "varInspector": {
   "cols": {
    "lenName": 16,
    "lenType": 16,
    "lenVar": 40
   },
   "kernels_config": {
    "python": {
     "delete_cmd_postfix": "",
     "delete_cmd_prefix": "del ",
     "library": "var_list.py",
     "varRefreshCmd": "print(var_dic_list())"
    },
    "r": {
     "delete_cmd_postfix": ") ",
     "delete_cmd_prefix": "rm(",
     "library": "var_list.r",
     "varRefreshCmd": "cat(var_dic_list()) "
    }
   },
   "types_to_exclude": [
    "module",
    "function",
    "builtin_function_or_method",
    "instance",
    "_Feature"
   ],
   "window_display": false
  }
 },
 "nbformat": 4,
 "nbformat_minor": 2
}
