{
 "cells": [
  {
   "cell_type": "markdown",
   "metadata": {},
   "source": [
    "编码（字符数组）\n",
    "时间限制: 1 Sec  内存限制: 128 MB\n",
    "提交: 3  解决: 3\n",
    "[提交] [状态] [讨论版] [命题人:外部导入]\n",
    "题目描述\n",
    "\n",
    "给你一个由大写字母组成的组成的字符串，你可以用如下规则对其进行编码：\n",
    "1、 包含K个相同字母的连续字符串可以用KX表示，其中X是相同的字母。\n",
    "\n",
    "2、 如果K为1，不输出K\n",
    "\n",
    "输入\n",
    "\n",
    " 输入有多组，直到文件结束。每组一个字符串，长度为10000以内\n",
    "\n",
    "输出\n",
    "\n",
    "输出编码后的字符串。\n",
    "\n",
    "样例输入\n",
    "\n",
    "ABC\n",
    "\n",
    "ABBCCC\n",
    "\n",
    "样例输出\n",
    "\n",
    "ABC\n",
    "\n",
    "A2B3C\n"
   ]
  },
  {
   "cell_type": "code",
   "execution_count": 3,
   "metadata": {
    "scrolled": true
   },
   "outputs": [
    {
     "name": "stdout",
     "output_type": "stream",
     "text": [
      "abbccc\n",
      "['a', 'b2', 'b', 'c2', 'c', 'c']\n"
     ]
    }
   ],
   "source": [
    "a = input()\n",
    "b = []\n",
    "for i in range(len(a)):\n",
    "    j = 1\n",
    "#     while a[i] = a[i+j]:\n",
    "    while i+j <len(a)-1 and a[i] == a[i+j] :\n",
    "        j += 1\n",
    "    if j == 1:\n",
    "        b.append(a[i])\n",
    "    else:\n",
    "        b.append(a[i]+str(j))\n",
    "print(b)"
   ]
  },
  {
   "cell_type": "code",
   "execution_count": 17,
   "metadata": {
    "scrolled": false
   },
   "outputs": [
    {
     "name": "stdout",
     "output_type": "stream",
     "text": [
      "abbccc\n",
      "ab2c3\n"
     ]
    }
   ],
   "source": [
    "a = input()\n",
    "b = []\n",
    "i = 0\n",
    "while i < len(a):\n",
    "    j = 1\n",
    "    while i+j <len(a) and a[i] == a[i+j] :\n",
    "        j += 1\n",
    "    \n",
    "    if j == 1:\n",
    "        b.append(a[i])\n",
    "    else:\n",
    "        b.append(a[i]+str(j))\n",
    "    i+=j\n",
    "print(''.join(b))"
   ]
  },
  {
   "cell_type": "code",
   "execution_count": 18,
   "metadata": {},
   "outputs": [
    {
     "name": "stdout",
     "output_type": "stream",
     "text": [
      "abbccc\n",
      "a2b3c\n"
     ]
    }
   ],
   "source": [
    "a = input()\n",
    "b = []\n",
    "i = 0\n",
    "while i < len(a):\n",
    "    j = 1\n",
    "    while i+j <len(a) and a[i] == a[i+j] :\n",
    "        j += 1\n",
    "    \n",
    "    if j == 1:\n",
    "        b.append(a[i])\n",
    "    else:\n",
    "        b.append(str(j)+a[i])\n",
    "    i+=j\n",
    "print(''.join(b))"
   ]
  },
  {
   "cell_type": "markdown",
   "metadata": {},
   "source": [
    "while True:\n",
    "    try:\n",
    "        a = input()\n",
    "    except EOFError:\n",
    "        break\n",
    "    else:\n",
    "        b = []\n",
    "        i = 0\n",
    "        while i < len(a):\n",
    "            j = 1\n",
    "            while i+j <len(a) and a[i] == a[i+j] :\n",
    "                j += 1\n",
    "\n",
    "            if j == 1:\n",
    "                b.append(a[i])\n",
    "            else:\n",
    "                b.append(str(j)+a[i])\n",
    "            i+=j\n",
    "        print(''.join(b))"
   ]
  }
 ],
 "metadata": {
  "kernelspec": {
   "display_name": "Python 3",
   "language": "python",
   "name": "python3"
  },
  "language_info": {
   "codemirror_mode": {
    "name": "ipython",
    "version": 3
   },
   "file_extension": ".py",
   "mimetype": "text/x-python",
   "name": "python",
   "nbconvert_exporter": "python",
   "pygments_lexer": "ipython3",
   "version": "3.6.5"
  }
 },
 "nbformat": 4,
 "nbformat_minor": 2
}
