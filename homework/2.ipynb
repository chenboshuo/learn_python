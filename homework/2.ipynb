{
 "cells": [
  {
   "cell_type": "markdown",
   "metadata": {},
   "source": [
    "求数列的和（库函数）\n",
    "时间限制: 1 Sec  内存限制: 128 MB\n",
    "提交: 1  解决: 1\n",
    "[提交] [状态] [讨论版] [命题人:外部导入]\n",
    "题目描述\n",
    "\n",
    "数列的定义如下： 数列的第一项为n，以后各项为前一项的平方根，求数列的前m项的和。\n",
    "\n",
    "输入\n",
    "\n",
    "输入数据有多组，每组占一行，由两个整数n（n< 10000）和m(m< 1000)组成，n和m的含义如前所述。\n",
    "\n",
    "输出\n",
    "\n",
    "对于每组输入数据，输出该数列的和，每个测试实例占一行，要求精度保留2位小数。\n",
    "\n",
    "样例输入\n",
    "\n",
    "81 4\n",
    "\n",
    "\n",
    "2 2\n",
    "\n",
    "样例输出\n",
    "\n",
    "94.73\n",
    "\n",
    "\n",
    "3.41\n"
   ]
  },
  {
   "cell_type": "code",
   "execution_count": 7,
   "metadata": {
    "scrolled": true
   },
   "outputs": [
    {
     "name": "stdout",
     "output_type": "stream",
     "text": [
      "81 4\n",
      "94.73\n"
     ]
    }
   ],
   "source": [
    "while True:\n",
    "    try:\n",
    "        mn = list(map(int,input().split()))\n",
    "    except EOFerror:\n",
    "        break\n",
    "    m = mn[1]\n",
    "    n = mn[0]\n",
    "    series = [n]\n",
    "    for i in range(1,m):\n",
    "        series.append(series[i-1]**0.5)\n",
    "\n",
    "\n",
    "    s = sum(series)\n",
    "    print(format(s,'.2f'))\n"
   ]
  },
  {
   "cell_type": "markdown",
   "metadata": {},
   "source": [
    "1035: C语言实验——排列\n",
    "时间限制: 1 Sec  内存限制: 12 MB\n",
    "提交: 7  解决: 5\n",
    "[提交] [状态] [讨论版] [命题人:外部导入]\n",
    "题目描述\n",
    "\n",
    "有4个互不相同的数字，请按序输出由其中三个不重复数字组成的排列。\n",
    "\n",
    "输入\n",
    "\n",
    "4个整数。\n",
    "\n",
    "输出\n",
    "\n",
    "所有排列，输出顺序见样例。\n",
    "\n",
    "样例输入\n",
    "\n",
    "1 2 3 4\n",
    "\n",
    "样例输出\n",
    "\n",
    "1 2 3\n",
    "1 3 2\n",
    "2 1 3\n",
    "2 3 1\n",
    "3 1 2\n",
    "3 2 1\n",
    "1 2 4\n",
    "1 4 2\n",
    "2 1 4\n",
    "2 4 1\n",
    "4 1 2\n",
    "4 2 1\n",
    "1 3 4\n",
    "1 4 3\n",
    "3 1 4\n",
    "3 4 1\n",
    "4 1 3\n",
    "4 3 1\n",
    "2 3 4\n",
    "2 4 3\n",
    "3 2 4\n",
    "3 4 2\n",
    "4 2 3\n",
    "4 3 2\n"
   ]
  },
  {
   "cell_type": "code",
   "execution_count": 40,
   "metadata": {
    "scrolled": true
   },
   "outputs": [
    {
     "name": "stdout",
     "output_type": "stream",
     "text": [
      "1 2 3 4\n",
      "[{'1', '3', '2'}, {'1', '4', '2'}, {'1', '3', '2'}, {'1', '3', '4'}, {'1', '2', '4'}, {'1', '3', '4'}, {'1', '3', '2'}, {'1', '4', '2'}, {'1', '3', '2'}, {'4', '3', '2'}, {'4', '1', '2'}, {'4', '3', '2'}, {'1', '3', '2'}, {'1', '3', '4'}, {'1', '3', '2'}, {'4', '3', '2'}, {'1', '3', '4'}, {'3', '2', '4'}, {'1', '2', '4'}, {'1', '3', '4'}, {'1', '2', '4'}, {'3', '2', '4'}, {'1', '3', '4'}, {'3', '2', '4'}]\n"
     ]
    },
    {
     "data": {
      "text/plain": [
       "\"for i in list2():\\n    print(' '.join(i))\""
      ]
     },
     "execution_count": 40,
     "metadata": {},
     "output_type": "execute_result"
    }
   ],
   "source": [
    "list_ = input().split()\n",
    "\n",
    "list2 =[]\n",
    "for a in list_:\n",
    "    for b in list_:\n",
    "        for c in list_:\n",
    "            _ = set((a,b,c))\n",
    "            if len(_)==3:\n",
    "                list2.append(_)\n",
    "list2.sort()\n",
    "print(list2)\n",
    "'''for i in list2():\n",
    "    print(' '.join(i))'''"
   ]
  },
  {
   "cell_type": "code",
   "execution_count": 69,
   "metadata": {},
   "outputs": [
    {
     "name": "stdout",
     "output_type": "stream",
     "text": [
      "4\n",
      "   1   \n",
      "  121  \n",
      " 12321 \n",
      "1234321\n",
      " 12321 \n",
      "  121  \n",
      "   1   \n"
     ]
    }
   ],
   "source": [
    "'''\n",
    "    1\n",
    "   121\n",
    "  12321\n",
    " 1234321\n",
    "123454321\n",
    " 1234321\n",
    "  12321\n",
    "   121\n",
    "    1\n",
    "\n",
    "'''\n",
    "n = int(input())\n",
    "list_line=['1']\n",
    "s = '1'\n",
    "for i in range(2,n+1):\n",
    "    s += str(i)\n",
    "    ss = s + s[-2::-1]\n",
    "    list_line.append(ss)\n",
    "for i in list_line:\n",
    "    print(i.center(2*n-1))\n",
    "list_line.reverse()\n",
    "for i in list_line[1:]:\n",
    "    print(i.center(2*n-1))"
   ]
  },
  {
   "cell_type": "code",
   "execution_count": 48,
   "metadata": {
    "scrolled": true
   },
   "outputs": [
    {
     "data": {
      "text/plain": [
       "[1, 2]"
      ]
     },
     "execution_count": 48,
     "metadata": {},
     "output_type": "execute_result"
    }
   ],
   "source": [
    "list(range(1,3))"
   ]
  },
  {
   "cell_type": "code",
   "execution_count": 51,
   "metadata": {},
   "outputs": [
    {
     "name": "stdout",
     "output_type": "stream",
     "text": [
      "1\n",
      "2\n"
     ]
    }
   ],
   "source": [
    "print('\\n'.join(['1','2']))"
   ]
  },
  {
   "cell_type": "code",
   "execution_count": 1,
   "metadata": {},
   "outputs": [
    {
     "name": "stdout",
     "output_type": "stream",
     "text": [
      "3333333333333333333333333333333333333333333333333333333333333333333333333333333333333333333333333333\n"
     ]
    }
   ],
   "source": [
    "print('3'*100)"
   ]
  },
  {
   "cell_type": "code",
   "execution_count": 2,
   "metadata": {},
   "outputs": [
    {
     "name": "stdout",
     "output_type": "stream",
     "text": [
      "Hello world!\n"
     ]
    }
   ],
   "source": [
    "import __hello__"
   ]
  },
  {
   "cell_type": "code",
   "execution_count": 3,
   "metadata": {},
   "outputs": [
    {
     "name": "stdout",
     "output_type": "stream",
     "text": [
      "hello\n",
      "world\n"
     ]
    }
   ],
   "source": [
    "print('''hello\n",
    "world''')"
   ]
  },
  {
   "cell_type": "code",
   "execution_count": 4,
   "metadata": {},
   "outputs": [
    {
     "data": {
      "text/plain": [
       "1.0"
      ]
     },
     "execution_count": 4,
     "metadata": {},
     "output_type": "execute_result"
    }
   ],
   "source": [
    "2/2"
   ]
  },
  {
   "cell_type": "code",
   "execution_count": 5,
   "metadata": {},
   "outputs": [
    {
     "data": {
      "text/plain": [
       "0.6666666666666666"
      ]
     },
     "execution_count": 5,
     "metadata": {},
     "output_type": "execute_result"
    }
   ],
   "source": [
    "2/3"
   ]
  },
  {
   "cell_type": "code",
   "execution_count": 6,
   "metadata": {},
   "outputs": [
    {
     "data": {
      "text/plain": [
       "0"
      ]
     },
     "execution_count": 6,
     "metadata": {},
     "output_type": "execute_result"
    }
   ],
   "source": [
    "2//3"
   ]
  },
  {
   "cell_type": "code",
   "execution_count": 17,
   "metadata": {},
   "outputs": [
    {
     "name": "stdout",
     "output_type": "stream",
     "text": [
      "输入rank的值3\n"
     ]
    },
    {
     "ename": "IndexError",
     "evalue": "list assignment index out of range",
     "output_type": "error",
     "traceback": [
      "\u001b[1;31m---------------------------------------------------------------------------\u001b[0m",
      "\u001b[1;31mIndexError\u001b[0m                                Traceback (most recent call last)",
      "\u001b[1;32m<ipython-input-17-93152a956b56>\u001b[0m in \u001b[0;36m<module>\u001b[1;34m()\u001b[0m\n\u001b[0;32m     23\u001b[0m \u001b[1;32mfor\u001b[0m \u001b[0mi\u001b[0m \u001b[1;32min\u001b[0m \u001b[0mrange\u001b[0m\u001b[1;33m(\u001b[0m\u001b[0mline\u001b[0m\u001b[1;33m)\u001b[0m\u001b[1;33m:\u001b[0m\u001b[1;33m\u001b[0m\u001b[0m\n\u001b[0;32m     24\u001b[0m     \u001b[0ma\u001b[0m\u001b[1;33m.\u001b[0m\u001b[0mappend\u001b[0m\u001b[1;33m(\u001b[0m\u001b[1;33m[\u001b[0m\u001b[1;34m'1'\u001b[0m\u001b[1;33m*\u001b[0m\u001b[0mrow\u001b[0m\u001b[1;33m]\u001b[0m\u001b[1;33m)\u001b[0m\u001b[1;33m\u001b[0m\u001b[0m\n\u001b[1;32m---> 25\u001b[1;33m \u001b[0mfractal\u001b[0m\u001b[1;33m(\u001b[0m\u001b[0ma\u001b[0m\u001b[1;33m,\u001b[0m \u001b[1;36m0\u001b[0m\u001b[1;33m,\u001b[0m\u001b[0mrow\u001b[0m\u001b[1;33m//\u001b[0m\u001b[1;36m2\u001b[0m\u001b[1;33m-\u001b[0m\u001b[1;36m1\u001b[0m\u001b[1;33m,\u001b[0m\u001b[0mline\u001b[0m\u001b[1;33m)\u001b[0m\u001b[1;33m\u001b[0m\u001b[0m\n\u001b[0m\u001b[0;32m     26\u001b[0m \u001b[1;32mfor\u001b[0m \u001b[0mi\u001b[0m \u001b[1;32min\u001b[0m \u001b[0ma\u001b[0m\u001b[1;33m:\u001b[0m\u001b[1;33m\u001b[0m\u001b[0m\n\u001b[0;32m     27\u001b[0m \u001b[1;31m#     print(i)\u001b[0m\u001b[1;33m\u001b[0m\u001b[1;33m\u001b[0m\u001b[0m\n",
      "\u001b[1;32m<ipython-input-17-93152a956b56>\u001b[0m in \u001b[0;36mfractal\u001b[1;34m(a, i, j, line)\u001b[0m\n\u001b[0;32m     14\u001b[0m         \u001b[0ma\u001b[0m\u001b[1;33m[\u001b[0m\u001b[0mi\u001b[0m\u001b[1;33m]\u001b[0m\u001b[1;33m[\u001b[0m\u001b[0mj\u001b[0m\u001b[1;33m]\u001b[0m \u001b[1;33m=\u001b[0m \u001b[1;34m'.'\u001b[0m\u001b[1;33m\u001b[0m\u001b[0m\n\u001b[0;32m     15\u001b[0m \u001b[1;31m#         return fractal(a,i+1, j-1, line),fractal(a,i+1, j+1, line)\u001b[0m\u001b[1;33m\u001b[0m\u001b[1;33m\u001b[0m\u001b[0m\n\u001b[1;32m---> 16\u001b[1;33m         \u001b[1;32mreturn\u001b[0m \u001b[0mfractal\u001b[0m\u001b[1;33m(\u001b[0m\u001b[0ma\u001b[0m\u001b[1;33m,\u001b[0m\u001b[0mi\u001b[0m\u001b[1;33m+\u001b[0m\u001b[1;36m1\u001b[0m\u001b[1;33m,\u001b[0m \u001b[0mj\u001b[0m\u001b[1;33m+\u001b[0m\u001b[1;36m1\u001b[0m\u001b[1;33m,\u001b[0m \u001b[0mline\u001b[0m\u001b[1;33m)\u001b[0m\u001b[1;33m\u001b[0m\u001b[0m\n\u001b[0m\u001b[0;32m     17\u001b[0m \u001b[1;33m\u001b[0m\u001b[0m\n\u001b[0;32m     18\u001b[0m \u001b[0mrank\u001b[0m \u001b[1;33m=\u001b[0m \u001b[0mint\u001b[0m\u001b[1;33m(\u001b[0m\u001b[0minput\u001b[0m\u001b[1;33m(\u001b[0m\u001b[1;34m'输入rank的值'\u001b[0m\u001b[1;33m)\u001b[0m\u001b[1;33m)\u001b[0m\u001b[1;33m\u001b[0m\u001b[0m\n",
      "\u001b[1;32m<ipython-input-17-93152a956b56>\u001b[0m in \u001b[0;36mfractal\u001b[1;34m(a, i, j, line)\u001b[0m\n\u001b[0;32m     12\u001b[0m     \u001b[1;34m'''打印分形    '''\u001b[0m\u001b[1;33m\u001b[0m\u001b[0m\n\u001b[0;32m     13\u001b[0m     \u001b[1;32mif\u001b[0m \u001b[0mi\u001b[0m \u001b[1;33m<\u001b[0m \u001b[0mline\u001b[0m \u001b[1;32mand\u001b[0m  \u001b[0mj\u001b[0m\u001b[1;33m>\u001b[0m\u001b[1;36m0\u001b[0m \u001b[1;32mand\u001b[0m \u001b[0mj\u001b[0m\u001b[1;33m<\u001b[0m\u001b[0mrow\u001b[0m\u001b[1;33m:\u001b[0m\u001b[1;33m\u001b[0m\u001b[0m\n\u001b[1;32m---> 14\u001b[1;33m         \u001b[0ma\u001b[0m\u001b[1;33m[\u001b[0m\u001b[0mi\u001b[0m\u001b[1;33m]\u001b[0m\u001b[1;33m[\u001b[0m\u001b[0mj\u001b[0m\u001b[1;33m]\u001b[0m \u001b[1;33m=\u001b[0m \u001b[1;34m'.'\u001b[0m\u001b[1;33m\u001b[0m\u001b[0m\n\u001b[0m\u001b[0;32m     15\u001b[0m \u001b[1;31m#         return fractal(a,i+1, j-1, line),fractal(a,i+1, j+1, line)\u001b[0m\u001b[1;33m\u001b[0m\u001b[1;33m\u001b[0m\u001b[0m\n\u001b[0;32m     16\u001b[0m         \u001b[1;32mreturn\u001b[0m \u001b[0mfractal\u001b[0m\u001b[1;33m(\u001b[0m\u001b[0ma\u001b[0m\u001b[1;33m,\u001b[0m\u001b[0mi\u001b[0m\u001b[1;33m+\u001b[0m\u001b[1;36m1\u001b[0m\u001b[1;33m,\u001b[0m \u001b[0mj\u001b[0m\u001b[1;33m+\u001b[0m\u001b[1;36m1\u001b[0m\u001b[1;33m,\u001b[0m \u001b[0mline\u001b[0m\u001b[1;33m)\u001b[0m\u001b[1;33m\u001b[0m\u001b[0m\n",
      "\u001b[1;31mIndexError\u001b[0m: list assignment index out of range"
     ]
    }
   ],
   "source": [
    "# rank = 1\n",
    "#  .\n",
    "# rank = 2\n",
    "#  .\n",
    "# . .\n",
    "# rank = 3\n",
    "#     .\n",
    "#    . .\n",
    "#   .   .\n",
    "#  . . . .\n",
    "def fractal(a, i, j, line):\n",
    "    '''打印分形    '''\n",
    "    if i < line and  j>0 and j<row:\n",
    "        a[i][j] = '.'        \n",
    "#         return fractal(a,i+1, j-1, line),fractal(a,i+1, j+1, line)\n",
    "        return fractal(a,i+1, j+1, line)\n",
    "\n",
    "rank = int(input('输入rank的值'))\n",
    "line = 2**(rank-1)\n",
    "row  = line*2\n",
    "#生成空格列表\n",
    "a = [['1']*row] \n",
    "for i in range(line):\n",
    "    a.append(['1'*row])\n",
    "fractal(a, 0,row//2-1,line)\n",
    "for i in a:\n",
    "#     print(i)\n",
    "    print(''.join(i))\n"
   ]
  },
  {
   "cell_type": "markdown",
   "metadata": {},
   "source": [
    "if not []:\n",
    "    print('1')"
   ]
  },
  {
   "cell_type": "code",
   "execution_count": 11,
   "metadata": {},
   "outputs": [
    {
     "name": "stdout",
     "output_type": "stream",
     "text": [
      ".\n"
     ]
    }
   ],
   "source": [
    "print('.')"
   ]
  },
  {
   "cell_type": "code",
   "execution_count": 6,
   "metadata": {},
   "outputs": [
    {
     "data": {
      "text/plain": [
       "[0, 0, 0, 0, 0]"
      ]
     },
     "execution_count": 6,
     "metadata": {},
     "output_type": "execute_result"
    }
   ],
   "source": [
    "[0]*5"
   ]
  },
  {
   "cell_type": "code",
   "execution_count": 5,
   "metadata": {},
   "outputs": [
    {
     "data": {
      "text/plain": [
       "[[0, 0, 3, 0], [0, 0, 3, 0], [0, 0, 3, 0], [0, 0, 3, 0]]"
      ]
     },
     "execution_count": 5,
     "metadata": {},
     "output_type": "execute_result"
    }
   ],
   "source": [
    "a = [[0]*4]*4\n",
    "a[1][2] = 3\n",
    "a"
   ]
  },
  {
   "cell_type": "code",
   "execution_count": 33,
   "metadata": {},
   "outputs": [
    {
     "data": {
      "text/plain": [
       "'12'"
      ]
     },
     "execution_count": 33,
     "metadata": {},
     "output_type": "execute_result"
    }
   ],
   "source": [
    "''.join(['1','2'])\n"
   ]
  },
  {
   "cell_type": "code",
   "execution_count": 8,
   "metadata": {},
   "outputs": [
    {
     "data": {
      "text/plain": [
       "[[0, 0, 0], [0, 0, 3], [0, 0, 0]]"
      ]
     },
     "execution_count": 8,
     "metadata": {},
     "output_type": "execute_result"
    }
   ],
   "source": [
    "a = [[0,0,0],[0,0,0],[0,0,0]]\n",
    "a[1][2] = 3\n",
    "a"
   ]
  },
  {
   "cell_type": "code",
   "execution_count": 9,
   "metadata": {},
   "outputs": [
    {
     "name": "stdout",
     "output_type": "stream",
     "text": [
      "3 4\n"
     ]
    }
   ],
   "source": [
    "a,b =6,8\n",
    "while ~a & 1 and ~b & 1 :\n",
    "    # ^ 按位运算,异或\n",
    "    a //= 2\n",
    "    b //= 2\n",
    "    print(a,b)"
   ]
  },
  {
   "cell_type": "code",
   "execution_count": 3,
   "metadata": {},
   "outputs": [
    {
     "data": {
      "text/plain": [
       "3"
      ]
     },
     "execution_count": 3,
     "metadata": {},
     "output_type": "execute_result"
    }
   ],
   "source": [
    "0b10 ^ 1"
   ]
  },
  {
   "cell_type": "markdown",
   "metadata": {},
   "source": [
    "矩阵输出（一维数组）\n",
    "时间限制: 1 Sec  内存限制: 128 MB\n",
    "提交: 2  解决: 2\n",
    "[提交] [状态] [讨论版] [命题人:外部导入]\n",
    "题目描述\n",
    "\n",
    "输入n个整数，输出由这些整数组成的n行矩阵。\n",
    "\n",
    "输入\n",
    "\n",
    "第一行输入一个正整数N（N<=20），表示后面要输入的整数个数。\n",
    "下面依次输入N个整数。\n",
    "\n",
    "输出\n",
    "\n",
    "以输入的整数为基础，输出有规律的n行数据。\n",
    "\n",
    "样例输入\n",
    "\n",
    "5\n",
    "3 6 2 5 8\n",
    "\n",
    "样例输出\n",
    "\n",
    "3 6 2 5 8\n",
    "8 3 6 2 5\n",
    "5 8 3 6 2\n",
    "2 5 8 3 6\n",
    "6 2 5 8 3\n"
   ]
  },
  {
   "cell_type": "code",
   "execution_count": 24,
   "metadata": {},
   "outputs": [
    {
     "name": "stdout",
     "output_type": "stream",
     "text": [
      "6\n",
      "1 2 3 4 5 6\n",
      "1 2 3 4 5 6\n",
      "6 1 2 3 4 5\n",
      "5 6 1 2 3 4\n",
      "4 5 6 1 2 3\n",
      "3 4 5 6 1 2\n",
      "2 3 4 5 6 1\n"
     ]
    }
   ],
   "source": [
    "n = int(input())\n",
    "s = list(input().split())\n",
    "\n",
    "for i in range(n):\n",
    "    print(' '.join(s))\n",
    "    s.insert(0, s[-1])\n",
    "    del s[-1]\n"
   ]
  },
  {
   "cell_type": "markdown",
   "metadata": {},
   "source": [
    "小鑫爱运动（一维数组）\n",
    "时间限制: 1 Sec  内存限制: 128 MB\n",
    "提交: 7  解决: 2\n",
    "[提交] [状态] [讨论版] [命题人:外部导入]\n",
    "题目描述\n",
    "\n",
    "小鑫非常喜欢运动，有一次小鑫去参加110米栏的比赛，一共有10名比赛选手，小鑫是1号，由于跑的太专注，最后冲线的时候不知道自己是第几名，只知道每个人最后的成绩，聪明的你可不可以帮帮他？\n",
    "\n",
    "输入\n",
    "\n",
    " 多组输入。  \n",
    "先输入一个10，\n",
    "然后每组输入10个整数，代表10个选手的110米栏成绩m，代表1号到N号的N个选手的成绩m,m范围是(0 < m < 100)。  \n",
    "\n",
    "\n",
    "输出\n",
    "\n",
    "输出只有一行，代表小鑫最后的名次是多少。 \n",
    " 因为小鑫长得丑，成绩相同时，他总是排在前面。 \n",
    "\n",
    "\n",
    "样例输入\n",
    "\n",
    "10\n",
    "\n",
    "2 5 3 9 7 10 23 12 43 5\n",
    "\n",
    "10\n",
    "\n",
    "6 1 7 9 3 4 8 3 2 9\n",
    "\n",
    "样例输出\n",
    "\n",
    "1 \n",
    "6 "
   ]
  },
  {
   "cell_type": "code",
   "execution_count": 30,
   "metadata": {},
   "outputs": [
    {
     "name": "stdout",
     "output_type": "stream",
     "text": [
      "10\n",
      "2 5 3 9 7 10 23 12 43 5\n",
      "10\n"
     ]
    }
   ],
   "source": [
    "n = input()\n",
    "l = list(map(int,input().split()))\n",
    "my = l[0]\n",
    "l.sort(reverse=True)\n",
    "print(l.index(my)+1)"
   ]
  },
  {
   "cell_type": "code",
   "execution_count": null,
   "metadata": {},
   "outputs": [
    {
     "name": "stdout",
     "output_type": "stream",
     "text": [
      "10\n",
      "2 5 3 9 7 10 23 12 43 5\n",
      "1\n",
      "6 1 7 9 3 4 8 3 2 9\n",
      "6 1 7 9 3 4 8 3 2 9\n",
      "6\n"
     ]
    }
   ],
   "source": [
    "while True:\n",
    "    try:\n",
    "        n = input()\n",
    "    except EOFError:\n",
    "        break\n",
    "    else:\n",
    "        l = list(map(int,input().split()))\n",
    "        my = l[0]\n",
    "        l.sort()\n",
    "        print(l.index(my)+1)"
   ]
  },
  {
   "cell_type": "markdown",
   "metadata": {},
   "source": [
    " 数列有序!\t（一维数组）\n",
    "时间限制: 1 Sec  内存限制: 128 MB\n",
    "提交: 1  解决: 1\n",
    "[提交] [状态] [讨论版] [命题人:外部导入]\n",
    "题目描述\n",
    "\n",
    "有n(n<=100)个整数，已经按照从小到大顺序排列好，现在另外给一个整数m，请将该数插入到序列中，并使新的序列仍然有序。\n",
    "\n",
    "输入\n",
    "\n",
    "输入数据包含多个测试实例，每组数据由两行组成，第一行是n和m，第二行是已经有序的n个数的数列。n和m同时为0表示输入数据的结束，本行不做处理。\n",
    "\n",
    "输出\n",
    "\n",
    "对于每个测试实例，输出插入新的元素后的数列。\n",
    "\n",
    "样例输入\n",
    "\n",
    "3 3\n",
    "1 2 4\n",
    "0 0\n",
    "\n",
    "样例输出\n",
    "\n",
    "1 2 3 4"
   ]
  },
  {
   "cell_type": "code",
   "execution_count": 6,
   "metadata": {},
   "outputs": [
    {
     "name": "stdout",
     "output_type": "stream",
     "text": [
      "3 3\n",
      "1 2 4\n",
      "1 2 3 4\n",
      "0 0\n"
     ]
    }
   ],
   "source": [
    "while True:\n",
    "    n,m = input().split() \n",
    "    if n == '0' and m == '0':\n",
    "        break\n",
    "    else:\n",
    "        l = list(map(int,input().split()))\n",
    "        l.append(int(m))      \n",
    "        l.sort()       \n",
    "        l = list(map(str,l))\n",
    "        print(' '.join(l))"
   ]
  },
  {
   "cell_type": "markdown",
   "metadata": {},
   "source": [
    "A+B for Input-Output Practice (IV)\n",
    "时间限制: 1 Sec  内存限制: 128 MB\n",
    "提交: 20  解决: 8\n",
    "[提交] [状态] [讨论版] [命题人:外部导入]\n",
    "题目描述\n",
    "\n",
    "Your task is to Calculate the sum of some integers.\n",
    "\n",
    "输入\n",
    "\n",
    "Input contains multiple test cases. Each test case contains a integer N, and then N integers follow in the same line. A test case starting with 0 terminates the input and this test case is not to be processed.\n",
    "\n",
    "输出\n",
    "\n",
    "For each group of input integers you should output their sum in one line, and with one line of output for each line in input.\n",
    "\n",
    "样例输入\n",
    "\n",
    "4 1 2 3 4\n",
    "5 1 2 3 4 5\n",
    "0\n",
    "\n",
    "样例输出\n",
    "\n",
    "10\n",
    "15\n",
    "\n",
    "来源/分类"
   ]
  },
  {
   "cell_type": "code",
   "execution_count": null,
   "metadata": {},
   "outputs": [],
   "source": [
    "while True:\n",
    "    a = input()\n",
    "    if a == '0':\n",
    "        break\n",
    "    l = list(map(int,a.split()))\n",
    "    print(sum(l[1:]))\n",
    "    "
   ]
  },
  {
   "cell_type": "markdown",
   "metadata": {},
   "source": [
    "A+B for Input-Output Practice (V)\n",
    "时间限制: 1 Sec  内存限制: 128 MB\n",
    "提交: 27  解决: 12\n",
    "[提交] [状态] [讨论版] [命题人:外部导入]\n",
    "题目描述\n",
    "\n",
    "Your task is to calculate the sum of some integers.\n",
    "输入\n",
    "\n",
    "Input contains an integer N in the first line, and then N lines follow. Each line starts with a integer M, and then M integers follow in the same line.\n",
    "输出\n",
    "\n",
    "For each group of input integers you should output their sum in one line, and with one line of output for each line in input.\n",
    "样例输入\n",
    "\n",
    "2\n",
    "\n",
    "4 1 2 3 4\n",
    "\n",
    "5 1 2 3 4 5\n",
    "\n",
    "样例输出\n",
    "\n",
    "10\n",
    "15\n"
   ]
  },
  {
   "cell_type": "code",
   "execution_count": 4,
   "metadata": {},
   "outputs": [
    {
     "name": "stdout",
     "output_type": "stream",
     "text": [
      "2\n",
      "4 1 2 3 4\n",
      "10\n",
      "5 1 2 3 4 5\n",
      "15\n"
     ]
    }
   ],
   "source": [
    "n = int(input())\n",
    "for _ in range(n):\n",
    "    a = list(map(int,input().split()))\n",
    "    print(sum(a[1:]))"
   ]
  },
  {
   "cell_type": "markdown",
   "metadata": {},
   "source": [
    "对称矩阵的判定 （二维数组）\n",
    "时间限制: 1 Sec  内存限制: 128 MB\n",
    "提交: 2  解决: 1\n",
    "[提交] [状态] [讨论版] [命题人:外部导入]\n",
    "题目描述\n",
    "\n",
    "输入矩阵的行数，再依次输入矩阵的每行元素，判断该矩阵是否为对称矩阵，若矩阵对称输出“yes\"，不对称输出”no“。\n",
    "\n",
    "输入\n",
    "\n",
    "输入有多组，每一组第一行输入一个正整数N（N<=20），表示矩阵的行数（若N=0，表示输入结束）。 \n",
    "下面依次输入N行数据。\n",
    "\n",
    "输出\n",
    "\n",
    "若矩阵对称输出“yes\"，不对称输出”no”。\n",
    "\n",
    "样例输入\n",
    "\n",
    "3\n",
    "6 3 12\n",
    "\n",
    "3 18 8\n",
    "\n",
    "12 8 7\n",
    "\n",
    "3\n",
    "\n",
    "6 9 12\n",
    "\n",
    "3 5 8\n",
    "\n",
    "12 6 3\n",
    "\n",
    "0\n",
    "\n",
    "样例输出\n",
    "\n",
    "yes\n",
    "no"
   ]
  },
  {
   "cell_type": "code",
   "execution_count": 14,
   "metadata": {},
   "outputs": [
    {
     "name": "stdout",
     "output_type": "stream",
     "text": [
      "3\n",
      "6 3 12\n",
      "3 18 8\n",
      "12 8 7\n",
      "yes\n",
      "3\n",
      "6 9 12\n",
      "3 5 8\n",
      "12 6 3\n",
      "no\n",
      "no\n",
      "no\n",
      "0\n"
     ]
    }
   ],
   "source": [
    "sign = True\n",
    "while True:\n",
    "    a = int(input())\n",
    "    if a == 0:\n",
    "        break\n",
    "    l = []\n",
    "    for _ in range(a):\n",
    "        l.append(list(input().split()))\n",
    "    for i in range(a): \n",
    "        for j in range(a):\n",
    "            if l[i][j] != l[j][i]:\n",
    "                sign = False\n",
    "                break\n",
    "                \n",
    "    if sign:\n",
    "        print('yes')\n",
    "    else:\n",
    "        print('no')"
   ]
  },
  {
   "cell_type": "markdown",
   "metadata": {},
   "source": [
    "编码（字符数组）\n",
    "时间限制: 1 Sec  内存限制: 128 MB\n",
    "提交: 3  解决: 3\n",
    "[提交] [状态] [讨论版] [命题人:外部导入]\n",
    "题目描述\n",
    "\n",
    "给你一个由大写字母组成的组成的字符串，你可以用如下规则对其进行编码：\n",
    "1、 包含K个相同字母的连续字符串可以用KX表示，其中X是相同的字母。\n",
    "\n",
    "2、 如果K为1，不输出K\n",
    "\n",
    "输入\n",
    "\n",
    " 输入有多组，直到文件结束。每组一个字符串，长度为10000以内\n",
    "\n",
    "输出\n",
    "\n",
    "输出编码后的字符串。\n",
    "\n",
    "样例输入\n",
    "\n",
    "ABC\n",
    "\n",
    "ABBCCC\n",
    "\n",
    "样例输出\n",
    "\n",
    "ABC\n",
    "\n",
    "A2B3C\n"
   ]
  },
  {
   "cell_type": "markdown",
   "metadata": {},
   "source": [
    "字符统计2（字符数组）\n",
    "时间限制: 1 Sec  内存限制: 128 MB\n",
    "提交: 15  解决: 9\n",
    "[提交] [状态] [讨论版] [命题人:外部导入]\n",
    "题目描述\n",
    "\n",
    "输入英文句子，输出该句子中除了空格外\n",
    "出现次数最多的字符及其出现的次数。\n",
    "\n",
    "输入\n",
    "\n",
    "输入数据包含多个测试实例，每个测试实例\n",
    "是一个长度不超过100的英文句子，占一行。\n",
    "\n",
    "输出\n",
    "\n",
    "逐行输出每个句子中出现次数最多的字符及其出现的次数（如果有多个字符的次数相同，只输出ASCII码最小的字符）。\n",
    "\n",
    "样例输入\n",
    "\n",
    "I am a student\n",
    "\n",
    "a good programming problem\n",
    "\n",
    "ABCD abcd ABCD abcd\n",
    "\n",
    "样例输出\n",
    "\n",
    "a 2\n",
    "o 4\n",
    "A 2"
   ]
  },
  {
   "cell_type": "code",
   "execution_count": 9,
   "metadata": {},
   "outputs": [
    {
     "name": "stdout",
     "output_type": "stream",
     "text": [
      "ABCD abcd ABCD abcd\n",
      "A 2\n"
     ]
    }
   ],
   "source": [
    "s = input()\n",
    "a = [0]*52\n",
    "for i in s:\n",
    "    if i.isupper():\n",
    "        a[ord(i)-ord('A')] += 1\n",
    "    if i.islower():\n",
    "        a[ord(i)-ord('a')+26] += 1\n",
    "        #  a[ord(i-'a')+26] += 1 错,字符串不能做减法\n",
    "max_frequency = max(a)\n",
    "index_ = a.index(max_frequency)\n",
    "m_char = chr(index_ + ord('A')) if index_ < 26 else chr(index_ + ord('a')-26)\n",
    "print(m_char, max_frequency)"
   ]
  },
  {
   "cell_type": "markdown",
   "metadata": {},
   "source": [
    "\n"
   ]
  },
  {
   "cell_type": "code",
   "execution_count": null,
   "metadata": {},
   "outputs": [],
   "source": []
  }
 ],
 "metadata": {
  "kernelspec": {
   "display_name": "Python 3",
   "language": "python",
   "name": "python3"
  },
  "language_info": {
   "codemirror_mode": {
    "name": "ipython",
    "version": 3
   },
   "file_extension": ".py",
   "mimetype": "text/x-python",
   "name": "python",
   "nbconvert_exporter": "python",
   "pygments_lexer": "ipython3",
   "version": "3.6.5"
  }
 },
 "nbformat": 4,
 "nbformat_minor": 2
}
