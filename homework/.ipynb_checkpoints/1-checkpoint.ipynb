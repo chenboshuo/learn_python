{
 "cells": [
  {
   "cell_type": "code",
   "execution_count": 7,
   "metadata": {},
   "outputs": [
    {
     "name": "stdout",
     "output_type": "stream",
     "text": [
      "1,7,5\n",
      "1 5 7\n"
     ]
    }
   ],
   "source": [
    "x = input()\n",
    "b = x.split(',')\n",
    "b.sort()\n",
    "print(' '.join(b))"
   ]
  },
  {
   "cell_type": "code",
   "execution_count": 16,
   "metadata": {},
   "outputs": [
    {
     "name": "stdout",
     "output_type": "stream",
     "text": [
      "21\n",
      "101 103 107 109 113 127 131 137 139 149 151 157 163 167 173 179 181 191 193 197 199\n"
     ]
    }
   ],
   "source": [
    "def basic_method(n):\n",
    "    i = 2\n",
    "    while i < n:\n",
    "        if n % i == 0:            \n",
    "            return False\n",
    "            break\n",
    "        i += 1\n",
    "    else:\n",
    "        return True\n",
    "\n",
    "list1=[]\n",
    "for i in range(100,200):\n",
    "    if basic_method(i):\n",
    "        list1.append(str(i))\n",
    "print(len(list1))\n",
    "map(str,list1)\n",
    "print(' '.join(list1))\n"
   ]
  },
  {
   "cell_type": "code",
   "execution_count": 17,
   "metadata": {
    "scrolled": false
   },
   "outputs": [
    {
     "name": "stdout",
     "output_type": "stream",
     "text": [
      "12%%%45%67\n",
      "%\n",
      "124567\n"
     ]
    }
   ],
   "source": [
    "a = input()\n",
    "b = input()\n",
    "str=''\n",
    "for i in a:\n",
    "    if i != b:\n",
    "        str += i\n",
    "print(str)"
   ]
  },
  {
   "cell_type": "code",
   "execution_count": 1,
   "metadata": {},
   "outputs": [
    {
     "name": "stdout",
     "output_type": "stream",
     "text": [
      "2\n",
      "1 4 5\n",
      "1 4 5\n",
      "1 5 4\n",
      "1 4 5\n"
     ]
    }
   ],
   "source": [
    "a = input().split()\n",
    "for i in range(1,int(a[0])+1):\n",
    "    b = input().split()\n",
    "    b.sort()\n",
    "    print(' '.join(b))"
   ]
  },
  {
   "cell_type": "code",
   "execution_count": 6,
   "metadata": {},
   "outputs": [
    {
     "name": "stdout",
     "output_type": "stream",
     "text": [
      "123\n",
      "3\n",
      "1 2 3\n",
      "3 2 1\n"
     ]
    }
   ],
   "source": [
    "a = input()\n",
    "list1 = []\n",
    "print(len(a))\n",
    "for i in a:\n",
    "    list1.append(i)\n",
    "print(' '.join(list1))\n",
    "list1.reverse()\n",
    "print(' '.join(list1))"
   ]
  },
  {
   "cell_type": "code",
   "execution_count": 9,
   "metadata": {},
   "outputs": [
    {
     "name": "stdout",
     "output_type": "stream",
     "text": [
      "3 2 8\n",
      "3\n"
     ]
    }
   ],
   "source": [
    "a = input().split()\n",
    "a.sort()\n",
    "print(a[1])"
   ]
  },
  {
   "cell_type": "markdown",
   "metadata": {},
   "source": [
    "- mmmmm\n",
    "mmmmmmmmm"
   ]
  },
  {
   "cell_type": "code",
   "execution_count": null,
   "metadata": {},
   "outputs": [],
   "source": [
    "def fibonacci(n):\n",
    "    if n < 3:\n",
    "        return 1\n",
    "    else:\n",
    "        return fibonacci(n-1)+fibonacci(n-2)\n",
    "n = int(input())\n",
    "print(fibonacci(n))"
   ]
  },
  {
   "cell_type": "code",
   "execution_count": 21,
   "metadata": {},
   "outputs": [
    {
     "name": "stdout",
     "output_type": "stream",
     "text": [
      "80\n",
      "80=7+73\n"
     ]
    }
   ],
   "source": [
    "def prime_number(n):\n",
    "    i = 2\n",
    "    if n == 1:\n",
    "        return False\n",
    "    for i in range(2,n):\n",
    "        if n % i == 0:            \n",
    "            return False\n",
    "            break\n",
    "        i += 1\n",
    "    else:\n",
    "        return True\n",
    "\n",
    "n = int(input())\n",
    "for i in range(2,n+1):\n",
    "    p1 = i\n",
    "    p2 = n - i\n",
    "    if prinme_number(p1) and prime_number(p2):\n",
    "        break\n",
    "print(str(n) + '='+ str(p1) + '+' + str(p2))"
   ]
  },
  {
   "cell_type": "markdown",
   "metadata": {},
   "source": [
    "保留整数\n",
    "时间限制: 1 Sec  内存限制: 12 MB\n",
    "提交: 2  解决: 1\n",
    "[提交] [状态] [讨论版] [命题人:外部导入]\n",
    "题目描述\n",
    "\n",
    "输入一个字符串str1，把其中的连续非数字的字符子串换成一个‘*’，存入字符数组str2 中，所有数字字符也必须依次存入 str2 中。输出str2。\n",
    "\n",
    "输入\n",
    "\n",
    "输入为一行字符串str1，其中可能包含空格。字符串长度不超过80个字符。\n",
    "\n",
    "输出\n",
    "\n",
    "输出处理好的字符串str2。\n",
    "\n",
    "样例输入\n",
    "\n",
    "$Ts!47&*s456  a23* +B9k\n",
    "\n",
    "样例输出\n",
    "\n",
    "*47*456*23*9*\n",
    "\n",
    "来源/分类"
   ]
  },
  {
   "cell_type": "code",
   "execution_count": 3,
   "metadata": {},
   "outputs": [
    {
     "name": "stdout",
     "output_type": "stream",
     "text": [
      "safd734h3jk2&&  f90\n",
      "734*3*2*90\n"
     ]
    }
   ],
   "source": [
    "str1 = input()\n",
    "list2 =[]\n",
    "str2 =''\n",
    "for s in str1:\n",
    "    try:\n",
    "        int(s)\n",
    "        str2 += s\n",
    "    except:\n",
    "        str2 +=' '\n",
    "list2 = str2.split()\n",
    "print('*'.join(list2))"
   ]
  },
  {
   "cell_type": "markdown",
   "metadata": {},
   "source": [
    "字符串排序 （字符串函数和字符数组）\n",
    "时间限制: 1 Sec  内存限制: 128 MB\n",
    "提交: 2  解决: 2\n",
    "[提交] [状态] [讨论版] [命题人:外部导入]\n",
    "题目描述\n",
    "\n",
    "输入3个字符串，按字典序从小到大进行排序。\n",
    "\n",
    "输入\n",
    "\n",
    "输入数据有一行，分别为3个字符串，用空格分隔，每个字符串长度不超过100。\n",
    "\n",
    "输出\n",
    "\n",
    "输出排序后的三个字符串，用空格分隔。\n",
    "\n",
    "样例输入\n",
    "\n",
    "abcd cdef bcde\n",
    "\n",
    "样例输出\n",
    "\n",
    "abcd bcde cdef"
   ]
  },
  {
   "cell_type": "code",
   "execution_count": 1,
   "metadata": {},
   "outputs": [
    {
     "name": "stdout",
     "output_type": "stream",
     "text": [
      "abcd ceef bcde\n",
      "abcd bcde ceef\n"
     ]
    }
   ],
   "source": [
    "list1 = list(input().split())\n",
    "list1.sort()\n",
    "print(' '.join(list1))"
   ]
  },
  {
   "cell_type": "markdown",
   "metadata": {},
   "source": [
    "合法的C标识符（字符串、数组、指针练习）\n",
    "时间限制: 1 Sec  内存限制: 12 MB\n",
    "提交: 5  解决: 5\n",
    "[提交] [状态] [讨论版] [命题人:外部导入]\n",
    "题目描述\n",
    "\n",
    "给出一个标识符，请你判断它是否是C语言合法的标识符。\n",
    "\n",
    "输入\n",
    "\n",
    "输入一个标识符，长度不超过100。\n",
    "\n",
    "输出\n",
    "\n",
    "判断是否合法，如果是输出YES，否则输出NO。\n",
    "\n",
    "样例输入\n",
    "\n",
    "123You\n",
    "\n",
    "样例输出\n",
    "\n",
    "NO\n",
    "\n",
    "提示\n",
    "\n",
    "C语言规定：标识符只能由字母、数字和下划线3种字符组成，且第一个字符必须为字母或下划线。"
   ]
  },
  {
   "cell_type": "code",
   "execution_count": 2,
   "metadata": {},
   "outputs": [
    {
     "name": "stdout",
     "output_type": "stream",
     "text": [
      "123You\n",
      "NO\n"
     ]
    }
   ],
   "source": [
    "s = input()\n",
    "if s.isidentifier():\n",
    "    print('YES')\n",
    "else:\n",
    "    print('NO')"
   ]
  },
  {
   "cell_type": "markdown",
   "metadata": {},
   "source": [
    "字符编码（字符串、数组、指针练习）\n",
    "时间限制: 1 Sec  内存限制: 12 MB\n",
    "提交: 7  解决: 4\n",
    "[提交] [状态] [讨论版] [命题人:外部导入]\n",
    "题目描述\n",
    "\n",
    "请将一串长度为5的纯字母文本译成一个密码，密码规律如下：用原来的字母后面的第4个字母代替原来的字母。如C用G代替（文本中不存在W/w、X/x、Y/y、Z/z等字母），最后得到的文本即为密码。\n",
    "\n",
    "输入\n",
    "\n",
    "输入一串文本，长度固定为5。\n",
    "\n",
    "输出\n",
    "\n",
    "输出对应的密码。格式为： password is 密码\n",
    "\n",
    "样例输入\n",
    "\n",
    "China\n",
    "\n",
    "样例输出\n",
    "\n",
    "password is Glmre"
   ]
  },
  {
   "cell_type": "code",
   "execution_count": 5,
   "metadata": {},
   "outputs": [
    {
     "name": "stdout",
     "output_type": "stream",
     "text": [
      "China\n",
      "password is Glmre\n"
     ]
    }
   ],
   "source": [
    "s = input()\n",
    "passwords = ''\n",
    "for i in s:\n",
    "    password = chr(ord(i) + 4)\n",
    "    passwords += password\n",
    "print('password is', passwords)"
   ]
  },
  {
   "cell_type": "markdown",
   "metadata": {},
   "source": [
    "分割整数（一维数组）\n",
    "时间限制: 1 Sec  内存限制: 12 MB\n",
    "提交: 11  解决: 7\n",
    "[提交] [状态] [讨论版] [命题人:外部导入]\n",
    "题目描述\n",
    "\n",
    "从键盘输入一个长整数（不超过10位），从高位开始逐位分割并输出。\n",
    "\n",
    "输入\n",
    "\n",
    "正整数n，不含前导零。\n",
    "\n",
    "输出\n",
    "\n",
    "分割的整数序列，各整数之间用空格格开。 注意，最后一个数字后面没有空格！\n",
    "\n",
    "样例输入\n",
    "\n",
    "654321\n",
    "\n",
    "样例输出\n",
    "\n",
    "6 5 4 3 2 1\n",
    "\n",
    "来源/分类"
   ]
  },
  {
   "cell_type": "code",
   "execution_count": 7,
   "metadata": {},
   "outputs": [
    {
     "name": "stdout",
     "output_type": "stream",
     "text": [
      "654321\n",
      "6 5 4 3 2 1\n"
     ]
    }
   ],
   "source": [
    "s = input()\n",
    "list1 = []\n",
    "for i in s:\n",
    "    list1.append(i)\n",
    "print(' '.join(list1))"
   ]
  },
  {
   "cell_type": "markdown",
   "metadata": {},
   "source": [
    "全字母句（字符数组练习）\n",
    "时间限制: 1 Sec  内存限制: 128 MB\n",
    "提交: 3  解决: 2\n",
    "[提交] [状态] [讨论版] [命题人:admin]\n",
    "题目描述\n",
    "\n",
    "全字母句 (pangram) 指包含字母表中全部 26 种英文字母（不区分大小写）的句子，其常被用于展示英文字体的显示效果。\n",
    "现在，bLue 得到了很多句子，他想知道哪些句子是全字母句。\n",
    "\n",
    "输入\n",
    "\n",
    "输入数据有多组（数据组数不超过 100），到 EOF 结束。\n",
    "每组数据包含一行长度不超过 100 的字符串。\n",
    "\n",
    "输出\n",
    "\n",
    "对于每组数据，输出一行。\n",
    "如果是全字母句则输出 \"Yes\"，否则输出 \"No\"（不包括引号）。\n",
    "\n",
    "样例输入\n",
    "\n",
    "The quick brown fox jumps over the lazy dog.\n",
    "\n",
    "The 6th ACM Funny Programming For/While Contest\n",
    "\n",
    "样例输出\n",
    "\n",
    "Yes\n",
    "\n",
    "No\n",
    "\n",
    "来源/分类"
   ]
  },
  {
   "cell_type": "code",
   "execution_count": 6,
   "metadata": {},
   "outputs": [
    {
     "name": "stdout",
     "output_type": "stream",
     "text": [
      "The 6th ACM Funny Programming For/While Contest\n",
      "No\n"
     ]
    }
   ],
   "source": [
    "\n",
    "s = input().lower()\n",
    "\n",
    "list1 = []\n",
    "for i in s:\n",
    "    if(ord(i) >= ord('a') and ord(i) <= ord('z')):\n",
    "        list1.append(i)\n",
    "count = len(list(set(list1)))\n",
    "if count == 26:\n",
    "    print('Yes')\n",
    "else:\n",
    "    print('No')        "
   ]
  },
  {
   "cell_type": "markdown",
   "metadata": {},
   "source": [
    "简单字符串排序（字符串函数和字符数组）\n",
    "时间限制: 1 Sec  内存限制: 128 MB\n",
    "提交: 2  解决: 2\n",
    "[提交] [状态] [讨论版] [命题人:外部导入]\n",
    "题目描述\n",
    "\n",
    "从键盘输入10个学生的姓名和成绩，请按字典序排列学生的姓名并输出（姓名和成绩对应关系保持不变）。\n",
    "\n",
    "输入\n",
    "\n",
    "输入共11行，前10行每行是一个学生的姓名，最后一行是10个用空格分开的整数表示对应的10个学生成绩。(姓名大小不超过20个字符)\n",
    "\n",
    "输出\n",
    "\n",
    "输出姓名按字典序排列后的学生姓名和成绩，共10行，每个学生的姓名和成绩占一行，姓名和成绩间用逗号分开。\n",
    "\n",
    "样例输入\n",
    "\n",
    "Bush\n",
    "White\n",
    "Mark\n",
    "Jean\n",
    "Black\n",
    "Wood\n",
    "Jenny\n",
    "Frank\n",
    "Bill\n",
    "Smith\n",
    "78 85 96 65 46 83 77 88 54 98\n",
    "\n",
    "样例输出\n",
    "\n",
    "Bill,54\n",
    "Black,46\n",
    "Bush,78\n",
    "Frank,88\n",
    "Jean,65\n",
    "Jenny,77\n",
    "Mark,96\n",
    "Smith,98\n",
    "White,85\n",
    "Wood,83\n"
   ]
  },
  {
   "cell_type": "code",
   "execution_count": 19,
   "metadata": {},
   "outputs": [
    {
     "name": "stdout",
     "output_type": "stream",
     "text": [
      "9\n",
      "8\n",
      "7\n",
      "6\n",
      "5\n",
      "4\n",
      "3\n",
      "2\n",
      "1\n",
      "0\n",
      "11 12 13 14 151 16 17 18 19 20\n",
      "0,20\n",
      "1,19\n",
      "2,18\n",
      "3,17\n",
      "4,16\n",
      "5,151\n",
      "6,14\n",
      "7,13\n",
      "8,12\n",
      "9,11\n"
     ]
    }
   ],
   "source": [
    "names = []\n",
    "\n",
    "for name in range(10):\n",
    "    name = input()\n",
    "    names.append(name)\n",
    "points = list(input().split())\n",
    "list1 = list(sorted(zip(names,points)))\n",
    "for i in list1:\n",
    "    print(i[0]+','+i[1])"
   ]
  },
  {
   "cell_type": "code",
   "execution_count": 8,
   "metadata": {},
   "outputs": [
    {
     "name": "stdout",
     "output_type": "stream",
     "text": [
      "1\n"
     ]
    }
   ],
   "source": [
    "a = (1,2)\n",
    "print(a[0])"
   ]
  },
  {
   "cell_type": "code",
   "execution_count": 17,
   "metadata": {},
   "outputs": [
    {
     "data": {
      "text/plain": [
       "[(1, 4), (2, 5), (3, 6)]"
      ]
     },
     "execution_count": 17,
     "metadata": {},
     "output_type": "execute_result"
    }
   ],
   "source": [
    "list(zip([1,2,3],[4,5,6]))"
   ]
  },
  {
   "cell_type": "code",
   "execution_count": 20,
   "metadata": {},
   "outputs": [
    {
     "name": "stdout",
     "output_type": "stream",
     "text": [
      "asddsa\n",
      "yes\n"
     ]
    }
   ],
   "source": [
    "s = input()\n",
    "if s == s[::-1]:\n",
    "    print('yes')\n",
    "else:\n",
    "    print('no')"
   ]
  },
  {
   "cell_type": "code",
   "execution_count": 33,
   "metadata": {},
   "outputs": [
    {
     "name": "stdout",
     "output_type": "stream",
     "text": [
      "cnt.most_common(1)\n",
      "m 3\n"
     ]
    }
   ],
   "source": [
    "from collections import Counter\n",
    "while True:\n",
    "    try:\n",
    "        str1 = input()\n",
    "    except EOFError:\n",
    "        break\n",
    "    else:\n",
    "        list1 = []\n",
    "        for i in str1:\n",
    "            if i == ' ':\n",
    "                pass\n",
    "            else:\n",
    "                list1.append(i)\n",
    "\n",
    "        cnt = Counter(list1)\n",
    "        more = cnt.most_common(1)\n",
    "        print(more[0][0],more[0][1])\n"
   ]
  },
  {
   "cell_type": "code",
   "execution_count": 37,
   "metadata": {},
   "outputs": [
    {
     "name": "stdout",
     "output_type": "stream",
     "text": [
      "aaAA\n",
      "a 2\n"
     ]
    }
   ],
   "source": [
    "from collections import Counter\n",
    "str1 = input()\n",
    "list1 = []\n",
    "for i in str1:\n",
    "    if i == ' ':\n",
    "        pass\n",
    "    else:\n",
    "        list1.append(i)\n",
    "\n",
    "cnt = Counter(list1)\n",
    "more = cnt.most_common(1)\n",
    "print(more[0][0],more[0][1])"
   ]
  },
  {
   "cell_type": "markdown",
   "metadata": {},
   "source": [
    "小纸条\t（字符数组）\n",
    "时间限制: 1 Sec  内存限制: 128 MB\n",
    "提交: 2  解决: 2\n",
    "[提交] [状态] [讨论版] [命题人:外部导入]\n",
    "题目描述\n",
    "\n",
    "小鑫在高中的时候喜欢上了一个十分漂亮的女孩。那个女孩也很喜欢他，就答应成为他的女朋友。\n",
    "但是大家都知道高中的生活是忙碌的，除了上课就是上课，有时候可能连课间时间都被老师占用。于是小鑫想出了在上课给女朋友传纸条的方法来表达自己的爱慕。\n",
    "又但是她与小鑫之间的距离太远，中间必须通过同学来传递纸条。可他们并不想让同学们知道写的什么就想到加密纸条这种方法。方法如下：\n",
    "他们每天都会约定加密常数n，举个例子，当n=1时，今天写的每一句话中所用的字母都会向后+1，比如：i love you就成了j mpwf zpv ，当然了当是z的时候，+1就等于a。\n",
    "请你帮他女朋友解密他写的纸条么？\n",
    "\n",
    "输入\n",
    "\n",
    "输入为多组，每组为两行。\n",
    "第一行为n，-50<n<50\n",
    "第二行为一句话，只有小写字母和空格。长度小于10000\n",
    "\n",
    "输出\n",
    "\n",
    " 输出解密之后的内容\n",
    "\n",
    "样例输入\n",
    "\n",
    "1\n",
    "j mpwf zpv\n",
    "\n",
    "样例输出\n",
    "\n",
    "i love you"
   ]
  },
  {
   "cell_type": "code",
   "execution_count": 46,
   "metadata": {},
   "outputs": [
    {
     "name": "stdout",
     "output_type": "stream",
     "text": [
      "1\n",
      "j mpwf zpv\n",
      "i love you\n"
     ]
    }
   ],
   "source": [
    "n = input()\n",
    "str = input()\n",
    "passwords = ''\n",
    "for i in str:\n",
    "    if i == ' ':\n",
    "        passwords += ' '\n",
    "    else:\n",
    "        password = ord(i) - n\n",
    "        passwords += chr(password)\n",
    "print(passwords)"
   ]
  },
  {
   "cell_type": "code",
   "execution_count": null,
   "metadata": {},
   "outputs": [],
   "source": []
  },
  {
   "cell_type": "code",
   "execution_count": 49,
   "metadata": {},
   "outputs": [
    {
     "data": {
      "text/plain": [
       "2"
      ]
     },
     "execution_count": 49,
     "metadata": {},
     "output_type": "execute_result"
    }
   ],
   "source": [
    "'asb'.find('b')"
   ]
  },
  {
   "cell_type": "markdown",
   "metadata": {},
   "source": [
    "高中数学（递归）\n",
    "时间限制: 1 Sec  内存限制: 128 MB\n",
    "提交: 3  解决: 3\n",
    "[提交] [状态] [讨论版] [命题人:外部导入]\n",
    "题目描述\n",
    "\n",
    "高中数学大家都学过数列，其中一个重要的概念就是数列的通项，可以代表数列中每一项的一个表达式。\n",
    " 今天我们的问题就跟通项有关系，说，给你一个数列的通项和数列中的前几项，希望你能求出它的第n项。\n",
    " 通项表达式如下：\n",
    " F(1) = 0;\n",
    " F(2) = 1;\n",
    " F(n) = 4*F(n-1)-5*F(n-2);\n",
    "\n",
    "输入\n",
    "\n",
    "输入数据第一行是一个正整数T，T<100。接下来T行，每行一个整数n, 2<n<50。\n",
    "\n",
    "输出\n",
    "\n",
    "输出有T行，对于输入中每行中的n按照通项计算出F(n)。\n",
    "\n",
    "样例输入\n",
    "\n",
    "4\n",
    "3\n",
    "4\n",
    "5\n",
    "6\n",
    "\n",
    "样例输出\n",
    "\n",
    "4\n",
    "11\n",
    "24\n",
    "41\n",
    "\n",
    "来源/分类"
   ]
  },
  {
   "cell_type": "code",
   "execution_count": 4,
   "metadata": {},
   "outputs": [
    {
     "name": "stdout",
     "output_type": "stream",
     "text": [
      "4\n",
      "3\n",
      "4\n",
      "4\n",
      "11\n",
      "5\n",
      "24\n",
      "6\n",
      "41\n"
     ]
    }
   ],
   "source": [
    "def f(x):\n",
    "    if x == 1:\n",
    "        return 0\n",
    "    elif x == 2:\n",
    "        return 1\n",
    "    else:\n",
    "        return 4*f(x-1)-5*f(x-2)\n",
    "n = int(input())\n",
    "for _ in range(n):\n",
    "    x = int(input())\n",
    "    print(f(x))"
   ]
  },
  {
   "cell_type": "markdown",
   "metadata": {},
   "source": [
    "一元二次方程Ⅱ（if--else练习）\n",
    "时间限制: 1 Sec  内存限制: 12 MB\n",
    "提交: 6  解决: 4\n",
    "[提交] [状态] [讨论版] [命题人:外部导入]\n",
    "题目描述\n",
    "\n",
    "求一元二次方程ax2+bx+c=0的解。a,b,c为任意实数。\n",
    "\n",
    "输入\n",
    "\n",
    "输入数据有一行，包括a b c的值。\n",
    "\n",
    "输出\n",
    "\n",
    "按以下格式输出方程的根x1和x2。x1和x2之间有一个空格。 x1 x2 （1）如果x1和x2为实根，则以x1>=x2输出。 （2）如果方程是共轭复根，x1=m+ni，x2=m-ni，其中n>0。 其中，x1, x2, m,n均保留2位小数。\n",
    "\n",
    "样例输入\n",
    "\n",
    "1 2 3\n",
    "\n",
    "样例输出\n",
    "\n",
    "-1.00+1.41i -1.00-1.41i"
   ]
  },
  {
   "cell_type": "markdown",
   "metadata": {},
   "source": [
    "![Image of Yaktocat](https://gss1.bdstatic.com/-vo3dSag_xI4khGkpoWK1HF6hhy/baike/s%3D172/sign=7eeebf1c9113b07eb9bd540f3ed79113/f2deb48f8c5494ee750337242ff5e0fe99257eed.jpg)"
   ]
  },
  {
   "cell_type": "code",
   "execution_count": 5,
   "metadata": {},
   "outputs": [
    {
     "name": "stdout",
     "output_type": "stream",
     "text": [
      "1 2 3\n",
      "-1.00+1.41i -1.00-1.41i\n"
     ]
    }
   ],
   "source": [
    "abc = list(map(int,input().split()))\n",
    "a = abc[0]\n",
    "b = abc[1]\n",
    "c = abc[2]\n",
    "delta = b**2 - 4*a*c\n",
    "if delta >= 0:\n",
    "    x1 = (-b + delta**0.5)/2*a\n",
    "    x2 = (-b - delta**0.5)/2*a\n",
    "    print('%.2f %.2f'%(x1, x2))\n",
    "else:\n",
    "    m = -b/2*a # m = -b/2a *\n",
    "    n = (-delta)**0.5/2*a\n",
    "    print('%.2f+%.2fi %.2f-%.2fi'%(m,n,m,n))"
   ]
  },
  {
   "cell_type": "code",
   "execution_count": 7,
   "metadata": {},
   "outputs": [
    {
     "data": {
      "text/plain": [
       "'2'"
      ]
     },
     "execution_count": 7,
     "metadata": {},
     "output_type": "execute_result"
    }
   ],
   "source": [
    "max(['1', '2'])"
   ]
  },
  {
   "cell_type": "markdown",
   "metadata": {},
   "source": [
    "各位数字之和排序（一维数组）\n",
    "时间限制: 1 Sec  内存限制: 12 MB\n",
    "提交: 3  解决: 2\n",
    "[提交] [状态] [讨论版] [命题人:外部导入]\n",
    "题目描述\n",
    "\n",
    "给定n个正整数，根据各位数字之和从小到大进行排序。\n",
    "\n",
    "输入\n",
    "\n",
    "输入数据有多组，每组数据占一行，每行的第一个数正整数n，表示整数个数，后面接n个正整数。当n为0时，不作任何处理，输入结束。n<=10\n",
    "\n",
    "输出\n",
    "\n",
    "输出每组排序的结果。\n",
    "\n",
    "样例输入\n",
    "\n",
    "2 1 2\n",
    "\n",
    "3 121 10 111\n",
    "\n",
    "0\n",
    "\n",
    "样例输出\n",
    "\n",
    "1 2\n",
    "\n",
    "10 111 121"
   ]
  },
  {
   "cell_type": "code",
   "execution_count": 4,
   "metadata": {},
   "outputs": [
    {
     "name": "stdout",
     "output_type": "stream",
     "text": [
      "2 1 2\n",
      "1 2\n",
      "0\n"
     ]
    }
   ],
   "source": [
    "while True:\n",
    "    a = list(input().split())\n",
    "    if '0' in a:\n",
    "        break\n",
    "    else:\n",
    "        b = []\n",
    "        for i in a[1:]:\n",
    "            sum = 0\n",
    "            for j in i:\n",
    "                sum += int(j)\n",
    "            b.append(sum)\n",
    "\n",
    "        c = list(zip(b,a[1:]))\n",
    "        c.sort()\n",
    "        list2 = []\n",
    "        for i in c:\n",
    "            list2.append(i[1])\n",
    "        print(' '.join(list2))"
   ]
  },
  {
   "cell_type": "markdown",
   "metadata": {},
   "source": [
    "期末考试之排名次（一维数组）\n",
    "时间限制: 1 Sec  内存限制: 128 MB\n",
    "提交: 2  解决: 2\n",
    "[提交] [状态] [讨论版] [命题人:外部导入]\n",
    "题目描述\n",
    "\n",
    "期末考试结束了，童鞋们的成绩也出来的了，可是为了排名次可忙坏了老师，因为学生太多了。这时，老师把这个任务交给了你，希望你能帮老师完成。作为IT人，你当然不能用笨笨的人工方法了，编程解决才是好办法。\n",
    "共有三门课，语文、数学和英语，要求根据学生的各科成绩计算出其总成绩，并根据总成绩从高到低排序。\n",
    "\n",
    "输入\n",
    "\n",
    "第一行一个整数N（N<=100），代表学生的人数。\n",
    "接下来的N行数据，每行有三个整数，C,M,E分别代表一个学生语文、数学和英语的成绩。\n",
    "\n",
    "输出\n",
    "\n",
    "一共N行，每行一个数，从大到小，分别代表各个学生的总成绩。\n",
    "\n",
    "样例输入\n",
    "\n",
    "3\n",
    "\n",
    "70 80 90\n",
    "\n",
    "59 59 59\n",
    "\n",
    "100 100 100\n",
    "\n",
    "样例输出\n",
    "\n",
    "300\n",
    "\n",
    "240\n",
    "\n",
    "177"
   ]
  },
  {
   "cell_type": "code",
   "execution_count": 2,
   "metadata": {},
   "outputs": [
    {
     "name": "stdout",
     "output_type": "stream",
     "text": [
      "3\n",
      "70 80 90\n",
      "59 59 59\n",
      "100 100 100\n",
      "300\n",
      "240\n",
      "177\n"
     ]
    }
   ],
   "source": [
    "n = int(input())\n",
    "list2 = []\n",
    "for _ in range(n):\n",
    "    list1 = list(map(int,input().split()))\n",
    "    list2.append(sum(list1))\n",
    "list2.sort()\n",
    "for _ in list2[::-1]:\n",
    "    print(_)"
   ]
  },
  {
   "cell_type": "markdown",
   "metadata": {},
   "source": [
    "小鑫爱运动（一维数组）\n",
    "时间限制: 1 Sec  内存限制: 128 MB\n",
    "提交: 1  解决: 1\n",
    "[提交] [状态] [讨论版] [命题人:外部导入]\n",
    "题目描述\n",
    "\n",
    "小鑫非常喜欢运动，有一次小鑫去参加110米栏的比赛，一共有10名比赛选手，小鑫是1号，由于跑的太专注，最后冲线的时候不知道自己是第几名，只知道每个人最后的成绩，聪明的你可不可以帮帮他？\n",
    "\n",
    "输入\n",
    "\n",
    " 多组输入。  \n",
    "先输入一个10，\n",
    "然后每组输入10个整数，代表10个选手的110米栏成绩m，代表1号到N号的N个选手的成绩m,m范围是(0 < m < 100)。  \n",
    "\n",
    "\n",
    "输出\n",
    "\n",
    "输出只有一行，代表小鑫最后的名次是多少。 \n",
    " 因为小鑫长得丑，成绩相同时，他总是排在前面。 \n",
    "\n",
    "\n",
    "样例输入\n",
    "\n",
    "10\n",
    "\n",
    "2 5 3 9 7 10 23 12 43 5\n",
    "\n",
    "10\n",
    "\n",
    "6 1 7 9 3 4 8 3 2 9\n",
    "\n",
    "样例输出\n",
    "\n",
    "1 \n",
    "6 "
   ]
  },
  {
   "cell_type": "code",
   "execution_count": 4,
   "metadata": {},
   "outputs": [
    {
     "data": {
      "text/plain": [
       "2.5"
      ]
     },
     "execution_count": 4,
     "metadata": {},
     "output_type": "execute_result"
    }
   ],
   "source": [
    "import numpy as np\n",
    "nums = [1,2,3,3]\n",
    "\n",
    "np.median(nums)"
   ]
  },
  {
   "cell_type": "markdown",
   "metadata": {},
   "source": [
    "中位数（一维数组）\n",
    "时间限制: 1 Sec  内存限制: 128 MB\n",
    "提交: 1  解决: 1\n",
    "[提交] [状态] [讨论版] [命题人:外部导入]\n",
    "题目描述\n",
    "\n",
    "中位数是指在一组数据中，按数值大小排序后处于中间位置的数。例如：1, 5, 3 排序后为 1, 3, 5，则其中位数为 3。特别地，当数的个数 N 为偶数时，中位数取位置居中的两个数 (N/2 和 N/2+1) 的平均值，例如：1, 2, 3, 4，中位数为 (2+3)/2 = 2.5。 \n",
    "给定一组数，你能求出中位数吗？ \n",
    "\n",
    "\n",
    "输入\n",
    "\n",
    "输入数据有多组（数据组数不超过 100），到 EOF 结束。 \n",
    "对于每组数据： \n",
    "第 1 行输入一个整数 n (3 <= n <= 100)，表示数的个数。\n",
    "第 2 行输入 n 个用空格隔开的整数 Ai (0 <= Ai <= 1000)，依次表示每一个数，保证互不重复。\n",
    "\n",
    "输出\n",
    "\n",
    "对于每组数据，在一行中输出一个实数（保留 1 位小数），表示这组数据的中位数。\n",
    "\n",
    "样例输入\n",
    "\n",
    "3\n",
    "\n",
    "1 5 3\n",
    "\n",
    "4\n",
    "\n",
    "1 2 3 4\n",
    "\n",
    "样例输出\n",
    "\n",
    "3.0\n",
    "\n",
    "2.5\n"
   ]
  },
  {
   "cell_type": "code",
   "execution_count": null,
   "metadata": {},
   "outputs": [],
   "source": [
    "import numpy as np\n",
    "while True:\n",
    "    try:\n",
    "        _ = input()\n",
    "        nums = list(map(int,input().split()))\n",
    "    except EOFError:\n",
    "        break\n",
    "    else:       \n",
    "        print(np.median(nums))"
   ]
  },
  {
   "cell_type": "markdown",
   "metadata": {},
   "source": [
    "排序问题（一维数组）\n",
    "时间限制: 1 Sec  内存限制: 128 MB\n",
    "提交: 1  解决: 1\n",
    "[提交] [状态] [讨论版] [命题人:外部导入]\n",
    "题目描述\n",
    "\n",
    "输入10个整数，将它们从小到大排序后输出，并给出现在每个元素在原来序列中的位置。\n",
    "\n",
    "输入\n",
    "\n",
    "输入数据有一行，包含10个整数，用空格分开。\n",
    "\n",
    "输出\n",
    "\n",
    "输出数据有两行，第一行为排序后的序列，第二行为排序后各个元素在原来序列中的位置。\n",
    "\n",
    "样例输入\n",
    "\n",
    "1 2 3 5 4 6 8 9 10 7\n",
    "\n",
    "样例输出\n",
    "\n",
    "1 2 3 4 5 6 7 8 9 10\n",
    "\n",
    "1 2 3 5 4 6 10 7 8 9\n",
    "\n",
    "来源/分类\n",
    "\n",
    " "
   ]
  },
  {
   "cell_type": "code",
   "execution_count": 12,
   "metadata": {},
   "outputs": [
    {
     "name": "stdout",
     "output_type": "stream",
     "text": [
      "1 2 3 5 4 6 8 9 10 7\n",
      "1 2 3 4 5 6 7 8 9 10\n",
      "1 2 3 5 4 6 10 7 8 9\n"
     ]
    }
   ],
   "source": [
    "a = list(map(int,input().split()))\n",
    "place = list(range(1,11))\n",
    "sort_ = list(zip(a,place))\n",
    "sort_.sort()\n",
    "a = []\n",
    "place =[]\n",
    "for i in sort_:\n",
    "    a.append(i[0])\n",
    "    place.append(i[1])\n",
    "place = list(map(str,place))\n",
    "a = list(map(str,a))\n",
    "print(' '.join(a))\n",
    "print(' '.join(place))"
   ]
  },
  {
   "cell_type": "markdown",
   "metadata": {},
   "source": [
    "冒泡排序中数据交换的次数（一维数组）\n",
    "时间限制: 1 Sec  内存限制: 128 MB\n",
    "提交: 1  解决: 1\n",
    "[提交] [状态] [讨论版] [命题人:外部导入]\n",
    "题目描述\n",
    "\n",
    "听说过冒泡排序么？一种很暴力的排序方法。今天我们不希望你用它来排序，而是希望你能算出从小到大冒泡排序的过程中一共进行了多少次数据交换。\n",
    "\n",
    "输入\n",
    "\n",
    "输入数据的第一行为一个正整数 T ，表示有 T 组测试数据。\n",
    "接下来T行，每行第一个整数N, 然后有N个整数，无序。0<N <= 100\n",
    "\n",
    "输出\n",
    "\n",
    "输出共 T 行。\n",
    "每行一个整数，代表本行数据从小到大冒泡排序所进行的交换次数。\n",
    "\n",
    "样例输入\n",
    "\n",
    "3\n",
    "5 1 2 3 4 5\n",
    "4 5 3 7 1\n",
    "2 2 1\n",
    "\n",
    "样例输出\n",
    "\n",
    "0\n",
    "4\n",
    "1"
   ]
  },
  {
   "cell_type": "code",
   "execution_count": 2,
   "metadata": {},
   "outputs": [
    {
     "name": "stdout",
     "output_type": "stream",
     "text": [
      "3\n",
      "5 1 2 3 4 5\n",
      "0\n",
      "4 5 3 7 1\n",
      "4\n",
      "2 2 1\n",
      "1\n"
     ]
    }
   ],
   "source": [
    "line = int(input())\n",
    "for _ in range(line):\n",
    "    times = 0\n",
    "    a = list(map(int,input().split()))\n",
    "    a = a[1:]\n",
    "    for i in range(len(a)-1):\n",
    "        for j in range(len(a)-i-1):\n",
    "            if a[j]>=a[j+1]:\n",
    "                a[j],a[j+1] = a[j+1],a[j]\n",
    "                times += 1\n",
    "    print(times)"
   ]
  },
  {
   "cell_type": "markdown",
   "metadata": {},
   "source": [
    "   1-1\n",
    " 1 2 1-5\n",
    "1 2 3 2 1-9\n"
   ]
  },
  {
   "cell_type": "code",
   "execution_count": 19,
   "metadata": {
    "scrolled": true
   },
   "outputs": [
    {
     "name": "stdout",
     "output_type": "stream",
     "text": [
      "3\n",
      "         \n",
      "    1    \n",
      "  1 2 1  \n",
      "1 2 3 2 1\n"
     ]
    }
   ],
   "source": [
    "line = int(input())\n",
    "width = (line-1)*4+1\n",
    "for i in range(line+1):\n",
    "    s = ''\n",
    "    a = (' '.join(map(str,list(range(1,i+1)))))\n",
    "    s += a+a[-2::-1]\n",
    "    print(s.rstrip().center(width))"
   ]
  },
  {
   "cell_type": "markdown",
   "metadata": {},
   "source": [
    "C/C++经典程序训练6---歌德巴赫猜想的证明（自定义函数） \n",
    "时间限制: 1 Sec  内存限制: 128 MB\n",
    "提交: 4  解决: 2\n",
    "[提交] [状态] [讨论版] [命题人:外部导入]\n",
    "题目描述\n",
    "验证“每个不小于6的偶数都是两个素数之和”，输入一个不小于6的偶数n，找出两个素数，使它们的和为n。\n",
    "\n",
    "输入\n",
    "输入一个不小于6的偶数n。\n",
    "\n",
    "输出\n",
    "找出两个素数，使它们的和为n。只需要输出其中第一个素数最小的一组数据即可。\n",
    "\n",
    "样例输入\n",
    "80\n",
    "\n",
    "样例输出\n",
    "80=7+73\n",
    "\n",
    "来源/分类\n",
    " "
   ]
  },
  {
   "cell_type": "code",
   "execution_count": 22,
   "metadata": {},
   "outputs": [
    {
     "name": "stdout",
     "output_type": "stream",
     "text": [
      "80\n",
      "80=7+73\n"
     ]
    }
   ],
   "source": [
    "def prime_number(n):\n",
    "    i = 2\n",
    "    if n == 1:\n",
    "        return False\n",
    "    for i in range(2,n):\n",
    "        if n % i == 0:            \n",
    "            return False\n",
    "            break\n",
    "        i += 1\n",
    "    else:\n",
    "        return True\n",
    "n = int(input())\n",
    "for i in range(2,n+1):\n",
    "    p1 = i\n",
    "    p2 = n - i\n",
    "    if prime_number(p1) and prime_number(p2):\n",
    "        break\n",
    "print(str(n) + '='+ str(p1) + '+' + str(p2))"
   ]
  },
  {
   "cell_type": "markdown",
   "metadata": {},
   "source": [
    "X的旅游计划（字符串函数和字符数组）\n",
    "时间限制: 1 Sec  内存限制: 128 MB\n",
    "提交: 2  解决: 2\n",
    "[提交] [状态] [讨论版] [命题人:外部导入]\n",
    "题目描述\n",
    "\n",
    "X在最后的几周安心学习，考试有惊无险，so，X和女友就要计划一下放假后的时间了，来一场说走就走的旅行，这是两个人的一致想法，但是究竟去哪里玩，就要好好考虑一下了。 \n",
    "X和他的女友都有一些自己想去的地方，于是X想让大家帮他找一找两个人都想去的地方。 \n",
    "\n",
    "输入\n",
    "测试案例有多组，每个案例： \n",
    "第一行输入两个数n，m(n < 100 && m < 100)。X想要去的地方有n个，女友想要去的地方有m个。 \n",
    "之后n行，每行一个字符串（长度小于10）表示X想去的地名。 \n",
    "之后m行，每行一个字符串（长度小于10）表示女友想去的地名。 \n",
    "\n",
    "输出\n",
    "将在n中和在m中都出现过得字符串输出（字典序）。 \n",
    "如果没有相同的字符串,输出”sad!”(不含引号)。 \n",
    "\n",
    "样例输入\n",
    "2 2\n",
    "\n",
    "aaa\n",
    "\n",
    "bbb\n",
    "\n",
    "aaa\n",
    "\n",
    "bbb\n",
    "\n",
    "样例输出\n",
    "aaa\n",
    "\n",
    "bbb\n",
    "\n",
    "来源/分类"
   ]
  },
  {
   "cell_type": "code",
   "execution_count": 25,
   "metadata": {},
   "outputs": [
    {
     "name": "stdout",
     "output_type": "stream",
     "text": [
      "1 2\n",
      "3\n",
      "5\n",
      "8\n",
      "sad!\n"
     ]
    }
   ],
   "source": [
    "mn = list(map(int,input().split()))\n",
    "m = mn[0]\n",
    "n = mn[1]\n",
    "a = []\n",
    "b = []\n",
    "for i in range(m):\n",
    "    a.append(input())\n",
    "for j in range(n):\n",
    "    b.append(input())\n",
    "intersection = (set(a)&set(b))\n",
    "if intersection:\n",
    "    for i in intersection:\n",
    "        print(i)\n",
    "else:\n",
    "    print('sad!')"
   ]
  },
  {
   "cell_type": "markdown",
   "metadata": {},
   "source": [
    "鞍点计算（二维数组）\n",
    "时间限制: 1 Sec  内存限制: 128 MB\n",
    "提交: 1  解决: 1\n",
    "[提交] [状态] [讨论版] [命题人:]\n",
    "题目描述\n",
    "\n",
    "找出具有m行n列二维数组Array的“鞍点”，即该位置上的元素在该行上最大，在该列上最小，其中1<=m,n<=10。同一行和同一列没有相同的数。\n",
    "\n",
    "输入\n",
    "\n",
    "输入数据有多行，第一行有两个数m和n，下面有m行，每行有n个数。\n",
    "\n",
    "输出\n",
    "\n",
    "按下列格式输出鞍点：\n",
    "\n",
    "Array[i][j]=x\n",
    "\n",
    "其中，x代表鞍点，i和j为鞍点所在的数组行和列下标，我们规定数组下标从0开始。\n",
    "\n",
    "一个二维数组并不一定存在鞍点，此时请输出None。\n",
    " \n",
    "我们保证不会出现两个鞍点的情况，比如：\n",
    " \n",
    "3 3\n",
    "\n",
    "1 2 3\n",
    "\n",
    "1 2 3\n",
    "\n",
    "3 6 8\n",
    "\n",
    "样例输入\n",
    "\n",
    "3 3\n",
    "\n",
    "1 2 3\n",
    "\n",
    "4 5 6\n",
    "\n",
    "7 8 9\n",
    "\n",
    "样例输出\n",
    "\n",
    "Array[0][2]=3"
   ]
  },
  {
   "cell_type": "code",
   "execution_count": 43,
   "metadata": {
    "scrolled": true
   },
   "outputs": [
    {
     "data": {
      "text/plain": [
       "[12, 22]"
      ]
     },
     "execution_count": 43,
     "metadata": {},
     "output_type": "execute_result"
    }
   ],
   "source": [
    "# 选定一列 1.0\n",
    "a = [[11,12],[21,22]]\n",
    "[a[_][1] for _ in range(len(a))]"
   ]
  },
  {
   "cell_type": "code",
   "execution_count": 40,
   "metadata": {},
   "outputs": [
    {
     "name": "stdout",
     "output_type": "stream",
     "text": [
      "3 3\n",
      "1 2 3\n",
      "4 5 6\n",
      "7 8 9\n",
      "Array[0][2]=3\n"
     ]
    }
   ],
   "source": [
    "array = []\n",
    "line, row = list(map(int,input().split()))\n",
    "for i in range(line):\n",
    "    array.append(list(map(int,input().split())))\n",
    "for i in range(line):\n",
    "    for j in range(row):\n",
    "        if array[i][j] == max(array[i]) and array[i][j] == min([array[_][j]for _ in range(line)]):\n",
    "            print('Array[%d][%d]=%d'%(i,j,array[i][j]))\n",
    "            a = True\n",
    "            break    \n",
    "    if a:\n",
    "        break\n",
    "else:\n",
    "    print('None')"
   ]
  },
  {
   "cell_type": "code",
   "execution_count": 35,
   "metadata": {},
   "outputs": [
    {
     "data": {
      "text/plain": [
       "[3, 6, 9]"
      ]
     },
     "execution_count": 35,
     "metadata": {},
     "output_type": "execute_result"
    }
   ],
   "source": [
    "line = 3\n",
    "row = 3\n",
    "array = [[1,2,3],[4,5,6],[7,8,9]]\n",
    "i,j = 0,2\n",
    "[array[_][j]for _ in range(line)]"
   ]
  },
  {
   "cell_type": "markdown",
   "metadata": {},
   "source": [
    "统计元音（字符数组）\n",
    "时间限制: 1 Sec  内存限制: 128 MB\n",
    "提交: 3  解决: 2\n",
    "[提交] [状态] [讨论版] [命题人:外部导入]\n",
    "题目描述\n",
    "\n",
    "统计每个元音字母在字符串中出现的次数。\n",
    "\n",
    "输入\n",
    "\n",
    "输入数据首先包括一个整数n，表示测试实例的个数，然后是n行长度不超过100的字符串。\n",
    "\n",
    "输出\n",
    "\n",
    "对于每个测试实例输出5行，格式如下：\n",
    "\n",
    "a:num1\n",
    "e:num2\n",
    "i:num3\n",
    "o:num4\n",
    "u:num5\n",
    "\n",
    "多个测试实例之间由一个空行隔开。\n",
    "\n",
    "样例输入\n",
    "\n",
    "- 2\n",
    "- aeiou\n",
    "- my name is ignatius\n",
    "\n",
    "样例输出\n",
    "\n",
    "- a:1\n",
    "- e:1\n",
    "- i:1\n",
    "- o:1\n",
    "- u:1\n",
    "\n",
    "- a:2\n",
    "- e:1\n",
    "- i:3\n",
    "- o:0\n",
    "- u:1\n"
   ]
  },
  {
   "cell_type": "code",
   "execution_count": 46,
   "metadata": {},
   "outputs": [
    {
     "data": {
      "text/plain": [
       "{'a': 2, 'b': 1}"
      ]
     },
     "execution_count": 46,
     "metadata": {},
     "output_type": "execute_result"
    }
   ],
   "source": [
    "d ={'a':1,'b':1}\n",
    "d['a'] +=1\n",
    "d"
   ]
  },
  {
   "cell_type": "code",
   "execution_count": 55,
   "metadata": {},
   "outputs": [
    {
     "name": "stdout",
     "output_type": "stream",
     "text": [
      "1\n",
      "AEIOU\n",
      "a:1\n",
      "e:1\n",
      "i:1\n",
      "o:1\n",
      "u:1\n",
      "\n"
     ]
    }
   ],
   "source": [
    "count = int(input())\n",
    "for _ in range(count):    \n",
    "    vowel ={'a':0, 'e':0, 'i':0 ,'o':0, 'u':0}\n",
    "    s = input()\n",
    "    for i in s:\n",
    "        try:\n",
    "            vowel[i.lower()] +=1\n",
    "        except:\n",
    "            pass\n",
    "    # for k,v in vowel\n",
    "    for k,v in vowel.items():\n",
    "        print(k+':'+str(v))\n",
    "    print('')"
   ]
  },
  {
   "cell_type": "code",
   "execution_count": 56,
   "metadata": {},
   "outputs": [
    {
     "data": {
      "text/plain": [
       "dict_items([('a', 1), ('b', 2)])"
      ]
     },
     "execution_count": 56,
     "metadata": {},
     "output_type": "execute_result"
    }
   ],
   "source": [
    "d = {'a':1, 'b':2}\n",
    "d.items()"
   ]
  },
  {
   "cell_type": "markdown",
   "metadata": {},
   "source": [
    "最值（一维数组）\n",
    "时间限制: 1 Sec  内存限制: 12 MB\n",
    "提交: 32  解决: 22\n",
    "[提交] [状态] [讨论版] [命题人:外部导入]\n",
    "题目描述\n",
    "\n",
    "有一个长度为n的整数序列，其中最大值和最小值不会出现在序列的第一和最后一个位置。 请写一个程序，把序列中的最小值与第一个数交换，最大值与最后一个数交换。输出转换好的序列。\n",
    "\n",
    "输入\n",
    "\n",
    "输入包括两行。 第一行为正整数n（1≤n≤10）。 第二行为n个正整数组成的序列。\n",
    "\n",
    "输出\n",
    "\n",
    "输出转换好的序列。数据之间用空格隔开。\n",
    "\n",
    "样例输入\n",
    "\n",
    "5\n",
    "\n",
    "2 1 5 4 3\n",
    "\n",
    "样例输出\n",
    "\n",
    "1 2 3 4 5\n",
    "\n",
    "提示\n",
    "\n",
    " \n"
   ]
  },
  {
   "cell_type": "code",
   "execution_count": 62,
   "metadata": {},
   "outputs": [
    {
     "name": "stdout",
     "output_type": "stream",
     "text": [
      "5\n",
      "2 1 5 4 3\n",
      "1 2 3 4 5\n"
     ]
    }
   ],
   "source": [
    "n = input()\n",
    "l= list(input().split())\n",
    "a = l.index(max(l))\n",
    "b = l.index(min(l))\n",
    "l[a],l[-1] = l[-1],l[a]\n",
    "l[b] ,l[0] = l[0], l[b]\n",
    "print(' '.join(l))"
   ]
  },
  {
   "cell_type": "code",
   "execution_count": 57,
   "metadata": {},
   "outputs": [
    {
     "data": {
      "text/plain": [
       "'2'"
      ]
     },
     "execution_count": 57,
     "metadata": {},
     "output_type": "execute_result"
    }
   ],
   "source": [
    "max(['1', '2'])"
   ]
  },
  {
   "cell_type": "code",
   "execution_count": null,
   "metadata": {},
   "outputs": [],
   "source": []
  }
 ],
 "metadata": {
  "kernelspec": {
   "display_name": "Python 3",
   "language": "python",
   "name": "python3"
  },
  "language_info": {
   "codemirror_mode": {
    "name": "ipython",
    "version": 3
   },
   "file_extension": ".py",
   "mimetype": "text/x-python",
   "name": "python",
   "nbconvert_exporter": "python",
   "pygments_lexer": "ipython3",
   "version": "3.6.5"
  }
 },
 "nbformat": 4,
 "nbformat_minor": 2
}
