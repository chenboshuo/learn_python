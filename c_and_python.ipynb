{
 "cells": [
  {
   "cell_type": "markdown",
   "metadata": {},
   "source": [
    "# <center>c_and_python</center> "
   ]
  },
  {
   "cell_type": "markdown",
   "metadata": {},
   "source": [
    "## python 变量"
   ]
  },
  {
   "cell_type": "code",
   "execution_count": 2,
   "metadata": {},
   "outputs": [
    {
     "name": "stdout",
     "output_type": "stream",
     "text": [
      "0\n"
     ]
    }
   ],
   "source": [
    "def f(a):\n",
    "    a = a + 4\n",
    "g = 0\n",
    "f(g)\n",
    "print(g)"
   ]
  },
  {
   "cell_type": "markdown",
   "metadata": {},
   "source": [
    "在这里,g传递给f时,相当于函数中的参数也作为标签贴在0上,然后a+=4,相当于从0撕下标签a到4上,然后g依然是0"
   ]
  },
  {
   "cell_type": "markdown",
   "metadata": {},
   "source": [
    "# 1.switch 的python实现"
   ]
  },
  {
   "cell_type": "markdown",
   "metadata": {},
   "source": [
    "## 1.多次使用if-else"
   ]
  },
  {
   "cell_type": "code",
   "execution_count": 14,
   "metadata": {},
   "outputs": [
    {
     "name": "stdout",
     "output_type": "stream",
     "text": [
      "4\n"
     ]
    }
   ],
   "source": [
    "something = 'something'\n",
    "\n",
    "if something == 'this':\n",
    "    the_thing = 1\n",
    "elif something == 'that':\n",
    "    the_thing = 2\n",
    "elif something == 'there':\n",
    "    the_thing = 3\n",
    "else:\n",
    "    the_thing = 4\n",
    "print(the_thing)"
   ]
  },
  {
   "cell_type": "markdown",
   "metadata": {},
   "source": [
    "## 2.用get设置默认值的字典提取"
   ]
  },
  {
   "cell_type": "code",
   "execution_count": 16,
   "metadata": {},
   "outputs": [
    {
     "name": "stdout",
     "output_type": "stream",
     "text": [
      "there\n",
      "3\n"
     ]
    }
   ],
   "source": [
    "something = input()\n",
    "options = {'this': 1, 'that':2 , 'there': 3}\n",
    "the_thing = options.get(something, 4)\n",
    "print(the_thing)"
   ]
  },
  {
   "cell_type": "code",
   "execution_count": null,
   "metadata": {},
   "outputs": [],
   "source": []
  },
  {
   "cell_type": "markdown",
   "metadata": {},
   "source": [
    "## 3.利用if-else配合不设默认值的字典提取"
   ]
  },
  {
   "cell_type": "code",
   "execution_count": 17,
   "metadata": {},
   "outputs": [
    {
     "name": "stdout",
     "output_type": "stream",
     "text": [
      "a\n",
      "4\n"
     ]
    }
   ],
   "source": [
    "something = input()\n",
    "options = {'this': 1, 'that': 2, 'there': 3}\n",
    "if something in options:\n",
    "    the_thing = options[something]\n",
    "else:\n",
    "    the_thing = 4\n",
    "print(the_thing)"
   ]
  },
  {
   "cell_type": "markdown",
   "metadata": {},
   "source": [
    "## 4.用collections模块设置默认值进行字典提取"
   ]
  },
  {
   "cell_type": "code",
   "execution_count": 18,
   "metadata": {},
   "outputs": [
    {
     "name": "stdout",
     "output_type": "stream",
     "text": [
      "that\n",
      "2\n"
     ]
    }
   ],
   "source": [
    "from collections import defaultdict\n",
    "something = input()\n",
    "default_options = defaultdict(lambda: 4, {'this': 1, 'that': 2, 'there': 3})\n",
    "the_thing = default_options[something]\n",
    "print(the_thing)"
   ]
  },
  {
   "cell_type": "markdown",
   "metadata": {},
   "source": [
    "## 速度比较"
   ]
  },
  {
   "cell_type": "markdown",
   "metadata": {},
   "source": [
    "1.四种方法之间的对比，后两种方法明显比前两种方法快，且最后一种方法总是最快的。\n",
    "\n",
    "2.待判断内容是否在字典中设置的对比\n",
    "\n",
    "第一种全程if-else判断的情况下，早判断出来程序就会早结束，所以if-else判断的内容顺序是有讲究的\n",
    "而从字典里提取则没有看出显著的不同\n",
    "由于使用collections模块中的defaultdict虽然最快，但是会占用较多内存，所以最推荐的是第三种方法，使用if-else配合无默认字典提取方法。"
   ]
  },
  {
   "cell_type": "markdown",
   "metadata": {},
   "source": [
    "## python中输入多个数字"
   ]
  },
  {
   "cell_type": "markdown",
   "metadata": {},
   "source": [
    "### 基础方法    "
   ]
  },
  {
   "cell_type": "code",
   "execution_count": 6,
   "metadata": {},
   "outputs": [
    {
     "name": "stdout",
     "output_type": "stream",
     "text": [
      "请输入数值,用空格隔开1 2 4 5\n",
      "[1, 2, 4, 5]\n"
     ]
    }
   ],
   "source": [
    "list1 = [] # 定义一个空字符串\n",
    "str1 = input('请输入数值,用空格隔开')\n",
    "list2 = str1.split(' ')# list2用来存储输入字符串,用空格分隔\n",
    "\n",
    "\n",
    "while list2:\n",
    "    list1.append(int(list2.pop()))\n",
    "    \n",
    "list1.reverse()\n",
    "print(list1)"
   ]
  },
  {
   "cell_type": "markdown",
   "metadata": {},
   "source": [
    "## map()函数\n",
    "map() 会根据提供的函数对指定序列做映射。\n",
    "\n",
    "第一个参数 function 以参数序列中的每一个元素调用 function 函数，返回包含每次 function 函数返回值的新列表。"
   ]
  },
  {
   "cell_type": "code",
   "execution_count": 15,
   "metadata": {},
   "outputs": [
    {
     "name": "stdout",
     "output_type": "stream",
     "text": [
      "[1, 4, 9, 16, 25]\n",
      "[1, 4, 9, 16, 25]\n",
      "[3, 7, 11]\n"
     ]
    }
   ],
   "source": [
    "# 计算平方数\n",
    "def square(x):\n",
    "    return x ** 2\n",
    "print(list(map(square,[1,2,3,4,5])))\n",
    "print(list(map(lambda x:x**2,[1, 2, 3, 4, 5])))\n",
    "\n",
    "# 提供两个列表,对相同位置数据相加\n",
    "print(list(map(lambda x, y:x+y,[1,3,5],[2,4,6])))"
   ]
  },
  {
   "cell_type": "code",
   "execution_count": 19,
   "metadata": {},
   "outputs": [
    {
     "name": "stdout",
     "output_type": "stream",
     "text": [
      "1 2 3\n",
      "[1, 2, 3]\n"
     ]
    }
   ],
   "source": [
    "# 一行实现输出多个数字\n",
    "print(list(map(int, input().split())))"
   ]
  },
  {
   "cell_type": "code",
   "execution_count": 20,
   "metadata": {},
   "outputs": [
    {
     "name": "stdout",
     "output_type": "stream",
     "text": [
      "123\n",
      "[123]\n"
     ]
    }
   ],
   "source": [
    "print(list(map(int, input().split())))"
   ]
  },
  {
   "cell_type": "markdown",
   "metadata": {},
   "source": [
    "## 除法"
   ]
  },
  {
   "cell_type": "code",
   "execution_count": 1,
   "metadata": {},
   "outputs": [
    {
     "data": {
      "text/plain": [
       "2.5"
      ]
     },
     "execution_count": 1,
     "metadata": {},
     "output_type": "execute_result"
    }
   ],
   "source": [
    "5/2"
   ]
  },
  {
   "cell_type": "code",
   "execution_count": 2,
   "metadata": {},
   "outputs": [
    {
     "data": {
      "text/plain": [
       "2"
      ]
     },
     "execution_count": 2,
     "metadata": {},
     "output_type": "execute_result"
    }
   ],
   "source": [
    "5//2"
   ]
  },
  {
   "cell_type": "markdown",
   "metadata": {},
   "source": [
    "## 其他"
   ]
  },
  {
   "cell_type": "markdown",
   "metadata": {},
   "source": [
    "### pyhton 没有EOF"
   ]
  },
  {
   "cell_type": "code",
   "execution_count": 1,
   "metadata": {},
   "outputs": [
    {
     "name": "stdout",
     "output_type": "stream",
     "text": [
      "123\n"
     ]
    },
    {
     "ename": "NameError",
     "evalue": "name 'EOF' is not defined",
     "output_type": "error",
     "traceback": [
      "\u001b[1;31m---------------------------------------------------------------------------\u001b[0m",
      "\u001b[1;31mNameError\u001b[0m                                 Traceback (most recent call last)",
      "\u001b[1;32m<ipython-input-1-255962570bc2>\u001b[0m in \u001b[0;36m<module>\u001b[1;34m()\u001b[0m\n\u001b[0;32m      1\u001b[0m \u001b[0ma\u001b[0m \u001b[1;33m=\u001b[0m \u001b[0minput\u001b[0m\u001b[1;33m(\u001b[0m\u001b[1;33m)\u001b[0m\u001b[1;33m\u001b[0m\u001b[0m\n\u001b[1;32m----> 2\u001b[1;33m \u001b[1;32mwhile\u001b[0m \u001b[0ma\u001b[0m \u001b[1;33m!=\u001b[0m \u001b[0mEOF\u001b[0m\u001b[1;33m:\u001b[0m\u001b[1;33m\u001b[0m\u001b[0m\n\u001b[0m\u001b[0;32m      3\u001b[0m     \u001b[0mprint\u001b[0m\u001b[1;33m(\u001b[0m\u001b[0ma\u001b[0m\u001b[1;33m)\u001b[0m\u001b[1;33m\u001b[0m\u001b[0m\n",
      "\u001b[1;31mNameError\u001b[0m: name 'EOF' is not defined"
     ]
    }
   ],
   "source": [
    "a = input()\n",
    "while a != EOF:\n",
    "    print(a)"
   ]
  },
  {
   "cell_type": "code",
   "execution_count": null,
   "metadata": {},
   "outputs": [],
   "source": [
    "# EOF 可以用try实现\n",
    "while True:\n",
    "    try:\n",
    "        a = input()\n",
    "    except EORError:\n",
    "        print('EOF')"
   ]
  }
 ],
 "metadata": {
  "kernelspec": {
   "display_name": "Python 3",
   "language": "python",
   "name": "python3"
  },
  "language_info": {
   "codemirror_mode": {
    "name": "ipython",
    "version": 3
   },
   "file_extension": ".py",
   "mimetype": "text/x-python",
   "name": "python",
   "nbconvert_exporter": "python",
   "pygments_lexer": "ipython3",
   "version": "3.6.5"
  }
 },
 "nbformat": 4,
 "nbformat_minor": 2
}
