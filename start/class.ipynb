{
 "cells": [
  {
   "cell_type": "markdown",
   "metadata": {},
   "source": [
    "# 9 类"
   ]
  },
  {
   "cell_type": "markdown",
   "metadata": {},
   "source": [
    "## 9.1 创建和使用类"
   ]
  },
  {
   "cell_type": "code",
   "execution_count": 3,
   "metadata": {},
   "outputs": [
    {
     "name": "stdout",
     "output_type": "stream",
     "text": [
      "my dog's name is While.\n",
      "my dog is 6 years old.\n",
      "While is now sitting.\n",
      "While rolled over\n",
      "Lucy is now sitting.\n"
     ]
    }
   ],
   "source": [
    "class Dog(): # 根据约定,首字母大写为类\n",
    "    '''一次模拟小狗的的简单尝试'''\n",
    "\n",
    "    def __init__(self, name, age):\n",
    "        '''初始化属性name和age'''\n",
    "        self.name = name\n",
    "        self.age = age\n",
    "\n",
    "    def sit(self):\n",
    "        '''模拟小狗被命令时蹲下'''\n",
    "        print(self.name.title(),'is now sitting.')\n",
    "        \n",
    "    def roll_over(self):\n",
    "        '''模拟小狗被命令打滚'''\n",
    "        print(self.name.title(),'rolled over')\n",
    "\n",
    "my_dog = Dog('while',6)\n",
    "print(\"my dog's name is\",my_dog.name.title()+'.')\n",
    "print('my dog is',str(my_dog.age),'years old.')\n",
    "my_dog.sit()\n",
    "my_dog.roll_over()\n",
    "your_dog = Dog('lucy',3)\n",
    "your_dog.sit()"
   ]
  },
  {
   "cell_type": "markdown",
   "metadata": {},
   "source": [
    "'__init()__'是个特殊的方法,当你根据Dog类创建实例时,python都会自动运行它\n",
    "\n",
    "这里self包含三个形参,self,name,age.形参self必不可少,必须位于其他形参前面.python调用__init__()的方法创建Dog类时,将自动传入实参self, 每个与类相关联的方法调用都自动传递实参self,它是一个指向实例本身的引用,让实例能访问类中的属性和方法.我们创建Dog实例时,python调用Dog类的方法__init__()方法,通过实参Dog()传递名字和年龄;self将自动传递,我们不需要传递它.\n",
    "\n",
    " '__init()__'中的变量都有前缀self,以self为前缀的变量可以供类中所有方法调用,我们还可以通过类的任何实例访问这些变量"
   ]
  },
  {
   "cell_type": "markdown",
   "metadata": {},
   "source": [
    "### 9.1.1 根据类创建实例"
   ]
  },
  {
   "cell_type": "markdown",
   "metadata": {},
   "source": [
    "#### 1.访问属性"
   ]
  },
  {
   "cell_type": "markdown",
   "metadata": {},
   "source": [
    "访问实例的属性,用句点表示法\n",
    "- my_dog.name"
   ]
  },
  {
   "cell_type": "markdown",
   "metadata": {},
   "source": [
    "#### 2.调用方法"
   ]
  },
  {
   "cell_type": "markdown",
   "metadata": {},
   "source": [
    "点名实例名称和调用方法,用句点分隔\n",
    "\n",
    "my_dog.set()"
   ]
  },
  {
   "cell_type": "markdown",
   "metadata": {},
   "source": [
    "### 9.1.2 给属性指定默认值"
   ]
  },
  {
   "cell_type": "code",
   "execution_count": 16,
   "metadata": {},
   "outputs": [
    {
     "name": "stdout",
     "output_type": "stream",
     "text": [
      "2016 Audi A4\n",
      "this car has 100 miles on it\n",
      "you can't roll back an odometer\n",
      "this car has 100 miles on it\n"
     ]
    }
   ],
   "source": [
    "class Car():\n",
    "    '''一次模拟汽车的简单尝试'''\n",
    "\n",
    "    def __init__(self,make,model,year):\n",
    "        '''初始化汽车的属性'''\n",
    "        self.make = make\n",
    "        self.model = model\n",
    "        self.year = year\n",
    "        self.odometer_reading = 0   ###### 1 ########\n",
    "        # odom 里程表\n",
    "\n",
    "    def get_descriptive_name(self):\n",
    "        '''返回整洁的描述性信息'''\n",
    "        long_name = str(self.year)+' ' + self.make +' '+self.model\n",
    "        return long_name.title()\n",
    "    def read_odometer(self):\n",
    "        '''打印一条汽车里程的消息'''\n",
    "        print('this car has',str(self.odometer_reading),'miles on it')\n",
    "    def update_odometer(self,mileage):\n",
    "        '''\n",
    "        将里程表读数改为指定值\n",
    "        禁止里程表往回调\n",
    "        '''\n",
    "        if mileage >= self.odometer_reading:\n",
    "            self.odometer_reading = mileage\n",
    "        else:\n",
    "            print('you can\\'t roll back an odometer')\n",
    "    def increment_odometer(self,miles):\n",
    "        '''将里程表读数增加指定量'''\n",
    "        if miles >= 0:\n",
    "            self.odometer_reading += miles\n",
    "        else:\n",
    "            print('you can\\'t roll back an odometer')\n",
    "    def fill_gas_tank(self):\n",
    "        print('done')\n",
    "\n",
    "my_new_car = Car('audi','a4',2016)\n",
    "print(my_new_car.get_descriptive_name())\n",
    "\n",
    "\n",
    "my_new_car.increment_odometer(100)\n",
    "my_new_car.read_odometer()\n",
    "my_new_car.increment_odometer(-5)\n",
    "my_new_car.read_odometer()"
   ]
  },
  {
   "cell_type": "markdown",
   "metadata": {},
   "source": [
    "在1处初始化里程表的里程数为0"
   ]
  },
  {
   "cell_type": "markdown",
   "metadata": {},
   "source": [
    "### 9.1.3 修改属性的值"
   ]
  },
  {
   "cell_type": "markdown",
   "metadata": {},
   "source": [
    "#### 1.直接修改属性的值"
   ]
  },
  {
   "cell_type": "code",
   "execution_count": 17,
   "metadata": {},
   "outputs": [
    {
     "name": "stdout",
     "output_type": "stream",
     "text": [
      "this car has 23 miles on it\n"
     ]
    }
   ],
   "source": [
    "my_new_car.odometer_reading = 23       \n",
    "my_new_car.read_odometer()"
   ]
  },
  {
   "cell_type": "markdown",
   "metadata": {},
   "source": [
    "可以用句点表示法设置属性的值"
   ]
  },
  {
   "cell_type": "markdown",
   "metadata": {},
   "source": [
    "#### 2.通过方法修改属性的值"
   ]
  },
  {
   "cell_type": "code",
   "execution_count": 18,
   "metadata": {},
   "outputs": [
    {
     "name": "stdout",
     "output_type": "stream",
     "text": [
      "this car has 25 miles on it\n",
      "you can't roll back an odometer\n",
      "this car has 25 miles on it\n",
      "this car has 120 miles on it\n"
     ]
    }
   ],
   "source": [
    "my_new_car.update_odometer(25)\n",
    "my_new_car.read_odometer()\n",
    "my_new_car.update_odometer(2)\n",
    "my_new_car.read_odometer()\n",
    "my_new_car.update_odometer(120)\n",
    "my_new_car.read_odometer()"
   ]
  },
  {
   "cell_type": "markdown",
   "metadata": {},
   "source": [
    "## 9.2 继承\n",
    "一个类继承另一个类的时候,自动获取原来类的属性和方法,原来的类称为父类,新的类成为子类,子类继承所有属性和方法,同时定义自己的属性和方法"
   ]
  },
  {
   "cell_type": "code",
   "execution_count": 19,
   "metadata": {},
   "outputs": [
    {
     "name": "stdout",
     "output_type": "stream",
     "text": [
      "2016 Tesla Model S\n"
     ]
    }
   ],
   "source": [
    "class ElectricCar(Car):\n",
    "    '''电动车的独到之处'''\n",
    "\n",
    "    def __init__(self,make,model,year):\n",
    "        '''\n",
    "        初始化父类的属性,在初始化电动汽车的特有属性\n",
    "        '''\n",
    "        super().__init__(make,model,year)\n",
    "        \n",
    "\n",
    "\n",
    "my_tesla = ElectricCar('tesla','model s',2016)\n",
    "print(my_tesla.get_descriptive_name())"
   ]
  },
  {
   "cell_type": "markdown",
   "metadata": {},
   "source": [
    "- 定义子类时,父类必须包含在括号中\n",
    "\n",
    "super()是个特殊函数,帮助python将父类和子类关联起来, 这行代码让python调用父类的__init__(),让子类包含父类的所有属性,父类也被称为超类(superclass),所以函数名为super"
   ]
  },
  {
   "cell_type": "markdown",
   "metadata": {},
   "source": [
    "### 9.2.1 重写父类的方法"
   ]
  },
  {
   "cell_type": "code",
   "execution_count": 21,
   "metadata": {},
   "outputs": [
    {
     "name": "stdout",
     "output_type": "stream",
     "text": [
      "this car doesn't need a gas tank\n"
     ]
    }
   ],
   "source": [
    "class ElectricCar(Car):\n",
    "    '''电动车的独到之处'''\n",
    "\n",
    "    def __init__(self,make,model,year):\n",
    "        '''\n",
    "        初始化父类的属性,在初始化电动汽车的特有属性\n",
    "        '''\n",
    "        super().__init__(make,model,year)\n",
    "        \n",
    "    \n",
    "    def fill_gas_tank(self):\n",
    "        '''电动车没有油箱'''\n",
    "        print('this car doesn\\'t need a gas tank')\n",
    "\n",
    "\n",
    "my_tesla = ElectricCar('tesla','model s',2016)\n",
    "my_tesla.fill_gas_tank()       "
   ]
  },
  {
   "cell_type": "code",
   "execution_count": null,
   "metadata": {},
   "outputs": [],
   "source": []
  }
 ],
 "metadata": {
  "kernelspec": {
   "display_name": "Python 3",
   "language": "python",
   "name": "python3"
  },
  "language_info": {
   "codemirror_mode": {
    "name": "ipython",
    "version": 3
   },
   "file_extension": ".py",
   "mimetype": "text/x-python",
   "name": "python",
   "nbconvert_exporter": "python",
   "pygments_lexer": "ipython3",
   "version": "3.6.5"
  }
 },
 "nbformat": 4,
 "nbformat_minor": 2
}
