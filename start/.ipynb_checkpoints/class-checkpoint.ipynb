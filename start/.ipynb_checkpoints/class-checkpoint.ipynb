{
 "cells": [
  {
   "cell_type": "markdown",
   "metadata": {},
   "source": [
    "# 9 类"
   ]
  },
  {
   "cell_type": "markdown",
   "metadata": {},
   "source": [
    "## 9.1 创建和使用类"
   ]
  },
  {
   "cell_type": "code",
   "execution_count": null,
   "metadata": {},
   "outputs": [],
   "source": [
    "class Dog(): # 根据约定,首字母大写为类\n",
    "    '''一次模拟小狗的的简单尝试'''\n",
    "\n",
    "    def __init__(self, name, age):\n",
    "        '''初始化属性name和age'''\n",
    "        self.name = name\n",
    "        self.age = age\n",
    "\n",
    "    def sit(self):\n",
    "        '''模拟小狗被命令时蹲下'''\n",
    "        print(self.name.title(),'is now sitting.')\n",
    "        \n",
    "    def roll_over(self):\n",
    "        '''模拟小狗被命令打滚'''\n",
    "        print(self.name.title(),'rolled over')\n",
    "\n",
    "my_dog = Dog('while',6)\n",
    "print(\"my dog's name is\",my_dog.name.title()+'.')\n",
    "print('my dog is',str(my_dog.age),'years old.')\n",
    "my_dog.sit()\n",
    "my_dog.roll_over()\n",
    "your_dog = Dog('lucy',3)\n",
    "your_dog.sit()"
   ]
  }
 ],
 "metadata": {
  "kernelspec": {
   "display_name": "Python 3",
   "language": "python",
   "name": "python3"
  },
  "language_info": {
   "codemirror_mode": {
    "name": "ipython",
    "version": 3
   },
   "file_extension": ".py",
   "mimetype": "text/x-python",
   "name": "python",
   "nbconvert_exporter": "python",
   "pygments_lexer": "ipython3",
   "version": "3.6.5"
  }
 },
 "nbformat": 4,
 "nbformat_minor": 2
}
