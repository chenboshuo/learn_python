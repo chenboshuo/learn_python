{
 "cells": [
  {
   "cell_type": "markdown",
   "metadata": {},
   "source": [
    "#  类"
   ]
  },
  {
   "cell_type": "markdown",
   "metadata": {
    "toc-hr-collapsed": true,
    "toc-nb-collapsed": true
   },
   "source": [
    "## 创建和使用类"
   ]
  },
  {
   "cell_type": "code",
   "execution_count": null,
   "metadata": {
    "ExecuteTime": {
     "start_time": "2020-02-07T05:04:24.026Z"
    },
    "scrolled": true
   },
   "outputs": [],
   "source": [
    "class Dog(): # 根据约定,首字母大写为类\n",
    "    '''一次模拟小狗的的简单尝试'''\n",
    "\n",
    "    def __init__(self, name, age):\n",
    "        '''初始化属性name和age'''\n",
    "        self._name = name\n",
    "        self._age = age\n",
    "\n",
    "    def sit(self):\n",
    "        '''模拟小狗被命令时蹲下'''\n",
    "        print(self._name.title(),'is now sitting.')\n",
    "        \n",
    "    def roll_over(self):\n",
    "        '''模拟小狗被命令打滚'''\n",
    "        print(self._name.title(),'rolled over')\n",
    "\n",
    "my_dog = Dog('while',6)\n",
    "print(\"my dog's name is\",my_dog._name.title()+'.')\n",
    "print('my dog is',str(my_dog._age),'years old.')\n",
    "my_dog.sit()\n",
    "my_dog.roll_over()\n",
    "your_dog = Dog('lucy',3)\n",
    "your_dog.sit()"
   ]
  },
  {
   "cell_type": "markdown",
   "metadata": {},
   "source": [
    "`__init()__`是个特殊的方法,当你根据Dog类创建实例时,python都会自动运行它\n",
    "\n",
    "这里self包含三个形参,self,name,age.形参self必不可少,必须位于其他形参前面.python调用__init__()的方法创建Dog类时,将自动传入实参self, 每个与类相关联的方法调用都自动传递实参self,它是一个指向实例本身的引用,让实例能访问类中的属性和方法.我们创建Dog实例时,python调用Dog类的方法__init__()方法,通过实参Dog()传递名字和年龄;self将自动传递,我们不需要传递它.\n",
    "\n",
    " `__init()__`中的变量都有前缀self,以self为前缀的变量可以供类中所有方法调用,我们还可以通过类的任何实例访问这些变量"
   ]
  },
  {
   "cell_type": "markdown",
   "metadata": {},
   "source": [
    "名称前的单下划线（如：`_shahriar`）\n",
    "\n",
    "程序员使用名称前的单下划线，用于指定该名称属性为“私有”。这有点类似于惯例，为了使其他人（或你自己）使用这些代码时将会知道以`_`开头的名称只供内部使用。正如Python文档中所述：\n",
    "\n",
    "以下划线`_`为前缀的名称（如`_spam`）应该被视为API中非公开的部分（不管是函数、方法还是数据成员）。此时，应该将它们看作是一种实现细节，在修改它们时无需对外部通知。\n",
    "\n",
    "正如上面所说，这确实类似一种惯例，因为它对解释器来说确实有一定的意义，如果你写了代码`from <模块/包名> import *`，那么以`_`开头的名称都不会被导入，除非模块或包中的`__all__`列表显式地包含了它们。了解更多请查看[Importing * in Python](http://shahriar.svbtle.com/importing-star-in-python)。"
   ]
  },
  {
   "cell_type": "code",
   "execution_count": 5,
   "metadata": {
    "ExecuteTime": {
     "end_time": "2019-01-19T11:50:47.245455Z",
     "start_time": "2019-01-19T11:50:47.238475Z"
    }
   },
   "outputs": [
    {
     "data": {
      "text/plain": [
       "'while'"
      ]
     },
     "execution_count": 5,
     "metadata": {},
     "output_type": "execute_result"
    }
   ],
   "source": [
    "class Dog(): # 根据约定,首字母大写为类\n",
    "    '''一次模拟小狗的的简单尝试'''\n",
    "\n",
    "    def __init__(self, name, age):\n",
    "        '''初始化属性name和age'''\n",
    "        self._name = name\n",
    "        self._age = age\n",
    "\n",
    "    def name(self):\n",
    "        return self._name\n",
    "    \n",
    "my_dog = Dog('while',6)\n",
    "my_dog.name()"
   ]
  },
  {
   "cell_type": "code",
   "execution_count": 9,
   "metadata": {
    "ExecuteTime": {
     "end_time": "2019-01-19T11:51:41.362359Z",
     "start_time": "2019-01-19T11:51:41.355380Z"
    }
   },
   "outputs": [
    {
     "data": {
      "text/plain": [
       "'while'"
      ]
     },
     "execution_count": 9,
     "metadata": {},
     "output_type": "execute_result"
    }
   ],
   "source": [
    "class Dog(): # 根据约定,首字母大写为类\n",
    "    '''一次模拟小狗的的简单尝试'''\n",
    "\n",
    "    def __init__(self, name, age):\n",
    "        '''初始化属性name和age'''\n",
    "        self._name = name\n",
    "        self._age = age\n",
    "    \n",
    "    @property # 这样省略括号访问\n",
    "    def name(self):\n",
    "        return self._name\n",
    "    \n",
    "my_dog = Dog('while',6)\n",
    "my_dog.name"
   ]
  },
  {
   "cell_type": "markdown",
   "metadata": {},
   "source": [
    "### 根据类创建实例"
   ]
  },
  {
   "cell_type": "markdown",
   "metadata": {},
   "source": [
    "#### 1.访问属性"
   ]
  },
  {
   "cell_type": "markdown",
   "metadata": {},
   "source": [
    "访问实例的属性,用句点表示法\n",
    "- my_dog.name"
   ]
  },
  {
   "cell_type": "markdown",
   "metadata": {},
   "source": [
    "#### 调用方法"
   ]
  },
  {
   "cell_type": "markdown",
   "metadata": {},
   "source": [
    "点名实例名称和调用方法,用句点分隔\n",
    "\n",
    "my_dog.set()"
   ]
  },
  {
   "cell_type": "markdown",
   "metadata": {},
   "source": [
    "### 给属性指定默认值"
   ]
  },
  {
   "cell_type": "code",
   "execution_count": 2,
   "metadata": {
    "ExecuteTime": {
     "end_time": "2018-12-29T12:42:04.556938Z",
     "start_time": "2018-12-29T12:42:04.544972Z"
    }
   },
   "outputs": [
    {
     "name": "stdout",
     "output_type": "stream",
     "text": [
      "2016 Audi A4\n",
      "this car has 100 miles on it\n",
      "you can't roll back an odometer\n",
      "this car has 100 miles on it\n"
     ]
    }
   ],
   "source": [
    "class Car():\n",
    "    '''一次模拟汽车的简单尝试'''\n",
    "\n",
    "    def __init__(self,make,model,year):\n",
    "        '''初始化汽车的属性'''\n",
    "        self.make = make\n",
    "        self.model = model\n",
    "        self.year = year\n",
    "        self.odometer_reading = 0   ###### 1 ########\n",
    "        # odom 里程表\n",
    "\n",
    "    def get_descriptive_name(self):\n",
    "        '''返回整洁的描述性信息'''\n",
    "        long_name = str(self.year)+' ' + self.make +' '+self.model\n",
    "        return long_name.title()\n",
    "    def read_odometer(self):\n",
    "        '''打印一条汽车里程的消息'''\n",
    "        print('this car has',str(self.odometer_reading),'miles on it')\n",
    "    def update_odometer(self,mileage):\n",
    "        '''\n",
    "        将里程表读数改为指定值\n",
    "        禁止里程表往回调\n",
    "        '''\n",
    "        if mileage >= self.odometer_reading:\n",
    "            self.odometer_reading = mileage\n",
    "        else:\n",
    "            print('you can\\'t roll back an odometer')\n",
    "    def increment_odometer(self,miles):\n",
    "        '''将里程表读数增加指定量'''\n",
    "        if miles >= 0:\n",
    "            self.odometer_reading += miles\n",
    "        else:\n",
    "            print('you can\\'t roll back an odometer')\n",
    "    def fill_gas_tank(self):\n",
    "        print('done')\n",
    "\n",
    "my_new_car = Car('audi','a4',2016)\n",
    "print(my_new_car.get_descriptive_name())\n",
    "\n",
    "\n",
    "my_new_car.increment_odometer(100)\n",
    "my_new_car.read_odometer()\n",
    "my_new_car.increment_odometer(-5)\n",
    "my_new_car.read_odometer()"
   ]
  },
  {
   "cell_type": "markdown",
   "metadata": {},
   "source": [
    "在1处初始化里程表的里程数为0"
   ]
  },
  {
   "cell_type": "markdown",
   "metadata": {},
   "source": [
    "### 修改属性的值"
   ]
  },
  {
   "cell_type": "markdown",
   "metadata": {},
   "source": [
    "#### 直接修改属性的值"
   ]
  },
  {
   "cell_type": "code",
   "execution_count": 4,
   "metadata": {
    "ExecuteTime": {
     "end_time": "2018-12-28T13:17:04.887237Z",
     "start_time": "2018-12-28T13:17:04.883249Z"
    }
   },
   "outputs": [
    {
     "name": "stdout",
     "output_type": "stream",
     "text": [
      "this car has 23 miles on it\n"
     ]
    }
   ],
   "source": [
    "my_new_car.odometer_reading = 23       \n",
    "my_new_car.read_odometer()"
   ]
  },
  {
   "cell_type": "markdown",
   "metadata": {},
   "source": [
    "可以用句点表示法设置属性的值"
   ]
  },
  {
   "cell_type": "markdown",
   "metadata": {},
   "source": [
    "#### 通过方法修改属性的值"
   ]
  },
  {
   "cell_type": "code",
   "execution_count": 5,
   "metadata": {
    "ExecuteTime": {
     "end_time": "2018-12-28T13:17:07.121028Z",
     "start_time": "2018-12-28T13:17:07.114046Z"
    }
   },
   "outputs": [
    {
     "name": "stdout",
     "output_type": "stream",
     "text": [
      "this car has 25 miles on it\n",
      "you can't roll back an odometer\n",
      "this car has 25 miles on it\n",
      "this car has 120 miles on it\n"
     ]
    }
   ],
   "source": [
    "my_new_car.update_odometer(25)\n",
    "my_new_car.read_odometer()\n",
    "my_new_car.update_odometer(2)\n",
    "my_new_car.read_odometer()\n",
    "my_new_car.update_odometer(120)\n",
    "my_new_car.read_odometer()"
   ]
  },
  {
   "cell_type": "markdown",
   "metadata": {
    "toc-hr-collapsed": true,
    "toc-nb-collapsed": true
   },
   "source": [
    "##  继承\n",
    "一个类继承另一个类的时候,自动获取原来类的属性和方法,原来的类称为父类,新的类成为子类,子类继承所有属性和方法,同时定义自己的属性和方法"
   ]
  },
  {
   "cell_type": "code",
   "execution_count": 6,
   "metadata": {
    "ExecuteTime": {
     "end_time": "2018-12-28T13:17:08.630236Z",
     "start_time": "2018-12-28T13:17:08.623254Z"
    }
   },
   "outputs": [
    {
     "name": "stdout",
     "output_type": "stream",
     "text": [
      "2016 Tesla Model S\n"
     ]
    }
   ],
   "source": [
    "class ElectricCar(Car):\n",
    "    '''电动车的独到之处'''\n",
    "\n",
    "    def __init__(self,make,model,year):\n",
    "        '''\n",
    "        初始化父类的属性,在初始化电动汽车的特有属性\n",
    "        '''\n",
    "        super().__init__(make,model,year)\n",
    "        \n",
    "\n",
    "\n",
    "my_tesla = ElectricCar('tesla','model s',2016)\n",
    "print(my_tesla.get_descriptive_name())"
   ]
  },
  {
   "cell_type": "markdown",
   "metadata": {},
   "source": [
    "- 定义子类时,父类必须包含在括号中\n",
    "\n",
    "super()是个特殊函数,帮助python将父类和子类关联起来, 这行代码让python调用父类的__init__(),让子类包含父类的所有属性,父类也被称为超类(superclass),所以函数名为super"
   ]
  },
  {
   "cell_type": "markdown",
   "metadata": {},
   "source": [
    "### 重写父类的方法"
   ]
  },
  {
   "cell_type": "code",
   "execution_count": 21,
   "metadata": {},
   "outputs": [
    {
     "name": "stdout",
     "output_type": "stream",
     "text": [
      "this car doesn't need a gas tank\n"
     ]
    }
   ],
   "source": [
    "class ElectricCar(Car):\n",
    "    '''电动车的独到之处'''\n",
    "\n",
    "    def __init__(self,make,model,year):\n",
    "        '''\n",
    "        初始化父类的属性,在初始化电动汽车的特有属性\n",
    "        '''\n",
    "        super().__init__(make,model,year)\n",
    "        \n",
    "    \n",
    "    def fill_gas_tank(self):\n",
    "        '''电动车没有油箱'''\n",
    "        print('this car doesn\\'t need a gas tank')\n",
    "\n",
    "\n",
    "my_tesla = ElectricCar('tesla','model s',2016)\n",
    "my_tesla.fill_gas_tank()       "
   ]
  },
  {
   "cell_type": "markdown",
   "metadata": {},
   "source": [
    "###  将实例用作属性\n",
    "    当属性和方法越来越长时,可能将类的一部分提取出来.你可以将大类分成多个协同工作的小类"
   ]
  },
  {
   "cell_type": "code",
   "execution_count": 4,
   "metadata": {
    "ExecuteTime": {
     "end_time": "2018-12-29T12:42:42.144390Z",
     "start_time": "2018-12-29T12:42:42.134452Z"
    }
   },
   "outputs": [
    {
     "name": "stdout",
     "output_type": "stream",
     "text": [
      "This car has a 70-kwhbattery\n"
     ]
    }
   ],
   "source": [
    "class Battery():\n",
    "    '''一次模拟电动车电瓶的简单尝试'''\n",
    "    \n",
    "    def __init__(self, battery_size=70):\n",
    "        '''初始化电瓶的属性'''\n",
    "        self.battery_size = battery_size\n",
    "    \n",
    "    def describe_battery(self):\n",
    "        '''的打印一条描述电瓶容量的信息'''\n",
    "        print('This car has a',str(self.battery_size)+'-kwhbattery')\n",
    "  \n",
    "\n",
    "class ElectricCar(Car):\n",
    "    '''电动车的独到之处'''\n",
    "\n",
    "    def __init__(self,make,model,year):\n",
    "        '''\n",
    "        初始化父类的属性,在初始化电动汽车的特有属性\n",
    "        '''\n",
    "        super().__init__(make,model,year)\n",
    "#         self.battery_size = 70\n",
    "        self.battery = Battery()   #######  1  #############\n",
    "        \n",
    "    '''一开始的结构是这样\n",
    "    def describe_battery(self):\n",
    "        \"\"\"打印一条描述电瓶容量的信息\"\"\"\n",
    "        print('This car has a',str(self.battery_size)+'-kwhbattery')\n",
    "    '''\n",
    "    def fill_gas_tank(self):\n",
    "        '''电动车没有油箱'''\n",
    "        print('this car doesn\\'t need a gas tank')\n",
    "\n",
    "my_tesla = ElectricCar('tesla','model s',2016)\n",
    "my_tesla.battery.describe_battery()"
   ]
  },
  {
   "cell_type": "markdown",
   "metadata": {
    "toc-hr-collapsed": true,
    "toc-nb-collapsed": true
   },
   "source": [
    "## 导入类\n",
    "<code>\n",
    " from car import Car,ElectricCat\n",
    " import car # 导入整个模块\n",
    " from car import * # 导入所有类\n",
    "</code>"
   ]
  },
  {
   "cell_type": "markdown",
   "metadata": {},
   "source": [
    "## python 标准库"
   ]
  },
  {
   "cell_type": "markdown",
   "metadata": {},
   "source": [
    "### OrderedDict 类\n",
    "collections的OrderedDict类创建字典并记录了我键值对的添加顺序"
   ]
  },
  {
   "cell_type": "code",
   "execution_count": 5,
   "metadata": {
    "ExecuteTime": {
     "end_time": "2018-12-29T12:55:46.498920Z",
     "start_time": "2018-12-29T12:55:46.491942Z"
    }
   },
   "outputs": [
    {
     "name": "stdout",
     "output_type": "stream",
     "text": [
      "Jens 's favorite language is' Python\n",
      "Sarah 's favorite language is' C\n",
      "Edward 's favorite language is' Ruby\n"
     ]
    }
   ],
   "source": [
    "from collections import OrderedDict\n",
    "\n",
    "favorite_languages = OrderedDict()\n",
    "\n",
    "favorite_languages['jens'] = 'python'\n",
    "favorite_languages['sarah'] = 'c'\n",
    "favorite_languages['edward'] = 'ruby'\n",
    "\n",
    "for name, language in favorite_languages.items():\n",
    "    print(name.title(),\"'s favorite language is'\",language.title())"
   ]
  },
  {
   "cell_type": "markdown",
   "metadata": {},
   "source": [
    "## 类编码风格\n",
    "- 类名采用驼峰命名法,类名中每个单词首字母大写,不使用下划线. 实例名和模块名都采用小写格式,单词之间加上下划线.\n",
    "- 对于每个类,都紧跟类定义后面包含一个文档字符串. 这种文档字符串简要地描述类的功能, 并遵循编写函数文档字符串时采用的格式约定. 每个模块也应包含一个文档字符串,对于其中的类可以用于做什么进行描述.\n",
    "- 可使用空行组织代码, 但不要滥用. 在类中,可用一个空格分隔方法;在模块中,用两个空行分隔类.\n",
    "- 需要同时导入标准库中的模块时,先编写标准库中的import,再添加一个空行,编写导入自己编写的模块的import语句."
   ]
  }
 ],
 "metadata": {
  "jupytext": {
   "encoding": "# -*- coding: utf-8 -*-",
   "formats": "ipynb,py:light,md"
  },
  "kernelspec": {
   "display_name": "Python 3",
   "language": "python",
   "name": "python3"
  },
  "language_info": {
   "codemirror_mode": {
    "name": "ipython",
    "version": 3
   },
   "file_extension": ".py",
   "mimetype": "text/x-python",
   "name": "python",
   "nbconvert_exporter": "python",
   "pygments_lexer": "ipython3",
   "version": "3.7.4"
  },
  "latex_envs": {
   "LaTeX_envs_menu_present": true,
   "autoclose": false,
   "autocomplete": true,
   "bibliofile": "biblio.bib",
   "cite_by": "apalike",
   "current_citInitial": 1,
   "eqLabelWithNumbers": true,
   "eqNumInitial": 1,
   "hotkeys": {
    "equation": "Ctrl-E",
    "itemize": "Ctrl-I"
   },
   "labels_anchors": false,
   "latex_user_defs": false,
   "report_style_numbering": false,
   "user_envs_cfg": false
  },
  "toc": {
   "base_numbering": 1,
   "nav_menu": {},
   "number_sections": true,
   "sideBar": true,
   "skip_h1_title": false,
   "title_cell": "Table of Contents",
   "title_sidebar": "Contents",
   "toc_cell": false,
   "toc_position": {},
   "toc_section_display": true,
   "toc_window_display": false
  },
  "toc-autonumbering": true,
  "toc-showmarkdowntxt": false,
  "varInspector": {
   "cols": {
    "lenName": 16,
    "lenType": 16,
    "lenVar": 40
   },
   "kernels_config": {
    "python": {
     "delete_cmd_postfix": "",
     "delete_cmd_prefix": "del ",
     "library": "var_list.py",
     "varRefreshCmd": "print(var_dic_list())"
    },
    "r": {
     "delete_cmd_postfix": ") ",
     "delete_cmd_prefix": "rm(",
     "library": "var_list.r",
     "varRefreshCmd": "cat(var_dic_list()) "
    }
   },
   "types_to_exclude": [
    "module",
    "function",
    "builtin_function_or_method",
    "instance",
    "_Feature"
   ],
   "window_display": false
  }
 },
 "nbformat": 4,
 "nbformat_minor": 4
}
