{
 "cells": [
  {
   "cell_type": "markdown",
   "metadata": {},
   "source": [
    "# 变量和简单数据"
   ]
  },
  {
   "cell_type": "markdown",
   "metadata": {},
   "source": [
    "## 变量的命名与使用"
   ]
  },
  {
   "cell_type": "markdown",
   "metadata": {},
   "source": [
    "1. 变量名只包含字母数字下划线,变量名可以以字母或下划线打头,不能以数字打头\n",
    "2. 变量名不能包含空格\n",
    "3. 不能用保留关键字命名"
   ]
  },
  {
   "cell_type": "markdown",
   "metadata": {},
   "source": [
    "##  字符串"
   ]
  },
  {
   "cell_type": "code",
   "execution_count": 4,
   "metadata": {
    "ExecuteTime": {
     "end_time": "2019-01-15T10:55:47.245044Z",
     "start_time": "2019-01-15T10:55:47.233063Z"
    }
   },
   "outputs": [
    {
     "data": {
      "text/plain": [
       "str"
      ]
     },
     "execution_count": 4,
     "metadata": {},
     "output_type": "execute_result"
    }
   ],
   "source": [
    "s = '1234567890x'\n",
    "type(s)"
   ]
  },
  {
   "cell_type": "code",
   "execution_count": 5,
   "metadata": {
    "ExecuteTime": {
     "end_time": "2019-01-15T10:55:48.661581Z",
     "start_time": "2019-01-15T10:55:48.653593Z"
    }
   },
   "outputs": [
    {
     "data": {
      "text/plain": [
       "'True'"
      ]
     },
     "execution_count": 5,
     "metadata": {},
     "output_type": "execute_result"
    }
   ],
   "source": [
    "str(True)"
   ]
  },
  {
   "cell_type": "code",
   "execution_count": 6,
   "metadata": {
    "ExecuteTime": {
     "end_time": "2019-01-15T10:55:49.456205Z",
     "start_time": "2019-01-15T10:55:49.448215Z"
    },
    "scrolled": true
   },
   "outputs": [
    {
     "data": {
      "text/plain": [
       "'1'"
      ]
     },
     "execution_count": 6,
     "metadata": {},
     "output_type": "execute_result"
    }
   ],
   "source": [
    "s = '123'\n",
    "s[0]"
   ]
  },
  {
   "cell_type": "code",
   "execution_count": 7,
   "metadata": {
    "ExecuteTime": {
     "end_time": "2019-01-15T10:55:50.296555Z",
     "start_time": "2019-01-15T10:55:50.288566Z"
    }
   },
   "outputs": [
    {
     "name": "stdout",
     "output_type": "stream",
     "text": [
      "He said : I'm a string\n"
     ]
    }
   ],
   "source": [
    "s = 'He said : I\\'m a string'\n",
    "print(s)"
   ]
  },
  {
   "cell_type": "code",
   "execution_count": 8,
   "metadata": {
    "ExecuteTime": {
     "end_time": "2019-01-15T10:55:51.120145Z",
     "start_time": "2019-01-15T10:55:51.112157Z"
    }
   },
   "outputs": [
    {
     "name": "stdout",
     "output_type": "stream",
     "text": [
      "\n",
      "123\n",
      "456\n",
      "\n"
     ]
    }
   ],
   "source": [
    "s = '''\n",
    "123\n",
    "456\n",
    "'''\n",
    "print(s)"
   ]
  },
  {
   "cell_type": "markdown",
   "metadata": {},
   "source": [
    "### 修改字符大小写\n",
    "title以首字母大写的方式显示每个单词;\n",
    "upper全部改为大写;   \n",
    "lower全部改为小写;"
   ]
  },
  {
   "cell_type": "code",
   "execution_count": 9,
   "metadata": {
    "ExecuteTime": {
     "end_time": "2019-01-15T10:56:00.529183Z",
     "start_time": "2019-01-15T10:56:00.525189Z"
    }
   },
   "outputs": [
    {
     "name": "stdout",
     "output_type": "stream",
     "text": [
      "Ada Lovelace\n",
      "ADA LOVELACE\n",
      "ada lovelace\n",
      "Ada lovelace\n"
     ]
    }
   ],
   "source": [
    "name = 'ada lovelace'\n",
    "#print(name.tittle())\n",
    "print(name.title())\n",
    "print(name.upper())\n",
    "print(name.lower())\n",
    "print(name.capitalize()) # 首字母大写,其他字母小写"
   ]
  },
  {
   "cell_type": "markdown",
   "metadata": {},
   "source": [
    "### 合并字符串"
   ]
  },
  {
   "cell_type": "markdown",
   "metadata": {},
   "source": [
    "ncall：函数运行次数\n",
    "\n",
    "tottime： 函数的总的运行时间，减去函数中调用子函数的运行时间\n",
    "\n",
    "第一个percall：percall = tottime / nclall \n",
    "\n",
    "cumtime:函数及其所有子函数调整的运行时间，也就是函数开始调用到结束的时间。\n",
    "\n",
    "第二个percall：percall = cumtime / nclall "
   ]
  },
  {
   "cell_type": "markdown",
   "metadata": {},
   "source": [
    "####  '+' 链接"
   ]
  },
  {
   "cell_type": "code",
   "execution_count": 8,
   "metadata": {
    "ExecuteTime": {
     "end_time": "2019-02-01T05:00:13.385266Z",
     "start_time": "2019-02-01T05:00:13.361331Z"
    }
   },
   "outputs": [
    {
     "name": "stdout",
     "output_type": "stream",
     "text": [
      "         4 function calls in 0.017 seconds\n",
      "\n",
      "   Ordered by: standard name\n",
      "\n",
      "   ncalls  tottime  percall  cumtime  percall filename:lineno(function)\n",
      "        1    0.014    0.014    0.014    0.014 <ipython-input-8-8f035c05710e>:2(concat_way1)\n",
      "        1    0.003    0.003    0.017    0.017 <string>:1(<module>)\n",
      "        1    0.000    0.000    0.017    0.017 {built-in method builtins.exec}\n",
      "        1    0.000    0.000    0.000    0.000 {method 'disable' of '_lsprof.Profiler' objects}\n",
      "\n",
      "\n"
     ]
    }
   ],
   "source": [
    "import cProfile\n",
    "def concat_way1():\n",
    "   fir = 'Hello' * 1000000\n",
    "   sec = '极客猴' * 1000000\n",
    "   result = fir + sec\n",
    "cProfile.run('concat_way1()')"
   ]
  },
  {
   "cell_type": "markdown",
   "metadata": {},
   "source": [
    "#### 使用 \"%\" 运算符连接"
   ]
  },
  {
   "cell_type": "code",
   "execution_count": 9,
   "metadata": {
    "ExecuteTime": {
     "end_time": "2019-02-01T05:00:14.390404Z",
     "start_time": "2019-02-01T05:00:14.365472Z"
    }
   },
   "outputs": [
    {
     "name": "stdout",
     "output_type": "stream",
     "text": [
      "         4 function calls in 0.019 seconds\n",
      "\n",
      "   Ordered by: standard name\n",
      "\n",
      "   ncalls  tottime  percall  cumtime  percall filename:lineno(function)\n",
      "        1    0.016    0.016    0.016    0.016 <ipython-input-9-56fd1f3be12b>:2(concat_way2)\n",
      "        1    0.002    0.002    0.019    0.019 <string>:1(<module>)\n",
      "        1    0.000    0.000    0.019    0.019 {built-in method builtins.exec}\n",
      "        1    0.000    0.000    0.000    0.000 {method 'disable' of '_lsprof.Profiler' objects}\n",
      "\n",
      "\n"
     ]
    }
   ],
   "source": [
    "import cProfile\n",
    "def concat_way2():\n",
    "   fir = 'Hello' * 1000000\n",
    "   sec = '极客猴' * 1000000\n",
    "   result = '%s%s' % (fir, sec)\n",
    "cProfile.run('concat_way2()')"
   ]
  },
  {
   "cell_type": "markdown",
   "metadata": {},
   "source": [
    "#### 使用format()"
   ]
  },
  {
   "cell_type": "code",
   "execution_count": 10,
   "metadata": {
    "ExecuteTime": {
     "end_time": "2019-02-01T05:00:15.192692Z",
     "start_time": "2019-02-01T05:00:15.187706Z"
    }
   },
   "outputs": [
    {
     "name": "stdout",
     "output_type": "stream",
     "text": [
      "网站名：菜鸟教程, 地址 www.runoob.com\n",
      "网站名：菜鸟教程, 地址 www.runoob.com\n",
      "网站名：菜鸟教程, 地址 www.runoob.com\n"
     ]
    }
   ],
   "source": [
    "print(\"网站名：{name}, 地址 {url}\".format(name=\"菜鸟教程\", url=\"www.runoob.com\"))\n",
    " \n",
    "# 通过字典设置参数\n",
    "site = {\"name\": \"菜鸟教程\", \"url\": \"www.runoob.com\"}\n",
    "print(\"网站名：{name}, 地址 {url}\".format(**site))\n",
    " \n",
    "# 通过列表索引设置参数\n",
    "my_list = ['菜鸟教程', 'www.runoob.com']\n",
    "print(\"网站名：{0[0]}, 地址 {0[1]}\".format(my_list))  # \"0\" 是必须的"
   ]
  },
  {
   "cell_type": "code",
   "execution_count": 11,
   "metadata": {
    "ExecuteTime": {
     "end_time": "2019-02-01T05:00:15.783203Z",
     "start_time": "2019-02-01T05:00:15.755281Z"
    }
   },
   "outputs": [
    {
     "name": "stdout",
     "output_type": "stream",
     "text": [
      "         5 function calls in 0.021 seconds\n",
      "\n",
      "   Ordered by: standard name\n",
      "\n",
      "   ncalls  tottime  percall  cumtime  percall filename:lineno(function)\n",
      "        1    0.005    0.005    0.017    0.017 <ipython-input-11-b491d5d993bc>:2(concat_way3)\n",
      "        1    0.003    0.003    0.021    0.021 <string>:1(<module>)\n",
      "        1    0.000    0.000    0.021    0.021 {built-in method builtins.exec}\n",
      "        1    0.000    0.000    0.000    0.000 {method 'disable' of '_lsprof.Profiler' objects}\n",
      "        1    0.012    0.012    0.012    0.012 {method 'format' of 'str' objects}\n",
      "\n",
      "\n"
     ]
    }
   ],
   "source": [
    "# 使用 format() 格式化连接, 隐藏参数位置\n",
    "def concat_way3():\n",
    "    str1 = 'Hello' * 1000000\n",
    "    sec = '极客猴' * 1000000\n",
    "    result = '{}{}'.format(str1, sec)\n",
    "cProfile.run('concat_way3()')"
   ]
  },
  {
   "cell_type": "code",
   "execution_count": 12,
   "metadata": {
    "ExecuteTime": {
     "end_time": "2019-02-01T05:00:16.508229Z",
     "start_time": "2019-02-01T05:00:16.481302Z"
    }
   },
   "outputs": [
    {
     "name": "stdout",
     "output_type": "stream",
     "text": [
      "         5 function calls in 0.020 seconds\n",
      "\n",
      "   Ordered by: standard name\n",
      "\n",
      "   ncalls  tottime  percall  cumtime  percall filename:lineno(function)\n",
      "        1    0.005    0.005    0.016    0.016 <ipython-input-12-b5b83870fad9>:2(concat_way4)\n",
      "        1    0.003    0.003    0.020    0.020 <string>:1(<module>)\n",
      "        1    0.000    0.000    0.020    0.020 {built-in method builtins.exec}\n",
      "        1    0.000    0.000    0.000    0.000 {method 'disable' of '_lsprof.Profiler' objects}\n",
      "        1    0.011    0.011    0.011    0.011 {method 'format' of 'str' objects}\n",
      "\n",
      "\n"
     ]
    }
   ],
   "source": [
    "# 使用 format() 格式化连接, 指定参数位置\n",
    "def concat_way4():\n",
    "   fir = 'Hello' * 1000000\n",
    "   sec = '极客猴' * 1000000\n",
    "   result = '{0}{1}'.format(fir, sec)\n",
    "cProfile.run('concat_way4()')"
   ]
  },
  {
   "cell_type": "markdown",
   "metadata": {},
   "source": [
    "#### 使用join()链接"
   ]
  },
  {
   "cell_type": "code",
   "execution_count": 13,
   "metadata": {
    "ExecuteTime": {
     "end_time": "2019-02-01T05:00:19.042272Z",
     "start_time": "2019-02-01T05:00:19.019333Z"
    }
   },
   "outputs": [
    {
     "name": "stdout",
     "output_type": "stream",
     "text": [
      "         5 function calls in 0.017 seconds\n",
      "\n",
      "   Ordered by: standard name\n",
      "\n",
      "   ncalls  tottime  percall  cumtime  percall filename:lineno(function)\n",
      "        1    0.005    0.005    0.013    0.013 <ipython-input-13-65d5b0b0965e>:2(concat_way5)\n",
      "        1    0.003    0.003    0.017    0.017 <string>:1(<module>)\n",
      "        1    0.000    0.000    0.017    0.017 {built-in method builtins.exec}\n",
      "        1    0.000    0.000    0.000    0.000 {method 'disable' of '_lsprof.Profiler' objects}\n",
      "        1    0.008    0.008    0.008    0.008 {method 'join' of 'str' objects}\n",
      "\n",
      "\n"
     ]
    }
   ],
   "source": [
    "# 使用 join()\n",
    "def concat_way5():\n",
    "   fir = 'Hello' * 1000000\n",
    "   sec = '极客猴' * 1000000\n",
    "   result = ' '.join([fir,sec])\n",
    "cProfile.run('concat_way5()')"
   ]
  },
  {
   "cell_type": "code",
   "execution_count": 14,
   "metadata": {
    "ExecuteTime": {
     "end_time": "2019-02-01T05:00:22.604655Z",
     "start_time": "2019-02-01T05:00:22.599669Z"
    },
    "scrolled": true
   },
   "outputs": [
    {
     "name": "stdout",
     "output_type": "stream",
     "text": [
      "3.14\n"
     ]
    }
   ],
   "source": [
    "print(\"{:.2f}\".format(3.1415926))\n",
    "# 保留小数点后两位"
   ]
  },
  {
   "cell_type": "code",
   "execution_count": 16,
   "metadata": {
    "ExecuteTime": {
     "end_time": "2019-01-15T10:56:48.955397Z",
     "start_time": "2019-01-15T10:56:48.947409Z"
    }
   },
   "outputs": [
    {
     "name": "stdout",
     "output_type": "stream",
     "text": [
      "-3.14\n"
     ]
    }
   ],
   "source": [
    "# 带符号保留小数点后两位\n",
    "print(\"{:+.2f}\".format(-3.1415926))"
   ]
  },
  {
   "cell_type": "markdown",
   "metadata": {},
   "source": [
    "<tbody><tr><th width=\"10%\">数字</th><th width=\"30%\">格式</th><th width=\"30%\">输出\n",
    "</th><th width=\"30%\">描述</th></tr>\n",
    "<tr><td> 3.1415926 </td>\n",
    "    <td> {:.2f} </td>\n",
    "    <td> 3.14 </td>\n",
    "    <td> 保留小数点后两位 </td>\n",
    "</tr>\n",
    "<tr><td> 3.1415926 </td>\n",
    "    <td> {:+.2f} </td>\n",
    "    <td> +3.14 </td>\n",
    "    <td> 带符号保留小数点后两位 </td>\n",
    "</tr>\n",
    "<tr><td> -1 </td>\n",
    "    <td> {:+.2f} </td>\n",
    "    <td> -1.00 </td>\n",
    "    <td> 带符号保留小数点后两位 </td>\n",
    "</tr>\n",
    "<tr><td> 2.71828 </td>\n",
    "    <td> {:.0f} </td>\n",
    "    <td> 3 </td>\n",
    "    <td> 不带小数 </td>\n",
    "</tr>\n",
    "<tr><td> 5 </td>\n",
    "    <td> {:0&gt;2d} </td>\n",
    "    <td> 05 </td>\n",
    "    <td> 数字补零 (填充左边, 宽度为2) </td>\n",
    "</tr>\n",
    "<tr><td> 5 </td>\n",
    "    <td> {:x&lt;4d} </td>\n",
    "    <td> 5xxx </td>\n",
    "    <td> 数字补x (填充右边, 宽度为4) </td>\n",
    "</tr>\n",
    "<tr><td> 10 </td>\n",
    "    <td> {:x&lt;4d} </td>\n",
    "    <td> 10xx </td>\n",
    "    <td> 数字补x (填充右边, 宽度为4) </td>\n",
    "</tr>\n",
    "<tr><td> 1000000 </td>\n",
    "    <td> {:,} </td>\n",
    "    <td> 1,000,000 </td>\n",
    "    <td> 以逗号分隔的数字格式 </td>\n",
    "</tr>\n",
    "<tr><td> 0.25 </td>\n",
    "    <td> {:.2%} </td>\n",
    "    <td> 25.00% </td>\n",
    "    <td> 百分比格式 </td>\n",
    "</tr>\n",
    "<tr><td> 1000000000 </td>\n",
    "    <td> {:.2e} </td>\n",
    "    <td> 1.00e+09 </td>\n",
    "    <td> 指数记法 </td>\n",
    "</tr>\n",
    "<tr><td> 13 </td>\n",
    "    <td> {:10d} </td>\n",
    "    <td>&nbsp;&nbsp;&nbsp;&nbsp;&nbsp;&nbsp;&nbsp;&nbsp;13</td>\n",
    "    <td> 右对齐 (默认, 宽度为10) </td>\n",
    "</tr>\n",
    "<tr><td> 13 </td>\n",
    "    <td> {:&lt;10d} </td>\n",
    "    <td> 13 </td>\n",
    "    <td> 左对齐 (宽度为10)</td>\n",
    "</tr>\n",
    "<tr><td> 13 </td>\n",
    "    <td> {:^10d} </td>\n",
    "    <td> &nbsp;&nbsp;&nbsp;&nbsp;13 </td>\n",
    "    <td> 中间对齐 (宽度为10) </td>\n",
    "</tr>\n",
    "<tr><td> 11 </td>\n",
    "    <td><pre>'{:b}'.format(11)\n",
    "'{:d}'.format(11)\n",
    "'{:o}'.format(11)\n",
    "'{:x}'.format(11)\n",
    "'{:#x}'.format(11)\n",
    "'{:#X}'.format(11)</pre></td>\n",
    "    <td><pre>1011\n",
    "11\n",
    "13\n",
    "b\n",
    "0xb\n",
    "0XB\n",
    "</pre></td>\n",
    "    <td> 进制</td>\n",
    "</tr>\n",
    "</tbody></table>\n",
    "<p><span class=\"marked\">^</span>, <span class=\"marked\">&lt;</span>, <span class=\"marked\">&gt;</span> 分别是居中、左对齐、右对齐，后面带宽度， <span class=\"marked\">:</span> 号后面带填充的字符，只能是一个字符，不指定则默认是用空格填充。</p><p>\n",
    "<span class=\"marked\">+</span> 表示在正数前显示 <span class=\"marked\">+</span>，负数前显示 <span class=\"marked\">-</span>；<span class=\"marked\">&nbsp;</span> （空格）表示在正数前加空格</p>\n",
    "<p>b、d、o、x 分别是二进制、十进制、八进制、十六进制。</p>\n",
    "\n"
   ]
  },
  {
   "cell_type": "markdown",
   "metadata": {},
   "source": [
    "^, <, > 分别是居中、左对齐、右对齐，后面带宽度， : 号后面带填充的字符，只能是一个字符，不指定则默认是用空格填充。\n",
    "'+' 表示在正数前显示 +，负数前显示 -；' '（空格）表示在正数前加空格\n",
    "b、d、o、x 分别是二进制、十进制、八进制、十六进制。\n",
    "此外我们可以使用大括号 {} 来转义大括号"
   ]
  },
  {
   "cell_type": "markdown",
   "metadata": {},
   "source": [
    "### 使用制表符添加空白"
   ]
  },
  {
   "cell_type": "code",
   "execution_count": 17,
   "metadata": {
    "ExecuteTime": {
     "end_time": "2019-01-15T10:56:57.390664Z",
     "start_time": "2019-01-15T10:56:57.382674Z"
    }
   },
   "outputs": [
    {
     "name": "stdout",
     "output_type": "stream",
     "text": [
      "python\n",
      "\tpython\n"
     ]
    }
   ],
   "source": [
    "print('python')\n",
    "print('\\tpython')"
   ]
  },
  {
   "cell_type": "markdown",
   "metadata": {},
   "source": [
    "###  删除空白\n",
    "- restrip删除末尾空白;\n",
    "- lstrip删除开头空白;\n",
    "- strip删除两边空白"
   ]
  },
  {
   "cell_type": "code",
   "execution_count": 18,
   "metadata": {
    "ExecuteTime": {
     "end_time": "2019-01-15T10:56:58.988436Z",
     "start_time": "2019-01-15T10:56:58.980415Z"
    }
   },
   "outputs": [
    {
     "name": "stdout",
     "output_type": "stream",
     "text": [
      "   hello  world              \n",
      "   hello  world\n",
      "hello  world              \n",
      "hello  world\n"
     ]
    }
   ],
   "source": [
    "a = '   hello  world              '\n",
    "print(a)\n",
    "print(a.rstrip())\n",
    "print(a.lstrip())\n",
    "print(a.strip())"
   ]
  },
  {
   "cell_type": "code",
   "execution_count": 19,
   "metadata": {
    "ExecuteTime": {
     "end_time": "2019-01-15T10:56:59.692391Z",
     "start_time": "2019-01-15T10:56:59.688397Z"
    },
    "scrolled": true
   },
   "outputs": [
    {
     "name": "stdout",
     "output_type": "stream",
     "text": [
      "....hello....world........\n",
      "....hello....world\n",
      "hello....world........\n",
      "hello....world\n"
     ]
    }
   ],
   "source": [
    "# 换成其他符号也可以\n",
    "a = '....hello....world........'\n",
    "print(a)\n",
    "print(a.rstrip('.'))\n",
    "print(a.lstrip('.'))\n",
    "print(a.strip('.'))"
   ]
  },
  {
   "cell_type": "code",
   "execution_count": 20,
   "metadata": {
    "ExecuteTime": {
     "end_time": "2019-01-15T10:57:00.493118Z",
     "start_time": "2019-01-15T10:57:00.485131Z"
    }
   },
   "outputs": [
    {
     "name": "stdout",
     "output_type": "stream",
     "text": [
      "....hello....world 2\n"
     ]
    }
   ],
   "source": [
    "a = '....hello....world 23. .. .....'\n",
    "print(a.rstrip('. 3'))"
   ]
  },
  {
   "cell_type": "code",
   "execution_count": 21,
   "metadata": {
    "ExecuteTime": {
     "end_time": "2019-01-15T10:57:01.261828Z",
     "start_time": "2019-01-15T10:57:01.257837Z"
    }
   },
   "outputs": [
    {
     "name": "stdout",
     "output_type": "stream",
     "text": [
      "....hello....world 23\n"
     ]
    }
   ],
   "source": [
    "a = '....hello....world 23. .. .....'\n",
    "print(a.rstrip('. 2'))"
   ]
  },
  {
   "cell_type": "markdown",
   "metadata": {},
   "source": [
    "以上函数删除末尾符号直到末尾不存在符号为止"
   ]
  },
  {
   "cell_type": "markdown",
   "metadata": {},
   "source": [
    "###  统计字符串大写字母数量"
   ]
  },
  {
   "cell_type": "code",
   "execution_count": 22,
   "metadata": {
    "ExecuteTime": {
     "end_time": "2019-01-15T10:57:09.881986Z",
     "start_time": "2019-01-15T10:57:09.873997Z"
    }
   },
   "outputs": [
    {
     "data": {
      "text/plain": [
       "2"
      ]
     },
     "execution_count": 22,
     "metadata": {},
     "output_type": "execute_result"
    }
   ],
   "source": [
    "s = 'AbcefG'\n",
    "count = 0\n",
    "for i in s:\n",
    "    if i.isupper():\n",
    "        count += 1\n",
    "count"
   ]
  },
  {
   "cell_type": "markdown",
   "metadata": {},
   "source": [
    "###  合并拆分字符串 "
   ]
  },
  {
   "cell_type": "code",
   "execution_count": 23,
   "metadata": {
    "ExecuteTime": {
     "end_time": "2019-01-15T10:57:17.931795Z",
     "start_time": "2019-01-15T10:57:17.923807Z"
    }
   },
   "outputs": [
    {
     "name": "stdout",
     "output_type": "stream",
     "text": [
      "['1', '2', '3', '4', '5']\n",
      "['a', 'b']\n"
     ]
    },
    {
     "data": {
      "text/plain": [
       "'a-b'"
      ]
     },
     "execution_count": 23,
     "metadata": {},
     "output_type": "execute_result"
    }
   ],
   "source": [
    "s = '1 2 3 4 5'\n",
    "#s.spilt()\n",
    "print(s.split())\n",
    "s2 = 'a,b'\n",
    "b = s2.split(',')\n",
    "print(b)\n",
    "'-'.join(b)"
   ]
  },
  {
   "cell_type": "markdown",
   "metadata": {},
   "source": [
    "### 替换\n",
    "replace() 方法把字符串中的 old（旧字符串） 替换成 new(新字符串)，如果指定第三个参数max，则替换不超过 max 次。"
   ]
  },
  {
   "cell_type": "code",
   "execution_count": 24,
   "metadata": {
    "ExecuteTime": {
     "end_time": "2019-01-15T10:57:26.277198Z",
     "start_time": "2019-01-15T10:57:26.269210Z"
    }
   },
   "outputs": [
    {
     "data": {
      "text/plain": [
       "'1 1 b c d'"
      ]
     },
     "execution_count": 24,
     "metadata": {},
     "output_type": "execute_result"
    }
   ],
   "source": [
    "s = 'a a b c d'\n",
    "s.replace('a','1')"
   ]
  },
  {
   "cell_type": "code",
   "execution_count": 25,
   "metadata": {
    "ExecuteTime": {
     "end_time": "2019-01-15T10:57:26.910196Z",
     "start_time": "2019-01-15T10:57:26.902206Z"
    }
   },
   "outputs": [
    {
     "data": {
      "text/plain": [
       "'1 a b c d'"
      ]
     },
     "execution_count": 25,
     "metadata": {},
     "output_type": "execute_result"
    }
   ],
   "source": [
    "s = 'a a b c d'\n",
    "s.replace('a','1',1)"
   ]
  },
  {
   "cell_type": "markdown",
   "metadata": {},
   "source": [
    "### 查找字符串"
   ]
  },
  {
   "cell_type": "code",
   "execution_count": 26,
   "metadata": {
    "ExecuteTime": {
     "end_time": "2019-01-15T10:57:34.174377Z",
     "start_time": "2019-01-15T10:57:34.166388Z"
    }
   },
   "outputs": [
    {
     "data": {
      "text/plain": [
       "-1"
      ]
     },
     "execution_count": 26,
     "metadata": {},
     "output_type": "execute_result"
    }
   ],
   "source": [
    "s = 'hello world'\n",
    "s.find('cat')"
   ]
  },
  {
   "cell_type": "code",
   "execution_count": 80,
   "metadata": {
    "ExecuteTime": {
     "end_time": "2019-01-15T11:14:33.949481Z",
     "start_time": "2019-01-15T11:14:33.941490Z"
    }
   },
   "outputs": [
    {
     "data": {
      "text/plain": [
       "9"
      ]
     },
     "execution_count": 80,
     "metadata": {},
     "output_type": "execute_result"
    }
   ],
   "source": [
    "a = 'asdfghjkla'\n",
    "a.find('a',2)"
   ]
  },
  {
   "cell_type": "code",
   "execution_count": 81,
   "metadata": {
    "ExecuteTime": {
     "end_time": "2019-01-15T11:14:47.312951Z",
     "start_time": "2019-01-15T11:14:47.304960Z"
    }
   },
   "outputs": [
    {
     "name": "stdout",
     "output_type": "stream",
     "text": [
      "Help on method_descriptor:\n",
      "\n",
      "find(...)\n",
      "    S.find(sub[, start[, end]]) -> int\n",
      "    \n",
      "    Return the lowest index in S where substring sub is found,\n",
      "    such that sub is contained within S[start:end].  Optional\n",
      "    arguments start and end are interpreted as in slice notation.\n",
      "    \n",
      "    Return -1 on failure.\n",
      "\n"
     ]
    }
   ],
   "source": [
    "help(str.find)"
   ]
  },
  {
   "cell_type": "markdown",
   "metadata": {},
   "source": [
    "find()找不到内容返回-1"
   ]
  },
  {
   "cell_type": "code",
   "execution_count": 27,
   "metadata": {
    "ExecuteTime": {
     "end_time": "2019-01-15T10:57:35.567031Z",
     "start_time": "2019-01-15T10:57:35.551051Z"
    },
    "scrolled": true
   },
   "outputs": [
    {
     "ename": "ValueError",
     "evalue": "substring not found",
     "output_type": "error",
     "traceback": [
      "\u001b[1;31m---------------------------------------------------------------------------\u001b[0m",
      "\u001b[1;31mValueError\u001b[0m                                Traceback (most recent call last)",
      "\u001b[1;32m<ipython-input-27-34e7bd34f307>\u001b[0m in \u001b[0;36m<module>\u001b[1;34m()\u001b[0m\n\u001b[0;32m      1\u001b[0m \u001b[0ms\u001b[0m \u001b[1;33m=\u001b[0m \u001b[1;34m'hello world'\u001b[0m\u001b[1;33m\u001b[0m\u001b[0m\n\u001b[1;32m----> 2\u001b[1;33m \u001b[0ms\u001b[0m\u001b[1;33m.\u001b[0m\u001b[0mindex\u001b[0m\u001b[1;33m(\u001b[0m\u001b[1;34m'cat'\u001b[0m\u001b[1;33m)\u001b[0m\u001b[1;33m\u001b[0m\u001b[0m\n\u001b[0m",
      "\u001b[1;31mValueError\u001b[0m: substring not found"
     ]
    }
   ],
   "source": [
    "s = 'hello world'\n",
    "s.index('cat')"
   ]
  },
  {
   "cell_type": "code",
   "execution_count": 28,
   "metadata": {
    "ExecuteTime": {
     "end_time": "2019-01-15T10:57:36.495168Z",
     "start_time": "2019-01-15T10:57:36.487178Z"
    }
   },
   "outputs": [
    {
     "data": {
      "text/plain": [
       "0"
      ]
     },
     "execution_count": 28,
     "metadata": {},
     "output_type": "execute_result"
    }
   ],
   "source": [
    "s = 'hello world'\n",
    "s.index('hello')"
   ]
  },
  {
   "cell_type": "code",
   "execution_count": 83,
   "metadata": {
    "ExecuteTime": {
     "end_time": "2019-01-15T11:16:08.158871Z",
     "start_time": "2019-01-15T11:16:08.150882Z"
    }
   },
   "outputs": [
    {
     "data": {
      "text/plain": [
       "9"
      ]
     },
     "execution_count": 83,
     "metadata": {},
     "output_type": "execute_result"
    }
   ],
   "source": [
    "a = 'asdfghjkla'\n",
    "a.find('a',2)"
   ]
  },
  {
   "cell_type": "code",
   "execution_count": 82,
   "metadata": {
    "ExecuteTime": {
     "end_time": "2019-01-15T11:15:11.560523Z",
     "start_time": "2019-01-15T11:15:11.556530Z"
    }
   },
   "outputs": [
    {
     "name": "stdout",
     "output_type": "stream",
     "text": [
      "Help on method_descriptor:\n",
      "\n",
      "index(...)\n",
      "    S.index(sub[, start[, end]]) -> int\n",
      "    \n",
      "    Return the lowest index in S where substring sub is found, \n",
      "    such that sub is contained within S[start:end].  Optional\n",
      "    arguments start and end are interpreted as in slice notation.\n",
      "    \n",
      "    Raises ValueError when the substring is not found.\n",
      "\n"
     ]
    }
   ],
   "source": [
    "help(str.index)"
   ]
  },
  {
   "cell_type": "markdown",
   "metadata": {},
   "source": [
    "index()找不到内容会报错"
   ]
  },
  {
   "cell_type": "markdown",
   "metadata": {},
   "source": [
    "### 排版布局(layout)"
   ]
  },
  {
   "cell_type": "markdown",
   "metadata": {},
   "source": [
    "center() 方法返回一个指定的宽度 width 居中的字符串，fillchar 为填充的字符，默认为空格。"
   ]
  },
  {
   "cell_type": "code",
   "execution_count": 29,
   "metadata": {
    "ExecuteTime": {
     "end_time": "2019-01-15T10:57:44.100073Z",
     "start_time": "2019-01-15T10:57:44.092084Z"
    }
   },
   "outputs": [
    {
     "name": "stdout",
     "output_type": "stream",
     "text": [
      "******************************\n"
     ]
    },
    {
     "data": {
      "text/plain": [
       "'              a               '"
      ]
     },
     "execution_count": 29,
     "metadata": {},
     "output_type": "execute_result"
    }
   ],
   "source": [
    "s = 'a'\n",
    "print('*'*30)\n",
    "s.center(30)"
   ]
  },
  {
   "cell_type": "code",
   "execution_count": 30,
   "metadata": {
    "ExecuteTime": {
     "end_time": "2019-01-15T10:57:44.886672Z",
     "start_time": "2019-01-15T10:57:44.878683Z"
    }
   },
   "outputs": [
    {
     "name": "stdout",
     "output_type": "stream",
     "text": [
      "******************************\n"
     ]
    },
    {
     "data": {
      "text/plain": [
       "'--------------a---------------'"
      ]
     },
     "execution_count": 30,
     "metadata": {},
     "output_type": "execute_result"
    }
   ],
   "source": [
    "s = 'a'\n",
    "print('*'*30)\n",
    "s.center(30,'-')"
   ]
  },
  {
   "cell_type": "code",
   "execution_count": 31,
   "metadata": {
    "ExecuteTime": {
     "end_time": "2019-01-15T10:58:15.297688Z",
     "start_time": "2019-01-15T10:58:15.289699Z"
    }
   },
   "outputs": [
    {
     "name": "stdout",
     "output_type": "stream",
     "text": [
      "******************************\n"
     ]
    },
    {
     "data": {
      "text/plain": [
       "'a                             '"
      ]
     },
     "execution_count": 31,
     "metadata": {},
     "output_type": "execute_result"
    }
   ],
   "source": [
    "s = 'a'\n",
    "print('*'*30)\n",
    "s.ljust(30)"
   ]
  },
  {
   "cell_type": "code",
   "execution_count": 32,
   "metadata": {
    "ExecuteTime": {
     "end_time": "2019-01-15T10:58:17.581449Z",
     "start_time": "2019-01-15T10:58:17.573430Z"
    },
    "scrolled": true
   },
   "outputs": [
    {
     "name": "stdout",
     "output_type": "stream",
     "text": [
      "******************************\n"
     ]
    },
    {
     "data": {
      "text/plain": [
       "'                             a'"
      ]
     },
     "execution_count": 32,
     "metadata": {},
     "output_type": "execute_result"
    }
   ],
   "source": [
    "s = 'a'\n",
    "print('*'*30)\n",
    "s.rjust(30)"
   ]
  },
  {
   "cell_type": "markdown",
   "metadata": {},
   "source": [
    "###  反转字符串"
   ]
  },
  {
   "cell_type": "code",
   "execution_count": 33,
   "metadata": {
    "ExecuteTime": {
     "end_time": "2019-01-15T10:58:24.950302Z",
     "start_time": "2019-01-15T10:58:24.942315Z"
    },
    "scrolled": true
   },
   "outputs": [
    {
     "name": "stdout",
     "output_type": "stream",
     "text": [
      "lkjjhgfdsa\n",
      "l\n",
      "k\n",
      "j\n",
      "j\n",
      "h\n",
      "g\n",
      "f\n",
      "d\n",
      "s\n",
      "a\n",
      "987654321\n"
     ]
    }
   ],
   "source": [
    "'''\n",
    "reversing string with special case of slice step param\n",
    "slice 切片\n",
    "param 参数\n",
    "'''\n",
    "\n",
    "a = 'asdfghjjkl'\n",
    "print(a[::-1])\n",
    "\n",
    "'''iterating over string contents in reverse efficiently'''\n",
    "\n",
    "for char in reversed(a):\n",
    "    print(char)\n",
    "\n",
    "'''reversing an integer through type conversion and slicing'''\n",
    "num = 123456789\n",
    "print(int(str(num)[::-1]))"
   ]
  },
  {
   "cell_type": "markdown",
   "metadata": {},
   "source": [
    "### 字符串组成判断与比较"
   ]
  },
  {
   "cell_type": "code",
   "execution_count": 34,
   "metadata": {
    "ExecuteTime": {
     "end_time": "2019-01-15T10:58:34.548964Z",
     "start_time": "2019-01-15T10:58:34.540975Z"
    }
   },
   "outputs": [
    {
     "data": {
      "text/plain": [
       "True"
      ]
     },
     "execution_count": 34,
     "metadata": {},
     "output_type": "execute_result"
    }
   ],
   "source": [
    "# 判断是否全部为小写字母\n",
    "s = '1d%a@cb'\n",
    "s.islower()"
   ]
  },
  {
   "cell_type": "code",
   "execution_count": 35,
   "metadata": {
    "ExecuteTime": {
     "end_time": "2019-01-15T10:58:35.149946Z",
     "start_time": "2019-01-15T10:58:35.141957Z"
    }
   },
   "outputs": [
    {
     "data": {
      "text/plain": [
       "False"
      ]
     },
     "execution_count": 35,
     "metadata": {},
     "output_type": "execute_result"
    }
   ],
   "source": [
    "# 判断是否全部为大写字母\n",
    "s = '1d%D@cb'\n",
    "s.isupper()"
   ]
  },
  {
   "cell_type": "code",
   "execution_count": 36,
   "metadata": {
    "ExecuteTime": {
     "end_time": "2019-01-15T10:58:35.649363Z",
     "start_time": "2019-01-15T10:58:35.641405Z"
    }
   },
   "outputs": [
    {
     "data": {
      "text/plain": [
       "True"
      ]
     },
     "execution_count": 36,
     "metadata": {},
     "output_type": "execute_result"
    }
   ],
   "source": [
    "# 判断首字符是否为英文大写\n",
    "s = 'Hello 1World'\n",
    "s.istitle()"
   ]
  },
  {
   "cell_type": "code",
   "execution_count": 37,
   "metadata": {
    "ExecuteTime": {
     "end_time": "2019-01-15T10:58:36.304433Z",
     "start_time": "2019-01-15T10:58:36.296444Z"
    }
   },
   "outputs": [
    {
     "data": {
      "text/plain": [
       "False"
      ]
     },
     "execution_count": 37,
     "metadata": {},
     "output_type": "execute_result"
    }
   ],
   "source": [
    "# 字符为十进制或双字节整数\n",
    "s = 's2gdr'\n",
    "s.isdecimal()"
   ]
  },
  {
   "cell_type": "code",
   "execution_count": 38,
   "metadata": {
    "ExecuteTime": {
     "end_time": "2019-01-15T10:58:36.852885Z",
     "start_time": "2019-01-15T10:58:36.844899Z"
    }
   },
   "outputs": [
    {
     "data": {
      "text/plain": [
       "False"
      ]
     },
     "execution_count": 38,
     "metadata": {},
     "output_type": "execute_result"
    }
   ],
   "source": [
    "s = 's2.0'\n",
    "s.isdecimal()"
   ]
  },
  {
   "cell_type": "code",
   "execution_count": 39,
   "metadata": {
    "ExecuteTime": {
     "end_time": "2019-01-15T10:58:37.439353Z",
     "start_time": "2019-01-15T10:58:37.431365Z"
    }
   },
   "outputs": [
    {
     "data": {
      "text/plain": [
       "True"
      ]
     },
     "execution_count": 39,
     "metadata": {},
     "output_type": "execute_result"
    }
   ],
   "source": [
    "s = '2'\n",
    "s.isdecimal()"
   ]
  },
  {
   "cell_type": "code",
   "execution_count": 40,
   "metadata": {
    "ExecuteTime": {
     "end_time": "2019-01-15T10:58:38.108629Z",
     "start_time": "2019-01-15T10:58:38.100639Z"
    }
   },
   "outputs": [
    {
     "data": {
      "text/plain": [
       "False"
      ]
     },
     "execution_count": 40,
     "metadata": {},
     "output_type": "execute_result"
    }
   ],
   "source": [
    "s = '0b10'\n",
    "s.isdecimal()"
   ]
  },
  {
   "cell_type": "code",
   "execution_count": 41,
   "metadata": {
    "ExecuteTime": {
     "end_time": "2019-01-15T10:58:38.615080Z",
     "start_time": "2019-01-15T10:58:38.607127Z"
    }
   },
   "outputs": [
    {
     "data": {
      "text/plain": [
       "False"
      ]
     },
     "execution_count": 41,
     "metadata": {},
     "output_type": "execute_result"
    }
   ],
   "source": [
    "# 判断字符串是否为十进制/单字节/双字节整数\n",
    "s = '0b10'\n",
    "s.isdigit()"
   ]
  },
  {
   "cell_type": "code",
   "execution_count": 42,
   "metadata": {
    "ExecuteTime": {
     "end_time": "2019-01-15T10:58:39.162352Z",
     "start_time": "2019-01-15T10:58:39.154393Z"
    }
   },
   "outputs": [
    {
     "data": {
      "text/plain": [
       "True"
      ]
     },
     "execution_count": 42,
     "metadata": {},
     "output_type": "execute_result"
    }
   ],
   "source": [
    "# 字符串是否为十进制/单字节/双字节整数/汉字数字\n",
    "s = '二'\n",
    "s.isnumeric()"
   ]
  },
  {
   "cell_type": "code",
   "execution_count": 43,
   "metadata": {
    "ExecuteTime": {
     "end_time": "2019-01-15T10:58:39.789255Z",
     "start_time": "2019-01-15T10:58:39.781265Z"
    }
   },
   "outputs": [
    {
     "data": {
      "text/plain": [
       "False"
      ]
     },
     "execution_count": 43,
     "metadata": {},
     "output_type": "execute_result"
    }
   ],
   "source": [
    "# 判断字符串是不是有效标识符(可用来判断变量名是否合法)\n",
    "s = '_ 1'\n",
    "s.isidentifier()"
   ]
  },
  {
   "cell_type": "code",
   "execution_count": 44,
   "metadata": {
    "ExecuteTime": {
     "end_time": "2019-01-15T10:58:40.330758Z",
     "start_time": "2019-01-15T10:58:40.322797Z"
    }
   },
   "outputs": [
    {
     "data": {
      "text/plain": [
       "False"
      ]
     },
     "execution_count": 44,
     "metadata": {},
     "output_type": "execute_result"
    }
   ],
   "source": [
    "# 判断字符串是否全部为空格\n",
    "s = ' 0 '\n",
    "s.isspace()"
   ]
  },
  {
   "cell_type": "code",
   "execution_count": 45,
   "metadata": {
    "ExecuteTime": {
     "end_time": "2019-01-15T10:58:40.897223Z",
     "start_time": "2019-01-15T10:58:40.893231Z"
    }
   },
   "outputs": [
    {
     "data": {
      "text/plain": [
       "True"
      ]
     },
     "execution_count": 45,
     "metadata": {},
     "output_type": "execute_result"
    }
   ],
   "source": [
    "str1 = 'ab'\n",
    "str2 = 'abc'\n",
    "str1 < str2"
   ]
  },
  {
   "cell_type": "code",
   "execution_count": 46,
   "metadata": {
    "ExecuteTime": {
     "end_time": "2019-01-15T10:58:41.422141Z",
     "start_time": "2019-01-15T10:58:41.414182Z"
    }
   },
   "outputs": [
    {
     "data": {
      "text/plain": [
       "True"
      ]
     },
     "execution_count": 46,
     "metadata": {},
     "output_type": "execute_result"
    }
   ],
   "source": [
    "str1 = 'ac'\n",
    "str2 = 'abc'\n",
    "str1 > str2"
   ]
  },
  {
   "cell_type": "markdown",
   "metadata": {},
   "source": [
    "###  其他工具"
   ]
  },
  {
   "cell_type": "code",
   "execution_count": 47,
   "metadata": {
    "ExecuteTime": {
     "end_time": "2019-01-15T10:58:48.422434Z",
     "start_time": "2019-01-15T10:58:48.414446Z"
    }
   },
   "outputs": [
    {
     "data": {
      "text/plain": [
       "True"
      ]
     },
     "execution_count": 47,
     "metadata": {},
     "output_type": "execute_result"
    }
   ],
   "source": [
    "s = '123445'\n",
    "# s.startwith('1')\n",
    "s.startswith('1')"
   ]
  },
  {
   "cell_type": "code",
   "execution_count": 48,
   "metadata": {
    "ExecuteTime": {
     "end_time": "2019-01-15T10:58:49.230788Z",
     "start_time": "2019-01-15T10:58:49.222800Z"
    }
   },
   "outputs": [
    {
     "data": {
      "text/plain": [
       "False"
      ]
     },
     "execution_count": 48,
     "metadata": {},
     "output_type": "execute_result"
    }
   ],
   "source": [
    "s = '123445'\n",
    "s.endswith('1')"
   ]
  },
  {
   "cell_type": "code",
   "execution_count": 49,
   "metadata": {
    "ExecuteTime": {
     "end_time": "2019-01-15T10:58:49.907979Z",
     "start_time": "2019-01-15T10:58:49.899989Z"
    }
   },
   "outputs": [
    {
     "data": {
      "text/plain": [
       "4"
      ]
     },
     "execution_count": 49,
     "metadata": {},
     "output_type": "execute_result"
    }
   ],
   "source": [
    "s='1123112'\n",
    "s.count('1')"
   ]
  },
  {
   "cell_type": "markdown",
   "metadata": {},
   "source": [
    "isalnum() 方法检测字符串是否由字母和数字组成。"
   ]
  },
  {
   "cell_type": "code",
   "execution_count": 50,
   "metadata": {
    "ExecuteTime": {
     "end_time": "2019-01-15T10:58:51.055636Z",
     "start_time": "2019-01-15T10:58:51.047646Z"
    }
   },
   "outputs": [
    {
     "data": {
      "text/plain": [
       "False"
      ]
     },
     "execution_count": 50,
     "metadata": {},
     "output_type": "execute_result"
    }
   ],
   "source": [
    "s = ' 1234abv'\n",
    "s.isalnum()"
   ]
  },
  {
   "cell_type": "code",
   "execution_count": 51,
   "metadata": {
    "ExecuteTime": {
     "end_time": "2019-01-15T10:58:51.673536Z",
     "start_time": "2019-01-15T10:58:51.665546Z"
    }
   },
   "outputs": [
    {
     "data": {
      "text/plain": [
       "True"
      ]
     },
     "execution_count": 51,
     "metadata": {},
     "output_type": "execute_result"
    }
   ],
   "source": [
    "s = '1234abv'\n",
    "s.isalnum()"
   ]
  },
  {
   "cell_type": "markdown",
   "metadata": {},
   "source": [
    "使用isupper()和islower()方法检查字符春是否全为大写或小写。"
   ]
  },
  {
   "cell_type": "code",
   "execution_count": 52,
   "metadata": {
    "ExecuteTime": {
     "end_time": "2019-01-15T10:58:52.764412Z",
     "start_time": "2019-01-15T10:58:52.756423Z"
    }
   },
   "outputs": [
    {
     "data": {
      "text/plain": [
       "False"
      ]
     },
     "execution_count": 52,
     "metadata": {},
     "output_type": "execute_result"
    }
   ],
   "source": [
    "'AyuShi'.isupper()"
   ]
  },
  {
   "cell_type": "code",
   "execution_count": 53,
   "metadata": {
    "ExecuteTime": {
     "end_time": "2019-01-15T10:58:53.339481Z",
     "start_time": "2019-01-15T10:58:53.331461Z"
    }
   },
   "outputs": [
    {
     "data": {
      "text/plain": [
       "True"
      ]
     },
     "execution_count": 53,
     "metadata": {},
     "output_type": "execute_result"
    }
   ],
   "source": [
    "'@yu$hi'.islower()"
   ]
  },
  {
   "cell_type": "markdown",
   "metadata": {},
   "source": [
    "像@和$这样的字符既满足大写也满足小写。"
   ]
  },
  {
   "cell_type": "markdown",
   "metadata": {},
   "source": [
    "Istitle()能告诉我们一个字符串是否为标题格式"
   ]
  },
  {
   "cell_type": "code",
   "execution_count": 54,
   "metadata": {
    "ExecuteTime": {
     "end_time": "2019-01-15T10:58:55.434526Z",
     "start_time": "2019-01-15T10:58:55.426529Z"
    },
    "scrolled": true
   },
   "outputs": [
    {
     "data": {
      "text/plain": [
       "True"
      ]
     },
     "execution_count": 54,
     "metadata": {},
     "output_type": "execute_result"
    }
   ],
   "source": [
    "'The Corpse Bride'.istitle()"
   ]
  },
  {
   "cell_type": "code",
   "execution_count": 55,
   "metadata": {
    "ExecuteTime": {
     "end_time": "2019-01-15T10:58:56.024042Z",
     "start_time": "2019-01-15T10:58:56.016054Z"
    }
   },
   "outputs": [
    {
     "data": {
      "text/plain": [
       "True"
      ]
     },
     "execution_count": 55,
     "metadata": {},
     "output_type": "execute_result"
    }
   ],
   "source": [
    "'The Corpse 1Bride'.istitle()"
   ]
  },
  {
   "cell_type": "markdown",
   "metadata": {},
   "source": [
    "通过成员运算符‘in’和‘not in’，我们可以确认一个值是否是另一个值的成员。"
   ]
  },
  {
   "cell_type": "code",
   "execution_count": 56,
   "metadata": {
    "ExecuteTime": {
     "end_time": "2019-01-15T10:58:57.062162Z",
     "start_time": "2019-01-15T10:58:57.054171Z"
    }
   },
   "outputs": [
    {
     "data": {
      "text/plain": [
       "True"
      ]
     },
     "execution_count": 56,
     "metadata": {},
     "output_type": "execute_result"
    }
   ],
   "source": [
    "'me' in 'disappointment'"
   ]
  },
  {
   "cell_type": "code",
   "execution_count": 57,
   "metadata": {
    "ExecuteTime": {
     "end_time": "2019-01-15T10:58:57.689810Z",
     "start_time": "2019-01-15T10:58:57.681822Z"
    }
   },
   "outputs": [
    {
     "data": {
      "text/plain": [
       "False"
      ]
     },
     "execution_count": 57,
     "metadata": {},
     "output_type": "execute_result"
    }
   ],
   "source": [
    "'me' in 'disappointm ent'"
   ]
  },
  {
   "cell_type": "code",
   "execution_count": 58,
   "metadata": {
    "ExecuteTime": {
     "end_time": "2019-01-15T10:58:58.850476Z",
     "start_time": "2019-01-15T10:58:58.842488Z"
    },
    "scrolled": true
   },
   "outputs": [
    {
     "data": {
      "text/plain": [
       "True"
      ]
     },
     "execution_count": 58,
     "metadata": {},
     "output_type": "execute_result"
    }
   ],
   "source": [
    "'us' not in 'disappointment'"
   ]
  },
  {
   "cell_type": "markdown",
   "metadata": {},
   "source": [
    "### 字符串不能干什么"
   ]
  },
  {
   "cell_type": "markdown",
   "metadata": {},
   "source": [
    "#### 受限的序列"
   ]
  },
  {
   "cell_type": "markdown",
   "metadata": {},
   "source": [
    "与典型的序列类型相比，字符串不具备列表的如下操作：append()、clear()、copy()、insert()、pop()、remove()，等等。这是为什么呢？\n",
    "\n",
    "有几个很好理解，即append()、insert()、pop() 和 remove()，它们都是对单个元素的操作，但是，字符串中的单个元素就是单个字符，通常没有任何意义，我们也不会频繁对其做增删操作，所以，字符串没有这几个方法也算合理。\n",
    "\n",
    "列表的 clear() 方法会清空列表，用来节省内存空间，效果等于anylist[:] = []，但是，奇怪的是，Python 并不支持清空/删除操作。\n",
    "\n",
    "首先，字符串没有 clear() 方法，其次，它是不可变对象，不支持这种赋值操作anystr[:] = ''，也不支持del anystr[:]操作："
   ]
  },
  {
   "cell_type": "code",
   "execution_count": 59,
   "metadata": {
    "ExecuteTime": {
     "end_time": "2019-01-15T10:59:13.462861Z",
     "start_time": "2019-01-15T10:59:13.450878Z"
    }
   },
   "outputs": [
    {
     "ename": "TypeError",
     "evalue": "'str' object does not support item assignment",
     "output_type": "error",
     "traceback": [
      "\u001b[1;31m---------------------------------------------------------------------------\u001b[0m",
      "\u001b[1;31mTypeError\u001b[0m                                 Traceback (most recent call last)",
      "\u001b[1;32m<ipython-input-59-5b29fea538c7>\u001b[0m in \u001b[0;36m<module>\u001b[1;34m()\u001b[0m\n\u001b[0;32m      1\u001b[0m \u001b[0ms\u001b[0m \u001b[1;33m=\u001b[0m \u001b[1;34m'Hello world'\u001b[0m\u001b[1;33m\u001b[0m\u001b[0m\n\u001b[0;32m      2\u001b[0m \u001b[1;33m\u001b[0m\u001b[0m\n\u001b[1;32m----> 3\u001b[1;33m \u001b[0ms\u001b[0m\u001b[1;33m[\u001b[0m\u001b[1;33m:\u001b[0m\u001b[1;33m]\u001b[0m \u001b[1;33m=\u001b[0m \u001b[1;34m''\u001b[0m\u001b[1;33m\u001b[0m\u001b[0m\n\u001b[0m",
      "\u001b[1;31mTypeError\u001b[0m: 'str' object does not support item assignment"
     ]
    }
   ],
   "source": [
    "s = 'Hello world'\n",
    "\n",
    "s[:] = ''"
   ]
  },
  {
   "cell_type": "markdown",
   "metadata": {},
   "source": [
    "当然，你也别想通过del s来删除字符串，因为变量名 s 只是字符串对象的引用（挖坑，以后写写这个话题），只是一个标签，删除标签并不会直接导致对象实体的消亡。\n",
    "\n",
    "如此看来，想要手动清空/删除 Python 字符串，似乎是无解。\n",
    "\n",
    "最后还有一个 copy() 方法，这就是拷贝嘛，可是字符串也没有这个方法。为什么呢？难道拷贝字符串的场景不多么？在这点上，我也没想出个所以然来，搁置疑问。\n",
    "\n",
    "通过以上几个常用列表操作的比较，我们可以看出字符串这种序列是挺受限的。列表可以看成多节车厢链接成的火车，而字符串感觉就只像多个座椅联排成的长车厢，真是同源不同相啊。"
   ]
  },
  {
   "cell_type": "markdown",
   "metadata": {},
   "source": [
    "##  数字"
   ]
  },
  {
   "cell_type": "markdown",
   "metadata": {},
   "source": [
    "### 整数"
   ]
  },
  {
   "cell_type": "code",
   "execution_count": 60,
   "metadata": {
    "ExecuteTime": {
     "end_time": "2019-01-15T10:59:25.768403Z",
     "start_time": "2019-01-15T10:59:25.760415Z"
    }
   },
   "outputs": [
    {
     "name": "stdout",
     "output_type": "stream",
     "text": [
      "9\n"
     ]
    }
   ],
   "source": [
    "print(3 ** 2)"
   ]
  },
  {
   "cell_type": "markdown",
   "metadata": {},
   "source": [
    "###  浮点数\n",
    "有时结果包含的位数是不确定的,python寻找一种方式,尽可能精确表示结果"
   ]
  },
  {
   "cell_type": "code",
   "execution_count": 62,
   "metadata": {
    "ExecuteTime": {
     "end_time": "2019-01-15T10:59:34.944400Z",
     "start_time": "2019-01-15T10:59:34.936411Z"
    }
   },
   "outputs": [
    {
     "name": "stdout",
     "output_type": "stream",
     "text": [
      "0.2\n",
      "0.30000000000000004\n",
      "0.30000000000000004\n"
     ]
    }
   ],
   "source": [
    "print(0.1 + 0.1)\n",
    "print(0.2 + 0.1)\n",
    "print(3 * 0.1)"
   ]
  },
  {
   "cell_type": "code",
   "execution_count": 63,
   "metadata": {
    "ExecuteTime": {
     "end_time": "2019-01-15T10:59:35.670295Z",
     "start_time": "2019-01-15T10:59:35.662307Z"
    }
   },
   "outputs": [
    {
     "data": {
      "text/plain": [
       "0.6666666666666666"
      ]
     },
     "execution_count": 63,
     "metadata": {},
     "output_type": "execute_result"
    }
   ],
   "source": [
    "2/3"
   ]
  },
  {
   "cell_type": "markdown",
   "metadata": {},
   "source": [
    "用除法默认是浮点数"
   ]
  },
  {
   "cell_type": "code",
   "execution_count": 64,
   "metadata": {
    "ExecuteTime": {
     "end_time": "2019-01-15T10:59:37.568097Z",
     "start_time": "2019-01-15T10:59:37.560108Z"
    }
   },
   "outputs": [
    {
     "data": {
      "text/plain": [
       "0"
      ]
     },
     "execution_count": 64,
     "metadata": {},
     "output_type": "execute_result"
    }
   ],
   "source": [
    "2//3"
   ]
  },
  {
   "cell_type": "markdown",
   "metadata": {},
   "source": [
    "这样输出是整数"
   ]
  },
  {
   "cell_type": "markdown",
   "metadata": {},
   "source": [
    "### 其他数值也可以数字识别"
   ]
  },
  {
   "cell_type": "code",
   "execution_count": 65,
   "metadata": {
    "ExecuteTime": {
     "end_time": "2019-01-15T10:59:45.524293Z",
     "start_time": "2019-01-15T10:59:45.516303Z"
    }
   },
   "outputs": [
    {
     "name": "stdout",
     "output_type": "stream",
     "text": [
      "16\n",
      "8\n",
      "2\n",
      "1250.0\n"
     ]
    }
   ],
   "source": [
    "# 16进制\n",
    "print(0x10)\n",
    "# 8进制\n",
    "print(0o10)\n",
    "# 2进制\n",
    "print(0b10)\n",
    "# 指数\n",
    "print(1.25e3)"
   ]
  },
  {
   "cell_type": "code",
   "execution_count": 66,
   "metadata": {
    "ExecuteTime": {
     "end_time": "2019-01-15T10:59:50.762694Z",
     "start_time": "2019-01-15T10:59:46.391857Z"
    }
   },
   "outputs": [
    {
     "name": "stdout",
     "output_type": "stream",
     "text": [
      "输入十进制数据123\n",
      "二进制为 0b1111011\n",
      "八进制为 0o173\n",
      "十六进制为 0x7b\n"
     ]
    }
   ],
   "source": [
    "# 转化\n",
    "a = int(input('输入十进制数据'))\n",
    "print('二进制为',bin(a))\n",
    "print('八进制为',oct(a))\n",
    "print('十六进制为',hex(a))"
   ]
  },
  {
   "cell_type": "markdown",
   "metadata": {},
   "source": [
    "###  使用str()避免错误\n",
    "python无法理解13.在这里,python发现一个int变量,但不知如何解读"
   ]
  },
  {
   "cell_type": "code",
   "execution_count": 67,
   "metadata": {
    "ExecuteTime": {
     "end_time": "2019-01-15T11:00:04.163714Z",
     "start_time": "2019-01-15T11:00:04.151729Z"
    }
   },
   "outputs": [
    {
     "ename": "TypeError",
     "evalue": "must be str, not int",
     "output_type": "error",
     "traceback": [
      "\u001b[1;31m---------------------------------------------------------------------------\u001b[0m",
      "\u001b[1;31mTypeError\u001b[0m                                 Traceback (most recent call last)",
      "\u001b[1;32m<ipython-input-67-66c3aaa54df2>\u001b[0m in \u001b[0;36m<module>\u001b[1;34m()\u001b[0m\n\u001b[0;32m      1\u001b[0m \u001b[0mage\u001b[0m \u001b[1;33m=\u001b[0m \u001b[1;36m13\u001b[0m\u001b[1;33m\u001b[0m\u001b[0m\n\u001b[1;32m----> 2\u001b[1;33m \u001b[0ma\u001b[0m \u001b[1;33m=\u001b[0m \u001b[1;34m'My age is '\u001b[0m \u001b[1;33m+\u001b[0m \u001b[0mage\u001b[0m\u001b[1;33m\u001b[0m\u001b[0m\n\u001b[0m\u001b[0;32m      3\u001b[0m \u001b[0mprint\u001b[0m\u001b[1;33m(\u001b[0m\u001b[0ma\u001b[0m\u001b[1;33m)\u001b[0m\u001b[1;33m\u001b[0m\u001b[0m\n",
      "\u001b[1;31mTypeError\u001b[0m: must be str, not int"
     ]
    }
   ],
   "source": [
    "age = 13\n",
    "a = 'My age is ' + age\n",
    "print(a)"
   ]
  },
  {
   "cell_type": "code",
   "execution_count": 68,
   "metadata": {
    "ExecuteTime": {
     "end_time": "2019-01-15T11:00:06.020408Z",
     "start_time": "2019-01-15T11:00:06.012420Z"
    }
   },
   "outputs": [
    {
     "name": "stdout",
     "output_type": "stream",
     "text": [
      "My age is 13\n"
     ]
    }
   ],
   "source": [
    "age = 13\n",
    "a = 'My age is ' + str(age)\n",
    "print(a)"
   ]
  },
  {
   "cell_type": "markdown",
   "metadata": {},
   "source": [
    "## 数据类型"
   ]
  },
  {
   "cell_type": "markdown",
   "metadata": {},
   "source": [
    "###  整型 int\n",
    "python3 int没有长度限制"
   ]
  },
  {
   "cell_type": "code",
   "execution_count": 69,
   "metadata": {
    "ExecuteTime": {
     "end_time": "2019-01-15T11:00:32.524784Z",
     "start_time": "2019-01-15T11:00:32.516795Z"
    }
   },
   "outputs": [
    {
     "data": {
      "text/plain": [
       "-123"
      ]
     },
     "execution_count": 69,
     "metadata": {},
     "output_type": "execute_result"
    }
   ],
   "source": [
    "int('-123')"
   ]
  },
  {
   "cell_type": "markdown",
   "metadata": {},
   "source": [
    "### 浮点型 float"
   ]
  },
  {
   "cell_type": "code",
   "execution_count": 70,
   "metadata": {
    "ExecuteTime": {
     "end_time": "2019-01-15T11:00:54.850059Z",
     "start_time": "2019-01-15T11:00:54.842070Z"
    }
   },
   "outputs": [
    {
     "data": {
      "text/plain": [
       "0.6666666666666666"
      ]
     },
     "execution_count": 70,
     "metadata": {},
     "output_type": "execute_result"
    }
   ],
   "source": [
    "2/3"
   ]
  },
  {
   "cell_type": "code",
   "execution_count": 71,
   "metadata": {
    "ExecuteTime": {
     "end_time": "2019-01-15T11:00:55.762420Z",
     "start_time": "2019-01-15T11:00:55.754431Z"
    }
   },
   "outputs": [
    {
     "data": {
      "text/plain": [
       "2.0"
      ]
     },
     "execution_count": 71,
     "metadata": {},
     "output_type": "execute_result"
    }
   ],
   "source": [
    "10/5"
   ]
  },
  {
   "cell_type": "markdown",
   "metadata": {},
   "source": [
    "除法默认是浮点数"
   ]
  },
  {
   "cell_type": "code",
   "execution_count": 72,
   "metadata": {
    "ExecuteTime": {
     "end_time": "2019-01-15T11:00:57.855381Z",
     "start_time": "2019-01-15T11:00:57.847394Z"
    }
   },
   "outputs": [
    {
     "data": {
      "text/plain": [
       "0"
      ]
     },
     "execution_count": 72,
     "metadata": {},
     "output_type": "execute_result"
    }
   ],
   "source": [
    "2//3 #这样取整"
   ]
  },
  {
   "cell_type": "code",
   "execution_count": 73,
   "metadata": {
    "ExecuteTime": {
     "end_time": "2019-01-15T11:00:58.576423Z",
     "start_time": "2019-01-15T11:00:58.568434Z"
    }
   },
   "outputs": [
    {
     "data": {
      "text/plain": [
       "3.0"
      ]
     },
     "execution_count": 73,
     "metadata": {},
     "output_type": "execute_result"
    }
   ],
   "source": [
    "1 + 2.0"
   ]
  },
  {
   "cell_type": "markdown",
   "metadata": {},
   "source": [
    "### 布尔值 boolean"
   ]
  },
  {
   "cell_type": "code",
   "execution_count": 74,
   "metadata": {
    "ExecuteTime": {
     "end_time": "2019-01-15T11:01:04.236152Z",
     "start_time": "2019-01-15T11:01:04.228162Z"
    }
   },
   "outputs": [
    {
     "data": {
      "text/plain": [
       "bool"
      ]
     },
     "execution_count": 74,
     "metadata": {},
     "output_type": "execute_result"
    }
   ],
   "source": [
    "type(1<2)"
   ]
  },
  {
   "cell_type": "code",
   "execution_count": 75,
   "metadata": {
    "ExecuteTime": {
     "end_time": "2019-01-15T11:01:04.837618Z",
     "start_time": "2019-01-15T11:01:04.829631Z"
    }
   },
   "outputs": [
    {
     "data": {
      "text/plain": [
       "True"
      ]
     },
     "execution_count": 75,
     "metadata": {},
     "output_type": "execute_result"
    }
   ],
   "source": [
    "(2<1)or(1<2)"
   ]
  },
  {
   "cell_type": "code",
   "execution_count": 76,
   "metadata": {
    "ExecuteTime": {
     "end_time": "2019-01-15T11:01:05.568707Z",
     "start_time": "2019-01-15T11:01:05.560718Z"
    }
   },
   "outputs": [
    {
     "data": {
      "text/plain": [
       "2"
      ]
     },
     "execution_count": 76,
     "metadata": {},
     "output_type": "execute_result"
    }
   ],
   "source": [
    "True +1"
   ]
  },
  {
   "cell_type": "code",
   "execution_count": 77,
   "metadata": {
    "ExecuteTime": {
     "end_time": "2019-01-15T11:01:06.104159Z",
     "start_time": "2019-01-15T11:01:06.096171Z"
    }
   },
   "outputs": [
    {
     "data": {
      "text/plain": [
       "True"
      ]
     },
     "execution_count": 77,
     "metadata": {},
     "output_type": "execute_result"
    }
   ],
   "source": [
    "not (2 < 1)"
   ]
  },
  {
   "cell_type": "code",
   "execution_count": 78,
   "metadata": {
    "ExecuteTime": {
     "end_time": "2019-01-15T11:01:06.643439Z",
     "start_time": "2019-01-15T11:01:06.639447Z"
    }
   },
   "outputs": [
    {
     "data": {
      "text/plain": [
       "True"
      ]
     },
     "execution_count": 78,
     "metadata": {},
     "output_type": "execute_result"
    }
   ],
   "source": [
    "{1,3,2,2}=={1,2,3} #这是一个集合"
   ]
  },
  {
   "cell_type": "markdown",
   "metadata": {},
   "source": [
    "## python之禅"
   ]
  },
  {
   "cell_type": "code",
   "execution_count": 79,
   "metadata": {
    "ExecuteTime": {
     "end_time": "2019-01-15T11:01:13.498465Z",
     "start_time": "2019-01-15T11:01:13.342672Z"
    }
   },
   "outputs": [
    {
     "name": "stdout",
     "output_type": "stream",
     "text": [
      "The Zen of Python, by Tim Peters\n",
      "\n",
      "Beautiful is better than ugly.\n",
      "Explicit is better than implicit.\n",
      "Simple is better than complex.\n",
      "Complex is better than complicated.\n",
      "Flat is better than nested.\n",
      "Sparse is better than dense.\n",
      "Readability counts.\n",
      "Special cases aren't special enough to break the rules.\n",
      "Although practicality beats purity.\n",
      "Errors should never pass silently.\n",
      "Unless explicitly silenced.\n",
      "In the face of ambiguity, refuse the temptation to guess.\n",
      "There should be one-- and preferably only one --obvious way to do it.\n",
      "Although that way may not be obvious at first unless you're Dutch.\n",
      "Now is better than never.\n",
      "Although never is often better than *right* now.\n",
      "If the implementation is hard to explain, it's a bad idea.\n",
      "If the implementation is easy to explain, it may be a good idea.\n",
      "Namespaces are one honking great idea -- let's do more of those!\n"
     ]
    }
   ],
   "source": [
    "import this"
   ]
  }
 ],
 "metadata": {
  "jupytext": {
   "formats": "ipynb,py:light,md"
  },
  "kernelspec": {
   "display_name": "Python 3",
   "language": "python",
   "name": "python3"
  },
  "language_info": {
   "codemirror_mode": {
    "name": "ipython",
    "version": 3
   },
   "file_extension": ".py",
   "mimetype": "text/x-python",
   "name": "python",
   "nbconvert_exporter": "python",
   "pygments_lexer": "ipython3",
   "version": "3.7.4"
  },
  "latex_envs": {
   "LaTeX_envs_menu_present": true,
   "autoclose": false,
   "autocomplete": true,
   "bibliofile": "biblio.bib",
   "cite_by": "apalike",
   "current_citInitial": 1,
   "eqLabelWithNumbers": true,
   "eqNumInitial": 1,
   "hotkeys": {
    "equation": "Ctrl-E",
    "itemize": "Ctrl-I"
   },
   "labels_anchors": false,
   "latex_user_defs": false,
   "report_style_numbering": false,
   "user_envs_cfg": false
  },
  "toc": {
   "base_numbering": 1,
   "nav_menu": {},
   "number_sections": true,
   "sideBar": true,
   "skip_h1_title": false,
   "title_cell": "Table of Contents",
   "title_sidebar": "Contents",
   "toc_cell": false,
   "toc_position": {
    "height": "calc(100% - 180px)",
    "left": "10px",
    "top": "150px",
    "width": "218.55px"
   },
   "toc_section_display": true,
   "toc_window_display": true
  },
  "varInspector": {
   "cols": {
    "lenName": 16,
    "lenType": 16,
    "lenVar": 40
   },
   "kernels_config": {
    "python": {
     "delete_cmd_postfix": "",
     "delete_cmd_prefix": "del ",
     "library": "var_list.py",
     "varRefreshCmd": "print(var_dic_list())"
    },
    "r": {
     "delete_cmd_postfix": ") ",
     "delete_cmd_prefix": "rm(",
     "library": "var_list.r",
     "varRefreshCmd": "cat(var_dic_list()) "
    }
   },
   "types_to_exclude": [
    "module",
    "function",
    "builtin_function_or_method",
    "instance",
    "_Feature"
   ],
   "window_display": false
  }
 },
 "nbformat": 4,
 "nbformat_minor": 4
}
