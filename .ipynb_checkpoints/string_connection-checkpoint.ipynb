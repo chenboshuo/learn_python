{
 "cells": [
  {
   "cell_type": "markdown",
   "metadata": {},
   "source": [
    "# 链接方法的检测"
   ]
  },
  {
   "cell_type": "code",
   "execution_count": null,
   "metadata": {},
   "outputs": [
    {
     "name": "stdout",
     "output_type": "stream",
     "text": [
      "         4 function calls in 0.018 seconds\n",
      "\n",
      "   Ordered by: standard name\n",
      "\n",
      "   ncalls  tottime  percall  cumtime  percall filename:lineno(function)\n",
      "        1    0.013    0.013    0.013    0.013 <ipython-input-1-8f035c05710e>:2(concat_way1)\n",
      "        1    0.005    0.005    0.018    0.018 <string>:1(<module>)\n",
      "        1    0.000    0.000    0.018    0.018 {built-in method builtins.exec}\n",
      "        1    0.000    0.000    0.000    0.000 {method 'disable' of '_lsprof.Profiler' objects}\n",
      "\n",
      "\n"
     ]
    }
   ],
   "source": [
    "import cProfile\n",
    "def concat_way1():\n",
    "   fir = 'Hello' * 1000000\n",
    "   sec = '极客猴' * 1000000\n",
    "   result = fir + sec\n",
    "cProfile.run('concat_way1()')"
   ]
  },
  {
   "cell_type": "code",
   "execution_count": 2,
   "metadata": {},
   "outputs": [
    {
     "name": "stdout",
     "output_type": "stream",
     "text": [
      "         4 function calls in 0.027 seconds\n",
      "\n",
      "   Ordered by: standard name\n",
      "\n",
      "   ncalls  tottime  percall  cumtime  percall filename:lineno(function)\n",
      "        1    0.020    0.020    0.020    0.020 <ipython-input-2-56fd1f3be12b>:2(concat_way2)\n",
      "        1    0.006    0.006    0.026    0.026 <string>:1(<module>)\n",
      "        1    0.000    0.000    0.026    0.026 {built-in method builtins.exec}\n",
      "        1    0.000    0.000    0.000    0.000 {method 'disable' of '_lsprof.Profiler' objects}\n",
      "\n",
      "\n"
     ]
    }
   ],
   "source": [
    "# 使用 \"%\" 运算符连接\n",
    "import cProfile\n",
    "def concat_way2():\n",
    "   fir = 'Hello' * 1000000\n",
    "   sec = '极客猴' * 1000000\n",
    "   result = '%s%s' % (fir, sec)\n",
    "cProfile.run('concat_way2()')"
   ]
  },
  {
   "cell_type": "markdown",
   "metadata": {},
   "source": [
    "使用 format() 格式化连接, 隐藏参数位置"
   ]
  },
  {
   "cell_type": "code",
   "execution_count": 10,
   "metadata": {},
   "outputs": [
    {
     "name": "stdout",
     "output_type": "stream",
     "text": [
      "         5 function calls in 0.025 seconds\n",
      "\n",
      "   Ordered by: standard name\n",
      "\n",
      "   ncalls  tottime  percall  cumtime  percall filename:lineno(function)\n",
      "        1    0.009    0.009    0.020    0.020 <ipython-input-10-7b6dfa7eda94>:1(concat_way3)\n",
      "        1    0.005    0.005    0.025    0.025 <string>:1(<module>)\n",
      "        1    0.000    0.000    0.025    0.025 {built-in method builtins.exec}\n",
      "        1    0.000    0.000    0.000    0.000 {method 'disable' of '_lsprof.Profiler' objects}\n",
      "        1    0.011    0.011    0.011    0.011 {method 'format' of 'str' objects}\n",
      "\n",
      "\n"
     ]
    }
   ],
   "source": [
    "def concat_way3():\n",
    "   str1 = 'Hello' * 1000000\n",
    "   sec = '极客猴' * 1000000\n",
    "   result = '{}{}'.format(str1, sec)\n",
    "cProfile.run('concat_way3()')"
   ]
  },
  {
   "cell_type": "code",
   "execution_count": 11,
   "metadata": {},
   "outputs": [
    {
     "name": "stdout",
     "output_type": "stream",
     "text": [
      "         5 function calls in 0.022 seconds\n",
      "\n",
      "   Ordered by: standard name\n",
      "\n",
      "   ncalls  tottime  percall  cumtime  percall filename:lineno(function)\n",
      "        1    0.006    0.006    0.018    0.018 <ipython-input-11-b5b83870fad9>:2(concat_way4)\n",
      "        1    0.004    0.004    0.022    0.022 <string>:1(<module>)\n",
      "        1    0.000    0.000    0.022    0.022 {built-in method builtins.exec}\n",
      "        1    0.000    0.000    0.000    0.000 {method 'disable' of '_lsprof.Profiler' objects}\n",
      "        1    0.012    0.012    0.012    0.012 {method 'format' of 'str' objects}\n",
      "\n",
      "\n"
     ]
    }
   ],
   "source": [
    "# 使用 format() 格式化连接, 指定参数位置\n",
    "def concat_way4():\n",
    "   fir = 'Hello' * 1000000\n",
    "   sec = '极客猴' * 1000000\n",
    "   result = '{0}{1}'.format(fir, sec)\n",
    "cProfile.run('concat_way4()')"
   ]
  },
  {
   "cell_type": "code",
   "execution_count": null,
   "metadata": {},
   "outputs": [],
   "source": []
  }
 ],
 "metadata": {
  "kernelspec": {
   "display_name": "Python 3",
   "language": "python",
   "name": "python3"
  },
  "language_info": {
   "codemirror_mode": {
    "name": "ipython",
    "version": 3
   },
   "file_extension": ".py",
   "mimetype": "text/x-python",
   "name": "python",
   "nbconvert_exporter": "python",
   "pygments_lexer": "ipython3",
   "version": "3.6.5"
  }
 },
 "nbformat": 4,
 "nbformat_minor": 1
}
