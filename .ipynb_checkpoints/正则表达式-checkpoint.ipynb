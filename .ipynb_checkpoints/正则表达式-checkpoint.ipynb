{
 "cells": [
  {
   "cell_type": "markdown",
   "metadata": {},
   "source": [
    "# 导入"
   ]
  },
  {
   "cell_type": "markdown",
   "metadata": {},
   "source": [
    "正则表达式可以帮我们判断某个字符串是否符合某一个模式，其次正则表达式可以帮我们提取某个字符串中的重要部分，做子字符串的提取。今天简单的给大家讲解几个正则表达式的特殊字符—— “^”、“.”、“*”，并且用实例进行演示，让大家对正则表达式有个初步的了解。"
   ]
  },
  {
   "cell_type": "markdown",
   "metadata": {},
   "source": [
    "  1、正则表达式在Python中有个专门的库叫re模块，首先进行导入模块。再定义一个字符串str，然后定义一个正则表达式匹配规则regex。"
   ]
  },
  {
   "cell_type": "markdown",
   "metadata": {},
   "source": [
    "  2、“^d”代表的意思是以d元素开头的任意一个字符串，也就是说只要是以d开头的字符串，后面的元素不论是什么，都是符合规则的，总之必须要以d开头。"
   ]
  },
  {
   "cell_type": "markdown",
   "metadata": {},
   "source": [
    " 3、“.” 较为常用，其代表的意思是任意字符，其表示的范围非常广，可以接任意字符，不论是中英文，还是下划线之类的特殊字符，都是可以代表的。举个栗子，正则表达式“^d.”就是代表以d开头的字符串，b后边接任意字符都可以。"
   ]
  },
  {
   "cell_type": "markdown",
   "metadata": {},
   "source": [
    " 4、“*” 也十分常用，其代表的意思是前面的字符可以重复任意多遍，可以是0次，1次，2次等任意多次。"
   ]
  },
  {
   "cell_type": "markdown",
   "metadata": {},
   "source": [
    "  5、了解好这几个特殊字符的用法之后，接下来通过代码简单的感受一下。如下图所示，如果匹配成功，则返回yes；如果没有匹配成功，则不返回任何东西。"
   ]
  },
  {
   "cell_type": "code",
   "execution_count": 10,
   "metadata": {},
   "outputs": [
    {
     "name": "stdout",
     "output_type": "stream",
     "text": [
      "yes\n"
     ]
    }
   ],
   "source": [
    "import re\n",
    "string = 'dedc1234'\n",
    "regex_str = '^d.*'\n",
    "'''\n",
    "“^d”代表的意思是以d元素开头的任意一个字符串，\n",
    "也就是说只要是以d开头的字符串，后面的元素不论是什么，\n",
    "都是符合规则的，总之必须要以d开头。\n",
    "\n",
    "“.” 较为常用，其代表的意思是任意字符，\n",
    "其表示的范围非常广，可以接任意字符，不论是中英文，\n",
    "还是下划线之类的特殊字符，都是可以代表的。\n",
    "举个栗子，正则表达式“^d.”就是代表以d开头的字符串，b后边接任意字符都可以。\n",
    "\n",
    "“*” 也十分常用，其代表的意思是前面的字符可以重复任意多遍，可以是0次，1次，2次等任意多次。\n",
    "'''\n",
    "match_obj = re.match(regex_str, string)\n",
    "\n",
    "if match_obj:\n",
    "    print('yes')\n",
    "else:\n",
    "    print('no')"
   ]
  },
  {
   "cell_type": "code",
   "execution_count": 11,
   "metadata": {},
   "outputs": [
    {
     "name": "stdout",
     "output_type": "stream",
     "text": [
      "no\n"
     ]
    }
   ],
   "source": [
    "import re\n",
    "string = 'aedc1234 dedc1234'\n",
    "regex_str = '^d.*'\n",
    "\n",
    "match_obj = re.match(regex_str, string)\n",
    "\n",
    "if match_obj:\n",
    "    print('yes')\n",
    "else:\n",
    "    print('no')"
   ]
  },
  {
   "cell_type": "markdown",
   "metadata": {},
   "source": [
    "特殊字符“$”代表的意思是结尾字符。举个栗子，正则表达式“3$”，表示匹配以3为结尾的字符串。代码演示如下图所示。"
   ]
  },
  {
   "cell_type": "code",
   "execution_count": 12,
   "metadata": {},
   "outputs": [
    {
     "name": "stdout",
     "output_type": "stream",
     "text": [
      "yes\n"
     ]
    }
   ],
   "source": [
    "import re\n",
    "string = 'aedc1234 dedc123'\n",
    "regex_str = '.*3$'\n",
    "'''\n",
    "代表以3结尾的任意字符的字符串\n",
    "'''\n",
    "match_obj = re.match(regex_str, string)\n",
    "\n",
    "if match_obj:\n",
    "    print('yes')\n",
    "else:\n",
    "    print('no')"
   ]
  }
 ],
 "metadata": {
  "kernelspec": {
   "display_name": "Python 3",
   "language": "python",
   "name": "python3"
  },
  "language_info": {
   "codemirror_mode": {
    "name": "ipython",
    "version": 3
   },
   "file_extension": ".py",
   "mimetype": "text/x-python",
   "name": "python",
   "nbconvert_exporter": "python",
   "pygments_lexer": "ipython3",
   "version": "3.6.5"
  }
 },
 "nbformat": 4,
 "nbformat_minor": 2
}
