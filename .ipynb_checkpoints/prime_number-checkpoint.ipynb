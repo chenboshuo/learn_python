{
 "cells": [
  {
   "cell_type": "markdown",
   "metadata": {},
   "source": [
    "## 基础方法+while循环"
   ]
  },
  {
   "cell_type": "code",
   "execution_count": 39,
   "metadata": {},
   "outputs": [
    {
     "name": "stdout",
     "output_type": "stream",
     "text": [
      "0.3783041173703623\n"
     ]
    }
   ],
   "source": [
    "import cProfile\n",
    "# 利用基本方法判断一个数是否为质数\n",
    "def basic_method(n):\n",
    "    i = 2\n",
    "    a = True\n",
    "    while i < n:\n",
    "        if n % i == 0:\n",
    "            a = False\n",
    "            return False\n",
    "            break\n",
    "        i += 1\n",
    "    if a:\n",
    "        return True\n",
    "\n",
    "# 性能测试\n",
    "from timeit import Timer\n",
    "# __main__代表启动文件\n",
    "t1 = Timer('basic_method(12345678900987654321)', 'from __main__ import basic_method')\n",
    "print(t1.timeit())"
   ]
  },
  {
   "cell_type": "code",
   "execution_count": 40,
   "metadata": {},
   "outputs": [
    {
     "name": "stdout",
     "output_type": "stream",
     "text": [
      "0.7046323153496132\n"
     ]
    }
   ],
   "source": [
    "import cProfile\n",
    "# 利用基本方法判断一个数是否为质数\n",
    "def basic_method_2(n):\n",
    "    i = 2\n",
    "    a = True\n",
    "    while i < n/2:\n",
    "        if n % i == 0:\n",
    "            a = False\n",
    "            return False\n",
    "            break\n",
    "        i += 1\n",
    "    if a:\n",
    "        return True\n",
    "\n",
    "# 性能测试\n",
    "from timeit import Timer\n",
    "# __main__代表启动文件\n",
    "t1 = Timer('basic_method_2(12345678900987654321)', 'from __main__ import basic_method_2')\n",
    "print(t1.timeit())"
   ]
  },
  {
   "cell_type": "code",
   "execution_count": 41,
   "metadata": {},
   "outputs": [
    {
     "name": "stdout",
     "output_type": "stream",
     "text": [
      "0.5577725436653509\n"
     ]
    }
   ],
   "source": [
    "import cProfile\n",
    "# 利用基本方法判断一个数是否为质数\n",
    "def basic_method_22(n):\n",
    "    i = 2\n",
    "    a = True\n",
    "    p = n/2\n",
    "    while i < p:\n",
    "        if n % i == 0:\n",
    "            a = False\n",
    "            return False\n",
    "            break\n",
    "        i += 1\n",
    "    if a:\n",
    "        return True\n",
    "\n",
    "# 性能测试\n",
    "from timeit import Timer\n",
    "# __main__代表启动文件\n",
    "t1 = Timer('basic_method_22(12345678900987654321)', 'from __main__ import basic_method_22')\n",
    "print(t1.timeit())"
   ]
  },
  {
   "cell_type": "code",
   "execution_count": 42,
   "metadata": {},
   "outputs": [
    {
     "name": "stdout",
     "output_type": "stream",
     "text": [
      "0.8984729867189571\n"
     ]
    }
   ],
   "source": [
    "import cProfile\n",
    "# 利用基本方法判断一个数是否为质数\n",
    "def basic_method_3(n):\n",
    "    i = 2\n",
    "    a = True\n",
    "    while i < n**0.5:\n",
    "        if n % i == 0:\n",
    "            a = False\n",
    "            return False\n",
    "            break\n",
    "        i += 1\n",
    "    if a:\n",
    "        return True\n",
    "\n",
    "# 性能测试\n",
    "from timeit import Timer\n",
    "# __main__代表启动文件\n",
    "t1 = Timer('basic_method_3(12345678900987654321)', 'from __main__ import basic_method_3')\n",
    "print(t1.timeit())"
   ]
  },
  {
   "cell_type": "code",
   "execution_count": 43,
   "metadata": {},
   "outputs": [
    {
     "name": "stdout",
     "output_type": "stream",
     "text": [
      "0.6760954947784512\n"
     ]
    }
   ],
   "source": [
    "import cProfile\n",
    "# 利用基本方法判断一个数是否为质数\n",
    "def basic_method_33(n):\n",
    "    i = 2\n",
    "    a = True\n",
    "    p = n**0.5\n",
    "    while i < p:\n",
    "        if n % i == 0:\n",
    "            a = False\n",
    "            return False\n",
    "            break\n",
    "        i += 1\n",
    "    if a:\n",
    "        return True\n",
    "\n",
    "# 性能测试\n",
    "from timeit import Timer\n",
    "# __main__代表启动文件\n",
    "t1 = Timer('basic_method_33(12345678900987654321)', 'from __main__ import basic_method_33')\n",
    "print(t1.timeit())"
   ]
  },
  {
   "cell_type": "markdown",
   "metadata": {},
   "source": [
    "## 失败案例"
   ]
  },
  {
   "cell_type": "code",
   "execution_count": 2,
   "metadata": {},
   "outputs": [
    {
     "ename": "TypeError",
     "evalue": "unsupported operand type(s) for %: 'int' and 'range'",
     "output_type": "error",
     "traceback": [
      "\u001b[1;31m---------------------------------------------------------------------------\u001b[0m",
      "\u001b[1;31mTypeError\u001b[0m                                 Traceback (most recent call last)",
      "\u001b[1;32m<ipython-input-2-46117d94cd93>\u001b[0m in \u001b[0;36m<module>\u001b[1;34m()\u001b[0m\n\u001b[0;32m      8\u001b[0m \u001b[1;33m\u001b[0m\u001b[0m\n\u001b[0;32m      9\u001b[0m \u001b[0mprime_number\u001b[0m \u001b[1;33m=\u001b[0m \u001b[1;33m[\u001b[0m\u001b[1;33m]\u001b[0m\u001b[1;33m\u001b[0m\u001b[0m\n\u001b[1;32m---> 10\u001b[1;33m \u001b[0mdingyi\u001b[0m\u001b[1;33m(\u001b[0m\u001b[1;36m97\u001b[0m\u001b[1;33m,\u001b[0m \u001b[0mprime_number\u001b[0m\u001b[1;33m)\u001b[0m\u001b[1;33m\u001b[0m\u001b[0m\n\u001b[0m",
      "\u001b[1;32m<ipython-input-2-46117d94cd93>\u001b[0m in \u001b[0;36mdingyi\u001b[1;34m(end_number, prime_numbers)\u001b[0m\n\u001b[0;32m      4\u001b[0m \u001b[1;32mdef\u001b[0m \u001b[0mdingyi\u001b[0m\u001b[1;33m(\u001b[0m\u001b[0mend_number\u001b[0m\u001b[1;33m,\u001b[0m \u001b[0mprime_numbers\u001b[0m\u001b[1;33m)\u001b[0m\u001b[1;33m:\u001b[0m\u001b[1;33m\u001b[0m\u001b[0m\n\u001b[0;32m      5\u001b[0m     \u001b[1;32mfor\u001b[0m \u001b[0mnumber\u001b[0m \u001b[1;32min\u001b[0m \u001b[0mrange\u001b[0m\u001b[1;33m(\u001b[0m\u001b[1;36m1\u001b[0m\u001b[1;33m,\u001b[0m \u001b[0mend_number\u001b[0m\u001b[1;33m+\u001b[0m\u001b[1;36m1\u001b[0m\u001b[1;33m)\u001b[0m\u001b[1;33m:\u001b[0m\u001b[1;33m\u001b[0m\u001b[0m\n\u001b[1;32m----> 6\u001b[1;33m         \u001b[1;32mif\u001b[0m \u001b[0mnumber\u001b[0m \u001b[1;33m%\u001b[0m \u001b[0mrange\u001b[0m\u001b[1;33m(\u001b[0m\u001b[1;36m1\u001b[0m\u001b[1;33m,\u001b[0m \u001b[0mnumber\u001b[0m\u001b[1;33m)\u001b[0m \u001b[1;33m==\u001b[0m \u001b[1;36m0\u001b[0m\u001b[1;33m:\u001b[0m\u001b[1;33m\u001b[0m\u001b[0m\n\u001b[0m\u001b[0;32m      7\u001b[0m             \u001b[0mprime_numbers\u001b[0m\u001b[1;33m.\u001b[0m\u001b[0mappend\u001b[0m\u001b[1;33m(\u001b[0m\u001b[0mnumber\u001b[0m\u001b[1;33m)\u001b[0m\u001b[1;33m\u001b[0m\u001b[0m\n\u001b[0;32m      8\u001b[0m \u001b[1;33m\u001b[0m\u001b[0m\n",
      "\u001b[1;31mTypeError\u001b[0m: unsupported operand type(s) for %: 'int' and 'range'"
     ]
    }
   ],
   "source": [
    "import cProfile\n",
    "\n",
    "# 利用除以每个数生成质数列表\n",
    "def dingyi(end_number, prime_numbers):\n",
    "    for number in range(1, end_number+1):\n",
    "        if number % range(1, number) == 0:\n",
    "            prime_numbers.append(number)\n",
    "\n",
    "prime_number = []\n",
    "dingyi(97, prime_number)"
   ]
  },
  {
   "cell_type": "code",
   "execution_count": null,
   "metadata": {},
   "outputs": [],
   "source": []
  }
 ],
 "metadata": {
  "kernelspec": {
   "display_name": "Python 3",
   "language": "python",
   "name": "python3"
  },
  "language_info": {
   "codemirror_mode": {
    "name": "ipython",
    "version": 3
   },
   "file_extension": ".py",
   "mimetype": "text/x-python",
   "name": "python",
   "nbconvert_exporter": "python",
   "pygments_lexer": "ipython3",
   "version": "3.6.5"
  }
 },
 "nbformat": 4,
 "nbformat_minor": 2
}
