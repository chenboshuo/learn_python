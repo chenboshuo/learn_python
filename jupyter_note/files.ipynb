{
 "cells": [
  {
   "cell_type": "markdown",
   "metadata": {},
   "source": [
    "# 文件"
   ]
  },
  {
   "cell_type": "markdown",
   "metadata": {},
   "source": [
    "## 从文件中读取数据"
   ]
  },
  {
   "cell_type": "markdown",
   "metadata": {},
   "source": [
    "### 读取整个文件"
   ]
  },
  {
   "cell_type": "code",
   "execution_count": 4,
   "metadata": {
    "ExecuteTime": {
     "end_time": "2018-12-30T12:47:45.868662Z",
     "start_time": "2018-12-30T12:47:45.862713Z"
    }
   },
   "outputs": [
    {
     "name": "stdout",
     "output_type": "stream",
     "text": [
      "3.1415926535\n",
      "  8979323846\n",
      "  2643383279\n",
      "\n",
      "***********\n"
     ]
    }
   ],
   "source": [
    "with open('pi_digits.txt') as file_objects:\n",
    "    contents = file_objects.read()\n",
    "    print(contents)\n",
    "print('***********')"
   ]
  },
  {
   "cell_type": "markdown",
   "metadata": {},
   "source": [
    "- 函数open()接受一个参数:要打开文件的名称.\n",
    "- open('pi_digits.txt')返回一个表示pi_digits.txt的对象,存储到后面的变量中\n",
    "- 关键词with在不需要访问文件时将其关闭\n",
    "- read()到达文件末尾时返回一个空字符串,这个空字符串显示出来一个空行"
   ]
  },
  {
   "cell_type": "code",
   "execution_count": 6,
   "metadata": {
    "ExecuteTime": {
     "end_time": "2018-12-30T12:51:23.106635Z",
     "start_time": "2018-12-30T12:51:23.100678Z"
    }
   },
   "outputs": [
    {
     "name": "stdout",
     "output_type": "stream",
     "text": [
      "3.1415926535\n",
      "  8979323846\n",
      "  2643383279\n"
     ]
    }
   ],
   "source": [
    "with open('text_files\\pi_digits.txt') as file_objects:\n",
    "    contents = file_objects.read()\n",
    "    print(contents.rstrip())"
   ]
  },
  {
   "cell_type": "markdown",
   "metadata": {},
   "source": [
    "- 文件路径用反斜杠'\\',也可以使用绝对路径"
   ]
  },
  {
   "cell_type": "markdown",
   "metadata": {},
   "source": [
    "### 逐行读取"
   ]
  },
  {
   "cell_type": "code",
   "execution_count": 7,
   "metadata": {
    "ExecuteTime": {
     "end_time": "2018-12-30T12:54:38.909868Z",
     "start_time": "2018-12-30T12:54:38.901891Z"
    }
   },
   "outputs": [
    {
     "name": "stdout",
     "output_type": "stream",
     "text": [
      "3.1415926535\n",
      "\n",
      "  8979323846\n",
      "\n",
      "  2643383279\n",
      "\n"
     ]
    }
   ],
   "source": [
    "filename = 'text_files\\pi_digits.txt'\n",
    "\n",
    "with open(filename) as file_object:\n",
    "    for line in file_object:\n",
    "        print(line)"
   ]
  },
  {
   "cell_type": "markdown",
   "metadata": {},
   "source": [
    "- 文件中,每行末尾都有一个换行符,print又会加上一个换行符"
   ]
  },
  {
   "cell_type": "markdown",
   "metadata": {},
   "source": [
    "### 创建一个包含各行内容的列表\n",
    "使用关键字with()的时候,open()返回的文件对象只在with代码块可用,如果要在代码块之外访问文件内容,可以将各行存储在一个列表中."
   ]
  },
  {
   "cell_type": "code",
   "execution_count": 6,
   "metadata": {
    "ExecuteTime": {
     "end_time": "2018-12-31T12:37:20.560629Z",
     "start_time": "2018-12-31T12:37:20.552649Z"
    }
   },
   "outputs": [
    {
     "name": "stdout",
     "output_type": "stream",
     "text": [
      "3.1415926535\n",
      "  8979323846\n",
      "  2643383279\n"
     ]
    }
   ],
   "source": [
    "filename = 'text_files\\pi_digits.txt'\n",
    "\n",
    "with open(filename) as file_object:\n",
    "    lines = file_object.readlines()\n",
    "\n",
    "for line in lines:\n",
    "    print(line.rstrip())"
   ]
  },
  {
   "cell_type": "markdown",
   "metadata": {},
   "source": [
    "### 使用文件内容"
   ]
  },
  {
   "cell_type": "code",
   "execution_count": 7,
   "metadata": {
    "ExecuteTime": {
     "end_time": "2018-12-31T12:38:46.699847Z",
     "start_time": "2018-12-31T12:38:46.692864Z"
    }
   },
   "outputs": [
    {
     "name": "stdout",
     "output_type": "stream",
     "text": [
      "3.141592653589793238462643383279\n",
      "32\n"
     ]
    }
   ],
   "source": [
    "filename = 'text_files\\pi_digits.txt'\n",
    "\n",
    "with open(filename) as file_object:\n",
    "    lines = file_object.readlines()\n",
    "\n",
    "pi_string = ''\n",
    "for line in lines:\n",
    "    pi_string += line.strip()\n",
    "    \n",
    "print(pi_string)\n",
    "print(len(pi_string))"
   ]
  },
  {
   "cell_type": "markdown",
   "metadata": {},
   "source": [
    "读取文本文件python全部视为字符串"
   ]
  },
  {
   "cell_type": "markdown",
   "metadata": {},
   "source": [
    "### 圆周率包含你的生日吗"
   ]
  },
  {
   "cell_type": "code",
   "execution_count": 2,
   "metadata": {
    "ExecuteTime": {
     "end_time": "2019-01-01T13:50:42.639555Z",
     "start_time": "2019-01-01T13:50:38.467292Z"
    }
   },
   "outputs": [
    {
     "name": "stdout",
     "output_type": "stream",
     "text": [
      "Enter your birthday , in the form mmddyy: 200021\n",
      "Your birthday does not appear in the first million digits of pi.\n"
     ]
    }
   ],
   "source": [
    "filename = 'text_files\\pi_million_digits.txt'\n",
    "\n",
    "with open(filename) as file_object:\n",
    "    lines = file_object.readlines()\n",
    "\n",
    "pi_string = ''\n",
    "for line in lines:\n",
    "    pi_string += line.strip()\n",
    "\n",
    "birthday = input('Enter your birthday , in the form mmddyy: ')\n",
    "if birthday in pi_string:\n",
    "    print('Your birthday appears in the first million of pi')\n",
    "else:\n",
    "    print('Your birthday does not appear in the first million digits of pi.')"
   ]
  },
  {
   "cell_type": "markdown",
   "metadata": {},
   "source": [
    "## 写入文件"
   ]
  },
  {
   "cell_type": "code",
   "execution_count": 5,
   "metadata": {
    "ExecuteTime": {
     "end_time": "2019-01-01T13:55:36.038565Z",
     "start_time": "2019-01-01T13:55:36.031586Z"
    }
   },
   "outputs": [
    {
     "name": "stdout",
     "output_type": "stream",
     "text": [
      "I love programing.\n"
     ]
    }
   ],
   "source": [
    "filename = 'text_files\\programing.txt'\n",
    "\n",
    "with open(filename,'w') as file_object:\n",
    "    file_object.write('I love programing.')\n",
    "    \n",
    "with open(filename) as file_object:    \n",
    "    contents = file_object.read()\n",
    "    print(contents.rstrip())\n"
   ]
  },
  {
   "cell_type": "markdown",
   "metadata": {},
   "source": [
    "open()的第一个实参是要打开文件的名称,第二个('w')告诉python以写入模式打\n",
    "\n",
    "\n",
    "| 第二个实参 | 模式|\n",
    ":- |:-\n",
    "'w'|写入模式\n",
    "'r'|读取模式\n",
    "'a'|附加模式\n",
    "'r+'|能读取和写入文件的模式\n",
    "\n",
    "- 省略模式实参,python以只读方式打开"
   ]
  },
  {
   "cell_type": "markdown",
   "metadata": {},
   "source": [
    "### 写入多行"
   ]
  },
  {
   "cell_type": "code",
   "execution_count": 1,
   "metadata": {
    "ExecuteTime": {
     "end_time": "2019-01-08T03:21:45.393979Z",
     "start_time": "2019-01-08T03:21:45.384037Z"
    }
   },
   "outputs": [
    {
     "name": "stdout",
     "output_type": "stream",
     "text": [
      "I love programing.I love programing.\n"
     ]
    }
   ],
   "source": [
    "filename = 'text_files\\programing121.txt'\n",
    "\n",
    "with open(filename,'w') as file_object:\n",
    "    file_object.write('I love programing.')\n",
    "    file_object.write('I love programing.')\n",
    "    \n",
    "with open(filename) as file_object:    \n",
    "    contents = file_object.read()\n",
    "    print(contents.rstrip())\n"
   ]
  },
  {
   "cell_type": "markdown",
   "metadata": {},
   "source": [
    "如果要写入多行,需要加上换行符"
   ]
  },
  {
   "cell_type": "markdown",
   "metadata": {},
   "source": [
    "### 分析文本"
   ]
  },
  {
   "cell_type": "code",
   "execution_count": 7,
   "metadata": {
    "ExecuteTime": {
     "end_time": "2019-01-14T10:43:10.726990Z",
     "start_time": "2019-01-14T10:43:10.715022Z"
    }
   },
   "outputs": [
    {
     "name": "stdout",
     "output_type": "stream",
     "text": [
      "The file text_files/alice.txt has about 29461 words\n"
     ]
    }
   ],
   "source": [
    "filename = 'text_files/alice.txt'\n",
    "\n",
    "try:\n",
    "    with open(filename) as f_obj:\n",
    "        contents = f_obj.read()\n",
    "except FileNotFoundError:\n",
    "    print('Sorry the file',filename,'does not exist')\n",
    "else:\n",
    "    words = contents.split()\n",
    "    num_words = len(words)\n",
    "    print('The file',filename,'has about',str(num_words),'words')"
   ]
  },
  {
   "cell_type": "markdown",
   "metadata": {},
   "source": [
    "## 存储数据\n",
    "模块json可以将简单的数据转存到文件中"
   ]
  },
  {
   "cell_type": "markdown",
   "metadata": {},
   "source": [
    "### 使用json.dump() ,json.load()"
   ]
  },
  {
   "cell_type": "markdown",
   "metadata": {},
   "source": [
    "- json.dump()接受两个实参:要存储的数据和可用于存储的文件对象"
   ]
  },
  {
   "cell_type": "code",
   "execution_count": 8,
   "metadata": {
    "ExecuteTime": {
     "end_time": "2019-01-14T10:43:33.634931Z",
     "start_time": "2019-01-14T10:43:33.627952Z"
    }
   },
   "outputs": [],
   "source": [
    "import json\n",
    "\n",
    "numbers = [2, 3, 5, 7, 11, 13]\n",
    "\n",
    "filename = 'text_files/numbers.json'\n",
    "with open(filename,'w') as f_obj:\n",
    "    json.dump(numbers,f_obj)"
   ]
  },
  {
   "cell_type": "code",
   "execution_count": 9,
   "metadata": {
    "ExecuteTime": {
     "end_time": "2019-01-14T10:44:54.760955Z",
     "start_time": "2019-01-14T10:44:54.754973Z"
    }
   },
   "outputs": [
    {
     "name": "stdout",
     "output_type": "stream",
     "text": [
      "[2, 3, 5, 7, 11, 13]\n"
     ]
    }
   ],
   "source": [
    "import json\n",
    "\n",
    "# 读取数据\n",
    "filename = 'text_files/numbers.json'\n",
    "with open(filename) as f_obj:\n",
    "    numbers = json.load(f_obj)\n",
    "print(numbers)"
   ]
  },
  {
   "cell_type": "markdown",
   "metadata": {},
   "source": [
    "### 保存和读取用户生成的数据"
   ]
  },
  {
   "cell_type": "code",
   "execution_count": 12,
   "metadata": {
    "ExecuteTime": {
     "end_time": "2019-01-14T10:48:53.255661Z",
     "start_time": "2019-01-14T10:48:50.190857Z"
    }
   },
   "outputs": [
    {
     "name": "stdout",
     "output_type": "stream",
     "text": [
      "What is your name: cde\n",
      "We'll remember you when you come back, cde\n"
     ]
    }
   ],
   "source": [
    "import json\n",
    "\n",
    "username = input('What is your name: ')\n",
    "\n",
    "filename = 'text_files/username.json'\n",
    "with open(filename,'w') as f_obj:\n",
    "    json.dump(username, f_obj)\n",
    "    print(\"We'll remember you when you come back,\",username)"
   ]
  },
  {
   "cell_type": "code",
   "execution_count": 13,
   "metadata": {
    "ExecuteTime": {
     "end_time": "2019-01-14T10:50:35.097163Z",
     "start_time": "2019-01-14T10:50:35.091178Z"
    }
   },
   "outputs": [
    {
     "name": "stdout",
     "output_type": "stream",
     "text": [
      "Welcome back, cde\n"
     ]
    }
   ],
   "source": [
    "'''问候用户'''\n",
    "import json\n",
    "\n",
    "filename = 'text_files/username.json'\n",
    "\n",
    "with open(filename) as f_obj:\n",
    "    username = json.load(f_obj)\n",
    "    print('Welcome back,',username)"
   ]
  },
  {
   "cell_type": "code",
   "execution_count": 14,
   "metadata": {
    "ExecuteTime": {
     "end_time": "2019-01-14T10:56:18.409004Z",
     "start_time": "2019-01-14T10:56:16.778225Z"
    }
   },
   "outputs": [
    {
     "name": "stdout",
     "output_type": "stream",
     "text": [
      "What is your name: abc\n",
      "We'll remember you when you come back, abc\n"
     ]
    }
   ],
   "source": [
    "# 合并两个程序\n",
    "import json\n",
    "\n",
    "# 如果以前存储用户名,就加载它\n",
    "# 否则提示用户存储他\n",
    "filename = 'text_files/user_name.json'\n",
    "try:\n",
    "    with open(filename) as f_obj:\n",
    "        username = json.load(f_obj)\n",
    "except FileNotFoundError:\n",
    "    username = input('What is your name: ')\n",
    "\n",
    "    filename = 'text_files/username.json'\n",
    "    with open(filename,'w') as f_obj:\n",
    "        json.dump(username, f_obj)\n",
    "        print(\"We'll remember you when you come back,\",username)\n",
    "else:\n",
    "    print('Welcome back,',username)"
   ]
  },
  {
   "cell_type": "code",
   "execution_count": 17,
   "metadata": {
    "ExecuteTime": {
     "end_time": "2019-01-14T10:58:33.849446Z",
     "start_time": "2019-01-14T10:58:28.724983Z"
    }
   },
   "outputs": [
    {
     "name": "stdout",
     "output_type": "stream",
     "text": [
      "What is your name: efg\n",
      "We'll remember you when you come back, efg\n"
     ]
    }
   ],
   "source": [
    "# 重构\n",
    "\n",
    "import json\n",
    "\n",
    "def greet_user():\n",
    "    '''问候用户,并指出名字'''\n",
    "    filename = 'text_files/user_name.json'\n",
    "    try:\n",
    "        with open(filename) as f_obj:\n",
    "            username = json.load(f_obj)\n",
    "    except FileNotFoundError:\n",
    "        username = input('What is your name: ')\n",
    "\n",
    "        filename = 'text_files/username.json'\n",
    "        with open(filename,'w') as f_obj:\n",
    "            json.dump(username, f_obj)\n",
    "            print(\"We'll remember you when you come back,\",username)\n",
    "    else:\n",
    "        print('Welcome back,',username)\n",
    "\n",
    "greet_user()"
   ]
  },
  {
   "cell_type": "code",
   "execution_count": 18,
   "metadata": {
    "ExecuteTime": {
     "end_time": "2019-01-14T11:03:00.401950Z",
     "start_time": "2019-01-14T11:02:53.358360Z"
    }
   },
   "outputs": [
    {
     "name": "stdout",
     "output_type": "stream",
     "text": [
      "What is your name: efg\n",
      "We'll remember you when you come back, efg\n"
     ]
    }
   ],
   "source": [
    "# 继续重构\n",
    "import json\n",
    "\n",
    "def get_sorted_username():\n",
    "    '''如果用户存储用户名,就读取它'''\n",
    "    filename = 'text_files/user_name.json'\n",
    "    try:\n",
    "        with open(filename) as f_obj:\n",
    "            username = json.load(f_obj)\n",
    "    except FileNotFoundError:\n",
    "        # username = input('What is your name: ')\n",
    "        return None\n",
    "    else:\n",
    "        return username\n",
    "\n",
    "def greet_user():\n",
    "    '''问候用户,并指出名字'''\n",
    "    username = get_sorted_username()\n",
    "    if username:\n",
    "        print('Welcome back,',username)\n",
    "    else:\n",
    "        username = input('What is your name: ')\n",
    "\n",
    "        filename = 'text_files/username.json'\n",
    "        with open(filename,'w') as f_obj:\n",
    "            json.dump(username, f_obj)\n",
    "            print(\"We'll remember you when you come back,\",username)\n",
    "            \n",
    "\n",
    "greet_user()"
   ]
  },
  {
   "cell_type": "code",
   "execution_count": null,
   "metadata": {},
   "outputs": [],
   "source": []
  }
 ],
 "metadata": {
  "kernelspec": {
   "display_name": "Python 3",
   "language": "python",
   "name": "python3"
  },
  "language_info": {
   "codemirror_mode": {
    "name": "ipython",
    "version": 3
   },
   "file_extension": ".py",
   "mimetype": "text/x-python",
   "name": "python",
   "nbconvert_exporter": "python",
   "pygments_lexer": "ipython3",
   "version": "3.7.1"
  },
  "toc": {
   "base_numbering": 1,
   "nav_menu": {},
   "number_sections": true,
   "sideBar": true,
   "skip_h1_title": false,
   "title_cell": "Table of Contents",
   "title_sidebar": "Contents",
   "toc_cell": false,
   "toc_position": {},
   "toc_section_display": true,
   "toc_window_display": false
  },
  "varInspector": {
   "cols": {
    "lenName": 16,
    "lenType": 16,
    "lenVar": 40
   },
   "kernels_config": {
    "python": {
     "delete_cmd_postfix": "",
     "delete_cmd_prefix": "del ",
     "library": "var_list.py",
     "varRefreshCmd": "print(var_dic_list())"
    },
    "r": {
     "delete_cmd_postfix": ") ",
     "delete_cmd_prefix": "rm(",
     "library": "var_list.r",
     "varRefreshCmd": "cat(var_dic_list()) "
    }
   },
   "types_to_exclude": [
    "module",
    "function",
    "builtin_function_or_method",
    "instance",
    "_Feature"
   ],
   "window_display": false
  }
 },
 "nbformat": 4,
 "nbformat_minor": 2
}
