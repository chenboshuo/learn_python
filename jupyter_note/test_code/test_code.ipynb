{
 "cells": [
  {
   "cell_type": "markdown",
   "metadata": {},
   "source": [
    "# 测试代码"
   ]
  },
  {
   "cell_type": "markdown",
   "metadata": {},
   "source": [
    "## 测试函数\n",
    "模块unittest提供了代码测试工具. **单元测试**用于核实函数某个方面没有问题;**测试用例**是一组单元测试,这些单元测试一起核实函数在各种情形下的行为都符合要求"
   ]
  },
  {
   "cell_type": "markdown",
   "metadata": {},
   "source": [
    "### 可通过的测试"
   ]
  },
  {
   "cell_type": "markdown",
   "metadata": {},
   "source": [
    "name_function.py\n",
    "\n",
    "```python\n",
    "def get_formatted_name(first, last):\n",
    "    '''Generate a neatly formatted name'''\n",
    "    full_name = first + ' '  + last\n",
    "    return full_name.title()\n",
    "\n",
    "```"
   ]
  },
  {
   "cell_type": "markdown",
   "metadata": {
    "ExecuteTime": {
     "end_time": "2019-01-27T01:32:03.590959Z",
     "start_time": "2019-01-27T01:32:03.575993Z"
    }
   },
   "source": [
    "```python\n",
    "import unittest \n",
    "from name_function import get_formatted_name\n",
    "\n",
    "class NamesTestCase(unittest.TestCase):\n",
    "    '''测试name_function.py'''\n",
    "\n",
    "    def test_first_last_name(self):\n",
    "        '''能够处理像Janis Joplin 这样的姓名吗'''\n",
    "        formatted_name = get_formatted_name('janis', 'joplin')\n",
    "        self.assertEqual(formatted_name, 'Janis Joplin')\n",
    "\n",
    "        formatted_name = get_formatted_name('stephen', 'hawking')\n",
    "        self.assertEqual(formatted_name, 'Stephen Hawking')\n",
    "\n",
    "\n",
    "unittest.main()\n",
    "```\n",
    "output \n",
    "```\n",
    ".\n",
    "----------------------------------------------------------------------\n",
    "Ran 1 test in 0.000s\n",
    "\n",
    "OK\n",
    "\n",
    "```"
   ]
  },
  {
   "cell_type": "markdown",
   "metadata": {
    "ExecuteTime": {
     "end_time": "2019-01-27T00:03:04.202152Z",
     "start_time": "2019-01-27T00:03:04.182180Z"
    }
   },
   "source": [
    "首先导入了模块\n",
    "```python\n",
    "import unittest \n",
    "```\n",
    "```python\n",
    "class NamesTestCase(unittest.TestCase):\n",
    "```\n",
    "\n",
    "然后创建类`NameTestCase`,包含一系列单元测试,命名尽量与函数相关,并包含字样Test,这个类必须继承`unittest.TestCase`,这样python才知道如何运行这个单元测试\n",
    "```python\n",
    "self.assertEqual(formatted_name, 'Janis Joplin')\n",
    "```\n",
    "我们使用了 **断言** 方法. 断言方法一般来核实结果是否与期望一致\n"
   ]
  },
  {
   "cell_type": "markdown",
   "metadata": {},
   "source": [
    "### 不能通过的测试"
   ]
  },
  {
   "cell_type": "code",
   "execution_count": null,
   "metadata": {},
   "outputs": [],
   "source": []
  }
 ],
 "metadata": {
  "kernelspec": {
   "display_name": "Python 3",
   "language": "python",
   "name": "python3"
  },
  "language_info": {
   "codemirror_mode": {
    "name": "ipython",
    "version": 3
   },
   "file_extension": ".py",
   "mimetype": "text/x-python",
   "name": "python",
   "nbconvert_exporter": "python",
   "pygments_lexer": "ipython3",
   "version": "3.7.1"
  },
  "toc": {
   "base_numbering": 1,
   "nav_menu": {},
   "number_sections": true,
   "sideBar": true,
   "skip_h1_title": false,
   "title_cell": "Table of Contents",
   "title_sidebar": "Contents",
   "toc_cell": false,
   "toc_position": {},
   "toc_section_display": true,
   "toc_window_display": false
  },
  "varInspector": {
   "cols": {
    "lenName": 16,
    "lenType": 16,
    "lenVar": 40
   },
   "kernels_config": {
    "python": {
     "delete_cmd_postfix": "",
     "delete_cmd_prefix": "del ",
     "library": "var_list.py",
     "varRefreshCmd": "print(var_dic_list())"
    },
    "r": {
     "delete_cmd_postfix": ") ",
     "delete_cmd_prefix": "rm(",
     "library": "var_list.r",
     "varRefreshCmd": "cat(var_dic_list()) "
    }
   },
   "types_to_exclude": [
    "module",
    "function",
    "builtin_function_or_method",
    "instance",
    "_Feature"
   ],
   "window_display": false
  }
 },
 "nbformat": 4,
 "nbformat_minor": 2
}
