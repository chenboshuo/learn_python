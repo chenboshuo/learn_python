{
 "cells": [
  {
   "cell_type": "markdown",
   "metadata": {},
   "source": [
    "# 函数"
   ]
  },
  {
   "cell_type": "markdown",
   "metadata": {},
   "source": [
    "## 定义函数"
   ]
  },
  {
   "cell_type": "code",
   "execution_count": 1,
   "metadata": {
    "ExecuteTime": {
     "end_time": "2019-01-18T00:02:35.483928Z",
     "start_time": "2019-01-18T00:02:35.478942Z"
    }
   },
   "outputs": [
    {
     "name": "stdout",
     "output_type": "stream",
     "text": [
      "hello\n"
     ]
    }
   ],
   "source": [
    "def greet_user():\n",
    "    \"\"\"显示简单问候\"\"\"\n",
    "    print('hello')\n",
    "\n",
    "greet_user()\n"
   ]
  },
  {
   "cell_type": "markdown",
   "metadata": {},
   "source": [
    "### 向函数传递信息"
   ]
  },
  {
   "cell_type": "code",
   "execution_count": 2,
   "metadata": {
    "ExecuteTime": {
     "end_time": "2019-01-18T00:03:57.824802Z",
     "start_time": "2019-01-18T00:03:57.820812Z"
    }
   },
   "outputs": [
    {
     "name": "stdout",
     "output_type": "stream",
     "text": [
      "hello A\n"
     ]
    }
   ],
   "source": [
    "def greet_user(username):\n",
    "    \"\"\"显示简单问候\"\"\"\n",
    "    print('hello',username)\n",
    "\n",
    "greet_user('A')"
   ]
  },
  {
   "cell_type": "markdown",
   "metadata": {},
   "source": [
    "### 形参和实参     \n",
    "前面的username是一个形参--函数完成其工作所需的一项信息;  \n",
    "\n",
    "前面的'A'是实参,是调用函数时传递给函数的信息; \n",
    "\n",
    "实参是调用函数时传递给函数的信息.上一个例子,把实参'A'传给了函数,这个值被储存在形参username中"
   ]
  },
  {
   "cell_type": "markdown",
   "metadata": {},
   "source": [
    "## 传递实参"
   ]
  },
  {
   "cell_type": "markdown",
   "metadata": {},
   "source": [
    "### 位置实参\n",
    "调用函数时,python将每一个实参关联到函数定义中的形参,最简单的方式是基于实参顺序,这种关联方式称为位置实参3"
   ]
  },
  {
   "cell_type": "code",
   "execution_count": 3,
   "metadata": {
    "ExecuteTime": {
     "end_time": "2019-01-18T00:07:37.261550Z",
     "start_time": "2019-01-18T00:07:37.254568Z"
    }
   },
   "outputs": [
    {
     "name": "stdout",
     "output_type": "stream",
     "text": [
      "\n",
      "I have a hamster\n",
      "My hamster 's name is Harry\n",
      "\n",
      "I have a dog\n",
      "My dog 's name is Willie\n"
     ]
    }
   ],
   "source": [
    "def describe_pet(animal_type,pet_name):\n",
    "    '''显示宠物信息'''\n",
    "    print('\\nI have a',animal_type)\n",
    "    print('My',animal_type,\"'s name is\", pet_name.title())\n",
    "    \n",
    "describe_pet('hamster','harry')#hamster 仓鼠\n",
    "describe_pet('dog','willie')"
   ]
  },
  {
   "cell_type": "markdown",
   "metadata": {},
   "source": [
    "### 关键字实参\n",
    "关键字实参是传递给函数的名称-值对,在实参中将名称和值关联起来"
   ]
  },
  {
   "cell_type": "code",
   "execution_count": 4,
   "metadata": {
    "ExecuteTime": {
     "end_time": "2019-01-18T00:07:58.059474Z",
     "start_time": "2019-01-18T00:07:58.052494Z"
    }
   },
   "outputs": [
    {
     "name": "stdout",
     "output_type": "stream",
     "text": [
      "\n",
      "I have a hamster\n",
      "My hamster 's name is Harry\n",
      "\n",
      "I have a dog\n",
      "My dog 's name is Willie\n"
     ]
    }
   ],
   "source": [
    "def describe_pet(animal_type,pet_name):\n",
    "    '''显示宠物信息'''\n",
    "    print('\\nI have a',animal_type)\n",
    "    print('My',animal_type,\"'s name is\", pet_name.title())\n",
    "\n",
    "describe_pet(animal_type='hamster',pet_name='harry')#hamster 仓鼠\n",
    "describe_pet(pet_name='willie',animal_type='dog')"
   ]
  },
  {
   "cell_type": "markdown",
   "metadata": {},
   "source": [
    "### 默认值\n",
    "编写函数时,可为每个形参指定默认值.使用默认值可以简化函数调用, 还可以指出函数典型用法"
   ]
  },
  {
   "cell_type": "code",
   "execution_count": 5,
   "metadata": {
    "ExecuteTime": {
     "end_time": "2019-01-18T00:08:27.484077Z",
     "start_time": "2019-01-18T00:08:27.479093Z"
    }
   },
   "outputs": [
    {
     "name": "stdout",
     "output_type": "stream",
     "text": [
      "\n",
      "I have a dog\n",
      "My dog'sname is Willie\n"
     ]
    }
   ],
   "source": [
    "def describe_pet(pet_name,animal_type='dog'):\n",
    "    ''' the information of pet'''\n",
    "    print('\\nI have a '+animal_type)\n",
    "    print('My '+animal_type+\"'sname is \"+pet_name.title())\n",
    "describe_pet('willie')"
   ]
  },
  {
   "cell_type": "markdown",
   "metadata": {},
   "source": [
    "在这个函数中,修改了形参的排列顺序. 由于给了animal_type默认值,无需通过实参指定动物类型; 然而,python依然将这个实参视为位置实参,如果函数调用中只包含宠物名字,这个实参会关联到是第一个形参,这就是把pet_name放在列表开头的原因"
   ]
  },
  {
   "cell_type": "markdown",
   "metadata": {},
   "source": [
    "### 避免实参错误"
   ]
  },
  {
   "cell_type": "code",
   "execution_count": 6,
   "metadata": {
    "ExecuteTime": {
     "end_time": "2019-01-18T00:09:02.057857Z",
     "start_time": "2019-01-18T00:09:01.757853Z"
    }
   },
   "outputs": [
    {
     "ename": "TypeError",
     "evalue": "describe_pet() missing 2 required positional arguments: 'animal_type' and 'pet_name'",
     "output_type": "error",
     "traceback": [
      "\u001b[1;31m---------------------------------------------------------------------------\u001b[0m",
      "\u001b[1;31mTypeError\u001b[0m                                 Traceback (most recent call last)",
      "\u001b[1;32m<ipython-input-6-f5bcd5969e96>\u001b[0m in \u001b[0;36m<module>\u001b[1;34m()\u001b[0m\n\u001b[0;32m      4\u001b[0m     \u001b[0mprint\u001b[0m\u001b[1;33m(\u001b[0m\u001b[1;34m'My'\u001b[0m\u001b[1;33m,\u001b[0m\u001b[0manimal_type\u001b[0m\u001b[1;33m,\u001b[0m\u001b[1;34m\"'s name is\"\u001b[0m\u001b[1;33m,\u001b[0m \u001b[0mpet_name\u001b[0m\u001b[1;33m.\u001b[0m\u001b[0mtitle\u001b[0m\u001b[1;33m(\u001b[0m\u001b[1;33m)\u001b[0m\u001b[1;33m)\u001b[0m\u001b[1;33m\u001b[0m\u001b[0m\n\u001b[0;32m      5\u001b[0m \u001b[1;33m\u001b[0m\u001b[0m\n\u001b[1;32m----> 6\u001b[1;33m \u001b[0mdescribe_pet\u001b[0m\u001b[1;33m(\u001b[0m\u001b[1;33m)\u001b[0m\u001b[1;33m\u001b[0m\u001b[0m\n\u001b[0m",
      "\u001b[1;31mTypeError\u001b[0m: describe_pet() missing 2 required positional arguments: 'animal_type' and 'pet_name'"
     ]
    }
   ],
   "source": [
    "def describe_pet(animal_type,pet_name):\n",
    "    '''显示宠物信息'''\n",
    "    print('\\nI have a',animal_type)\n",
    "    print('My',animal_type,\"'s name is\", pet_name.title())\n",
    "\n",
    "describe_pet()"
   ]
  },
  {
   "cell_type": "markdown",
   "metadata": {},
   "source": [
    "## 返回值\n",
    "函数并非总是直接显示输出,相反,他可以处理一些数据,并返回一个或一组值.可使用return语句将值返回到函数的代码行.返回值能让程序大部分繁重工作移动到函数中完成"
   ]
  },
  {
   "cell_type": "markdown",
   "metadata": {},
   "source": [
    "### 返回简单值"
   ]
  },
  {
   "cell_type": "code",
   "execution_count": 7,
   "metadata": {
    "ExecuteTime": {
     "end_time": "2019-01-18T00:09:38.670229Z",
     "start_time": "2019-01-18T00:09:38.663244Z"
    }
   },
   "outputs": [
    {
     "name": "stdout",
     "output_type": "stream",
     "text": [
      "Jimi Hedrix\n"
     ]
    }
   ],
   "source": [
    "def get_formatted_name(first_name, last_name):\n",
    "    '''返回整洁姓名'''\n",
    "    full_name = first_name + ' ' +last_name\n",
    "    #resturn full_name.tittle()\n",
    "    #resturn full_name.title()\n",
    "    return full_name.title()\n",
    "\n",
    "\n",
    "    \n",
    "musician = get_formatted_name('jimi', 'hedrix')\n",
    "print(musician)"
   ]
  },
  {
   "cell_type": "markdown",
   "metadata": {},
   "source": [
    "### 让实参变成可选的"
   ]
  },
  {
   "cell_type": "code",
   "execution_count": 8,
   "metadata": {
    "ExecuteTime": {
     "end_time": "2019-01-18T00:10:29.220911Z",
     "start_time": "2019-01-18T00:10:29.214929Z"
    }
   },
   "outputs": [
    {
     "name": "stdout",
     "output_type": "stream",
     "text": [
      "Stephen Willian Hawking\n",
      "Albert Einstein\n"
     ]
    }
   ],
   "source": [
    "def get_formatted_name(first_name,last_name,middle_name=''):\n",
    "    '''返回整洁的姓名'''\n",
    "    if middle_name:\n",
    "        full_name = first_name + ' ' + middle_name+' ' + last_name\n",
    "    else:\n",
    "        full_name = first_name + ' ' + last_name\n",
    "    return full_name.title()\n",
    "\n",
    "print(get_formatted_name('stephen','hawking','willian'))\n",
    "print(get_formatted_name('albert','einstein'))"
   ]
  },
  {
   "cell_type": "markdown",
   "metadata": {},
   "source": [
    "### 返回字典\n",
    "函数可返回任何类型的值,包括列表和字典等复杂的数据结构."
   ]
  },
  {
   "cell_type": "code",
   "execution_count": 9,
   "metadata": {
    "ExecuteTime": {
     "end_time": "2019-01-18T00:11:05.724507Z",
     "start_time": "2019-01-18T00:11:05.718526Z"
    }
   },
   "outputs": [
    {
     "name": "stdout",
     "output_type": "stream",
     "text": [
      "{'first': 'albert', 'last': 'albert', 'age': 27}\n"
     ]
    }
   ],
   "source": [
    "def build_person(first_name,last_name,age=''):\n",
    "    '''返回字典，其中包含一个人的信息'''\n",
    "    person = {'first': first_name, 'last': first_name}\n",
    "    if age:\n",
    "        person['age'] = age\n",
    "    return person\n",
    "person = build_person('albert','einstein',27)\n",
    "print(person)\n"
   ]
  },
  {
   "cell_type": "markdown",
   "metadata": {},
   "source": [
    "## 传递列表\n",
    "将参数传递到函数后,函数能直接访问内容"
   ]
  },
  {
   "cell_type": "code",
   "execution_count": 10,
   "metadata": {
    "ExecuteTime": {
     "end_time": "2019-01-18T00:11:57.790972Z",
     "start_time": "2019-01-18T00:11:57.784989Z"
    }
   },
   "outputs": [
    {
     "name": "stdout",
     "output_type": "stream",
     "text": [
      "Hellow, A!\n",
      "Hellow, B!\n",
      "Hellow, C!\n"
     ]
    }
   ],
   "source": [
    "def greet_users(names):\n",
    "    '''向列表中每位用户发出问候'''\n",
    "    for name in names:\n",
    "        message = 'Hellow, ' + name.title() + '!'\n",
    "        print(message)\n",
    "usernames = ['a','b','c']\n",
    "greet_users(usernames)"
   ]
  },
  {
   "cell_type": "markdown",
   "metadata": {},
   "source": [
    "### 在函数中修改列表"
   ]
  },
  {
   "cell_type": "code",
   "execution_count": 11,
   "metadata": {
    "ExecuteTime": {
     "end_time": "2019-01-18T00:12:39.993229Z",
     "start_time": "2019-01-18T00:12:39.986248Z"
    }
   },
   "outputs": [
    {
     "name": "stdout",
     "output_type": "stream",
     "text": [
      "priinting model: dodecahedron\n",
      "priinting model: robot pedant\n",
      "priinting model: iphone case\n",
      "\n",
      "The following models have been printed:\n",
      "dodecahedron\n",
      "robot pedant\n",
      "iphone case\n"
     ]
    }
   ],
   "source": [
    "#用函数重新组织\n",
    "def print_models(unprinted_designs,completed_models):\n",
    "    '''\n",
    "    模拟打印每个设计，直到没有打印的设计为止\n",
    "    打印每个设计后，都将其移到列表completed_models中\n",
    "    '''\n",
    "    while unprinted_designs:\n",
    "        current_design = unprinted_designs.pop()\n",
    "\n",
    "        #模拟根据设计制作打印模型的过程\n",
    "        print('priinting model:',current_design)\n",
    "        completed_models.append(current_design)\n",
    "def show_completed_models(completed_models):\n",
    "    '''显示打印好的所有模型'''\n",
    "    print('\\nThe following models have been printed:')\n",
    "    for completed_model in completed_models:\n",
    "        print(completed_model)\n",
    "\n",
    "unprinted_designs = ['iphone case','robot pedant','dodecahedron']\n",
    "completed_models = []\n",
    "\n",
    "print_models(unprinted_designs,completed_models)\n",
    "show_completed_models(completed_models)\n"
   ]
  },
  {
   "cell_type": "markdown",
   "metadata": {},
   "source": [
    "### 禁止函数修改列表\n",
    "有时也要保留原来列表,可用function_name(last_name[:])实现"
   ]
  },
  {
   "cell_type": "markdown",
   "metadata": {},
   "source": [
    "## 传递任意数量的实参"
   ]
  },
  {
   "cell_type": "code",
   "execution_count": 12,
   "metadata": {
    "ExecuteTime": {
     "end_time": "2019-01-18T00:13:16.001860Z",
     "start_time": "2019-01-18T00:13:15.996874Z"
    }
   },
   "outputs": [
    {
     "name": "stdout",
     "output_type": "stream",
     "text": [
      "('pepperoni',)\n",
      "('mushroom', 'green papers', 'extra cheese')\n"
     ]
    }
   ],
   "source": [
    "def make_pizza(*toppings): # 创建topping的空元组,并将所有值都装到元组中\n",
    "    '''打印顾客所有配料'''\n",
    "    print(toppings)\n",
    "make_pizza('pepperoni') #  pepperoni 意大利香肠\n",
    "make_pizza('mushroom', 'green papers', 'extra cheese')"
   ]
  },
  {
   "cell_type": "markdown",
   "metadata": {},
   "source": [
    "### 结合使用位置实参和任意数量的实参"
   ]
  },
  {
   "cell_type": "code",
   "execution_count": 13,
   "metadata": {
    "ExecuteTime": {
     "end_time": "2019-01-18T00:13:38.051133Z",
     "start_time": "2019-01-18T00:13:38.045149Z"
    }
   },
   "outputs": [
    {
     "name": "stdout",
     "output_type": "stream",
     "text": [
      "Making a 16-inch pizza with the following toppings:\n",
      "- pepperoni\n",
      "Making a 12-inch pizza with the following toppings:\n",
      "- mushroom\n",
      "- green papers\n",
      "- extra cheese\n"
     ]
    }
   ],
   "source": [
    "def make_pizza(size,*toppings): # 创建topping的空元组,并将所有值都装到元组中\n",
    "    '''打印顾客所有配料'''\n",
    "    print('Making a',str(size)+'-inch pizza with the following toppings:')\n",
    "    for topping in toppings:\n",
    "        print('-',topping)\n",
    "make_pizza(16,'pepperoni') #  pepperoni 意大利香肠\n",
    "make_pizza(12,'mushroom', 'green papers', 'extra cheese')"
   ]
  },
  {
   "cell_type": "code",
   "execution_count": 14,
   "metadata": {
    "ExecuteTime": {
     "end_time": "2019-01-18T00:13:45.339018Z",
     "start_time": "2019-01-18T00:13:45.334032Z"
    }
   },
   "outputs": [
    {
     "name": "stdout",
     "output_type": "stream",
     "text": [
      "('a', 'b')\n"
     ]
    }
   ],
   "source": [
    "def f(*a):\n",
    "    print(a)\n",
    "\n",
    "f('a','b')"
   ]
  },
  {
   "cell_type": "code",
   "execution_count": 15,
   "metadata": {
    "ExecuteTime": {
     "end_time": "2019-01-18T00:13:53.171915Z",
     "start_time": "2019-01-18T00:13:53.167936Z"
    }
   },
   "outputs": [
    {
     "name": "stdout",
     "output_type": "stream",
     "text": [
      "a b\n"
     ]
    }
   ],
   "source": [
    "def g(*a):\n",
    "    print(*a)\n",
    "\n",
    "g('a', 'b')"
   ]
  },
  {
   "cell_type": "markdown",
   "metadata": {},
   "source": [
    "### 使用任意数量的关键字实参"
   ]
  },
  {
   "cell_type": "code",
   "execution_count": 16,
   "metadata": {
    "ExecuteTime": {
     "end_time": "2019-01-18T00:14:13.080215Z",
     "start_time": "2019-01-18T00:14:13.074233Z"
    }
   },
   "outputs": [
    {
     "name": "stdout",
     "output_type": "stream",
     "text": [
      "{'first_name': 'albert', 'last_name': 'einstein', 'location': 'princeton', 'field': 'physics'}\n"
     ]
    }
   ],
   "source": [
    "#接受任意数量的关键字实参\n",
    "def build_profile(first,last,**user_info):\n",
    "    '''创建一个字典,包含我们知道的用户的一切'''\n",
    "    profile = {}\n",
    "    profile['first_name'] = first\n",
    "    profile['last_name'] = last\n",
    "    for key,value in user_info.items():\n",
    "        profile[key] = value\n",
    "    return profile\n",
    "user_profile = build_profile('albert','einstein',\n",
    "location = 'princeton'\n",
    ",field ='physics')\n",
    "print(user_profile)"
   ]
  },
  {
   "cell_type": "markdown",
   "metadata": {},
   "source": [
    "##  lambda函数"
   ]
  },
  {
   "cell_type": "code",
   "execution_count": 18,
   "metadata": {
    "ExecuteTime": {
     "end_time": "2019-01-18T00:14:49.488327Z",
     "start_time": "2019-01-18T00:14:49.482345Z"
    }
   },
   "outputs": [
    {
     "data": {
      "text/plain": [
       "4"
      ]
     },
     "execution_count": 18,
     "metadata": {},
     "output_type": "execute_result"
    }
   ],
   "source": [
    "f = lambda x :x*2\n",
    "f(2)"
   ]
  },
  {
   "cell_type": "code",
   "execution_count": 24,
   "metadata": {
    "ExecuteTime": {
     "end_time": "2019-01-18T00:16:33.788521Z",
     "start_time": "2019-01-18T00:16:33.782538Z"
    }
   },
   "outputs": [
    {
     "data": {
      "text/plain": [
       "4"
      ]
     },
     "execution_count": 24,
     "metadata": {},
     "output_type": "execute_result"
    }
   ],
   "source": [
    "(lambda x :x*2)(2)"
   ]
  },
  {
   "cell_type": "code",
   "execution_count": 20,
   "metadata": {
    "ExecuteTime": {
     "end_time": "2019-01-18T00:15:12.883744Z",
     "start_time": "2019-01-18T00:15:12.877762Z"
    }
   },
   "outputs": [
    {
     "data": {
      "text/plain": [
       "9"
      ]
     },
     "execution_count": 20,
     "metadata": {},
     "output_type": "execute_result"
    }
   ],
   "source": [
    "my_functions = [(lambda x : x**2), (lambda x : x**3)]\n",
    "my_functions[0](3)"
   ]
  },
  {
   "cell_type": "code",
   "execution_count": 21,
   "metadata": {
    "ExecuteTime": {
     "end_time": "2019-01-18T00:15:48.209435Z",
     "start_time": "2019-01-18T00:15:48.204449Z"
    }
   },
   "outputs": [
    {
     "name": "stdout",
     "output_type": "stream",
     "text": [
      "(1, 2, 3, 4)\n"
     ]
    }
   ],
   "source": [
    "f = lambda *x:print(x)\n",
    "f(1,2,3,4)"
   ]
  },
  {
   "cell_type": "code",
   "execution_count": 22,
   "metadata": {
    "ExecuteTime": {
     "end_time": "2019-01-18T00:15:58.677771Z",
     "start_time": "2019-01-18T00:15:58.672783Z"
    }
   },
   "outputs": [
    {
     "name": "stdout",
     "output_type": "stream",
     "text": [
      "[4, 6, 8]\n"
     ]
    }
   ],
   "source": [
    "lisst1 = [1,4,5,6,7,8]\n",
    "a = list(filter(lambda x :(x%2 == 0),lisst1))\n",
    "print(a)"
   ]
  },
  {
   "cell_type": "code",
   "execution_count": 23,
   "metadata": {
    "ExecuteTime": {
     "end_time": "2019-01-18T00:16:14.830945Z",
     "start_time": "2019-01-18T00:16:14.824958Z"
    }
   },
   "outputs": [
    {
     "data": {
      "text/plain": [
       "3"
      ]
     },
     "execution_count": 23,
     "metadata": {},
     "output_type": "execute_result"
    }
   ],
   "source": [
    "max_ = lambda a,b:a if (a>b) else b\n",
    "max_(2,3)"
   ]
  },
  {
   "cell_type": "markdown",
   "metadata": {},
   "source": [
    "## map 函数\n",
    "map() 会根据提供的函数对指定序列做映射。\n",
    "\n",
    "第一个参数 function 以参数序列中的每一个元素调用 function 函数，返回包含每次 function 函数返回值的新列表。"
   ]
  },
  {
   "cell_type": "code",
   "execution_count": 25,
   "metadata": {
    "ExecuteTime": {
     "end_time": "2019-01-18T00:17:05.040173Z",
     "start_time": "2019-01-18T00:17:05.033194Z"
    }
   },
   "outputs": [
    {
     "name": "stdout",
     "output_type": "stream",
     "text": [
      "Help on class map in module builtins:\n",
      "\n",
      "class map(object)\n",
      " |  map(func, *iterables) --> map object\n",
      " |  \n",
      " |  Make an iterator that computes the function using arguments from\n",
      " |  each of the iterables.  Stops when the shortest iterable is exhausted.\n",
      " |  \n",
      " |  Methods defined here:\n",
      " |  \n",
      " |  __getattribute__(self, name, /)\n",
      " |      Return getattr(self, name).\n",
      " |  \n",
      " |  __iter__(self, /)\n",
      " |      Implement iter(self).\n",
      " |  \n",
      " |  __new__(*args, **kwargs) from builtins.type\n",
      " |      Create and return a new object.  See help(type) for accurate signature.\n",
      " |  \n",
      " |  __next__(self, /)\n",
      " |      Implement next(self).\n",
      " |  \n",
      " |  __reduce__(...)\n",
      " |      Return state information for pickling.\n",
      "\n"
     ]
    }
   ],
   "source": [
    "help(map)"
   ]
  },
  {
   "cell_type": "code",
   "execution_count": 26,
   "metadata": {
    "ExecuteTime": {
     "end_time": "2019-01-18T00:17:14.057811Z",
     "start_time": "2019-01-18T00:17:14.052824Z"
    }
   },
   "outputs": [
    {
     "name": "stdout",
     "output_type": "stream",
     "text": [
      "[1, 4, 9, 16, 25]\n",
      "[1, 4, 9, 16, 25]\n",
      "[3, 7, 11]\n"
     ]
    }
   ],
   "source": [
    "# 计算平方数\n",
    "def square(x):\n",
    "    return x ** 2\n",
    "print(list(map(square,[1,2,3,4,5])))\n",
    "print(list(map(lambda x:x**2,[1, 2, 3, 4, 5])))\n",
    "\n",
    "# 提供两个列表,对相同位置数据相加\n",
    "print(list(map(lambda x, y:x+y,[1,3,5],[2,4,6])))"
   ]
  },
  {
   "cell_type": "code",
   "execution_count": 27,
   "metadata": {
    "ExecuteTime": {
     "end_time": "2019-01-18T00:17:28.519168Z",
     "start_time": "2019-01-18T00:17:21.570157Z"
    }
   },
   "outputs": [
    {
     "name": "stdout",
     "output_type": "stream",
     "text": [
      "1 2 3 5\n",
      "[1, 2, 3, 5]\n"
     ]
    }
   ],
   "source": [
    "# 一行实现输出多个数字\n",
    "print(list(map(int, input().split())))"
   ]
  },
  {
   "cell_type": "markdown",
   "metadata": {},
   "source": [
    "## reduce 函数\n",
    "- reduce接受两个参数,即reduce(func, seq)\n",
    "- 第一个参数func是一个二元函数(接受两个值作为输入)\n",
    "- seq 是一个序列\n",
    "- reduce()将第一次从seq序列中取前两个元素,给函数func调用,得到一个中间结果,再将该结果和seq的下一个元素给func,如此反复,直到seq所有元素被遍历完"
   ]
  },
  {
   "cell_type": "code",
   "execution_count": 28,
   "metadata": {
    "ExecuteTime": {
     "end_time": "2019-01-18T00:17:55.223127Z",
     "start_time": "2019-01-18T00:17:55.217147Z"
    }
   },
   "outputs": [
    {
     "data": {
      "text/plain": [
       "362880"
      ]
     },
     "execution_count": 28,
     "metadata": {},
     "output_type": "execute_result"
    }
   ],
   "source": [
    "# 导入reduce\n",
    "from functools import reduce\n",
    "\n",
    "# 计算阶乘\n",
    "reduce(lambda x, y: x * y, range(1, 10))\n"
   ]
  },
  {
   "cell_type": "markdown",
   "metadata": {},
   "source": [
    "## Filter()函数\n",
    "- filter() 函数用于过滤序列，过滤掉不符合条件的元素，返回一个迭代器对象，如果要转换为列表，可以使用 list() 来转换。该接收两个参数，第一个为函数，第二个为序列，序列的每个元素作为参数传递给函数进行判，然后返回 True 或 False，最后将返回 True 的元素放到新列表中。\n",
    "- filter(function, iterable)"
   ]
  },
  {
   "cell_type": "code",
   "execution_count": 29,
   "metadata": {
    "ExecuteTime": {
     "end_time": "2019-01-18T00:18:14.698410Z",
     "start_time": "2019-01-18T00:18:14.693425Z"
    }
   },
   "outputs": [
    {
     "data": {
      "text/plain": [
       "[1, 3, 5]"
      ]
     },
     "execution_count": 29,
     "metadata": {},
     "output_type": "execute_result"
    }
   ],
   "source": [
    "# 挑出列表中所有奇数\n",
    "list(filter(lambda x:x&1,[0,1,2,3,4,5,6]))"
   ]
  },
  {
   "cell_type": "code",
   "execution_count": 30,
   "metadata": {
    "ExecuteTime": {
     "end_time": "2019-01-18T00:18:22.658554Z",
     "start_time": "2019-01-18T00:18:22.652570Z"
    }
   },
   "outputs": [
    {
     "data": {
      "text/plain": [
       "['test', 'str', 'END']"
      ]
     },
     "execution_count": 30,
     "metadata": {},
     "output_type": "execute_result"
    }
   ],
   "source": [
    "# 删除 None 或者空字符串\n",
    "def is_not_empty(s):\n",
    "    return s and len(s.strip()) > 0\n",
    "list(filter(is_not_empty, ['test', None, '', 'str', '  ', 'END']))"
   ]
  },
  {
   "cell_type": "markdown",
   "metadata": {},
   "source": [
    "## 将函数保存到模块中"
   ]
  },
  {
   "cell_type": "markdown",
   "metadata": {},
   "source": [
    "导入整个模块\n",
    "```python\n",
    "import pizza\n",
    "pizza.function\n",
    "```\n",
    "导入特定函数\n",
    "```python\n",
    "from module_name import function_name\n",
    "from module_name import function0,function_name1\n",
    "```\n",
    "使用as指定别名\n",
    "```python\n",
    "import matplotlib.pyplot as plt\n",
    "```\n",
    "导入所有函数\n",
    "```python\n",
    "from pizza import *\n",
    "```\n",
    "无需使用.表示方法"
   ]
  },
  {
   "cell_type": "markdown",
   "metadata": {},
   "source": [
    "## 装饰器"
   ]
  },
  {
   "cell_type": "markdown",
   "metadata": {
    "ExecuteTime": {
     "end_time": "2019-01-18T01:52:50.332192Z",
     "start_time": "2019-01-18T01:52:50.303269Z"
    }
   },
   "source": [
    "### 在python里函数和其他东西一样都是对象"
   ]
  },
  {
   "cell_type": "code",
   "execution_count": 64,
   "metadata": {
    "ExecuteTime": {
     "end_time": "2019-01-18T06:56:49.470957Z",
     "start_time": "2019-01-18T06:56:49.464973Z"
    }
   },
   "outputs": [
    {
     "data": {
      "text/plain": [
       "<function __main__.my_fun(a)>"
      ]
     },
     "execution_count": 64,
     "metadata": {},
     "output_type": "execute_result"
    }
   ],
   "source": [
    "def my_fun(a):\n",
    "    print(a)\n",
    "\n",
    "a = my_fun\n",
    "a"
   ]
  },
  {
   "cell_type": "code",
   "execution_count": 65,
   "metadata": {
    "ExecuteTime": {
     "end_time": "2019-01-18T06:56:58.107489Z",
     "start_time": "2019-01-18T06:56:58.101504Z"
    }
   },
   "outputs": [
    {
     "data": {
      "text/plain": [
       "function"
      ]
     },
     "execution_count": 65,
     "metadata": {},
     "output_type": "execute_result"
    }
   ],
   "source": [
    "a.__class__"
   ]
  },
  {
   "cell_type": "code",
   "execution_count": 50,
   "metadata": {
    "ExecuteTime": {
     "end_time": "2019-01-18T02:03:24.763304Z",
     "start_time": "2019-01-18T02:03:24.758324Z"
    }
   },
   "outputs": [
    {
     "data": {
      "text/plain": [
       "'my_fun'"
      ]
     },
     "execution_count": 50,
     "metadata": {},
     "output_type": "execute_result"
    }
   ],
   "source": [
    "a.__name__"
   ]
  },
  {
   "cell_type": "code",
   "execution_count": 51,
   "metadata": {
    "ExecuteTime": {
     "end_time": "2019-01-18T02:03:25.321965Z",
     "start_time": "2019-01-18T02:03:25.315983Z"
    }
   },
   "outputs": [
    {
     "data": {
      "text/plain": [
       "'my_print'"
      ]
     },
     "execution_count": 51,
     "metadata": {},
     "output_type": "execute_result"
    }
   ],
   "source": [
    "def my_print():\n",
    "    print(\"function_run\")\n",
    "\n",
    "def f(function):\n",
    "    return function\n",
    "\n",
    "f(my_print).__name__"
   ]
  },
  {
   "cell_type": "code",
   "execution_count": 52,
   "metadata": {
    "ExecuteTime": {
     "end_time": "2019-01-18T02:03:26.307446Z",
     "start_time": "2019-01-18T02:03:26.302460Z"
    }
   },
   "outputs": [
    {
     "name": "stdout",
     "output_type": "stream",
     "text": [
      "function_run\n"
     ]
    }
   ],
   "source": [
    "f(my_print)()"
   ]
  },
  {
   "cell_type": "code",
   "execution_count": 59,
   "metadata": {
    "ExecuteTime": {
     "end_time": "2019-01-18T06:49:43.893787Z",
     "start_time": "2019-01-18T06:49:43.886805Z"
    }
   },
   "outputs": [
    {
     "data": {
      "text/plain": [
       "0.184"
      ]
     },
     "execution_count": 59,
     "metadata": {},
     "output_type": "execute_result"
    }
   ],
   "source": [
    "import random\n",
    "\n",
    "# 返回一个0到1的浮点数\n",
    "def float_random():\n",
    "    return random.random()\n",
    "\n",
    "def a_decorator(func):\n",
    "    '''调用func'''\n",
    "    def wrapper():\n",
    "        return round(func(),3)\n",
    "    return wrapper\n",
    "\n",
    "f = a_decorator(float_random)\n",
    "f()"
   ]
  },
  {
   "cell_type": "code",
   "execution_count": 57,
   "metadata": {
    "ExecuteTime": {
     "end_time": "2019-01-18T02:29:36.023091Z",
     "start_time": "2019-01-18T02:29:36.018107Z"
    }
   },
   "outputs": [
    {
     "data": {
      "text/plain": [
       "'wrapper'"
      ]
     },
     "execution_count": 57,
     "metadata": {},
     "output_type": "execute_result"
    }
   ],
   "source": [
    "f.__name__"
   ]
  },
  {
   "cell_type": "markdown",
   "metadata": {},
   "source": [
    "### 使用装饰器"
   ]
  },
  {
   "cell_type": "code",
   "execution_count": 62,
   "metadata": {
    "ExecuteTime": {
     "end_time": "2019-01-18T06:54:10.055483Z",
     "start_time": "2019-01-18T06:54:10.047503Z"
    }
   },
   "outputs": [
    {
     "data": {
      "text/plain": [
       "'wrapper'"
      ]
     },
     "execution_count": 62,
     "metadata": {},
     "output_type": "execute_result"
    }
   ],
   "source": [
    "import random\n",
    "\n",
    "# 返回一个0到1的浮点数\n",
    "@a_decorator # 装饰器,完全等价于f = a_decorator(float_random)\n",
    "def float_random():\n",
    "    return random.random()\n",
    "\n",
    "def a_decorator(func):\n",
    "    '''调用func'''\n",
    "    def wrapper():\n",
    "        return round(func(),3)\n",
    "    return wrapper\n",
    "\n",
    "float_random.__name__"
   ]
  },
  {
   "cell_type": "code",
   "execution_count": 63,
   "metadata": {
    "ExecuteTime": {
     "end_time": "2019-01-18T06:54:10.779400Z",
     "start_time": "2019-01-18T06:54:10.774412Z"
    }
   },
   "outputs": [
    {
     "data": {
      "text/plain": [
       "0.982"
      ]
     },
     "execution_count": 63,
     "metadata": {},
     "output_type": "execute_result"
    }
   ],
   "source": [
    "float_random()"
   ]
  },
  {
   "cell_type": "code",
   "execution_count": 66,
   "metadata": {
    "ExecuteTime": {
     "end_time": "2019-01-18T07:09:37.247534Z",
     "start_time": "2019-01-18T07:09:37.241538Z"
    }
   },
   "outputs": [
    {
     "name": "stdout",
     "output_type": "stream",
     "text": [
      "我准备计算:add函数了\n",
      "200+50=250\n",
      "啊哈,计算完了\n"
     ]
    }
   ],
   "source": [
    "# 打印函数日志\n",
    "\n",
    "def logger(func):\n",
    "    def wrapper(*args, **kw):\n",
    "        print('我准备计算:{}函数了'.format(func.__name__))\n",
    "        func(*args, **kw) # 执行函数\n",
    "        print('啊哈,计算完了')\n",
    "    return wrapper\n",
    "\n",
    "@logger\n",
    "def add(x,y):\n",
    "    print('{}+{}={}'.format(x, y, x+y))\n",
    "    \n",
    "add(200,50)"
   ]
  },
  {
   "cell_type": "code",
   "execution_count": 67,
   "metadata": {
    "ExecuteTime": {
     "end_time": "2019-01-18T07:15:50.881859Z",
     "start_time": "2019-01-18T07:15:48.876037Z"
    }
   },
   "outputs": [
    {
     "name": "stdout",
     "output_type": "stream",
     "text": [
      "花费时间:2.000969409942627秒\n"
     ]
    }
   ],
   "source": [
    "# 计时器\n",
    "import time\n",
    "\n",
    "def timer(func):\n",
    "    '''计时器'''\n",
    "    def wrapper(*args,**kw):\n",
    "        t1 = time.time()\n",
    "        func(*args,**kw)\n",
    "        t2 = time.time()\n",
    "        \n",
    "        # 计算时长\n",
    "        cost_time = t2 - t1\n",
    "        print('花费时间:{}秒'.format(cost_time))\n",
    "    return wrapper\n",
    " \n",
    "@timer\n",
    "def sleep(sleep_time):\n",
    "    time.sleep(sleep_time)\n",
    "\n",
    "sleep(2)"
   ]
  },
  {
   "cell_type": "markdown",
   "metadata": {},
   "source": [
    "### 进阶用法：带参数的函数装饰器\n",
    "[参考 Python编程时光](https://mp.weixin.qq.com/s?__biz=MzU4OTUwMDE1Mw==&mid=2247483801&idx=1&sn=10ce0416ecf4c370b3d5db2821bec9e0&chksm=fdcdda0fcaba5319cfbe6f5996cc5b85cbdc0c900f457d387dfbb8a3a90ec919744843149aa3)"
   ]
  },
  {
   "cell_type": "code",
   "execution_count": null,
   "metadata": {},
   "outputs": [],
   "source": [
    "# 根据国籍,说出问候的话\n",
    "\n",
    "@say_hello('China')\n",
    "    def american():\n",
    "        print('我来自中国')\n",
    "\n",
    "@say_hello('america')\n",
    "def chinese():\n",
    "    print('I am from America.')"
   ]
  }
 ],
 "metadata": {
  "kernelspec": {
   "display_name": "Python 3",
   "language": "python",
   "name": "python3"
  },
  "language_info": {
   "codemirror_mode": {
    "name": "ipython",
    "version": 3
   },
   "file_extension": ".py",
   "mimetype": "text/x-python",
   "name": "python",
   "nbconvert_exporter": "python",
   "pygments_lexer": "ipython3",
   "version": "3.6.5"
  },
  "toc": {
   "base_numbering": 1,
   "nav_menu": {},
   "number_sections": true,
   "sideBar": true,
   "skip_h1_title": false,
   "title_cell": "Table of Contents",
   "title_sidebar": "Contents",
   "toc_cell": false,
   "toc_position": {},
   "toc_section_display": true,
   "toc_window_display": true
  },
  "varInspector": {
   "cols": {
    "lenName": 16,
    "lenType": 16,
    "lenVar": 40
   },
   "kernels_config": {
    "python": {
     "delete_cmd_postfix": "",
     "delete_cmd_prefix": "del ",
     "library": "var_list.py",
     "varRefreshCmd": "print(var_dic_list())"
    },
    "r": {
     "delete_cmd_postfix": ") ",
     "delete_cmd_prefix": "rm(",
     "library": "var_list.r",
     "varRefreshCmd": "cat(var_dic_list()) "
    }
   },
   "types_to_exclude": [
    "module",
    "function",
    "builtin_function_or_method",
    "instance",
    "_Feature"
   ],
   "window_display": false
  }
 },
 "nbformat": 4,
 "nbformat_minor": 2
}
