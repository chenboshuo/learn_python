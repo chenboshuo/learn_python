{
 "cells": [
  {
   "cell_type": "markdown",
   "metadata": {},
   "source": [
    "# 字典"
   ]
  },
  {
   "cell_type": "markdown",
   "metadata": {},
   "source": [
    "## 创建字典"
   ]
  },
  {
   "cell_type": "code",
   "execution_count": 1,
   "metadata": {
    "ExecuteTime": {
     "end_time": "2019-01-16T09:46:41.984826Z",
     "start_time": "2019-01-16T09:46:41.978842Z"
    }
   },
   "outputs": [
    {
     "name": "stdout",
     "output_type": "stream",
     "text": [
      "a\n",
      "b\n"
     ]
    }
   ],
   "source": [
    "y = {'x':'a', 2:'b'}\n",
    "print(y['x'])\n",
    "print(y[2])"
   ]
  },
  {
   "cell_type": "markdown",
   "metadata": {},
   "source": [
    "### 用zip函数"
   ]
  },
  {
   "cell_type": "code",
   "execution_count": 7,
   "metadata": {
    "ExecuteTime": {
     "end_time": "2019-01-16T09:52:11.536802Z",
     "start_time": "2019-01-16T09:52:11.530818Z"
    }
   },
   "outputs": [
    {
     "name": "stdout",
     "output_type": "stream",
     "text": [
      "Help on class zip in module builtins:\n",
      "\n",
      "class zip(object)\n",
      " |  zip(iter1 [,iter2 [...]]) --> zip object\n",
      " |  \n",
      " |  Return a zip object whose .__next__() method returns a tuple where\n",
      " |  the i-th element comes from the i-th iterable argument.  The .__next__()\n",
      " |  method continues until the shortest iterable in the argument sequence\n",
      " |  is exhausted and then it raises StopIteration.\n",
      " |  \n",
      " |  Methods defined here:\n",
      " |  \n",
      " |  __getattribute__(self, name, /)\n",
      " |      Return getattr(self, name).\n",
      " |  \n",
      " |  __iter__(self, /)\n",
      " |      Implement iter(self).\n",
      " |  \n",
      " |  __new__(*args, **kwargs) from builtins.type\n",
      " |      Create and return a new object.  See help(type) for accurate signature.\n",
      " |  \n",
      " |  __next__(self, /)\n",
      " |      Implement next(self).\n",
      " |  \n",
      " |  __reduce__(...)\n",
      " |      Return state information for pickling.\n",
      "\n"
     ]
    }
   ],
   "source": [
    "help(zip)"
   ]
  },
  {
   "cell_type": "code",
   "execution_count": 8,
   "metadata": {
    "ExecuteTime": {
     "end_time": "2019-01-16T09:52:11.873205Z",
     "start_time": "2019-01-16T09:52:11.867221Z"
    }
   },
   "outputs": [
    {
     "data": {
      "text/plain": [
       "<zip at 0x1b2b1b88248>"
      ]
     },
     "execution_count": 8,
     "metadata": {},
     "output_type": "execute_result"
    }
   ],
   "source": [
    "name = ['a','b']\n",
    "age = [18,19]\n",
    "zip(name,age)"
   ]
  },
  {
   "cell_type": "code",
   "execution_count": 9,
   "metadata": {
    "ExecuteTime": {
     "end_time": "2019-01-16T09:52:12.671420Z",
     "start_time": "2019-01-16T09:52:12.667460Z"
    }
   },
   "outputs": [],
   "source": [
    "# 先转化为列表\n",
    "_ = list(zip(name,age))"
   ]
  },
  {
   "cell_type": "code",
   "execution_count": 10,
   "metadata": {
    "ExecuteTime": {
     "end_time": "2019-01-16T09:52:13.359829Z",
     "start_time": "2019-01-16T09:52:13.354839Z"
    }
   },
   "outputs": [
    {
     "data": {
      "text/plain": [
       "{'a': 18, 'b': 19}"
      ]
     },
     "execution_count": 10,
     "metadata": {},
     "output_type": "execute_result"
    }
   ],
   "source": [
    "# 再转化为字典\n",
    "dict(_)"
   ]
  },
  {
   "cell_type": "markdown",
   "metadata": {},
   "source": [
    "### formkeys 函数"
   ]
  },
  {
   "cell_type": "code",
   "execution_count": 12,
   "metadata": {
    "ExecuteTime": {
     "end_time": "2019-01-16T09:52:53.392689Z",
     "start_time": "2019-01-16T09:52:53.387701Z"
    }
   },
   "outputs": [
    {
     "name": "stdout",
     "output_type": "stream",
     "text": [
      "Help on built-in function fromkeys:\n",
      "\n",
      "fromkeys(iterable, value=None, /) method of builtins.type instance\n",
      "    Returns a new dict with keys from iterable and values equal to value.\n",
      "\n"
     ]
    }
   ],
   "source": [
    "help(dict.fromkeys)"
   ]
  },
  {
   "cell_type": "code",
   "execution_count": 13,
   "metadata": {
    "ExecuteTime": {
     "end_time": "2019-01-16T09:53:16.649018Z",
     "start_time": "2019-01-16T09:53:16.643034Z"
    }
   },
   "outputs": [
    {
     "data": {
      "text/plain": [
       "{'a': 0, 'b': 0, 'c': 0}"
      ]
     },
     "execution_count": 13,
     "metadata": {},
     "output_type": "execute_result"
    }
   ],
   "source": [
    "a = ['a','b','c']\n",
    "dict.fromkeys(a,0)"
   ]
  },
  {
   "cell_type": "markdown",
   "metadata": {},
   "source": [
    "### 推导式"
   ]
  },
  {
   "cell_type": "code",
   "execution_count": 14,
   "metadata": {
    "ExecuteTime": {
     "end_time": "2019-01-16T09:55:26.500924Z",
     "start_time": "2019-01-16T09:55:26.493941Z"
    }
   },
   "outputs": [
    {
     "data": {
      "text/plain": [
       "{25: 5, 16: 4, 9: 3, 4: 2, 1: 1}"
      ]
     },
     "execution_count": 14,
     "metadata": {},
     "output_type": "execute_result"
    }
   ],
   "source": [
    "roots={x**2:x for x in range(5,0,-1)}\n",
    "roots"
   ]
  },
  {
   "cell_type": "markdown",
   "metadata": {},
   "source": [
    "## 使用字典"
   ]
  },
  {
   "cell_type": "markdown",
   "metadata": {},
   "source": [
    "### 添加键-值对"
   ]
  },
  {
   "cell_type": "code",
   "execution_count": 15,
   "metadata": {
    "ExecuteTime": {
     "end_time": "2019-01-16T09:56:44.245446Z",
     "start_time": "2019-01-16T09:56:44.239465Z"
    }
   },
   "outputs": [
    {
     "name": "stdout",
     "output_type": "stream",
     "text": [
      "{'color': 'green', 'point': 5}\n",
      "{'color': 'green', 'point': 5, 'x': 0, 'z': 25}\n"
     ]
    }
   ],
   "source": [
    "aim = {'color' :'green','point':5}\n",
    "print(aim)\n",
    "aim['x'] = 0\n",
    "aim['z'] = 25\n",
    "print(aim)"
   ]
  },
  {
   "cell_type": "markdown",
   "metadata": {},
   "source": [
    "### 修改字典中键的值"
   ]
  },
  {
   "cell_type": "code",
   "execution_count": 16,
   "metadata": {
    "ExecuteTime": {
     "end_time": "2019-01-16T09:57:06.504780Z",
     "start_time": "2019-01-16T09:57:06.499794Z"
    }
   },
   "outputs": [
    {
     "name": "stdout",
     "output_type": "stream",
     "text": [
      "{'color': 'green', 'point': 5}\n",
      "{'color': 'yellow', 'point': 5}\n"
     ]
    }
   ],
   "source": [
    "aim = {'color' :'green','point':5}\n",
    "print(aim)\n",
    "aim['color'] =  'yellow'\n",
    "print(aim)"
   ]
  },
  {
   "cell_type": "markdown",
   "metadata": {},
   "source": [
    "### 删除键-值对"
   ]
  },
  {
   "cell_type": "markdown",
   "metadata": {},
   "source": [
    "#### del 语句"
   ]
  },
  {
   "cell_type": "code",
   "execution_count": 38,
   "metadata": {
    "ExecuteTime": {
     "end_time": "2019-01-16T10:34:26.587918Z",
     "start_time": "2019-01-16T10:34:26.582931Z"
    }
   },
   "outputs": [
    {
     "name": "stdout",
     "output_type": "stream",
     "text": [
      "{'color': 'green', 'x': 0, 'z': 25}\n"
     ]
    }
   ],
   "source": [
    "aim = {'color': 'green', 'point': 5, 'x': 0, 'z': 25}\n",
    "del aim['point']\n",
    "print(aim)"
   ]
  },
  {
   "cell_type": "markdown",
   "metadata": {},
   "source": [
    "#### pop 语句"
   ]
  },
  {
   "cell_type": "code",
   "execution_count": 39,
   "metadata": {
    "ExecuteTime": {
     "end_time": "2019-01-16T10:34:38.245144Z",
     "start_time": "2019-01-16T10:34:38.239161Z"
    },
    "scrolled": true
   },
   "outputs": [
    {
     "data": {
      "text/plain": [
       "'green'"
      ]
     },
     "execution_count": 39,
     "metadata": {},
     "output_type": "execute_result"
    }
   ],
   "source": [
    "aim.pop('color')"
   ]
  },
  {
   "cell_type": "code",
   "execution_count": 40,
   "metadata": {
    "ExecuteTime": {
     "end_time": "2019-01-16T10:34:39.724205Z",
     "start_time": "2019-01-16T10:34:39.719219Z"
    }
   },
   "outputs": [
    {
     "data": {
      "text/plain": [
       "{'x': 0, 'z': 25}"
      ]
     },
     "execution_count": 40,
     "metadata": {},
     "output_type": "execute_result"
    }
   ],
   "source": [
    "aim"
   ]
  },
  {
   "cell_type": "markdown",
   "metadata": {},
   "source": [
    "删除的键-值对永远消失了"
   ]
  },
  {
   "cell_type": "markdown",
   "metadata": {},
   "source": [
    "### 由类似对象组成的字典"
   ]
  },
  {
   "cell_type": "code",
   "execution_count": 18,
   "metadata": {
    "ExecuteTime": {
     "end_time": "2019-01-16T09:58:15.501804Z",
     "start_time": "2019-01-16T09:58:15.495822Z"
    }
   },
   "outputs": [
    {
     "name": "stdout",
     "output_type": "stream",
     "text": [
      "{'jen': 'python', 'sarah': 'c', 'lihua': 'ruby', 'A': 'python'}\n"
     ]
    }
   ],
   "source": [
    "favorite_lanuages = {\n",
    "    'jen':'python',\n",
    "    'sarah':'c',\n",
    "    'lihua':'ruby',\n",
    "    'A':'python',\n",
    "    }\n",
    "print(favorite_lanuages)"
   ]
  },
  {
   "cell_type": "markdown",
   "metadata": {
    "ExecuteTime": {
     "end_time": "2019-01-16T09:58:23.333078Z",
     "start_time": "2019-01-16T09:58:23.137054Z"
    }
   },
   "source": [
    "确定用多行来字典,输入花括号后按回车,在下一行缩进四个空格,指定第一个键-值对"
   ]
  },
  {
   "cell_type": "markdown",
   "metadata": {},
   "source": [
    "###  get()\n",
    "Python 字典(Dictionary) get() 函数返回指定键的值，如果值不在字典中返回默认值。"
   ]
  },
  {
   "cell_type": "markdown",
   "metadata": {
    "ExecuteTime": {
     "end_time": "2019-01-16T09:59:22.107853Z",
     "start_time": "2019-01-16T09:59:22.102869Z"
    }
   },
   "source": [
    "- 参数    \n",
    "- key -- 字典中要查找的键。\n",
    "- default -- 如果指定键的值不存在时，返回该默认值值。"
   ]
  },
  {
   "cell_type": "code",
   "execution_count": 33,
   "metadata": {
    "ExecuteTime": {
     "end_time": "2019-01-16T10:33:04.935474Z",
     "start_time": "2019-01-16T10:33:04.930487Z"
    }
   },
   "outputs": [
    {
     "name": "stdout",
     "output_type": "stream",
     "text": [
      "Help on built-in function get:\n",
      "\n",
      "get(...) method of builtins.dict instance\n",
      "    D.get(k[,d]) -> D[k] if k in D, else d.  d defaults to None.\n",
      "\n"
     ]
    }
   ],
   "source": [
    "help(dict.get)"
   ]
  },
  {
   "cell_type": "code",
   "execution_count": 27,
   "metadata": {
    "ExecuteTime": {
     "end_time": "2019-01-16T10:30:44.748013Z",
     "start_time": "2019-01-16T10:30:44.742030Z"
    }
   },
   "outputs": [
    {
     "name": "stdout",
     "output_type": "stream",
     "text": [
      "Value : 27\n",
      "Value : Never\n"
     ]
    }
   ],
   "source": [
    "dict1 = {'Name': 'Zara', 'Age': 27}\n",
    "\n",
    "print (\"Value : %s\" %  dict1.get('Age','never'))\n",
    "print (\"Value : %s\" %  dict1.get('Sex', \"Never\"))"
   ]
  },
  {
   "cell_type": "markdown",
   "metadata": {},
   "source": [
    "### 转化为列表"
   ]
  },
  {
   "cell_type": "code",
   "execution_count": 28,
   "metadata": {
    "ExecuteTime": {
     "end_time": "2019-01-16T10:31:44.679862Z",
     "start_time": "2019-01-16T10:31:44.673884Z"
    }
   },
   "outputs": [
    {
     "data": {
      "text/plain": [
       "dict_keys([1, 2])"
      ]
     },
     "execution_count": 28,
     "metadata": {},
     "output_type": "execute_result"
    }
   ],
   "source": [
    "dict1 = {1:'a', 2:'b'}\n",
    "dict1.keys()"
   ]
  },
  {
   "cell_type": "code",
   "execution_count": 29,
   "metadata": {
    "ExecuteTime": {
     "end_time": "2019-01-16T10:31:45.010744Z",
     "start_time": "2019-01-16T10:31:45.004759Z"
    }
   },
   "outputs": [
    {
     "data": {
      "text/plain": [
       "dict_values(['a', 'b'])"
      ]
     },
     "execution_count": 29,
     "metadata": {},
     "output_type": "execute_result"
    }
   ],
   "source": [
    "dict1.values()"
   ]
  },
  {
   "cell_type": "code",
   "execution_count": 30,
   "metadata": {
    "ExecuteTime": {
     "end_time": "2019-01-16T10:31:45.554569Z",
     "start_time": "2019-01-16T10:31:45.549585Z"
    }
   },
   "outputs": [
    {
     "data": {
      "text/plain": [
       "dict_items([(1, 'a'), (2, 'b')])"
      ]
     },
     "execution_count": 30,
     "metadata": {},
     "output_type": "execute_result"
    }
   ],
   "source": [
    "dict1.items()"
   ]
  },
  {
   "cell_type": "markdown",
   "metadata": {},
   "source": [
    "### setdefault() 函数"
   ]
  },
  {
   "cell_type": "code",
   "execution_count": 41,
   "metadata": {
    "ExecuteTime": {
     "end_time": "2019-01-16T10:36:43.160568Z",
     "start_time": "2019-01-16T10:36:43.155582Z"
    }
   },
   "outputs": [
    {
     "name": "stdout",
     "output_type": "stream",
     "text": [
      "Help on built-in function setdefault:\n",
      "\n",
      "setdefault(...) method of builtins.dict instance\n",
      "    D.setdefault(k[,d]) -> D.get(k,d), also set D[k]=d if k not in D\n",
      "\n"
     ]
    }
   ],
   "source": [
    "help(dict.setdefault)"
   ]
  },
  {
   "cell_type": "code",
   "execution_count": 44,
   "metadata": {
    "ExecuteTime": {
     "end_time": "2019-01-16T10:37:40.155767Z",
     "start_time": "2019-01-16T10:37:40.149786Z"
    }
   },
   "outputs": [
    {
     "data": {
      "text/plain": [
       "'a'"
      ]
     },
     "execution_count": 44,
     "metadata": {},
     "output_type": "execute_result"
    }
   ],
   "source": [
    "dict_ = {1:'a', 2:'b'}\n",
    "dict_.setdefault(1,'abc') # 如果键存在,返回键对应的值"
   ]
  },
  {
   "cell_type": "code",
   "execution_count": 45,
   "metadata": {
    "ExecuteTime": {
     "end_time": "2019-01-16T10:37:48.792091Z",
     "start_time": "2019-01-16T10:37:48.787104Z"
    }
   },
   "outputs": [
    {
     "data": {
      "text/plain": [
       "{1: 'a', 2: 'b'}"
      ]
     },
     "execution_count": 45,
     "metadata": {},
     "output_type": "execute_result"
    }
   ],
   "source": [
    "dict_"
   ]
  },
  {
   "cell_type": "code",
   "execution_count": 46,
   "metadata": {
    "ExecuteTime": {
     "end_time": "2019-01-16T10:38:32.177746Z",
     "start_time": "2019-01-16T10:38:32.170765Z"
    }
   },
   "outputs": [
    {
     "data": {
      "text/plain": [
       "'abc'"
      ]
     },
     "execution_count": 46,
     "metadata": {},
     "output_type": "execute_result"
    }
   ],
   "source": [
    "dict_.setdefault(3,'abc') # 如果键不存在,创建这个"
   ]
  },
  {
   "cell_type": "code",
   "execution_count": 47,
   "metadata": {
    "ExecuteTime": {
     "end_time": "2019-01-16T10:38:36.772512Z",
     "start_time": "2019-01-16T10:38:36.766528Z"
    }
   },
   "outputs": [
    {
     "data": {
      "text/plain": [
       "{1: 'a', 2: 'b', 3: 'abc'}"
      ]
     },
     "execution_count": 47,
     "metadata": {},
     "output_type": "execute_result"
    }
   ],
   "source": [
    "dict_"
   ]
  },
  {
   "cell_type": "markdown",
   "metadata": {},
   "source": [
    "##  遍历字典"
   ]
  },
  {
   "cell_type": "code",
   "execution_count": 48,
   "metadata": {
    "ExecuteTime": {
     "end_time": "2019-01-16T10:41:59.121625Z",
     "start_time": "2019-01-16T10:41:59.115642Z"
    }
   },
   "outputs": [
    {
     "name": "stdout",
     "output_type": "stream",
     "text": [
      "\n",
      "key:use_name\n",
      "value:abc\n",
      "\n",
      "key:first\n",
      "value:cbs\n",
      "\n",
      "key:last\n",
      "value:fermi\n",
      "\n",
      "key:first\n",
      "\n",
      "key:last\n",
      "\n",
      "key:use_name\n",
      "\n",
      "value:abc\n",
      "\n",
      "value:cbs\n",
      "\n",
      "value:fermi\n"
     ]
    }
   ],
   "source": [
    "a = {\n",
    "    'use_name' : 'abc',\n",
    "    'first' : 'cbs',\n",
    "    'last' : 'fermi',\n",
    "    }\n",
    "for key,value in a.items():\n",
    "    print('\\nkey:' + key)\n",
    "    print('value:' + value)\n",
    "\n",
    "for key in sorted(a.keys()):\n",
    "    print('\\nkey:' + key)\n",
    "for value in sorted(a.values()):\n",
    "    print('\\nvalue:' + value)"
   ]
  },
  {
   "cell_type": "markdown",
   "metadata": {},
   "source": [
    "## 嵌套"
   ]
  },
  {
   "cell_type": "markdown",
   "metadata": {},
   "source": [
    "### 字典列表"
   ]
  },
  {
   "cell_type": "code",
   "execution_count": 51,
   "metadata": {
    "ExecuteTime": {
     "end_time": "2019-01-16T10:42:53.406765Z",
     "start_time": "2019-01-16T10:42:53.400781Z"
    }
   },
   "outputs": [
    {
     "name": "stdout",
     "output_type": "stream",
     "text": [
      "{'color': 'green', 'point': 5, 'speed': 'slow'}\n",
      "{'color': 'green', 'point': 5, 'speed': 'slow'}\n",
      "{'color': 'green', 'point': 5, 'speed': 'slow'}\n",
      "{'color': 'green', 'point': 5, 'speed': 'slow'}\n",
      "{'color': 'green', 'point': 5, 'speed': 'slow'}\n",
      "...\n",
      "total number of aliens is 30\n"
     ]
    }
   ],
   "source": [
    "aliens = []\n",
    "for alien_number in range(30):\n",
    "    new = {'color':'green','point':5,'speed':'slow'}\n",
    "    aliens.append(new)\n",
    "\n",
    "# 显示前五个外星人\n",
    "for alien in aliens[:5]:\n",
    "    print(alien)\n",
    "print('...')\n",
    "print('total number of aliens is '+str(len(aliens)))"
   ]
  },
  {
   "cell_type": "markdown",
   "metadata": {},
   "source": [
    "### 在字典中储存列表"
   ]
  },
  {
   "cell_type": "code",
   "execution_count": 52,
   "metadata": {
    "ExecuteTime": {
     "end_time": "2019-01-16T10:43:11.909074Z",
     "start_time": "2019-01-16T10:43:11.904088Z"
    }
   },
   "outputs": [
    {
     "name": "stdout",
     "output_type": "stream",
     "text": [
      "you ordered a thick-crust pizza with the foolwing troopings:\n",
      "\t mushrooms\n",
      "\t extra cheese\n"
     ]
    }
   ],
   "source": [
    "pizza = {\n",
    "    'crust':'thick',\n",
    "    'toppings':['mushrooms','extra cheese']\n",
    "    }\n",
    "print('you ordered a '+pizza['crust']+'-crust pizza with the foolwing troopings:')\n",
    "\n",
    "for topping in pizza['toppings']:\n",
    "    print('\\t '+ topping)"
   ]
  },
  {
   "cell_type": "markdown",
   "metadata": {},
   "source": [
    "### 在字典中储存字典"
   ]
  },
  {
   "cell_type": "code",
   "execution_count": 53,
   "metadata": {
    "ExecuteTime": {
     "end_time": "2019-01-16T10:43:50.789550Z",
     "start_time": "2019-01-16T10:43:50.780573Z"
    }
   },
   "outputs": [
    {
     "name": "stdout",
     "output_type": "stream",
     "text": [
      "\n",
      "User name:aeinstein\n",
      "\tFull name: Albert Eistein\n",
      "\tLocation: Princeton\n",
      "\n",
      "User name:mcuire\n",
      "\tFull name: Maire Curie\n",
      "\tLocation: Pairs\n"
     ]
    }
   ],
   "source": [
    "users = {\n",
    "    'aeinstein':{\n",
    "       'first':'albert',\n",
    "       'last':'eistein',\n",
    "       'location':'princeton',\n",
    "       },\n",
    "    'mcuire':{\n",
    "        'first':'maire',\n",
    "       'last':'curie',\n",
    "       'location':'pairs',\n",
    "       },\n",
    "    }\n",
    "for username,user_info in users.items():\n",
    "    print('\\nUser name:'+ username)\n",
    "    full_name = user_info['first']+' ' + user_info['last']\n",
    "    location = user_info['location']\n",
    "    \n",
    "    print('\\tFull name: ' + full_name.title())\n",
    "    print('\\tLocation: '+ location.title())"
   ]
  }
 ],
 "metadata": {
  "kernelspec": {
   "display_name": "Python 3",
   "language": "python",
   "name": "python3"
  },
  "language_info": {
   "codemirror_mode": {
    "name": "ipython",
    "version": 3
   },
   "file_extension": ".py",
   "mimetype": "text/x-python",
   "name": "python",
   "nbconvert_exporter": "python",
   "pygments_lexer": "ipython3",
   "version": "3.7.1"
  },
  "toc": {
   "base_numbering": 1,
   "nav_menu": {},
   "number_sections": true,
   "sideBar": true,
   "skip_h1_title": false,
   "title_cell": "Table of Contents",
   "title_sidebar": "Contents",
   "toc_cell": false,
   "toc_position": {},
   "toc_section_display": true,
   "toc_window_display": true
  },
  "varInspector": {
   "cols": {
    "lenName": 16,
    "lenType": 16,
    "lenVar": 40
   },
   "kernels_config": {
    "python": {
     "delete_cmd_postfix": "",
     "delete_cmd_prefix": "del ",
     "library": "var_list.py",
     "varRefreshCmd": "print(var_dic_list())"
    },
    "r": {
     "delete_cmd_postfix": ") ",
     "delete_cmd_prefix": "rm(",
     "library": "var_list.r",
     "varRefreshCmd": "cat(var_dic_list()) "
    }
   },
   "types_to_exclude": [
    "module",
    "function",
    "builtin_function_or_method",
    "instance",
    "_Feature"
   ],
   "window_display": false
  }
 },
 "nbformat": 4,
 "nbformat_minor": 2
}
